{
 "cells": [
  {
   "cell_type": "markdown",
   "metadata": {},
   "source": [
    "# MVP Comunidad Valenciana"
   ]
  },
  {
   "cell_type": "code",
   "execution_count": 1,
   "metadata": {},
   "outputs": [],
   "source": [
    "import pandas as pd\n",
    "import numpy as np\n",
    "import matplotlib.pyplot as plt\n",
    "import seaborn as sns\n",
    "import itertools\n",
    "\n",
    "pd.options.display.max_columns = None\n",
    "\n",
    "%matplotlib inline"
   ]
  },
  {
   "cell_type": "code",
   "execution_count": 9,
   "metadata": {},
   "outputs": [
    {
     "data": {
      "text/html": [
       "<div>\n",
       "<style scoped>\n",
       "    .dataframe tbody tr th:only-of-type {\n",
       "        vertical-align: middle;\n",
       "    }\n",
       "\n",
       "    .dataframe tbody tr th {\n",
       "        vertical-align: top;\n",
       "    }\n",
       "\n",
       "    .dataframe thead th {\n",
       "        text-align: right;\n",
       "    }\n",
       "</style>\n",
       "<table border=\"1\" class=\"dataframe\">\n",
       "  <thead>\n",
       "    <tr style=\"text-align: right;\">\n",
       "      <th></th>\n",
       "      <th>Installation Date</th>\n",
       "      <th>Installation Number</th>\n",
       "      <th>Client Type</th>\n",
       "      <th>Panel</th>\n",
       "      <th>Territorial</th>\n",
       "      <th>Provincia</th>\n",
       "      <th>Zip</th>\n",
       "      <th>Gender</th>\n",
       "      <th>Nationality</th>\n",
       "      <th>Country Of Birth</th>\n",
       "      <th>Born Date</th>\n",
       "      <th>Housing Type</th>\n",
       "      <th>Labor Situation</th>\n",
       "      <th>Marital Status</th>\n",
       "      <th>Income Amount</th>\n",
       "      <th>Number Pay</th>\n",
       "      <th>Price List</th>\n",
       "      <th>Account Balance</th>\n",
       "      <th>Monitoring Status Date</th>\n",
       "      <th>Monitoring Status</th>\n",
       "      <th>Precio Contado</th>\n",
       "      <th>Precio Financiado</th>\n",
       "      <th>Quejas</th>\n",
       "    </tr>\n",
       "  </thead>\n",
       "  <tbody>\n",
       "    <tr>\n",
       "      <th>0</th>\n",
       "      <td>2015-01-12</td>\n",
       "      <td>1835558</td>\n",
       "      <td>Normal</td>\n",
       "      <td>SDVFAST</td>\n",
       "      <td>Este</td>\n",
       "      <td>Valencia</td>\n",
       "      <td>46900</td>\n",
       "      <td>H - HOMBRE</td>\n",
       "      <td>ES - ESPAÑOLA</td>\n",
       "      <td>SPAIN</td>\n",
       "      <td>1972-01-02</td>\n",
       "      <td>1 - PROPIEDAD SIN HIPOTECA</td>\n",
       "      <td>04 AUTONOMO</td>\n",
       "      <td>2 - CASADO</td>\n",
       "      <td>2009</td>\n",
       "      <td>12</td>\n",
       "      <td>HBE</td>\n",
       "      <td>0.0</td>\n",
       "      <td>2015-01-14</td>\n",
       "      <td>0</td>\n",
       "      <td>435</td>\n",
       "      <td>360.0</td>\n",
       "      <td>0</td>\n",
       "    </tr>\n",
       "    <tr>\n",
       "      <th>1</th>\n",
       "      <td>2015-01-12</td>\n",
       "      <td>1835654</td>\n",
       "      <td>Normal</td>\n",
       "      <td>SDVFAST</td>\n",
       "      <td>Este</td>\n",
       "      <td>Valencia</td>\n",
       "      <td>46716</td>\n",
       "      <td>H - HOMBRE</td>\n",
       "      <td>ES - ESPAÑOLA</td>\n",
       "      <td>SPAIN</td>\n",
       "      <td>1989-09-20</td>\n",
       "      <td>1 - PROPIEDAD SIN HIPOTECA</td>\n",
       "      <td>01 ASALARIADO FIJO</td>\n",
       "      <td>1 - SOLTERO</td>\n",
       "      <td>1500</td>\n",
       "      <td>12</td>\n",
       "      <td>EED</td>\n",
       "      <td>0.0</td>\n",
       "      <td>2015-01-13</td>\n",
       "      <td>0</td>\n",
       "      <td>494</td>\n",
       "      <td>360.0</td>\n",
       "      <td>0</td>\n",
       "    </tr>\n",
       "    <tr>\n",
       "      <th>2</th>\n",
       "      <td>2015-01-12</td>\n",
       "      <td>1835683</td>\n",
       "      <td>Normal</td>\n",
       "      <td>SDVFAST</td>\n",
       "      <td>Este</td>\n",
       "      <td>Valencia</td>\n",
       "      <td>46716</td>\n",
       "      <td>H - HOMBRE</td>\n",
       "      <td>ES - ESPAÑOLA</td>\n",
       "      <td>SPAIN</td>\n",
       "      <td>1963-05-31</td>\n",
       "      <td>1 - PROPIEDAD SIN HIPOTECA</td>\n",
       "      <td>01 ASALARIADO FIJO</td>\n",
       "      <td>2 - CASADO</td>\n",
       "      <td>2000</td>\n",
       "      <td>12</td>\n",
       "      <td>EED</td>\n",
       "      <td>0.0</td>\n",
       "      <td>2015-01-13</td>\n",
       "      <td>0</td>\n",
       "      <td>494</td>\n",
       "      <td>0.0</td>\n",
       "      <td>0</td>\n",
       "    </tr>\n",
       "    <tr>\n",
       "      <th>3</th>\n",
       "      <td>2015-01-12</td>\n",
       "      <td>1835716</td>\n",
       "      <td>Normal</td>\n",
       "      <td>SDVFAST</td>\n",
       "      <td>Este</td>\n",
       "      <td>Alicante</td>\n",
       "      <td>3110</td>\n",
       "      <td>H - HOMBRE</td>\n",
       "      <td>ES - ESPAÑOLA</td>\n",
       "      <td>SPAIN</td>\n",
       "      <td>1958-07-31</td>\n",
       "      <td>2 - PROPIEDAD HIPOTECADA</td>\n",
       "      <td>03 FUNCIONARIO</td>\n",
       "      <td>4 - SEPARADO/DIVORCIADO</td>\n",
       "      <td>1400</td>\n",
       "      <td>12</td>\n",
       "      <td>HBD</td>\n",
       "      <td>0.0</td>\n",
       "      <td>2020-01-31</td>\n",
       "      <td>1</td>\n",
       "      <td>554</td>\n",
       "      <td>0.0</td>\n",
       "      <td>1</td>\n",
       "    </tr>\n",
       "    <tr>\n",
       "      <th>4</th>\n",
       "      <td>2015-01-12</td>\n",
       "      <td>1835728</td>\n",
       "      <td>Normal</td>\n",
       "      <td>SDVFAST</td>\n",
       "      <td>Este</td>\n",
       "      <td>Valencia</td>\n",
       "      <td>46394</td>\n",
       "      <td>H - HOMBRE</td>\n",
       "      <td>ES - ESPAÑOLA</td>\n",
       "      <td>SPAIN</td>\n",
       "      <td>1975-04-08</td>\n",
       "      <td>1 - PROPIEDAD SIN HIPOTECA</td>\n",
       "      <td>04 AUTONOMO</td>\n",
       "      <td>2 - CASADO</td>\n",
       "      <td>2000</td>\n",
       "      <td>12</td>\n",
       "      <td>HBE</td>\n",
       "      <td>0.0</td>\n",
       "      <td>2015-01-13</td>\n",
       "      <td>0</td>\n",
       "      <td>435</td>\n",
       "      <td>360.0</td>\n",
       "      <td>1</td>\n",
       "    </tr>\n",
       "  </tbody>\n",
       "</table>\n",
       "</div>"
      ],
      "text/plain": [
       "  Installation Date  Installation Number  Client Type    Panel Territorial  \\\n",
       "0        2015-01-12              1835558  Normal       SDVFAST        Este   \n",
       "1        2015-01-12              1835654  Normal       SDVFAST        Este   \n",
       "2        2015-01-12              1835683  Normal       SDVFAST        Este   \n",
       "3        2015-01-12              1835716  Normal       SDVFAST        Este   \n",
       "4        2015-01-12              1835728  Normal       SDVFAST        Este   \n",
       "\n",
       "  Provincia    Zip      Gender    Nationality Country Of Birth  Born Date  \\\n",
       "0  Valencia  46900  H - HOMBRE  ES - ESPAÑOLA            SPAIN 1972-01-02   \n",
       "1  Valencia  46716  H - HOMBRE  ES - ESPAÑOLA            SPAIN 1989-09-20   \n",
       "2  Valencia  46716  H - HOMBRE  ES - ESPAÑOLA            SPAIN 1963-05-31   \n",
       "3  Alicante   3110  H - HOMBRE  ES - ESPAÑOLA            SPAIN 1958-07-31   \n",
       "4  Valencia  46394  H - HOMBRE  ES - ESPAÑOLA            SPAIN 1975-04-08   \n",
       "\n",
       "                 Housing Type     Labor Situation           Marital Status  \\\n",
       "0  1 - PROPIEDAD SIN HIPOTECA         04 AUTONOMO               2 - CASADO   \n",
       "1  1 - PROPIEDAD SIN HIPOTECA  01 ASALARIADO FIJO              1 - SOLTERO   \n",
       "2  1 - PROPIEDAD SIN HIPOTECA  01 ASALARIADO FIJO               2 - CASADO   \n",
       "3    2 - PROPIEDAD HIPOTECADA      03 FUNCIONARIO  4 - SEPARADO/DIVORCIADO   \n",
       "4  1 - PROPIEDAD SIN HIPOTECA         04 AUTONOMO               2 - CASADO   \n",
       "\n",
       "   Income Amount  Number Pay Price List  Account Balance  \\\n",
       "0           2009          12      HBE                0.0   \n",
       "1           1500          12      EED                0.0   \n",
       "2           2000          12      EED                0.0   \n",
       "3           1400          12      HBD                0.0   \n",
       "4           2000          12      HBE                0.0   \n",
       "\n",
       "  Monitoring Status Date  Monitoring Status  Precio Contado  \\\n",
       "0             2015-01-14                  0             435   \n",
       "1             2015-01-13                  0             494   \n",
       "2             2015-01-13                  0             494   \n",
       "3             2020-01-31                  1             554   \n",
       "4             2015-01-13                  0             435   \n",
       "\n",
       "   Precio Financiado  Quejas  \n",
       "0              360.0       0  \n",
       "1              360.0       0  \n",
       "2                0.0       0  \n",
       "3                0.0       1  \n",
       "4              360.0       1  "
      ]
     },
     "execution_count": 9,
     "metadata": {},
     "output_type": "execute_result"
    }
   ],
   "source": [
    "data = pd.read_excel('../data/portfolio_com_valencia.xlsx')\n",
    "data.drop(['Unnamed: 0'],axis=1,inplace=True)\n",
    "data.head()"
   ]
  },
  {
   "cell_type": "code",
   "execution_count": 10,
   "metadata": {},
   "outputs": [
    {
     "data": {
      "text/plain": [
       "(48110, 23)"
      ]
     },
     "execution_count": 10,
     "metadata": {},
     "output_type": "execute_result"
    }
   ],
   "source": [
    "data.shape"
   ]
  },
  {
   "cell_type": "code",
   "execution_count": 11,
   "metadata": {
    "scrolled": false
   },
   "outputs": [
    {
     "name": "stdout",
     "output_type": "stream",
     "text": [
      "<class 'pandas.core.frame.DataFrame'>\n",
      "RangeIndex: 48110 entries, 0 to 48109\n",
      "Data columns (total 23 columns):\n",
      " #   Column                  Non-Null Count  Dtype         \n",
      "---  ------                  --------------  -----         \n",
      " 0   Installation Date       48110 non-null  datetime64[ns]\n",
      " 1   Installation Number     48110 non-null  int64         \n",
      " 2   Client Type             48110 non-null  object        \n",
      " 3   Panel                   48110 non-null  object        \n",
      " 4   Territorial             48110 non-null  object        \n",
      " 5   Provincia               48110 non-null  object        \n",
      " 6   Zip                     48110 non-null  int64         \n",
      " 7   Gender                  48110 non-null  object        \n",
      " 8   Nationality             48110 non-null  object        \n",
      " 9   Country Of Birth        48110 non-null  object        \n",
      " 10  Born Date               47886 non-null  datetime64[ns]\n",
      " 11  Housing Type            48110 non-null  object        \n",
      " 12  Labor Situation         48110 non-null  object        \n",
      " 13  Marital Status          48110 non-null  object        \n",
      " 14  Income Amount           48110 non-null  int64         \n",
      " 15  Number Pay              48110 non-null  int64         \n",
      " 16  Price List              48110 non-null  object        \n",
      " 17  Account Balance         48110 non-null  float64       \n",
      " 18  Monitoring Status Date  48110 non-null  datetime64[ns]\n",
      " 19  Monitoring Status       48110 non-null  int64         \n",
      " 20  Precio Contado          48110 non-null  int64         \n",
      " 21  Precio Financiado       48110 non-null  float64       \n",
      " 22  Quejas                  48110 non-null  int64         \n",
      "dtypes: datetime64[ns](3), float64(2), int64(7), object(11)\n",
      "memory usage: 8.4+ MB\n"
     ]
    }
   ],
   "source": [
    "data.info()"
   ]
  },
  {
   "cell_type": "code",
   "execution_count": 12,
   "metadata": {},
   "outputs": [
    {
     "data": {
      "text/plain": [
       "Installation Date           0\n",
       "Installation Number         0\n",
       "Client Type                 0\n",
       "Panel                       0\n",
       "Territorial                 0\n",
       "Provincia                   0\n",
       "Zip                         0\n",
       "Gender                      0\n",
       "Nationality                 0\n",
       "Country Of Birth            0\n",
       "Born Date                 224\n",
       "Housing Type                0\n",
       "Labor Situation             0\n",
       "Marital Status              0\n",
       "Income Amount               0\n",
       "Number Pay                  0\n",
       "Price List                  0\n",
       "Account Balance             0\n",
       "Monitoring Status Date      0\n",
       "Monitoring Status           0\n",
       "Precio Contado              0\n",
       "Precio Financiado           0\n",
       "Quejas                      0\n",
       "dtype: int64"
      ]
     },
     "execution_count": 12,
     "metadata": {},
     "output_type": "execute_result"
    }
   ],
   "source": [
    "data.isnull().sum()"
   ]
  },
  {
   "cell_type": "code",
   "execution_count": 13,
   "metadata": {},
   "outputs": [],
   "source": [
    "def dataoveriew(df, message):\n",
    "    print(f'{message}:\\n')\n",
    "    print(\"Número de Filas:\", df.shape[0])\n",
    "    print(\"\\nNúmero de Columnas:\", df.shape[1])\n",
    "    print(\"\\nColumnas:\\n\")\n",
    "    print(data.columns.tolist())\n",
    "    print(\"\\nValores nulos:\", df.isnull().sum().values.sum())\n",
    "    print(\"\\nValores únicos:\\n\")\n",
    "    print(df.nunique())"
   ]
  },
  {
   "cell_type": "code",
   "execution_count": 14,
   "metadata": {},
   "outputs": [
    {
     "name": "stdout",
     "output_type": "stream",
     "text": [
      "Overiew of the dataset:\n",
      "\n",
      "Número de Filas: 48110\n",
      "\n",
      "Número de Columnas: 23\n",
      "\n",
      "Columnas:\n",
      "\n",
      "['Installation Date', 'Installation Number', 'Client Type', 'Panel', 'Territorial', 'Provincia', 'Zip', 'Gender', 'Nationality', 'Country Of Birth', 'Born Date', 'Housing Type', 'Labor Situation', 'Marital Status', 'Income Amount', 'Number Pay', 'Price List', 'Account Balance', 'Monitoring Status Date', 'Monitoring Status', 'Precio Contado', 'Precio Financiado', 'Quejas']\n",
      "\n",
      "Valores nulos: 224\n",
      "\n",
      "Valores únicos:\n",
      "\n",
      "Installation Date          2104\n",
      "Installation Number       48098\n",
      "Client Type                   2\n",
      "Panel                         2\n",
      "Territorial                   1\n",
      "Provincia                     3\n",
      "Zip                         620\n",
      "Gender                        2\n",
      "Nationality                  11\n",
      "Country Of Birth            134\n",
      "Born Date                 18863\n",
      "Housing Type                  5\n",
      "Labor Situation               8\n",
      "Marital Status                6\n",
      "Income Amount               443\n",
      "Number Pay                    5\n",
      "Price List                   25\n",
      "Account Balance            2779\n",
      "Monitoring Status Date     1952\n",
      "Monitoring Status             2\n",
      "Precio Contado             1089\n",
      "Precio Financiado           141\n",
      "Quejas                       21\n",
      "dtype: int64\n"
     ]
    }
   ],
   "source": [
    "dataoveriew(data, 'Overiew of the dataset')"
   ]
  },
  {
   "cell_type": "code",
   "execution_count": 16,
   "metadata": {},
   "outputs": [
    {
     "data": {
      "text/html": [
       "<div>\n",
       "<style scoped>\n",
       "    .dataframe tbody tr th:only-of-type {\n",
       "        vertical-align: middle;\n",
       "    }\n",
       "\n",
       "    .dataframe tbody tr th {\n",
       "        vertical-align: top;\n",
       "    }\n",
       "\n",
       "    .dataframe thead th {\n",
       "        text-align: right;\n",
       "    }\n",
       "</style>\n",
       "<table border=\"1\" class=\"dataframe\">\n",
       "  <thead>\n",
       "    <tr style=\"text-align: right;\">\n",
       "      <th></th>\n",
       "      <th>Installation Date</th>\n",
       "      <th>Installation Number</th>\n",
       "      <th>Client Type</th>\n",
       "      <th>Panel</th>\n",
       "      <th>Territorial</th>\n",
       "      <th>Provincia</th>\n",
       "      <th>Zip</th>\n",
       "      <th>Gender</th>\n",
       "      <th>Nationality</th>\n",
       "      <th>Country Of Birth</th>\n",
       "      <th>Born Date</th>\n",
       "      <th>Housing Type</th>\n",
       "      <th>Labor Situation</th>\n",
       "      <th>Marital Status</th>\n",
       "      <th>Income Amount</th>\n",
       "      <th>Number Pay</th>\n",
       "      <th>Price List</th>\n",
       "      <th>Account Balance</th>\n",
       "      <th>Monitoring Status Date</th>\n",
       "      <th>Monitoring Status</th>\n",
       "      <th>Precio Contado</th>\n",
       "      <th>Precio Financiado</th>\n",
       "      <th>Quejas</th>\n",
       "    </tr>\n",
       "  </thead>\n",
       "  <tbody>\n",
       "    <tr>\n",
       "      <th>0</th>\n",
       "      <td>2015-01-12</td>\n",
       "      <td>1835558</td>\n",
       "      <td>Normal</td>\n",
       "      <td>SDVFAST</td>\n",
       "      <td>Este</td>\n",
       "      <td>Valencia</td>\n",
       "      <td>46900</td>\n",
       "      <td>H - HOMBRE</td>\n",
       "      <td>ES - ESPAÑOLA</td>\n",
       "      <td>SPAIN</td>\n",
       "      <td>1972-01-02</td>\n",
       "      <td>1 - PROPIEDAD SIN HIPOTECA</td>\n",
       "      <td>04 AUTONOMO</td>\n",
       "      <td>2 - CASADO</td>\n",
       "      <td>2009</td>\n",
       "      <td>12</td>\n",
       "      <td>HBE</td>\n",
       "      <td>0.0</td>\n",
       "      <td>2015-01-14</td>\n",
       "      <td>0</td>\n",
       "      <td>435</td>\n",
       "      <td>360.0</td>\n",
       "      <td>0</td>\n",
       "    </tr>\n",
       "    <tr>\n",
       "      <th>1</th>\n",
       "      <td>2015-01-12</td>\n",
       "      <td>1835654</td>\n",
       "      <td>Normal</td>\n",
       "      <td>SDVFAST</td>\n",
       "      <td>Este</td>\n",
       "      <td>Valencia</td>\n",
       "      <td>46716</td>\n",
       "      <td>H - HOMBRE</td>\n",
       "      <td>ES - ESPAÑOLA</td>\n",
       "      <td>SPAIN</td>\n",
       "      <td>1989-09-20</td>\n",
       "      <td>1 - PROPIEDAD SIN HIPOTECA</td>\n",
       "      <td>01 ASALARIADO FIJO</td>\n",
       "      <td>1 - SOLTERO</td>\n",
       "      <td>1500</td>\n",
       "      <td>12</td>\n",
       "      <td>EED</td>\n",
       "      <td>0.0</td>\n",
       "      <td>2015-01-13</td>\n",
       "      <td>0</td>\n",
       "      <td>494</td>\n",
       "      <td>360.0</td>\n",
       "      <td>0</td>\n",
       "    </tr>\n",
       "    <tr>\n",
       "      <th>2</th>\n",
       "      <td>2015-01-12</td>\n",
       "      <td>1835683</td>\n",
       "      <td>Normal</td>\n",
       "      <td>SDVFAST</td>\n",
       "      <td>Este</td>\n",
       "      <td>Valencia</td>\n",
       "      <td>46716</td>\n",
       "      <td>H - HOMBRE</td>\n",
       "      <td>ES - ESPAÑOLA</td>\n",
       "      <td>SPAIN</td>\n",
       "      <td>1963-05-31</td>\n",
       "      <td>1 - PROPIEDAD SIN HIPOTECA</td>\n",
       "      <td>01 ASALARIADO FIJO</td>\n",
       "      <td>2 - CASADO</td>\n",
       "      <td>2000</td>\n",
       "      <td>12</td>\n",
       "      <td>EED</td>\n",
       "      <td>0.0</td>\n",
       "      <td>2015-01-13</td>\n",
       "      <td>0</td>\n",
       "      <td>494</td>\n",
       "      <td>0.0</td>\n",
       "      <td>0</td>\n",
       "    </tr>\n",
       "    <tr>\n",
       "      <th>3</th>\n",
       "      <td>2015-01-12</td>\n",
       "      <td>1835716</td>\n",
       "      <td>Normal</td>\n",
       "      <td>SDVFAST</td>\n",
       "      <td>Este</td>\n",
       "      <td>Alicante</td>\n",
       "      <td>3110</td>\n",
       "      <td>H - HOMBRE</td>\n",
       "      <td>ES - ESPAÑOLA</td>\n",
       "      <td>SPAIN</td>\n",
       "      <td>1958-07-31</td>\n",
       "      <td>2 - PROPIEDAD HIPOTECADA</td>\n",
       "      <td>03 FUNCIONARIO</td>\n",
       "      <td>4 - SEPARADO/DIVORCIADO</td>\n",
       "      <td>1400</td>\n",
       "      <td>12</td>\n",
       "      <td>HBD</td>\n",
       "      <td>0.0</td>\n",
       "      <td>2020-01-31</td>\n",
       "      <td>1</td>\n",
       "      <td>554</td>\n",
       "      <td>0.0</td>\n",
       "      <td>1</td>\n",
       "    </tr>\n",
       "    <tr>\n",
       "      <th>4</th>\n",
       "      <td>2015-01-12</td>\n",
       "      <td>1835728</td>\n",
       "      <td>Normal</td>\n",
       "      <td>SDVFAST</td>\n",
       "      <td>Este</td>\n",
       "      <td>Valencia</td>\n",
       "      <td>46394</td>\n",
       "      <td>H - HOMBRE</td>\n",
       "      <td>ES - ESPAÑOLA</td>\n",
       "      <td>SPAIN</td>\n",
       "      <td>1975-04-08</td>\n",
       "      <td>1 - PROPIEDAD SIN HIPOTECA</td>\n",
       "      <td>04 AUTONOMO</td>\n",
       "      <td>2 - CASADO</td>\n",
       "      <td>2000</td>\n",
       "      <td>12</td>\n",
       "      <td>HBE</td>\n",
       "      <td>0.0</td>\n",
       "      <td>2015-01-13</td>\n",
       "      <td>0</td>\n",
       "      <td>435</td>\n",
       "      <td>360.0</td>\n",
       "      <td>1</td>\n",
       "    </tr>\n",
       "  </tbody>\n",
       "</table>\n",
       "</div>"
      ],
      "text/plain": [
       "  Installation Date Installation Number  Client Type    Panel Territorial  \\\n",
       "0        2015-01-12             1835558  Normal       SDVFAST        Este   \n",
       "1        2015-01-12             1835654  Normal       SDVFAST        Este   \n",
       "2        2015-01-12             1835683  Normal       SDVFAST        Este   \n",
       "3        2015-01-12             1835716  Normal       SDVFAST        Este   \n",
       "4        2015-01-12             1835728  Normal       SDVFAST        Este   \n",
       "\n",
       "  Provincia    Zip      Gender    Nationality Country Of Birth  Born Date  \\\n",
       "0  Valencia  46900  H - HOMBRE  ES - ESPAÑOLA            SPAIN 1972-01-02   \n",
       "1  Valencia  46716  H - HOMBRE  ES - ESPAÑOLA            SPAIN 1989-09-20   \n",
       "2  Valencia  46716  H - HOMBRE  ES - ESPAÑOLA            SPAIN 1963-05-31   \n",
       "3  Alicante   3110  H - HOMBRE  ES - ESPAÑOLA            SPAIN 1958-07-31   \n",
       "4  Valencia  46394  H - HOMBRE  ES - ESPAÑOLA            SPAIN 1975-04-08   \n",
       "\n",
       "                 Housing Type     Labor Situation           Marital Status  \\\n",
       "0  1 - PROPIEDAD SIN HIPOTECA         04 AUTONOMO               2 - CASADO   \n",
       "1  1 - PROPIEDAD SIN HIPOTECA  01 ASALARIADO FIJO              1 - SOLTERO   \n",
       "2  1 - PROPIEDAD SIN HIPOTECA  01 ASALARIADO FIJO               2 - CASADO   \n",
       "3    2 - PROPIEDAD HIPOTECADA      03 FUNCIONARIO  4 - SEPARADO/DIVORCIADO   \n",
       "4  1 - PROPIEDAD SIN HIPOTECA         04 AUTONOMO               2 - CASADO   \n",
       "\n",
       "   Income Amount  Number Pay Price List  Account Balance  \\\n",
       "0           2009          12      HBE                0.0   \n",
       "1           1500          12      EED                0.0   \n",
       "2           2000          12      EED                0.0   \n",
       "3           1400          12      HBD                0.0   \n",
       "4           2000          12      HBE                0.0   \n",
       "\n",
       "  Monitoring Status Date  Monitoring Status  Precio Contado  \\\n",
       "0             2015-01-14                  0             435   \n",
       "1             2015-01-13                  0             494   \n",
       "2             2015-01-13                  0             494   \n",
       "3             2020-01-31                  1             554   \n",
       "4             2015-01-13                  0             435   \n",
       "\n",
       "   Precio Financiado  Quejas  \n",
       "0              360.0       0  \n",
       "1              360.0       0  \n",
       "2                0.0       0  \n",
       "3                0.0       1  \n",
       "4              360.0       1  "
      ]
     },
     "execution_count": 16,
     "metadata": {},
     "output_type": "execute_result"
    }
   ],
   "source": [
    "data['Quejas'] = data['Quejas'].replace(np.nan, 0).astype('int')\n",
    "data['Installation Number'] = data['Installation Number'].astype('str')\n",
    "data['Zip'] = data['Zip'].astype('str')\n",
    "data.head()"
   ]
  },
  {
   "cell_type": "code",
   "execution_count": 17,
   "metadata": {},
   "outputs": [
    {
     "data": {
      "text/html": [
       "<div>\n",
       "<style scoped>\n",
       "    .dataframe tbody tr th:only-of-type {\n",
       "        vertical-align: middle;\n",
       "    }\n",
       "\n",
       "    .dataframe tbody tr th {\n",
       "        vertical-align: top;\n",
       "    }\n",
       "\n",
       "    .dataframe thead th {\n",
       "        text-align: right;\n",
       "    }\n",
       "</style>\n",
       "<table border=\"1\" class=\"dataframe\">\n",
       "  <thead>\n",
       "    <tr style=\"text-align: right;\">\n",
       "      <th></th>\n",
       "      <th>Income Amount</th>\n",
       "      <th>Number Pay</th>\n",
       "      <th>Account Balance</th>\n",
       "      <th>Monitoring Status</th>\n",
       "      <th>Precio Contado</th>\n",
       "      <th>Precio Financiado</th>\n",
       "      <th>Quejas</th>\n",
       "    </tr>\n",
       "  </thead>\n",
       "  <tbody>\n",
       "    <tr>\n",
       "      <th>count</th>\n",
       "      <td>4.811000e+04</td>\n",
       "      <td>48110.000000</td>\n",
       "      <td>48110.000000</td>\n",
       "      <td>48110.000000</td>\n",
       "      <td>48110.000000</td>\n",
       "      <td>48110.000000</td>\n",
       "      <td>48110.000000</td>\n",
       "    </tr>\n",
       "    <tr>\n",
       "      <th>mean</th>\n",
       "      <td>4.360571e+04</td>\n",
       "      <td>12.925525</td>\n",
       "      <td>205.681220</td>\n",
       "      <td>0.103180</td>\n",
       "      <td>621.516483</td>\n",
       "      <td>202.570418</td>\n",
       "      <td>0.313157</td>\n",
       "    </tr>\n",
       "    <tr>\n",
       "      <th>std</th>\n",
       "      <td>5.456444e+06</td>\n",
       "      <td>1.066713</td>\n",
       "      <td>177.950818</td>\n",
       "      <td>0.304197</td>\n",
       "      <td>369.264899</td>\n",
       "      <td>225.275731</td>\n",
       "      <td>0.938350</td>\n",
       "    </tr>\n",
       "    <tr>\n",
       "      <th>min</th>\n",
       "      <td>1.000000e+00</td>\n",
       "      <td>12.000000</td>\n",
       "      <td>-567.000000</td>\n",
       "      <td>0.000000</td>\n",
       "      <td>9.000000</td>\n",
       "      <td>0.000000</td>\n",
       "      <td>0.000000</td>\n",
       "    </tr>\n",
       "    <tr>\n",
       "      <th>25%</th>\n",
       "      <td>1.200000e+03</td>\n",
       "      <td>12.000000</td>\n",
       "      <td>0.000000</td>\n",
       "      <td>0.000000</td>\n",
       "      <td>494.000000</td>\n",
       "      <td>0.000000</td>\n",
       "      <td>0.000000</td>\n",
       "    </tr>\n",
       "    <tr>\n",
       "      <th>50%</th>\n",
       "      <td>1.500000e+03</td>\n",
       "      <td>12.000000</td>\n",
       "      <td>205.700000</td>\n",
       "      <td>0.000000</td>\n",
       "      <td>554.000000</td>\n",
       "      <td>108.000000</td>\n",
       "      <td>0.000000</td>\n",
       "    </tr>\n",
       "    <tr>\n",
       "      <th>75%</th>\n",
       "      <td>2.000000e+03</td>\n",
       "      <td>14.000000</td>\n",
       "      <td>363.000000</td>\n",
       "      <td>0.000000</td>\n",
       "      <td>675.000000</td>\n",
       "      <td>360.000000</td>\n",
       "      <td>0.000000</td>\n",
       "    </tr>\n",
       "    <tr>\n",
       "      <th>max</th>\n",
       "      <td>1.000000e+09</td>\n",
       "      <td>16.000000</td>\n",
       "      <td>2808.390000</td>\n",
       "      <td>1.000000</td>\n",
       "      <td>24150.000000</td>\n",
       "      <td>3840.000000</td>\n",
       "      <td>23.000000</td>\n",
       "    </tr>\n",
       "  </tbody>\n",
       "</table>\n",
       "</div>"
      ],
      "text/plain": [
       "       Income Amount    Number Pay  Account Balance  Monitoring Status  \\\n",
       "count   4.811000e+04  48110.000000     48110.000000       48110.000000   \n",
       "mean    4.360571e+04     12.925525       205.681220           0.103180   \n",
       "std     5.456444e+06      1.066713       177.950818           0.304197   \n",
       "min     1.000000e+00     12.000000      -567.000000           0.000000   \n",
       "25%     1.200000e+03     12.000000         0.000000           0.000000   \n",
       "50%     1.500000e+03     12.000000       205.700000           0.000000   \n",
       "75%     2.000000e+03     14.000000       363.000000           0.000000   \n",
       "max     1.000000e+09     16.000000      2808.390000           1.000000   \n",
       "\n",
       "       Precio Contado  Precio Financiado        Quejas  \n",
       "count    48110.000000       48110.000000  48110.000000  \n",
       "mean       621.516483         202.570418      0.313157  \n",
       "std        369.264899         225.275731      0.938350  \n",
       "min          9.000000           0.000000      0.000000  \n",
       "25%        494.000000           0.000000      0.000000  \n",
       "50%        554.000000         108.000000      0.000000  \n",
       "75%        675.000000         360.000000      0.000000  \n",
       "max      24150.000000        3840.000000     23.000000  "
      ]
     },
     "execution_count": 17,
     "metadata": {},
     "output_type": "execute_result"
    }
   ],
   "source": [
    "data.describe()"
   ]
  },
  {
   "cell_type": "code",
   "execution_count": 12,
   "metadata": {},
   "outputs": [],
   "source": [
    "# sns.set_style(style = 'darkgrid')"
   ]
  },
  {
   "cell_type": "code",
   "execution_count": 18,
   "metadata": {
    "scrolled": false
   },
   "outputs": [
    {
     "data": {
      "image/png": "[encoded data removed]",
      "text/plain": [
       "<Figure size 744.375x648 with 42 Axes>"
      ]
     },
     "metadata": {
      "needs_background": "light"
     },
     "output_type": "display_data"
    }
   ],
   "source": [
    "# Don´t do this!!!!\n",
    "\n",
    "# sns.pairplot(data = data, diag_kind = 'kde', hue = 'Monitoring Status', height = 1.5);"
   ]
  },
  {
   "cell_type": "code",
   "execution_count": 22,
   "metadata": {},
   "outputs": [
    {
     "data": {
      "image/png": "[encoded data removed]",
      "text/plain": [
       "<Figure size 432x288 with 1 Axes>"
      ]
     },
     "metadata": {
      "needs_background": "light"
     },
     "output_type": "display_data"
    }
   ],
   "source": [
    "sns.histplot(data = data, x=\"Quejas\", hue = 'Monitoring Status', multiple=\"stack\",\n",
    "             binwidth=1,  binrange = (0,5));"
   ]
  },
  {
   "cell_type": "code",
   "execution_count": 23,
   "metadata": {},
   "outputs": [
    {
     "data": {
      "image/png": "[encoded data removed]",
      "text/plain": [
       "<Figure size 432x288 with 1 Axes>"
      ]
     },
     "metadata": {
      "needs_background": "light"
     },
     "output_type": "display_data"
    }
   ],
   "source": [
    "sns.countplot(x=\"Provincia\", hue = 'Monitoring Status',data = data);"
   ]
  },
  {
   "cell_type": "code",
   "execution_count": 24,
   "metadata": {},
   "outputs": [
    {
     "data": {
      "image/png": "[encoded data removed]",
      "text/plain": [
       "<Figure size 432x288 with 1 Axes>"
      ]
     },
     "metadata": {
      "needs_background": "light"
     },
     "output_type": "display_data"
    }
   ],
   "source": [
    "sns.countplot(x=\"Gender\", hue = 'Monitoring Status',data = data);"
   ]
  },
  {
   "cell_type": "code",
   "execution_count": 25,
   "metadata": {},
   "outputs": [
    {
     "data": {
      "text/html": [
       "<div>\n",
       "<style scoped>\n",
       "    .dataframe tbody tr th:only-of-type {\n",
       "        vertical-align: middle;\n",
       "    }\n",
       "\n",
       "    .dataframe tbody tr th {\n",
       "        vertical-align: top;\n",
       "    }\n",
       "\n",
       "    .dataframe thead th {\n",
       "        text-align: right;\n",
       "    }\n",
       "</style>\n",
       "<table border=\"1\" class=\"dataframe\">\n",
       "  <thead>\n",
       "    <tr style=\"text-align: right;\">\n",
       "      <th></th>\n",
       "      <th>Installation Date</th>\n",
       "      <th>Installation Number</th>\n",
       "      <th>Client Type</th>\n",
       "      <th>Panel</th>\n",
       "      <th>Territorial</th>\n",
       "      <th>Provincia</th>\n",
       "      <th>Zip</th>\n",
       "      <th>Gender</th>\n",
       "      <th>Nationality</th>\n",
       "      <th>Country Of Birth</th>\n",
       "      <th>Born Date</th>\n",
       "      <th>Housing Type</th>\n",
       "      <th>Labor Situation</th>\n",
       "      <th>Marital Status</th>\n",
       "      <th>Income Amount</th>\n",
       "      <th>Number Pay</th>\n",
       "      <th>Price List</th>\n",
       "      <th>Account Balance</th>\n",
       "      <th>Monitoring Status Date</th>\n",
       "      <th>Monitoring Status</th>\n",
       "      <th>Precio Contado</th>\n",
       "      <th>Precio Financiado</th>\n",
       "      <th>Quejas</th>\n",
       "    </tr>\n",
       "  </thead>\n",
       "  <tbody>\n",
       "    <tr>\n",
       "      <th>0</th>\n",
       "      <td>2015-01-12</td>\n",
       "      <td>1835558</td>\n",
       "      <td>Normal</td>\n",
       "      <td>SDVFAST</td>\n",
       "      <td>Este</td>\n",
       "      <td>Valencia</td>\n",
       "      <td>46900</td>\n",
       "      <td>H - HOMBRE</td>\n",
       "      <td>ES - ESPAÑOLA</td>\n",
       "      <td>SPAIN</td>\n",
       "      <td>1972-01-02</td>\n",
       "      <td>1 - PROPIEDAD SIN HIPOTECA</td>\n",
       "      <td>04 AUTONOMO</td>\n",
       "      <td>2 - CASADO</td>\n",
       "      <td>2009</td>\n",
       "      <td>12</td>\n",
       "      <td>HBE</td>\n",
       "      <td>0.0</td>\n",
       "      <td>2015-01-14</td>\n",
       "      <td>0</td>\n",
       "      <td>435</td>\n",
       "      <td>360.0</td>\n",
       "      <td>0</td>\n",
       "    </tr>\n",
       "    <tr>\n",
       "      <th>1</th>\n",
       "      <td>2015-01-12</td>\n",
       "      <td>1835654</td>\n",
       "      <td>Normal</td>\n",
       "      <td>SDVFAST</td>\n",
       "      <td>Este</td>\n",
       "      <td>Valencia</td>\n",
       "      <td>46716</td>\n",
       "      <td>H - HOMBRE</td>\n",
       "      <td>ES - ESPAÑOLA</td>\n",
       "      <td>SPAIN</td>\n",
       "      <td>1989-09-20</td>\n",
       "      <td>1 - PROPIEDAD SIN HIPOTECA</td>\n",
       "      <td>01 ASALARIADO FIJO</td>\n",
       "      <td>1 - SOLTERO</td>\n",
       "      <td>1500</td>\n",
       "      <td>12</td>\n",
       "      <td>EED</td>\n",
       "      <td>0.0</td>\n",
       "      <td>2015-01-13</td>\n",
       "      <td>0</td>\n",
       "      <td>494</td>\n",
       "      <td>360.0</td>\n",
       "      <td>0</td>\n",
       "    </tr>\n",
       "    <tr>\n",
       "      <th>2</th>\n",
       "      <td>2015-01-12</td>\n",
       "      <td>1835683</td>\n",
       "      <td>Normal</td>\n",
       "      <td>SDVFAST</td>\n",
       "      <td>Este</td>\n",
       "      <td>Valencia</td>\n",
       "      <td>46716</td>\n",
       "      <td>H - HOMBRE</td>\n",
       "      <td>ES - ESPAÑOLA</td>\n",
       "      <td>SPAIN</td>\n",
       "      <td>1963-05-31</td>\n",
       "      <td>1 - PROPIEDAD SIN HIPOTECA</td>\n",
       "      <td>01 ASALARIADO FIJO</td>\n",
       "      <td>2 - CASADO</td>\n",
       "      <td>2000</td>\n",
       "      <td>12</td>\n",
       "      <td>EED</td>\n",
       "      <td>0.0</td>\n",
       "      <td>2015-01-13</td>\n",
       "      <td>0</td>\n",
       "      <td>494</td>\n",
       "      <td>0.0</td>\n",
       "      <td>0</td>\n",
       "    </tr>\n",
       "    <tr>\n",
       "      <th>3</th>\n",
       "      <td>2015-01-12</td>\n",
       "      <td>1835716</td>\n",
       "      <td>Normal</td>\n",
       "      <td>SDVFAST</td>\n",
       "      <td>Este</td>\n",
       "      <td>Alicante</td>\n",
       "      <td>3110</td>\n",
       "      <td>H - HOMBRE</td>\n",
       "      <td>ES - ESPAÑOLA</td>\n",
       "      <td>SPAIN</td>\n",
       "      <td>1958-07-31</td>\n",
       "      <td>2 - PROPIEDAD HIPOTECADA</td>\n",
       "      <td>03 FUNCIONARIO</td>\n",
       "      <td>4 - SEPARADO/DIVORCIADO</td>\n",
       "      <td>1400</td>\n",
       "      <td>12</td>\n",
       "      <td>HBD</td>\n",
       "      <td>0.0</td>\n",
       "      <td>2020-01-31</td>\n",
       "      <td>1</td>\n",
       "      <td>554</td>\n",
       "      <td>0.0</td>\n",
       "      <td>1</td>\n",
       "    </tr>\n",
       "    <tr>\n",
       "      <th>4</th>\n",
       "      <td>2015-01-12</td>\n",
       "      <td>1835728</td>\n",
       "      <td>Normal</td>\n",
       "      <td>SDVFAST</td>\n",
       "      <td>Este</td>\n",
       "      <td>Valencia</td>\n",
       "      <td>46394</td>\n",
       "      <td>H - HOMBRE</td>\n",
       "      <td>ES - ESPAÑOLA</td>\n",
       "      <td>SPAIN</td>\n",
       "      <td>1975-04-08</td>\n",
       "      <td>1 - PROPIEDAD SIN HIPOTECA</td>\n",
       "      <td>04 AUTONOMO</td>\n",
       "      <td>2 - CASADO</td>\n",
       "      <td>2000</td>\n",
       "      <td>12</td>\n",
       "      <td>HBE</td>\n",
       "      <td>0.0</td>\n",
       "      <td>2015-01-13</td>\n",
       "      <td>0</td>\n",
       "      <td>435</td>\n",
       "      <td>360.0</td>\n",
       "      <td>1</td>\n",
       "    </tr>\n",
       "  </tbody>\n",
       "</table>\n",
       "</div>"
      ],
      "text/plain": [
       "  Installation Date Installation Number  Client Type    Panel Territorial  \\\n",
       "0        2015-01-12             1835558  Normal       SDVFAST        Este   \n",
       "1        2015-01-12             1835654  Normal       SDVFAST        Este   \n",
       "2        2015-01-12             1835683  Normal       SDVFAST        Este   \n",
       "3        2015-01-12             1835716  Normal       SDVFAST        Este   \n",
       "4        2015-01-12             1835728  Normal       SDVFAST        Este   \n",
       "\n",
       "  Provincia    Zip      Gender    Nationality Country Of Birth  Born Date  \\\n",
       "0  Valencia  46900  H - HOMBRE  ES - ESPAÑOLA            SPAIN 1972-01-02   \n",
       "1  Valencia  46716  H - HOMBRE  ES - ESPAÑOLA            SPAIN 1989-09-20   \n",
       "2  Valencia  46716  H - HOMBRE  ES - ESPAÑOLA            SPAIN 1963-05-31   \n",
       "3  Alicante   3110  H - HOMBRE  ES - ESPAÑOLA            SPAIN 1958-07-31   \n",
       "4  Valencia  46394  H - HOMBRE  ES - ESPAÑOLA            SPAIN 1975-04-08   \n",
       "\n",
       "                 Housing Type     Labor Situation           Marital Status  \\\n",
       "0  1 - PROPIEDAD SIN HIPOTECA         04 AUTONOMO               2 - CASADO   \n",
       "1  1 - PROPIEDAD SIN HIPOTECA  01 ASALARIADO FIJO              1 - SOLTERO   \n",
       "2  1 - PROPIEDAD SIN HIPOTECA  01 ASALARIADO FIJO               2 - CASADO   \n",
       "3    2 - PROPIEDAD HIPOTECADA      03 FUNCIONARIO  4 - SEPARADO/DIVORCIADO   \n",
       "4  1 - PROPIEDAD SIN HIPOTECA         04 AUTONOMO               2 - CASADO   \n",
       "\n",
       "   Income Amount  Number Pay Price List  Account Balance  \\\n",
       "0           2009          12      HBE                0.0   \n",
       "1           1500          12      EED                0.0   \n",
       "2           2000          12      EED                0.0   \n",
       "3           1400          12      HBD                0.0   \n",
       "4           2000          12      HBE                0.0   \n",
       "\n",
       "  Monitoring Status Date  Monitoring Status  Precio Contado  \\\n",
       "0             2015-01-14                  0             435   \n",
       "1             2015-01-13                  0             494   \n",
       "2             2015-01-13                  0             494   \n",
       "3             2020-01-31                  1             554   \n",
       "4             2015-01-13                  0             435   \n",
       "\n",
       "   Precio Financiado  Quejas  \n",
       "0              360.0       0  \n",
       "1              360.0       0  \n",
       "2                0.0       0  \n",
       "3                0.0       1  \n",
       "4              360.0       1  "
      ]
     },
     "execution_count": 25,
     "metadata": {},
     "output_type": "execute_result"
    }
   ],
   "source": [
    "data['Monitoring Status'] = data['Monitoring Status'].astype('str').str.strip()\n",
    "data['Monitoring Status'] = data['Monitoring Status'].replace({'OP': 0, 'BAJA': 1}).astype(int)\n",
    "data.head()"
   ]
  },
  {
   "cell_type": "code",
   "execution_count": 26,
   "metadata": {},
   "outputs": [
    {
     "data": {
      "text/html": [
       "<div>\n",
       "<style scoped>\n",
       "    .dataframe tbody tr th:only-of-type {\n",
       "        vertical-align: middle;\n",
       "    }\n",
       "\n",
       "    .dataframe tbody tr th {\n",
       "        vertical-align: top;\n",
       "    }\n",
       "\n",
       "    .dataframe thead th {\n",
       "        text-align: right;\n",
       "    }\n",
       "</style>\n",
       "<table border=\"1\" class=\"dataframe\">\n",
       "  <thead>\n",
       "    <tr style=\"text-align: right;\">\n",
       "      <th></th>\n",
       "      <th>Income Amount</th>\n",
       "      <th>Number Pay</th>\n",
       "      <th>Account Balance</th>\n",
       "      <th>Monitoring Status</th>\n",
       "      <th>Precio Contado</th>\n",
       "      <th>Precio Financiado</th>\n",
       "      <th>Quejas</th>\n",
       "    </tr>\n",
       "  </thead>\n",
       "  <tbody>\n",
       "    <tr>\n",
       "      <th>Income Amount</th>\n",
       "      <td>1.000000</td>\n",
       "      <td>-0.000996</td>\n",
       "      <td>0.000749</td>\n",
       "      <td>-0.002149</td>\n",
       "      <td>-0.000161</td>\n",
       "      <td>-0.005334</td>\n",
       "      <td>-0.002254</td>\n",
       "    </tr>\n",
       "    <tr>\n",
       "      <th>Number Pay</th>\n",
       "      <td>-0.000996</td>\n",
       "      <td>1.000000</td>\n",
       "      <td>0.065887</td>\n",
       "      <td>-0.042746</td>\n",
       "      <td>-0.020609</td>\n",
       "      <td>-0.079129</td>\n",
       "      <td>-0.017381</td>\n",
       "    </tr>\n",
       "    <tr>\n",
       "      <th>Account Balance</th>\n",
       "      <td>0.000749</td>\n",
       "      <td>0.065887</td>\n",
       "      <td>1.000000</td>\n",
       "      <td>-0.259465</td>\n",
       "      <td>0.002193</td>\n",
       "      <td>0.147185</td>\n",
       "      <td>-0.225325</td>\n",
       "    </tr>\n",
       "    <tr>\n",
       "      <th>Monitoring Status</th>\n",
       "      <td>-0.002149</td>\n",
       "      <td>-0.042746</td>\n",
       "      <td>-0.259465</td>\n",
       "      <td>1.000000</td>\n",
       "      <td>-0.022791</td>\n",
       "      <td>0.000026</td>\n",
       "      <td>0.229129</td>\n",
       "    </tr>\n",
       "    <tr>\n",
       "      <th>Precio Contado</th>\n",
       "      <td>-0.000161</td>\n",
       "      <td>-0.020609</td>\n",
       "      <td>0.002193</td>\n",
       "      <td>-0.022791</td>\n",
       "      <td>1.000000</td>\n",
       "      <td>0.224822</td>\n",
       "      <td>0.008932</td>\n",
       "    </tr>\n",
       "    <tr>\n",
       "      <th>Precio Financiado</th>\n",
       "      <td>-0.005334</td>\n",
       "      <td>-0.079129</td>\n",
       "      <td>0.147185</td>\n",
       "      <td>0.000026</td>\n",
       "      <td>0.224822</td>\n",
       "      <td>1.000000</td>\n",
       "      <td>-0.032537</td>\n",
       "    </tr>\n",
       "    <tr>\n",
       "      <th>Quejas</th>\n",
       "      <td>-0.002254</td>\n",
       "      <td>-0.017381</td>\n",
       "      <td>-0.225325</td>\n",
       "      <td>0.229129</td>\n",
       "      <td>0.008932</td>\n",
       "      <td>-0.032537</td>\n",
       "      <td>1.000000</td>\n",
       "    </tr>\n",
       "  </tbody>\n",
       "</table>\n",
       "</div>"
      ],
      "text/plain": [
       "                   Income Amount  Number Pay  Account Balance  \\\n",
       "Income Amount           1.000000   -0.000996         0.000749   \n",
       "Number Pay             -0.000996    1.000000         0.065887   \n",
       "Account Balance         0.000749    0.065887         1.000000   \n",
       "Monitoring Status      -0.002149   -0.042746        -0.259465   \n",
       "Precio Contado         -0.000161   -0.020609         0.002193   \n",
       "Precio Financiado      -0.005334   -0.079129         0.147185   \n",
       "Quejas                 -0.002254   -0.017381        -0.225325   \n",
       "\n",
       "                   Monitoring Status  Precio Contado  Precio Financiado  \\\n",
       "Income Amount              -0.002149       -0.000161          -0.005334   \n",
       "Number Pay                 -0.042746       -0.020609          -0.079129   \n",
       "Account Balance            -0.259465        0.002193           0.147185   \n",
       "Monitoring Status           1.000000       -0.022791           0.000026   \n",
       "Precio Contado             -0.022791        1.000000           0.224822   \n",
       "Precio Financiado           0.000026        0.224822           1.000000   \n",
       "Quejas                      0.229129        0.008932          -0.032537   \n",
       "\n",
       "                     Quejas  \n",
       "Income Amount     -0.002254  \n",
       "Number Pay        -0.017381  \n",
       "Account Balance   -0.225325  \n",
       "Monitoring Status  0.229129  \n",
       "Precio Contado     0.008932  \n",
       "Precio Financiado -0.032537  \n",
       "Quejas             1.000000  "
      ]
     },
     "execution_count": 26,
     "metadata": {},
     "output_type": "execute_result"
    }
   ],
   "source": [
    "corr = data.corr()\n",
    "corr"
   ]
  },
  {
   "cell_type": "code",
   "execution_count": 27,
   "metadata": {},
   "outputs": [
    {
     "data": {
      "image/png": "[encoded data removed]",
      "text/plain": [
       "<Figure size 792x648 with 2 Axes>"
      ]
     },
     "metadata": {
      "needs_background": "light"
     },
     "output_type": "display_data"
    }
   ],
   "source": [
    "mask = np.zeros_like(corr, dtype=np.bool)\n",
    "mask[np.triu_indices_from(mask)] = True\n",
    "f, ax = plt.subplots(figsize=(11, 9))\n",
    "cmap = sns.diverging_palette(10, 220, as_cmap=True)\n",
    "sns.heatmap(corr, annot=True, mask=mask, cmap=cmap, vmax=1, center=0,\n",
    "            square=True, linewidths=.5, cbar_kws={\"shrink\": .5});"
   ]
  },
  {
   "cell_type": "markdown",
   "metadata": {},
   "source": [
    "### Funciones"
   ]
  },
  {
   "cell_type": "code",
   "execution_count": 28,
   "metadata": {},
   "outputs": [],
   "source": [
    "from sklearn.metrics import accuracy_score, f1_score, roc_auc_score, roc_curve\n",
    "\n",
    "def evaluate(classifier, features, target):\n",
    "    \n",
    "    X_train, X_test, y_train, y_test = train_test_split(features, target)\n",
    "    classifier.fit(X_train, y_train)\n",
    "\n",
    "    predictions = classifier.predict(X_test)\n",
    "    probabilities = classifier.predict_proba(X_test)[:, 1]\n",
    "\n",
    "    acc = accuracy_score(y_test, predictions)\n",
    "    f1 = f1_score(y_test, predictions)\n",
    "    auc = roc_auc_score(y_test, probabilities)\n",
    "    fpr, tpr, threshold = roc_curve(y_test, probabilities)\n",
    "    \n",
    "    plt.plot(fpr, tpr)\n",
    "    plt.xlabel('fpr')\n",
    "    plt.ylabel('tpr')\n",
    "    plt.gcf().set_size_inches(8, 6)\n",
    "    \n",
    "    return acc, f1, auc"
   ]
  },
  {
   "cell_type": "code",
   "execution_count": 29,
   "metadata": {},
   "outputs": [],
   "source": [
    "#The code for the below matrix is taken from sklearn documentation\n",
    "#Defining the confusion matrix function\n",
    "def plot_confusion_matrix(cm, classes,\n",
    "                          normalize=False,\n",
    "                          title='Confusion matrix',\n",
    "                          cmap=plt.cm.Blues):\n",
    "    \n",
    "   \n",
    "    plt.imshow(cm, interpolation='nearest', cmap=cmap)\n",
    "    plt.title(title)\n",
    "    plt.colorbar()\n",
    "    tick_marks = np.arange(len(classes))\n",
    "    plt.xticks(tick_marks, classes, rotation=45)\n",
    "    plt.yticks(tick_marks, classes)\n",
    "    \n",
    "\n",
    "\n",
    "    thresh = cm.max() / 2.\n",
    "    for i, j in itertools.product(range(cm.shape[0]), range(cm.shape[1])):\n",
    "        plt.text(j, i, cm[i, j],\n",
    "                 horizontalalignment=\"center\",\n",
    "                 color=\"white\" if cm[i, j] > thresh else \"black\")\n",
    "        \n",
    "        \n",
    "    plt.tight_layout()\n",
    "    plt.ylabel('True label')\n",
    "    plt.xlabel('Predicted label')\n",
    "#Using Activo and Baja for 0 and 1    \n",
    "class_names = ['Activo','Baja']"
   ]
  },
  {
   "cell_type": "code",
   "execution_count": 30,
   "metadata": {
    "scrolled": true
   },
   "outputs": [
    {
     "data": {
      "text/html": [
       "<div>\n",
       "<style scoped>\n",
       "    .dataframe tbody tr th:only-of-type {\n",
       "        vertical-align: middle;\n",
       "    }\n",
       "\n",
       "    .dataframe tbody tr th {\n",
       "        vertical-align: top;\n",
       "    }\n",
       "\n",
       "    .dataframe thead th {\n",
       "        text-align: right;\n",
       "    }\n",
       "</style>\n",
       "<table border=\"1\" class=\"dataframe\">\n",
       "  <thead>\n",
       "    <tr style=\"text-align: right;\">\n",
       "      <th></th>\n",
       "      <th>Installation Date</th>\n",
       "      <th>Installation Number</th>\n",
       "      <th>Client Type</th>\n",
       "      <th>Panel</th>\n",
       "      <th>Territorial</th>\n",
       "      <th>Provincia</th>\n",
       "      <th>Zip</th>\n",
       "      <th>Gender</th>\n",
       "      <th>Nationality</th>\n",
       "      <th>Country Of Birth</th>\n",
       "      <th>Born Date</th>\n",
       "      <th>Housing Type</th>\n",
       "      <th>Labor Situation</th>\n",
       "      <th>Marital Status</th>\n",
       "      <th>Income Amount</th>\n",
       "      <th>Number Pay</th>\n",
       "      <th>Price List</th>\n",
       "      <th>Account Balance</th>\n",
       "      <th>Monitoring Status Date</th>\n",
       "      <th>Monitoring Status</th>\n",
       "      <th>Precio Contado</th>\n",
       "      <th>Precio Financiado</th>\n",
       "      <th>Quejas</th>\n",
       "    </tr>\n",
       "  </thead>\n",
       "  <tbody>\n",
       "    <tr>\n",
       "      <th>0</th>\n",
       "      <td>2015-01-12</td>\n",
       "      <td>1835558</td>\n",
       "      <td>Normal</td>\n",
       "      <td>SDVFAST</td>\n",
       "      <td>Este</td>\n",
       "      <td>Valencia</td>\n",
       "      <td>46900</td>\n",
       "      <td>H - HOMBRE</td>\n",
       "      <td>ES - ESPAÑOLA</td>\n",
       "      <td>SPAIN</td>\n",
       "      <td>1972-01-02</td>\n",
       "      <td>1 - PROPIEDAD SIN HIPOTECA</td>\n",
       "      <td>04 AUTONOMO</td>\n",
       "      <td>2 - CASADO</td>\n",
       "      <td>2009</td>\n",
       "      <td>12</td>\n",
       "      <td>HBE</td>\n",
       "      <td>0.0</td>\n",
       "      <td>2015-01-14</td>\n",
       "      <td>0</td>\n",
       "      <td>435</td>\n",
       "      <td>360.0</td>\n",
       "      <td>0</td>\n",
       "    </tr>\n",
       "    <tr>\n",
       "      <th>1</th>\n",
       "      <td>2015-01-12</td>\n",
       "      <td>1835654</td>\n",
       "      <td>Normal</td>\n",
       "      <td>SDVFAST</td>\n",
       "      <td>Este</td>\n",
       "      <td>Valencia</td>\n",
       "      <td>46716</td>\n",
       "      <td>H - HOMBRE</td>\n",
       "      <td>ES - ESPAÑOLA</td>\n",
       "      <td>SPAIN</td>\n",
       "      <td>1989-09-20</td>\n",
       "      <td>1 - PROPIEDAD SIN HIPOTECA</td>\n",
       "      <td>01 ASALARIADO FIJO</td>\n",
       "      <td>1 - SOLTERO</td>\n",
       "      <td>1500</td>\n",
       "      <td>12</td>\n",
       "      <td>EED</td>\n",
       "      <td>0.0</td>\n",
       "      <td>2015-01-13</td>\n",
       "      <td>0</td>\n",
       "      <td>494</td>\n",
       "      <td>360.0</td>\n",
       "      <td>0</td>\n",
       "    </tr>\n",
       "    <tr>\n",
       "      <th>2</th>\n",
       "      <td>2015-01-12</td>\n",
       "      <td>1835683</td>\n",
       "      <td>Normal</td>\n",
       "      <td>SDVFAST</td>\n",
       "      <td>Este</td>\n",
       "      <td>Valencia</td>\n",
       "      <td>46716</td>\n",
       "      <td>H - HOMBRE</td>\n",
       "      <td>ES - ESPAÑOLA</td>\n",
       "      <td>SPAIN</td>\n",
       "      <td>1963-05-31</td>\n",
       "      <td>1 - PROPIEDAD SIN HIPOTECA</td>\n",
       "      <td>01 ASALARIADO FIJO</td>\n",
       "      <td>2 - CASADO</td>\n",
       "      <td>2000</td>\n",
       "      <td>12</td>\n",
       "      <td>EED</td>\n",
       "      <td>0.0</td>\n",
       "      <td>2015-01-13</td>\n",
       "      <td>0</td>\n",
       "      <td>494</td>\n",
       "      <td>0.0</td>\n",
       "      <td>0</td>\n",
       "    </tr>\n",
       "    <tr>\n",
       "      <th>3</th>\n",
       "      <td>2015-01-12</td>\n",
       "      <td>1835716</td>\n",
       "      <td>Normal</td>\n",
       "      <td>SDVFAST</td>\n",
       "      <td>Este</td>\n",
       "      <td>Alicante</td>\n",
       "      <td>3110</td>\n",
       "      <td>H - HOMBRE</td>\n",
       "      <td>ES - ESPAÑOLA</td>\n",
       "      <td>SPAIN</td>\n",
       "      <td>1958-07-31</td>\n",
       "      <td>2 - PROPIEDAD HIPOTECADA</td>\n",
       "      <td>03 FUNCIONARIO</td>\n",
       "      <td>4 - SEPARADO/DIVORCIADO</td>\n",
       "      <td>1400</td>\n",
       "      <td>12</td>\n",
       "      <td>HBD</td>\n",
       "      <td>0.0</td>\n",
       "      <td>2020-01-31</td>\n",
       "      <td>1</td>\n",
       "      <td>554</td>\n",
       "      <td>0.0</td>\n",
       "      <td>1</td>\n",
       "    </tr>\n",
       "    <tr>\n",
       "      <th>4</th>\n",
       "      <td>2015-01-12</td>\n",
       "      <td>1835728</td>\n",
       "      <td>Normal</td>\n",
       "      <td>SDVFAST</td>\n",
       "      <td>Este</td>\n",
       "      <td>Valencia</td>\n",
       "      <td>46394</td>\n",
       "      <td>H - HOMBRE</td>\n",
       "      <td>ES - ESPAÑOLA</td>\n",
       "      <td>SPAIN</td>\n",
       "      <td>1975-04-08</td>\n",
       "      <td>1 - PROPIEDAD SIN HIPOTECA</td>\n",
       "      <td>04 AUTONOMO</td>\n",
       "      <td>2 - CASADO</td>\n",
       "      <td>2000</td>\n",
       "      <td>12</td>\n",
       "      <td>HBE</td>\n",
       "      <td>0.0</td>\n",
       "      <td>2015-01-13</td>\n",
       "      <td>0</td>\n",
       "      <td>435</td>\n",
       "      <td>360.0</td>\n",
       "      <td>1</td>\n",
       "    </tr>\n",
       "  </tbody>\n",
       "</table>\n",
       "</div>"
      ],
      "text/plain": [
       "  Installation Date Installation Number  Client Type    Panel Territorial  \\\n",
       "0        2015-01-12             1835558  Normal       SDVFAST        Este   \n",
       "1        2015-01-12             1835654  Normal       SDVFAST        Este   \n",
       "2        2015-01-12             1835683  Normal       SDVFAST        Este   \n",
       "3        2015-01-12             1835716  Normal       SDVFAST        Este   \n",
       "4        2015-01-12             1835728  Normal       SDVFAST        Este   \n",
       "\n",
       "  Provincia    Zip      Gender    Nationality Country Of Birth  Born Date  \\\n",
       "0  Valencia  46900  H - HOMBRE  ES - ESPAÑOLA            SPAIN 1972-01-02   \n",
       "1  Valencia  46716  H - HOMBRE  ES - ESPAÑOLA            SPAIN 1989-09-20   \n",
       "2  Valencia  46716  H - HOMBRE  ES - ESPAÑOLA            SPAIN 1963-05-31   \n",
       "3  Alicante   3110  H - HOMBRE  ES - ESPAÑOLA            SPAIN 1958-07-31   \n",
       "4  Valencia  46394  H - HOMBRE  ES - ESPAÑOLA            SPAIN 1975-04-08   \n",
       "\n",
       "                 Housing Type     Labor Situation           Marital Status  \\\n",
       "0  1 - PROPIEDAD SIN HIPOTECA         04 AUTONOMO               2 - CASADO   \n",
       "1  1 - PROPIEDAD SIN HIPOTECA  01 ASALARIADO FIJO              1 - SOLTERO   \n",
       "2  1 - PROPIEDAD SIN HIPOTECA  01 ASALARIADO FIJO               2 - CASADO   \n",
       "3    2 - PROPIEDAD HIPOTECADA      03 FUNCIONARIO  4 - SEPARADO/DIVORCIADO   \n",
       "4  1 - PROPIEDAD SIN HIPOTECA         04 AUTONOMO               2 - CASADO   \n",
       "\n",
       "   Income Amount  Number Pay Price List  Account Balance  \\\n",
       "0           2009          12      HBE                0.0   \n",
       "1           1500          12      EED                0.0   \n",
       "2           2000          12      EED                0.0   \n",
       "3           1400          12      HBD                0.0   \n",
       "4           2000          12      HBE                0.0   \n",
       "\n",
       "  Monitoring Status Date  Monitoring Status  Precio Contado  \\\n",
       "0             2015-01-14                  0             435   \n",
       "1             2015-01-13                  0             494   \n",
       "2             2015-01-13                  0             494   \n",
       "3             2020-01-31                  1             554   \n",
       "4             2015-01-13                  0             435   \n",
       "\n",
       "   Precio Financiado  Quejas  \n",
       "0              360.0       0  \n",
       "1              360.0       0  \n",
       "2                0.0       0  \n",
       "3                0.0       1  \n",
       "4              360.0       1  "
      ]
     },
     "execution_count": 30,
     "metadata": {},
     "output_type": "execute_result"
    }
   ],
   "source": [
    "data.head()"
   ]
  },
  {
   "cell_type": "markdown",
   "metadata": {},
   "source": [
    "## Baseline: Sin variables categóricas"
   ]
  },
  {
   "cell_type": "code",
   "execution_count": 31,
   "metadata": {
    "scrolled": true
   },
   "outputs": [
    {
     "data": {
      "text/html": [
       "<div>\n",
       "<style scoped>\n",
       "    .dataframe tbody tr th:only-of-type {\n",
       "        vertical-align: middle;\n",
       "    }\n",
       "\n",
       "    .dataframe tbody tr th {\n",
       "        vertical-align: top;\n",
       "    }\n",
       "\n",
       "    .dataframe thead th {\n",
       "        text-align: right;\n",
       "    }\n",
       "</style>\n",
       "<table border=\"1\" class=\"dataframe\">\n",
       "  <thead>\n",
       "    <tr style=\"text-align: right;\">\n",
       "      <th></th>\n",
       "      <th>Quejas</th>\n",
       "      <th>Monitoring Status</th>\n",
       "    </tr>\n",
       "  </thead>\n",
       "  <tbody>\n",
       "    <tr>\n",
       "      <th>0</th>\n",
       "      <td>0</td>\n",
       "      <td>0</td>\n",
       "    </tr>\n",
       "    <tr>\n",
       "      <th>1</th>\n",
       "      <td>0</td>\n",
       "      <td>0</td>\n",
       "    </tr>\n",
       "    <tr>\n",
       "      <th>2</th>\n",
       "      <td>0</td>\n",
       "      <td>0</td>\n",
       "    </tr>\n",
       "    <tr>\n",
       "      <th>3</th>\n",
       "      <td>1</td>\n",
       "      <td>1</td>\n",
       "    </tr>\n",
       "    <tr>\n",
       "      <th>4</th>\n",
       "      <td>1</td>\n",
       "      <td>0</td>\n",
       "    </tr>\n",
       "  </tbody>\n",
       "</table>\n",
       "</div>"
      ],
      "text/plain": [
       "   Quejas  Monitoring Status\n",
       "0       0                  0\n",
       "1       0                  0\n",
       "2       0                  0\n",
       "3       1                  1\n",
       "4       1                  0"
      ]
     },
     "execution_count": 31,
     "metadata": {},
     "output_type": "execute_result"
    }
   ],
   "source": [
    "data_filtered = data[['Quejas', 'Monitoring Status']]\n",
    "data_filtered.head()"
   ]
  },
  {
   "cell_type": "code",
   "execution_count": 32,
   "metadata": {},
   "outputs": [],
   "source": [
    "X = data_filtered.iloc[:, :-1]\n",
    "y = data_filtered.iloc[:, 1]"
   ]
  },
  {
   "cell_type": "code",
   "execution_count": 33,
   "metadata": {},
   "outputs": [
    {
     "data": {
      "text/html": [
       "<div>\n",
       "<style scoped>\n",
       "    .dataframe tbody tr th:only-of-type {\n",
       "        vertical-align: middle;\n",
       "    }\n",
       "\n",
       "    .dataframe tbody tr th {\n",
       "        vertical-align: top;\n",
       "    }\n",
       "\n",
       "    .dataframe thead th {\n",
       "        text-align: right;\n",
       "    }\n",
       "</style>\n",
       "<table border=\"1\" class=\"dataframe\">\n",
       "  <thead>\n",
       "    <tr style=\"text-align: right;\">\n",
       "      <th></th>\n",
       "      <th>Quejas</th>\n",
       "    </tr>\n",
       "  </thead>\n",
       "  <tbody>\n",
       "    <tr>\n",
       "      <th>0</th>\n",
       "      <td>0</td>\n",
       "    </tr>\n",
       "    <tr>\n",
       "      <th>1</th>\n",
       "      <td>0</td>\n",
       "    </tr>\n",
       "    <tr>\n",
       "      <th>2</th>\n",
       "      <td>0</td>\n",
       "    </tr>\n",
       "    <tr>\n",
       "      <th>3</th>\n",
       "      <td>1</td>\n",
       "    </tr>\n",
       "    <tr>\n",
       "      <th>4</th>\n",
       "      <td>1</td>\n",
       "    </tr>\n",
       "    <tr>\n",
       "      <th>...</th>\n",
       "      <td>...</td>\n",
       "    </tr>\n",
       "    <tr>\n",
       "      <th>48105</th>\n",
       "      <td>1</td>\n",
       "    </tr>\n",
       "    <tr>\n",
       "      <th>48106</th>\n",
       "      <td>0</td>\n",
       "    </tr>\n",
       "    <tr>\n",
       "      <th>48107</th>\n",
       "      <td>0</td>\n",
       "    </tr>\n",
       "    <tr>\n",
       "      <th>48108</th>\n",
       "      <td>0</td>\n",
       "    </tr>\n",
       "    <tr>\n",
       "      <th>48109</th>\n",
       "      <td>0</td>\n",
       "    </tr>\n",
       "  </tbody>\n",
       "</table>\n",
       "<p>48110 rows × 1 columns</p>\n",
       "</div>"
      ],
      "text/plain": [
       "       Quejas\n",
       "0           0\n",
       "1           0\n",
       "2           0\n",
       "3           1\n",
       "4           1\n",
       "...       ...\n",
       "48105       1\n",
       "48106       0\n",
       "48107       0\n",
       "48108       0\n",
       "48109       0\n",
       "\n",
       "[48110 rows x 1 columns]"
      ]
     },
     "execution_count": 33,
     "metadata": {},
     "output_type": "execute_result"
    }
   ],
   "source": [
    "X"
   ]
  },
  {
   "cell_type": "code",
   "execution_count": 34,
   "metadata": {},
   "outputs": [],
   "source": [
    "from sklearn.model_selection import train_test_split\n",
    "X_train, X_test, y_train, y_test = train_test_split(X, y, test_size = 0.2, random_state = 0, stratify = y)"
   ]
  },
  {
   "cell_type": "markdown",
   "metadata": {},
   "source": [
    "### Regresión Logística"
   ]
  },
  {
   "cell_type": "code",
   "execution_count": 35,
   "metadata": {},
   "outputs": [
    {
     "data": {
      "text/plain": [
       "LogisticRegression(class_weight='balanced', random_state=0)"
      ]
     },
     "execution_count": 35,
     "metadata": {},
     "output_type": "execute_result"
    }
   ],
   "source": [
    "from sklearn.linear_model import LogisticRegression\n",
    "\n",
    "classifier = LogisticRegression(random_state = 0, class_weight=\"balanced\")\n",
    "classifier.fit(X_train, y_train)"
   ]
  },
  {
   "cell_type": "code",
   "execution_count": 36,
   "metadata": {},
   "outputs": [],
   "source": [
    "y_pred = classifier.predict(X_test)"
   ]
  },
  {
   "cell_type": "code",
   "execution_count": 37,
   "metadata": {},
   "outputs": [
    {
     "name": "stdout",
     "output_type": "stream",
     "text": [
      "              precision    recall  f1-score   support\n",
      "\n",
      "           0       0.93      0.86      0.90      8629\n",
      "           1       0.27      0.45      0.34       993\n",
      "\n",
      "    accuracy                           0.82      9622\n",
      "   macro avg       0.60      0.65      0.62      9622\n",
      "weighted avg       0.86      0.82      0.84      9622\n",
      "\n"
     ]
    },
    {
     "data": {
      "image/png": "[encoded data removed]",
      "text/plain": [
       "<Figure size 432x288 with 2 Axes>"
      ]
     },
     "metadata": {
      "needs_background": "light"
     },
     "output_type": "display_data"
    }
   ],
   "source": [
    "from sklearn.metrics import confusion_matrix, classification_report\n",
    "\n",
    "print(classification_report(y_test,y_pred ))\n",
    "\n",
    "cm = confusion_matrix(y_test,y_pred)\n",
    "plot_confusion_matrix(cm, classes=class_names, title='Confusion matrix')"
   ]
  },
  {
   "cell_type": "code",
   "execution_count": 38,
   "metadata": {},
   "outputs": [
    {
     "data": {
      "text/plain": [
       "(0.8210009976720984, 0.3520914835991574, 0.6703083688996103)"
      ]
     },
     "execution_count": 38,
     "metadata": {},
     "output_type": "execute_result"
    },
    {
     "data": {
      "image/png": "[encoded data removed]",
      "text/plain": [
       "<Figure size 576x432 with 1 Axes>"
      ]
     },
     "metadata": {
      "needs_background": "light"
     },
     "output_type": "display_data"
    }
   ],
   "source": [
    "evaluate(classifier, X, y)"
   ]
  },
  {
   "cell_type": "code",
   "execution_count": 41,
   "metadata": {},
   "outputs": [
    {
     "name": "stdout",
     "output_type": "stream",
     "text": [
      "Average precision-recall score: 0.18\n"
     ]
    },
    {
     "data": {
      "text/plain": [
       "Text(0.5, 1.0, '2-class Precision-Recall curve: AP=0.18')"
      ]
     },
     "execution_count": 41,
     "metadata": {},
     "output_type": "execute_result"
    },
    {
     "data": {
      "image/png": "[encoded data removed]",
      "text/plain": [
       "<Figure size 432x288 with 1 Axes>"
      ]
     },
     "metadata": {
      "needs_background": "light"
     },
     "output_type": "display_data"
    }
   ],
   "source": [
    "from sklearn.metrics import precision_recall_curve\n",
    "from sklearn.metrics import plot_precision_recall_curve\n",
    "from sklearn.metrics import average_precision_score\n",
    "\n",
    "average_precision = average_precision_score(y_test, y_pred)\n",
    "\n",
    "print('Average precision-recall score: {0:0.2f}'.format(average_precision))\n",
    "\n",
    "disp = plot_precision_recall_curve(classifier, X_test, y_test)\n",
    "disp.ax_.set_title('2-class Precision-Recall curve: '\n",
    "                   'AP={0:0.2f}'.format(average_precision))"
   ]
  },
  {
   "cell_type": "markdown",
   "metadata": {},
   "source": [
    "## Enconding con ``get_dummies``\n",
    "\n",
    "https://www.kaggle.com/loveall/cleaning-visualizing-and-modeling-cold-call-data"
   ]
  },
  {
   "cell_type": "code",
   "execution_count": 42,
   "metadata": {
    "scrolled": true
   },
   "outputs": [
    {
     "data": {
      "text/plain": [
       "Index(['Gender', 'Housing Type', 'Labor Situation', 'Marital Status',\n",
       "       'Provincia', 'Nationality', 'Quejas', 'Monitoring Status'],\n",
       "      dtype='object')"
      ]
     },
     "execution_count": 42,
     "metadata": {},
     "output_type": "execute_result"
    }
   ],
   "source": [
    "data_filtered = data[['Gender', 'Housing Type', 'Labor Situation', 'Marital Status', 'Provincia', 'Nationality',\n",
    "                      'Quejas', 'Monitoring Status']]\n",
    "data_filtered.columns"
   ]
  },
  {
   "cell_type": "code",
   "execution_count": 43,
   "metadata": {},
   "outputs": [],
   "source": [
    "Gender = pd.get_dummies(data = data_filtered['Gender'],prefix = \"Gender\")\n",
    "House = pd.get_dummies(data = data_filtered['Housing Type'],prefix = \"House\")\n",
    "Labor = pd.get_dummies(data = data_filtered['Labor Situation'],prefix = \"Labor\")\n",
    "Marital = pd.get_dummies(data = data_filtered['Marital Status'],prefix = \"Marital\")\n",
    "Provincia = pd.get_dummies(data = data_filtered['Provincia'],prefix = \"Provincia\")\n",
    "Nationality = pd.get_dummies(data = data_filtered['Nationality'],prefix = \"Nationality\")"
   ]
  },
  {
   "cell_type": "code",
   "execution_count": 44,
   "metadata": {},
   "outputs": [
    {
     "name": "stderr",
     "output_type": "stream",
     "text": [
      "C:\\Users\\alber\\anaconda3\\lib\\site-packages\\pandas\\core\\frame.py:4167: SettingWithCopyWarning: \n",
      "A value is trying to be set on a copy of a slice from a DataFrame\n",
      "\n",
      "See the caveats in the documentation: https://pandas.pydata.org/pandas-docs/stable/user_guide/indexing.html#returning-a-view-versus-a-copy\n",
      "  return super().drop(\n"
     ]
    }
   ],
   "source": [
    "data_filtered.drop(['Gender','Housing Type','Labor Situation','Provincia', \n",
    "                    'Nationality', 'Marital Status'],axis=1,inplace=True)"
   ]
  },
  {
   "cell_type": "code",
   "execution_count": 45,
   "metadata": {},
   "outputs": [
    {
     "data": {
      "text/plain": [
       "Index(['Quejas', 'Monitoring Status', 'Gender_H - HOMBRE', 'Gender_M - MUJER',\n",
       "       'House_1 - PROPIEDAD SIN HIPOTECA', 'House_2 - PROPIEDAD HIPOTECADA',\n",
       "       'House_3 - ALQUILER', 'House_4 - FAMILIARES/PADRES',\n",
       "       'House_5 - EMPRESA', 'Labor_01 ASALARIADO FIJO',\n",
       "       'Labor_02 ASALARIADO TEMPORAL', 'Labor_03 FUNCIONARIO',\n",
       "       'Labor_04 AUTONOMO', 'Labor_06 PARADO',\n",
       "       'Labor_07 PENSIONISTA (JUBILACION)', 'Labor_08 PENSIONISTA (VIUDEDAD)',\n",
       "       'Labor_09 PENSIONISTA (LARGA ENFERMEDAD)', 'Marital_1 - SOLTERO',\n",
       "       'Marital_2 - CASADO', 'Marital_3 - VIUDO',\n",
       "       'Marital_4 - SEPARADO/DIVORCIADO', 'Marital_5 ? PAREJA DE HECHO',\n",
       "       'Marital_5 â PAREJA DE HECHO', 'Provincia_Alicante',\n",
       "       'Provincia_Castellon', 'Provincia_Valencia',\n",
       "       'Nationality_AF - AFRICA MENOS MAGREB',\n",
       "       'Nationality_AJ - AUSTRALIA Y JAPON',\n",
       "       'Nationality_AS - ASIA MENOS JAPON', 'Nationality_ES - ESPAÃOLA',\n",
       "       'Nationality_ES - ESPAÑOLA', 'Nationality_IB - IBEROAMERICA',\n",
       "       'Nationality_MA - MAGREB', 'Nationality_OT - OTROS',\n",
       "       'Nationality_RE - RESTO DE EUROPA', 'Nationality_UE - UNION EUROPEA',\n",
       "       'Nationality_US - USA / CANADA'],\n",
       "      dtype='object')"
      ]
     },
     "execution_count": 45,
     "metadata": {},
     "output_type": "execute_result"
    }
   ],
   "source": [
    "dummy_df = pd.concat([data_filtered,Gender,House,Labor,Marital,Provincia,Nationality],axis=1)\n",
    "dummy_df.columns"
   ]
  },
  {
   "cell_type": "code",
   "execution_count": 46,
   "metadata": {
    "scrolled": false
   },
   "outputs": [
    {
     "data": {
      "text/html": [
       "<div>\n",
       "<style scoped>\n",
       "    .dataframe tbody tr th:only-of-type {\n",
       "        vertical-align: middle;\n",
       "    }\n",
       "\n",
       "    .dataframe tbody tr th {\n",
       "        vertical-align: top;\n",
       "    }\n",
       "\n",
       "    .dataframe thead th {\n",
       "        text-align: right;\n",
       "    }\n",
       "</style>\n",
       "<table border=\"1\" class=\"dataframe\">\n",
       "  <thead>\n",
       "    <tr style=\"text-align: right;\">\n",
       "      <th></th>\n",
       "      <th>Quejas</th>\n",
       "      <th>Monitoring Status</th>\n",
       "      <th>Gender_H - HOMBRE</th>\n",
       "      <th>Gender_M - MUJER</th>\n",
       "      <th>House_1 - PROPIEDAD SIN HIPOTECA</th>\n",
       "      <th>House_2 - PROPIEDAD HIPOTECADA</th>\n",
       "      <th>House_3 - ALQUILER</th>\n",
       "      <th>House_4 - FAMILIARES/PADRES</th>\n",
       "      <th>House_5 - EMPRESA</th>\n",
       "      <th>Labor_01 ASALARIADO FIJO</th>\n",
       "      <th>Labor_02 ASALARIADO TEMPORAL</th>\n",
       "      <th>Labor_03 FUNCIONARIO</th>\n",
       "      <th>Labor_04 AUTONOMO</th>\n",
       "      <th>Labor_06 PARADO</th>\n",
       "      <th>Labor_07 PENSIONISTA (JUBILACION)</th>\n",
       "      <th>Labor_08 PENSIONISTA (VIUDEDAD)</th>\n",
       "      <th>Labor_09 PENSIONISTA (LARGA ENFERMEDAD)</th>\n",
       "      <th>Marital_1 - SOLTERO</th>\n",
       "      <th>Marital_2 - CASADO</th>\n",
       "      <th>Marital_3 - VIUDO</th>\n",
       "      <th>Marital_4 - SEPARADO/DIVORCIADO</th>\n",
       "      <th>Marital_5 ? PAREJA DE HECHO</th>\n",
       "      <th>Marital_5 â PAREJA DE HECHO</th>\n",
       "      <th>Provincia_Alicante</th>\n",
       "      <th>Provincia_Castellon</th>\n",
       "      <th>Provincia_Valencia</th>\n",
       "      <th>Nationality_AF - AFRICA MENOS MAGREB</th>\n",
       "      <th>Nationality_AJ - AUSTRALIA Y JAPON</th>\n",
       "      <th>Nationality_AS - ASIA MENOS JAPON</th>\n",
       "      <th>Nationality_ES - ESPAÃOLA</th>\n",
       "      <th>Nationality_ES - ESPAÑOLA</th>\n",
       "      <th>Nationality_IB - IBEROAMERICA</th>\n",
       "      <th>Nationality_MA - MAGREB</th>\n",
       "      <th>Nationality_OT - OTROS</th>\n",
       "      <th>Nationality_RE - RESTO DE EUROPA</th>\n",
       "      <th>Nationality_UE - UNION EUROPEA</th>\n",
       "      <th>Nationality_US - USA / CANADA</th>\n",
       "    </tr>\n",
       "  </thead>\n",
       "  <tbody>\n",
       "    <tr>\n",
       "      <th>0</th>\n",
       "      <td>0</td>\n",
       "      <td>0</td>\n",
       "      <td>1</td>\n",
       "      <td>0</td>\n",
       "      <td>1</td>\n",
       "      <td>0</td>\n",
       "      <td>0</td>\n",
       "      <td>0</td>\n",
       "      <td>0</td>\n",
       "      <td>0</td>\n",
       "      <td>0</td>\n",
       "      <td>0</td>\n",
       "      <td>1</td>\n",
       "      <td>0</td>\n",
       "      <td>0</td>\n",
       "      <td>0</td>\n",
       "      <td>0</td>\n",
       "      <td>0</td>\n",
       "      <td>1</td>\n",
       "      <td>0</td>\n",
       "      <td>0</td>\n",
       "      <td>0</td>\n",
       "      <td>0</td>\n",
       "      <td>0</td>\n",
       "      <td>0</td>\n",
       "      <td>1</td>\n",
       "      <td>0</td>\n",
       "      <td>0</td>\n",
       "      <td>0</td>\n",
       "      <td>0</td>\n",
       "      <td>1</td>\n",
       "      <td>0</td>\n",
       "      <td>0</td>\n",
       "      <td>0</td>\n",
       "      <td>0</td>\n",
       "      <td>0</td>\n",
       "      <td>0</td>\n",
       "    </tr>\n",
       "    <tr>\n",
       "      <th>1</th>\n",
       "      <td>0</td>\n",
       "      <td>0</td>\n",
       "      <td>1</td>\n",
       "      <td>0</td>\n",
       "      <td>1</td>\n",
       "      <td>0</td>\n",
       "      <td>0</td>\n",
       "      <td>0</td>\n",
       "      <td>0</td>\n",
       "      <td>1</td>\n",
       "      <td>0</td>\n",
       "      <td>0</td>\n",
       "      <td>0</td>\n",
       "      <td>0</td>\n",
       "      <td>0</td>\n",
       "      <td>0</td>\n",
       "      <td>0</td>\n",
       "      <td>1</td>\n",
       "      <td>0</td>\n",
       "      <td>0</td>\n",
       "      <td>0</td>\n",
       "      <td>0</td>\n",
       "      <td>0</td>\n",
       "      <td>0</td>\n",
       "      <td>0</td>\n",
       "      <td>1</td>\n",
       "      <td>0</td>\n",
       "      <td>0</td>\n",
       "      <td>0</td>\n",
       "      <td>0</td>\n",
       "      <td>1</td>\n",
       "      <td>0</td>\n",
       "      <td>0</td>\n",
       "      <td>0</td>\n",
       "      <td>0</td>\n",
       "      <td>0</td>\n",
       "      <td>0</td>\n",
       "    </tr>\n",
       "    <tr>\n",
       "      <th>2</th>\n",
       "      <td>0</td>\n",
       "      <td>0</td>\n",
       "      <td>1</td>\n",
       "      <td>0</td>\n",
       "      <td>1</td>\n",
       "      <td>0</td>\n",
       "      <td>0</td>\n",
       "      <td>0</td>\n",
       "      <td>0</td>\n",
       "      <td>1</td>\n",
       "      <td>0</td>\n",
       "      <td>0</td>\n",
       "      <td>0</td>\n",
       "      <td>0</td>\n",
       "      <td>0</td>\n",
       "      <td>0</td>\n",
       "      <td>0</td>\n",
       "      <td>0</td>\n",
       "      <td>1</td>\n",
       "      <td>0</td>\n",
       "      <td>0</td>\n",
       "      <td>0</td>\n",
       "      <td>0</td>\n",
       "      <td>0</td>\n",
       "      <td>0</td>\n",
       "      <td>1</td>\n",
       "      <td>0</td>\n",
       "      <td>0</td>\n",
       "      <td>0</td>\n",
       "      <td>0</td>\n",
       "      <td>1</td>\n",
       "      <td>0</td>\n",
       "      <td>0</td>\n",
       "      <td>0</td>\n",
       "      <td>0</td>\n",
       "      <td>0</td>\n",
       "      <td>0</td>\n",
       "    </tr>\n",
       "    <tr>\n",
       "      <th>3</th>\n",
       "      <td>1</td>\n",
       "      <td>1</td>\n",
       "      <td>1</td>\n",
       "      <td>0</td>\n",
       "      <td>0</td>\n",
       "      <td>1</td>\n",
       "      <td>0</td>\n",
       "      <td>0</td>\n",
       "      <td>0</td>\n",
       "      <td>0</td>\n",
       "      <td>0</td>\n",
       "      <td>1</td>\n",
       "      <td>0</td>\n",
       "      <td>0</td>\n",
       "      <td>0</td>\n",
       "      <td>0</td>\n",
       "      <td>0</td>\n",
       "      <td>0</td>\n",
       "      <td>0</td>\n",
       "      <td>0</td>\n",
       "      <td>1</td>\n",
       "      <td>0</td>\n",
       "      <td>0</td>\n",
       "      <td>1</td>\n",
       "      <td>0</td>\n",
       "      <td>0</td>\n",
       "      <td>0</td>\n",
       "      <td>0</td>\n",
       "      <td>0</td>\n",
       "      <td>0</td>\n",
       "      <td>1</td>\n",
       "      <td>0</td>\n",
       "      <td>0</td>\n",
       "      <td>0</td>\n",
       "      <td>0</td>\n",
       "      <td>0</td>\n",
       "      <td>0</td>\n",
       "    </tr>\n",
       "    <tr>\n",
       "      <th>4</th>\n",
       "      <td>1</td>\n",
       "      <td>0</td>\n",
       "      <td>1</td>\n",
       "      <td>0</td>\n",
       "      <td>1</td>\n",
       "      <td>0</td>\n",
       "      <td>0</td>\n",
       "      <td>0</td>\n",
       "      <td>0</td>\n",
       "      <td>0</td>\n",
       "      <td>0</td>\n",
       "      <td>0</td>\n",
       "      <td>1</td>\n",
       "      <td>0</td>\n",
       "      <td>0</td>\n",
       "      <td>0</td>\n",
       "      <td>0</td>\n",
       "      <td>0</td>\n",
       "      <td>1</td>\n",
       "      <td>0</td>\n",
       "      <td>0</td>\n",
       "      <td>0</td>\n",
       "      <td>0</td>\n",
       "      <td>0</td>\n",
       "      <td>0</td>\n",
       "      <td>1</td>\n",
       "      <td>0</td>\n",
       "      <td>0</td>\n",
       "      <td>0</td>\n",
       "      <td>0</td>\n",
       "      <td>1</td>\n",
       "      <td>0</td>\n",
       "      <td>0</td>\n",
       "      <td>0</td>\n",
       "      <td>0</td>\n",
       "      <td>0</td>\n",
       "      <td>0</td>\n",
       "    </tr>\n",
       "  </tbody>\n",
       "</table>\n",
       "</div>"
      ],
      "text/plain": [
       "   Quejas  Monitoring Status  Gender_H - HOMBRE  Gender_M - MUJER  \\\n",
       "0       0                  0                  1                 0   \n",
       "1       0                  0                  1                 0   \n",
       "2       0                  0                  1                 0   \n",
       "3       1                  1                  1                 0   \n",
       "4       1                  0                  1                 0   \n",
       "\n",
       "   House_1 - PROPIEDAD SIN HIPOTECA  House_2 - PROPIEDAD HIPOTECADA  \\\n",
       "0                                 1                               0   \n",
       "1                                 1                               0   \n",
       "2                                 1                               0   \n",
       "3                                 0                               1   \n",
       "4                                 1                               0   \n",
       "\n",
       "   House_3 - ALQUILER  House_4 - FAMILIARES/PADRES  House_5 - EMPRESA  \\\n",
       "0                   0                            0                  0   \n",
       "1                   0                            0                  0   \n",
       "2                   0                            0                  0   \n",
       "3                   0                            0                  0   \n",
       "4                   0                            0                  0   \n",
       "\n",
       "   Labor_01 ASALARIADO FIJO  Labor_02 ASALARIADO TEMPORAL  \\\n",
       "0                         0                             0   \n",
       "1                         1                             0   \n",
       "2                         1                             0   \n",
       "3                         0                             0   \n",
       "4                         0                             0   \n",
       "\n",
       "   Labor_03 FUNCIONARIO  Labor_04 AUTONOMO  Labor_06 PARADO  \\\n",
       "0                     0                  1                0   \n",
       "1                     0                  0                0   \n",
       "2                     0                  0                0   \n",
       "3                     1                  0                0   \n",
       "4                     0                  1                0   \n",
       "\n",
       "   Labor_07 PENSIONISTA (JUBILACION)  Labor_08 PENSIONISTA (VIUDEDAD)  \\\n",
       "0                                  0                                0   \n",
       "1                                  0                                0   \n",
       "2                                  0                                0   \n",
       "3                                  0                                0   \n",
       "4                                  0                                0   \n",
       "\n",
       "   Labor_09 PENSIONISTA (LARGA ENFERMEDAD)  Marital_1 - SOLTERO  \\\n",
       "0                                        0                    0   \n",
       "1                                        0                    1   \n",
       "2                                        0                    0   \n",
       "3                                        0                    0   \n",
       "4                                        0                    0   \n",
       "\n",
       "   Marital_2 - CASADO  Marital_3 - VIUDO  Marital_4 - SEPARADO/DIVORCIADO  \\\n",
       "0                   1                  0                                0   \n",
       "1                   0                  0                                0   \n",
       "2                   1                  0                                0   \n",
       "3                   0                  0                                1   \n",
       "4                   1                  0                                0   \n",
       "\n",
       "   Marital_5 ? PAREJA DE HECHO  Marital_5 â PAREJA DE HECHO  \\\n",
       "0                            0                              0   \n",
       "1                            0                              0   \n",
       "2                            0                              0   \n",
       "3                            0                              0   \n",
       "4                            0                              0   \n",
       "\n",
       "   Provincia_Alicante  Provincia_Castellon  Provincia_Valencia  \\\n",
       "0                   0                    0                   1   \n",
       "1                   0                    0                   1   \n",
       "2                   0                    0                   1   \n",
       "3                   1                    0                   0   \n",
       "4                   0                    0                   1   \n",
       "\n",
       "   Nationality_AF - AFRICA MENOS MAGREB  Nationality_AJ - AUSTRALIA Y JAPON  \\\n",
       "0                                     0                                   0   \n",
       "1                                     0                                   0   \n",
       "2                                     0                                   0   \n",
       "3                                     0                                   0   \n",
       "4                                     0                                   0   \n",
       "\n",
       "   Nationality_AS - ASIA MENOS JAPON  Nationality_ES - ESPAÃOLA  \\\n",
       "0                                  0                           0   \n",
       "1                                  0                           0   \n",
       "2                                  0                           0   \n",
       "3                                  0                           0   \n",
       "4                                  0                           0   \n",
       "\n",
       "   Nationality_ES - ESPAÑOLA  Nationality_IB - IBEROAMERICA  \\\n",
       "0                          1                              0   \n",
       "1                          1                              0   \n",
       "2                          1                              0   \n",
       "3                          1                              0   \n",
       "4                          1                              0   \n",
       "\n",
       "   Nationality_MA - MAGREB  Nationality_OT - OTROS  \\\n",
       "0                        0                       0   \n",
       "1                        0                       0   \n",
       "2                        0                       0   \n",
       "3                        0                       0   \n",
       "4                        0                       0   \n",
       "\n",
       "   Nationality_RE - RESTO DE EUROPA  Nationality_UE - UNION EUROPEA  \\\n",
       "0                                 0                               0   \n",
       "1                                 0                               0   \n",
       "2                                 0                               0   \n",
       "3                                 0                               0   \n",
       "4                                 0                               0   \n",
       "\n",
       "   Nationality_US - USA / CANADA  \n",
       "0                              0  \n",
       "1                              0  \n",
       "2                              0  \n",
       "3                              0  \n",
       "4                              0  "
      ]
     },
     "execution_count": 46,
     "metadata": {},
     "output_type": "execute_result"
    }
   ],
   "source": [
    "dummy_df.head()"
   ]
  },
  {
   "cell_type": "code",
   "execution_count": 47,
   "metadata": {},
   "outputs": [],
   "source": [
    "X = dummy_df.drop(['Monitoring Status'],axis=1).values\n",
    "y = dummy_df['Monitoring Status'].values"
   ]
  },
  {
   "cell_type": "code",
   "execution_count": 48,
   "metadata": {},
   "outputs": [],
   "source": [
    "from sklearn.model_selection import train_test_split\n",
    "X_train, X_test, y_train, y_test = train_test_split(X, y, test_size = 0.2, random_state = 0, stratify = y)"
   ]
  },
  {
   "cell_type": "markdown",
   "metadata": {},
   "source": [
    "### Regresión Logística"
   ]
  },
  {
   "cell_type": "code",
   "execution_count": 49,
   "metadata": {},
   "outputs": [
    {
     "name": "stderr",
     "output_type": "stream",
     "text": [
      "C:\\Users\\alber\\anaconda3\\lib\\site-packages\\sklearn\\linear_model\\_logistic.py:763: ConvergenceWarning: lbfgs failed to converge (status=1):\n",
      "STOP: TOTAL NO. of ITERATIONS REACHED LIMIT.\n",
      "\n",
      "Increase the number of iterations (max_iter) or scale the data as shown in:\n",
      "    https://scikit-learn.org/stable/modules/preprocessing.html\n",
      "Please also refer to the documentation for alternative solver options:\n",
      "    https://scikit-learn.org/stable/modules/linear_model.html#logistic-regression\n",
      "  n_iter_i = _check_optimize_result(\n"
     ]
    }
   ],
   "source": [
    "from sklearn.linear_model import LogisticRegression\n",
    "\n",
    "classifier = LogisticRegression(random_state = 0, class_weight=\"balanced\")\n",
    "classifier.fit(X_train, y_train)\n",
    "\n",
    "y_pred = classifier.predict(X_test)"
   ]
  },
  {
   "cell_type": "code",
   "execution_count": 50,
   "metadata": {},
   "outputs": [
    {
     "name": "stdout",
     "output_type": "stream",
     "text": [
      "              precision    recall  f1-score   support\n",
      "\n",
      "           0       0.94      0.74      0.83      8629\n",
      "           1       0.21      0.60      0.31       993\n",
      "\n",
      "    accuracy                           0.73      9622\n",
      "   macro avg       0.58      0.67      0.57      9622\n",
      "weighted avg       0.87      0.73      0.78      9622\n",
      "\n"
     ]
    },
    {
     "data": {
      "image/png": "[encoded data removed]",
      "text/plain": [
       "<Figure size 432x288 with 2 Axes>"
      ]
     },
     "metadata": {
      "needs_background": "light"
     },
     "output_type": "display_data"
    }
   ],
   "source": [
    "from sklearn.metrics import confusion_matrix, classification_report\n",
    "cm = confusion_matrix(y_test, y_pred)\n",
    "\n",
    "print(classification_report(y_test,y_pred))\n",
    "plot_confusion_matrix(cm, classes=class_names, title='Confusion matrix')"
   ]
  },
  {
   "cell_type": "code",
   "execution_count": 51,
   "metadata": {},
   "outputs": [
    {
     "name": "stderr",
     "output_type": "stream",
     "text": [
      "C:\\Users\\alber\\anaconda3\\lib\\site-packages\\sklearn\\linear_model\\_logistic.py:763: ConvergenceWarning: lbfgs failed to converge (status=1):\n",
      "STOP: TOTAL NO. of ITERATIONS REACHED LIMIT.\n",
      "\n",
      "Increase the number of iterations (max_iter) or scale the data as shown in:\n",
      "    https://scikit-learn.org/stable/modules/preprocessing.html\n",
      "Please also refer to the documentation for alternative solver options:\n",
      "    https://scikit-learn.org/stable/modules/linear_model.html#logistic-regression\n",
      "  n_iter_i = _check_optimize_result(\n"
     ]
    },
    {
     "data": {
      "text/plain": [
       "(0.7335384103757898, 0.3296381510144321, 0.7502265423441149)"
      ]
     },
     "execution_count": 51,
     "metadata": {},
     "output_type": "execute_result"
    },
    {
     "data": {
      "image/png": "[encoded data removed]",
      "text/plain": [
       "<Figure size 576x432 with 1 Axes>"
      ]
     },
     "metadata": {
      "needs_background": "light"
     },
     "output_type": "display_data"
    }
   ],
   "source": [
    "evaluate(classifier, X, y)"
   ]
  },
  {
   "cell_type": "code",
   "execution_count": 52,
   "metadata": {},
   "outputs": [
    {
     "name": "stdout",
     "output_type": "stream",
     "text": [
      "Average precision-recall score: 0.17\n"
     ]
    },
    {
     "data": {
      "text/plain": [
       "Text(0.5, 1.0, '2-class Precision-Recall curve: AP=0.17')"
      ]
     },
     "execution_count": 52,
     "metadata": {},
     "output_type": "execute_result"
    },
    {
     "data": {
      "image/png": "[encoded data removed]",
      "text/plain": [
       "<Figure size 432x288 with 1 Axes>"
      ]
     },
     "metadata": {
      "needs_background": "light"
     },
     "output_type": "display_data"
    }
   ],
   "source": [
    "from sklearn.metrics import precision_recall_curve\n",
    "from sklearn.metrics import plot_precision_recall_curve\n",
    "from sklearn.metrics import average_precision_score\n",
    "\n",
    "average_precision = average_precision_score(y_test, y_pred)\n",
    "\n",
    "print('Average precision-recall score: {0:0.2f}'.format(average_precision))\n",
    "\n",
    "disp = plot_precision_recall_curve(classifier, X_test, y_test)\n",
    "disp.ax_.set_title('2-class Precision-Recall curve: '\n",
    "                   'AP={0:0.2f}'.format(average_precision))"
   ]
  },
  {
   "cell_type": "markdown",
   "metadata": {},
   "source": [
    "### KNN"
   ]
  },
  {
   "cell_type": "code",
   "execution_count": 53,
   "metadata": {},
   "outputs": [],
   "source": [
    "from sklearn.neighbors import KNeighborsClassifier"
   ]
  },
  {
   "cell_type": "code",
   "execution_count": 54,
   "metadata": {},
   "outputs": [
    {
     "data": {
      "text/plain": [
       "GridSearchCV(estimator=KNeighborsClassifier(),\n",
       "             param_grid={'n_neighbors': array([2, 3, 4, 5, 6, 7, 8, 9])},\n",
       "             scoring='recall')"
      ]
     },
     "execution_count": 54,
     "metadata": {},
     "output_type": "execute_result"
    }
   ],
   "source": [
    "# Don´t do this!!!\n",
    "\n",
    "from sklearn.model_selection import GridSearchCV\n",
    "\n",
    "classifier = GridSearchCV(KNeighborsClassifier(),\n",
    "                      param_grid = {'n_neighbors':np.arange(2,10)},\n",
    "                      scoring = 'recall')\n",
    "\n",
    "classifier.fit(X_train, y_train)"
   ]
  },
  {
   "cell_type": "code",
   "execution_count": 55,
   "metadata": {},
   "outputs": [
    {
     "data": {
      "text/plain": [
       "{'n_neighbors': 3}"
      ]
     },
     "execution_count": 55,
     "metadata": {},
     "output_type": "execute_result"
    }
   ],
   "source": [
    "classifier.best_params_"
   ]
  },
  {
   "cell_type": "code",
   "execution_count": 56,
   "metadata": {},
   "outputs": [
    {
     "data": {
      "text/plain": [
       "KNeighborsClassifier(n_neighbors=3)"
      ]
     },
     "execution_count": 56,
     "metadata": {},
     "output_type": "execute_result"
    }
   ],
   "source": [
    "classifier = KNeighborsClassifier(n_neighbors = 3)\n",
    "classifier.fit(X_train, y_train)"
   ]
  },
  {
   "cell_type": "code",
   "execution_count": 57,
   "metadata": {},
   "outputs": [],
   "source": [
    "y_pred = classifier.predict(X_test)"
   ]
  },
  {
   "cell_type": "code",
   "execution_count": 58,
   "metadata": {},
   "outputs": [
    {
     "data": {
      "image/png": "[encoded data removed]",
      "text/plain": [
       "<Figure size 432x288 with 2 Axes>"
      ]
     },
     "metadata": {
      "needs_background": "light"
     },
     "output_type": "display_data"
    }
   ],
   "source": [
    "from sklearn.metrics import confusion_matrix, classification_report\n",
    "cm = confusion_matrix(y_test, y_pred)\n",
    "\n",
    "plot_confusion_matrix(cm, classes=class_names, title='Confusion matrix')"
   ]
  },
  {
   "cell_type": "code",
   "execution_count": 59,
   "metadata": {},
   "outputs": [
    {
     "name": "stdout",
     "output_type": "stream",
     "text": [
      "              precision    recall  f1-score   support\n",
      "\n",
      "           0       0.91      0.94      0.92      8629\n",
      "           1       0.24      0.17      0.20       993\n",
      "\n",
      "    accuracy                           0.86      9622\n",
      "   macro avg       0.57      0.55      0.56      9622\n",
      "weighted avg       0.84      0.86      0.85      9622\n",
      "\n"
     ]
    }
   ],
   "source": [
    "print(classification_report(y_test,y_pred))"
   ]
  },
  {
   "cell_type": "code",
   "execution_count": 60,
   "metadata": {},
   "outputs": [
    {
     "data": {
      "text/plain": [
       "(0.874792151646159, 0.16795580110497238, 0.6097584440639456)"
      ]
     },
     "execution_count": 60,
     "metadata": {},
     "output_type": "execute_result"
    },
    {
     "data": {
      "image/png": "[encoded data removed]",
      "text/plain": [
       "<Figure size 576x432 with 1 Axes>"
      ]
     },
     "metadata": {
      "needs_background": "light"
     },
     "output_type": "display_data"
    }
   ],
   "source": [
    "evaluate(classifier, X, y)"
   ]
  },
  {
   "cell_type": "code",
   "execution_count": 61,
   "metadata": {},
   "outputs": [
    {
     "name": "stdout",
     "output_type": "stream",
     "text": [
      "Average precision-recall score: 0.13\n"
     ]
    },
    {
     "data": {
      "text/plain": [
       "Text(0.5, 1.0, '2-class Precision-Recall curve: AP=0.13')"
      ]
     },
     "execution_count": 61,
     "metadata": {},
     "output_type": "execute_result"
    },
    {
     "data": {
      "image/png": "[encoded data removed]",
      "text/plain": [
       "<Figure size 432x288 with 1 Axes>"
      ]
     },
     "metadata": {
      "needs_background": "light"
     },
     "output_type": "display_data"
    }
   ],
   "source": [
    "average_precision = average_precision_score(y_test, y_pred)\n",
    "\n",
    "print('Average precision-recall score: {0:0.2f}'.format(average_precision))\n",
    "\n",
    "disp = plot_precision_recall_curve(classifier, X_test, y_test)\n",
    "disp.ax_.set_title('2-class Precision-Recall curve: '\n",
    "                   'AP={0:0.2f}'.format(average_precision))"
   ]
  },
  {
   "cell_type": "markdown",
   "metadata": {},
   "source": [
    "### Decission Tree Classifier"
   ]
  },
  {
   "cell_type": "code",
   "execution_count": 62,
   "metadata": {},
   "outputs": [
    {
     "name": "stdout",
     "output_type": "stream",
     "text": [
      "Decision Tree Accuracy is 0.72\n",
      "Cross Validation Score = 0.72\n",
      "              precision    recall  f1-score   support\n",
      "\n",
      "           0       0.94      0.74      0.83      8629\n",
      "           1       0.21      0.62      0.32       993\n",
      "\n",
      "    accuracy                           0.72      9622\n",
      "   macro avg       0.58      0.68      0.57      9622\n",
      "weighted avg       0.87      0.72      0.77      9622\n",
      "\n"
     ]
    },
    {
     "data": {
      "image/png": "[encoded data removed]",
      "text/plain": [
       "<Figure size 432x288 with 2 Axes>"
      ]
     },
     "metadata": {
      "needs_background": "light"
     },
     "output_type": "display_data"
    }
   ],
   "source": [
    "from sklearn.tree import DecisionTreeClassifier\n",
    "from sklearn.model_selection import cross_val_score\n",
    "\n",
    "DT = DecisionTreeClassifier(random_state = 0,class_weight=\"balanced\", min_weight_fraction_leaf=0.01)\n",
    "DT = DT.fit(X_train,y_train)\n",
    "print (\"Decision Tree Accuracy is %2.2f\" % accuracy_score(y_test, DT.predict(X_test)))\n",
    "\n",
    "score_DT = cross_val_score(DT, X, y, cv=10).mean()\n",
    "print(\"Cross Validation Score = %2.2f\" % score_DT)\n",
    "\n",
    "y_pred = DT.predict(X_test)\n",
    "print(classification_report(y_test, y_pred))\n",
    "\n",
    "cm = confusion_matrix(y_test,y_pred)\n",
    "plot_confusion_matrix(cm, classes=class_names, title='Confusion matrix')"
   ]
  },
  {
   "cell_type": "code",
   "execution_count": 63,
   "metadata": {},
   "outputs": [
    {
     "data": {
      "text/plain": [
       "(0.7138343864316594, 0.32668231611893583, 0.7402516061558152)"
      ]
     },
     "execution_count": 63,
     "metadata": {},
     "output_type": "execute_result"
    },
    {
     "data": {
      "image/png": "[encoded data removed]",
      "text/plain": [
       "<Figure size 576x432 with 1 Axes>"
      ]
     },
     "metadata": {
      "needs_background": "light"
     },
     "output_type": "display_data"
    }
   ],
   "source": [
    "evaluate(DT, X, y)"
   ]
  },
  {
   "cell_type": "code",
   "execution_count": 64,
   "metadata": {},
   "outputs": [
    {
     "name": "stdout",
     "output_type": "stream",
     "text": [
      "Average precision-recall score: 0.17\n"
     ]
    },
    {
     "data": {
      "text/plain": [
       "Text(0.5, 1.0, '2-class Precision-Recall curve: AP=0.17')"
      ]
     },
     "execution_count": 64,
     "metadata": {},
     "output_type": "execute_result"
    },
    {
     "data": {
      "image/png": "[encoded data removed]",
      "text/plain": [
       "<Figure size 432x288 with 1 Axes>"
      ]
     },
     "metadata": {
      "needs_background": "light"
     },
     "output_type": "display_data"
    }
   ],
   "source": [
    "average_precision = average_precision_score(y_test, y_pred)\n",
    "\n",
    "print('Average precision-recall score: {0:0.2f}'.format(average_precision))\n",
    "\n",
    "disp = plot_precision_recall_curve(DT, X_test, y_test)\n",
    "disp.ax_.set_title('2-class Precision-Recall curve: '\n",
    "                   'AP={0:0.2f}'.format(average_precision))"
   ]
  },
  {
   "cell_type": "markdown",
   "metadata": {},
   "source": [
    "### Random Forest Classifier"
   ]
  },
  {
   "cell_type": "code",
   "execution_count": 65,
   "metadata": {},
   "outputs": [
    {
     "name": "stdout",
     "output_type": "stream",
     "text": [
      "Random Forest Accuracy is 0.74\n",
      "Cross Validation Score = 0.74\n",
      "              precision    recall  f1-score   support\n",
      "\n",
      "           0       0.94      0.77      0.84      8629\n",
      "           1       0.21      0.55      0.31       993\n",
      "\n",
      "    accuracy                           0.74      9622\n",
      "   macro avg       0.57      0.66      0.57      9622\n",
      "weighted avg       0.86      0.74      0.79      9622\n",
      "\n"
     ]
    },
    {
     "data": {
      "image/png": "[encoded data removed]",
      "text/plain": [
       "<Figure size 432x288 with 2 Axes>"
      ]
     },
     "metadata": {
      "needs_background": "light"
     },
     "output_type": "display_data"
    }
   ],
   "source": [
    "from sklearn.ensemble import RandomForestClassifier\n",
    "\n",
    "rfc = RandomForestClassifier(n_estimators=100, max_depth=None, min_samples_split=10,class_weight=\"balanced\")\n",
    "rfc.fit(X_train, y_train)\n",
    "print (\"Random Forest Accuracy is %2.2f\" % accuracy_score(y_test, rfc.predict(X_test)))\n",
    "\n",
    "score_rfc = cross_val_score(rfc, X, y, cv=10).mean()\n",
    "print(\"Cross Validation Score = %2.2f\" % score_rfc)\n",
    "\n",
    "y_pred = rfc.predict(X_test)\n",
    "print(classification_report(y_test,y_pred ))\n",
    "\n",
    "cm = confusion_matrix(y_test,y_pred)\n",
    "plot_confusion_matrix(cm, classes=class_names, title='Confusion matrix')"
   ]
  },
  {
   "cell_type": "code",
   "execution_count": 66,
   "metadata": {},
   "outputs": [
    {
     "data": {
      "text/plain": [
       "(0.7499168606584636, 0.33303769401330374, 0.7220875825681038)"
      ]
     },
     "execution_count": 66,
     "metadata": {},
     "output_type": "execute_result"
    },
    {
     "data": {
      "image/png": "[encoded data removed]",
      "text/plain": [
       "<Figure size 576x432 with 1 Axes>"
      ]
     },
     "metadata": {
      "needs_background": "light"
     },
     "output_type": "display_data"
    }
   ],
   "source": [
    "evaluate(rfc, X, y)"
   ]
  },
  {
   "cell_type": "code",
   "execution_count": 67,
   "metadata": {},
   "outputs": [
    {
     "name": "stdout",
     "output_type": "stream",
     "text": [
      "Average precision-recall score: 0.16\n"
     ]
    },
    {
     "data": {
      "text/plain": [
       "Text(0.5, 1.0, '2-class Precision-Recall curve: AP=0.16')"
      ]
     },
     "execution_count": 67,
     "metadata": {},
     "output_type": "execute_result"
    },
    {
     "data": {
      "image/png": "[encoded data removed]",
      "text/plain": [
       "<Figure size 432x288 with 1 Axes>"
      ]
     },
     "metadata": {
      "needs_background": "light"
     },
     "output_type": "display_data"
    }
   ],
   "source": [
    "average_precision = average_precision_score(y_test, y_pred)\n",
    "\n",
    "print('Average precision-recall score: {0:0.2f}'.format(average_precision))\n",
    "\n",
    "disp = plot_precision_recall_curve(rfc, X_test, y_test)\n",
    "disp.ax_.set_title('2-class Precision-Recall curve: '\n",
    "                   'AP={0:0.2f}'.format(average_precision))"
   ]
  },
  {
   "cell_type": "code",
   "execution_count": null,
   "metadata": {},
   "outputs": [],
   "source": []
  }
 ],
 "metadata": {
  "kernelspec": {
   "display_name": "Python 3",
   "language": "python",
   "name": "python3"
  },
  "language_info": {
   "codemirror_mode": {
    "name": "ipython",
    "version": 3
   },
   "file_extension": ".py",
   "mimetype": "text/x-python",
   "name": "python",
   "nbconvert_exporter": "python",
   "pygments_lexer": "ipython3",
   "version": "3.8.3"
  }
 },
 "nbformat": 4,
 "nbformat_minor": 4
}
