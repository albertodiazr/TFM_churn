{
 "cells": [
  {
   "cell_type": "markdown",
   "metadata": {},
   "source": [
    "# Main models\n",
    "\n",
    "<img src=\"../images/05.jpg\" width=\"600\"/>\n",
    "\n",
    "Modelos utilizando todo el data.\n",
    "\n",
    "- [Seguir a partir del checkpoint](#item1)"
   ]
  },
  {
   "cell_type": "code",
   "execution_count": 22,
   "metadata": {},
   "outputs": [],
   "source": [
    "import pandas as pd\n",
    "import numpy as np\n",
    "import matplotlib.pyplot as plt\n",
    "import seaborn as sns\n",
    "import itertools\n",
    "import datetime as dt\n",
    "from sklearn.preprocessing import MinMaxScaler\n",
    "from tools import dataoveriew, plot_roc_curve, plot_confusion_matrix\n",
    "from datetime import datetime\n",
    "from sklearn.model_selection import cross_val_score, StratifiedKFold\n",
    "from sklearn.metrics import confusion_matrix, classification_report, precision_recall_curve, plot_precision_recall_curve\n",
    "from sklearn.metrics import accuracy_score, f1_score, roc_auc_score, roc_curve, average_precision_score\n",
    "from sklearn.model_selection import train_test_split\n",
    "from sklearn.model_selection import GridSearchCV\n",
    "import pickle\n",
    "\n",
    "# Using Activo and Baja for 0 and 1    \n",
    "class_names = ['Activo','Baja']\n",
    "\n",
    "pd.options.display.max_columns = None\n",
    "\n",
    "%matplotlib inline"
   ]
  },
  {
   "cell_type": "code",
   "execution_count": 2,
   "metadata": {},
   "outputs": [
    {
     "data": {
      "text/html": [
       "<div>\n",
       "<style scoped>\n",
       "    .dataframe tbody tr th:only-of-type {\n",
       "        vertical-align: middle;\n",
       "    }\n",
       "\n",
       "    .dataframe tbody tr th {\n",
       "        vertical-align: top;\n",
       "    }\n",
       "\n",
       "    .dataframe thead th {\n",
       "        text-align: right;\n",
       "    }\n",
       "</style>\n",
       "<table border=\"1\" class=\"dataframe\">\n",
       "  <thead>\n",
       "    <tr style=\"text-align: right;\">\n",
       "      <th></th>\n",
       "      <th>Fecha Alta</th>\n",
       "      <th>Cliente</th>\n",
       "      <th>Modelo Caldera</th>\n",
       "      <th>Provincia</th>\n",
       "      <th>Gender</th>\n",
       "      <th>Pais</th>\n",
       "      <th>Born Date</th>\n",
       "      <th>Tipo Propiedad</th>\n",
       "      <th>Situacion Laboral</th>\n",
       "      <th>Estado Civil</th>\n",
       "      <th>Ingresos</th>\n",
       "      <th>Pagos Anuales</th>\n",
       "      <th>Fecha Estado</th>\n",
       "      <th>Estado</th>\n",
       "      <th>Tipo Inmueble</th>\n",
       "      <th>Financiado</th>\n",
       "      <th>Precio Contado</th>\n",
       "      <th>Precio Total</th>\n",
       "      <th>Quejas</th>\n",
       "      <th>Incidencias</th>\n",
       "      <th>Consumo Mes</th>\n",
       "    </tr>\n",
       "  </thead>\n",
       "  <tbody>\n",
       "    <tr>\n",
       "      <th>0</th>\n",
       "      <td>2014-01-01</td>\n",
       "      <td>1</td>\n",
       "      <td>Biasi</td>\n",
       "      <td>Granada</td>\n",
       "      <td>Hombre</td>\n",
       "      <td>España</td>\n",
       "      <td>1959-09-02</td>\n",
       "      <td>Propiedad Parcial</td>\n",
       "      <td>Trabajo Fijo</td>\n",
       "      <td>Casado</td>\n",
       "      <td>2000</td>\n",
       "      <td>13</td>\n",
       "      <td>2018-06-29</td>\n",
       "      <td>1</td>\n",
       "      <td>Casa</td>\n",
       "      <td>Financiado</td>\n",
       "      <td>Promo 0 EUR</td>\n",
       "      <td>399</td>\n",
       "      <td>0</td>\n",
       "      <td>0</td>\n",
       "      <td>622.81</td>\n",
       "    </tr>\n",
       "    <tr>\n",
       "      <th>1</th>\n",
       "      <td>2014-01-01</td>\n",
       "      <td>2</td>\n",
       "      <td>Biasi</td>\n",
       "      <td>Barcelona</td>\n",
       "      <td>Mujer</td>\n",
       "      <td>España</td>\n",
       "      <td>1971-04-15</td>\n",
       "      <td>Familiar</td>\n",
       "      <td>Parado</td>\n",
       "      <td>Divorciado</td>\n",
       "      <td>600</td>\n",
       "      <td>12</td>\n",
       "      <td>2014-01-01</td>\n",
       "      <td>0</td>\n",
       "      <td>Piso</td>\n",
       "      <td>Financiado</td>\n",
       "      <td>0 - 100 EUR</td>\n",
       "      <td>399</td>\n",
       "      <td>12</td>\n",
       "      <td>4</td>\n",
       "      <td>42.40</td>\n",
       "    </tr>\n",
       "    <tr>\n",
       "      <th>2</th>\n",
       "      <td>2014-01-01</td>\n",
       "      <td>3</td>\n",
       "      <td>Biasi</td>\n",
       "      <td>Madrid</td>\n",
       "      <td>Hombre</td>\n",
       "      <td>España</td>\n",
       "      <td>1968-02-10</td>\n",
       "      <td>Propiedad Total</td>\n",
       "      <td>Trabajo Fijo</td>\n",
       "      <td>Divorciado</td>\n",
       "      <td>2500</td>\n",
       "      <td>14</td>\n",
       "      <td>2014-01-01</td>\n",
       "      <td>0</td>\n",
       "      <td>Piso</td>\n",
       "      <td>Financiado</td>\n",
       "      <td>100 - 200 EUR</td>\n",
       "      <td>499</td>\n",
       "      <td>0</td>\n",
       "      <td>0</td>\n",
       "      <td>68.34</td>\n",
       "    </tr>\n",
       "    <tr>\n",
       "      <th>3</th>\n",
       "      <td>2014-01-01</td>\n",
       "      <td>4</td>\n",
       "      <td>Biasi</td>\n",
       "      <td>Sevilla</td>\n",
       "      <td>Mujer</td>\n",
       "      <td>España</td>\n",
       "      <td>1968-12-22</td>\n",
       "      <td>Propiedad Parcial</td>\n",
       "      <td>Autonomo</td>\n",
       "      <td>Casado</td>\n",
       "      <td>1800</td>\n",
       "      <td>12</td>\n",
       "      <td>2014-01-01</td>\n",
       "      <td>0</td>\n",
       "      <td>Casa</td>\n",
       "      <td>Financiado</td>\n",
       "      <td>0 - 100 EUR</td>\n",
       "      <td>399</td>\n",
       "      <td>2</td>\n",
       "      <td>0</td>\n",
       "      <td>304.10</td>\n",
       "    </tr>\n",
       "    <tr>\n",
       "      <th>4</th>\n",
       "      <td>2014-01-01</td>\n",
       "      <td>5</td>\n",
       "      <td>Biasi</td>\n",
       "      <td>Barcelona</td>\n",
       "      <td>Hombre</td>\n",
       "      <td>España</td>\n",
       "      <td>1977-02-22</td>\n",
       "      <td>Propiedad Parcial</td>\n",
       "      <td>Autonomo</td>\n",
       "      <td>Casado</td>\n",
       "      <td>1500</td>\n",
       "      <td>12</td>\n",
       "      <td>2014-01-01</td>\n",
       "      <td>0</td>\n",
       "      <td>Tienda</td>\n",
       "      <td>Financiado</td>\n",
       "      <td>100 - 200 EUR</td>\n",
       "      <td>499</td>\n",
       "      <td>0</td>\n",
       "      <td>0</td>\n",
       "      <td>84.33</td>\n",
       "    </tr>\n",
       "  </tbody>\n",
       "</table>\n",
       "</div>"
      ],
      "text/plain": [
       "  Fecha Alta Cliente Modelo Caldera  Provincia  Gender    Pais  Born Date  \\\n",
       "0 2014-01-01       1         Biasi     Granada  Hombre  España 1959-09-02   \n",
       "1 2014-01-01       2         Biasi   Barcelona   Mujer  España 1971-04-15   \n",
       "2 2014-01-01       3         Biasi      Madrid  Hombre  España 1968-02-10   \n",
       "3 2014-01-01       4         Biasi     Sevilla   Mujer  España 1968-12-22   \n",
       "4 2014-01-01       5         Biasi   Barcelona  Hombre  España 1977-02-22   \n",
       "\n",
       "      Tipo Propiedad Situacion Laboral Estado Civil  Ingresos  Pagos Anuales  \\\n",
       "0  Propiedad Parcial      Trabajo Fijo       Casado      2000             13   \n",
       "1           Familiar            Parado   Divorciado       600             12   \n",
       "2    Propiedad Total      Trabajo Fijo   Divorciado      2500             14   \n",
       "3  Propiedad Parcial          Autonomo       Casado      1800             12   \n",
       "4  Propiedad Parcial          Autonomo       Casado      1500             12   \n",
       "\n",
       "  Fecha Estado  Estado Tipo Inmueble  Financiado Precio Contado  Precio Total  \\\n",
       "0   2018-06-29       1          Casa  Financiado    Promo 0 EUR           399   \n",
       "1   2014-01-01       0          Piso  Financiado    0 - 100 EUR           399   \n",
       "2   2014-01-01       0          Piso  Financiado  100 - 200 EUR           499   \n",
       "3   2014-01-01       0          Casa  Financiado    0 - 100 EUR           399   \n",
       "4   2014-01-01       0        Tienda  Financiado  100 - 200 EUR           499   \n",
       "\n",
       "   Quejas  Incidencias  Consumo Mes  \n",
       "0       0            0       622.81  \n",
       "1      12            4        42.40  \n",
       "2       0            0        68.34  \n",
       "3       2            0       304.10  \n",
       "4       0            0        84.33  "
      ]
     },
     "execution_count": 2,
     "metadata": {},
     "output_type": "execute_result"
    }
   ],
   "source": [
    "data = pd.read_excel('../data/portfolio.xlsx')\n",
    "\n",
    "data['Cliente'] = data['Cliente'].astype('str')\n",
    "data['Quejas'] = data['Quejas'].replace(np.nan, 0).astype('int')\n",
    "data['Estado'] = data['Estado'].astype('str').str.strip()\n",
    "data['Estado'] = data['Estado'].replace({'ACTIVO': 0, 'BAJA': 1}).astype(int)\n",
    "\n",
    "data.head()"
   ]
  },
  {
   "cell_type": "code",
   "execution_count": 3,
   "metadata": {},
   "outputs": [
    {
     "data": {
      "text/plain": [
       "(482727, 21)"
      ]
     },
     "execution_count": 3,
     "metadata": {},
     "output_type": "execute_result"
    }
   ],
   "source": [
    "data.shape"
   ]
  },
  {
   "cell_type": "markdown",
   "metadata": {},
   "source": [
    "## Feature engineering\n",
    "\n",
    "- Edad en Años\n",
    "- Rango de Ingresos\n",
    "- Días Activo escalado\n",
    "- Escalado de 'Quejas', Incidencias y Consumo Mes"
   ]
  },
  {
   "cell_type": "markdown",
   "metadata": {},
   "source": [
    "Rangos de Edad:"
   ]
  },
  {
   "cell_type": "code",
   "execution_count": 4,
   "metadata": {},
   "outputs": [
    {
     "data": {
      "text/plain": [
       "Index(['Fecha Alta', 'Cliente', 'Modelo Caldera', 'Provincia', 'Gender',\n",
       "       'Pais', 'Born Date', 'Tipo Propiedad', 'Situacion Laboral',\n",
       "       'Estado Civil', 'Ingresos', 'Pagos Anuales', 'Fecha Estado', 'Estado',\n",
       "       'Tipo Inmueble', 'Financiado', 'Precio Contado', 'Precio Total',\n",
       "       'Quejas', 'Incidencias', 'Consumo Mes'],\n",
       "      dtype='object')"
      ]
     },
     "execution_count": 4,
     "metadata": {},
     "output_type": "execute_result"
    }
   ],
   "source": [
    "data.columns"
   ]
  },
  {
   "cell_type": "code",
   "execution_count": 5,
   "metadata": {
    "scrolled": true
   },
   "outputs": [
    {
     "data": {
      "text/plain": [
       "1744"
      ]
     },
     "execution_count": 5,
     "metadata": {},
     "output_type": "execute_result"
    }
   ],
   "source": [
    "data['Born Date'].isnull().sum()"
   ]
  },
  {
   "cell_type": "code",
   "execution_count": 6,
   "metadata": {},
   "outputs": [
    {
     "data": {
      "text/html": [
       "<div>\n",
       "<style scoped>\n",
       "    .dataframe tbody tr th:only-of-type {\n",
       "        vertical-align: middle;\n",
       "    }\n",
       "\n",
       "    .dataframe tbody tr th {\n",
       "        vertical-align: top;\n",
       "    }\n",
       "\n",
       "    .dataframe thead th {\n",
       "        text-align: right;\n",
       "    }\n",
       "</style>\n",
       "<table border=\"1\" class=\"dataframe\">\n",
       "  <thead>\n",
       "    <tr style=\"text-align: right;\">\n",
       "      <th></th>\n",
       "      <th>Fecha Alta</th>\n",
       "      <th>Cliente</th>\n",
       "      <th>Modelo Caldera</th>\n",
       "      <th>Provincia</th>\n",
       "      <th>Gender</th>\n",
       "      <th>Pais</th>\n",
       "      <th>Born Date</th>\n",
       "      <th>Tipo Propiedad</th>\n",
       "      <th>Situacion Laboral</th>\n",
       "      <th>Estado Civil</th>\n",
       "      <th>Ingresos</th>\n",
       "      <th>Pagos Anuales</th>\n",
       "      <th>Fecha Estado</th>\n",
       "      <th>Estado</th>\n",
       "      <th>Tipo Inmueble</th>\n",
       "      <th>Financiado</th>\n",
       "      <th>Precio Contado</th>\n",
       "      <th>Precio Total</th>\n",
       "      <th>Quejas</th>\n",
       "      <th>Incidencias</th>\n",
       "      <th>Consumo Mes</th>\n",
       "    </tr>\n",
       "  </thead>\n",
       "  <tbody>\n",
       "    <tr>\n",
       "      <th>0</th>\n",
       "      <td>2014-01-01</td>\n",
       "      <td>1</td>\n",
       "      <td>Biasi</td>\n",
       "      <td>Granada</td>\n",
       "      <td>Hombre</td>\n",
       "      <td>España</td>\n",
       "      <td>1959-09-02</td>\n",
       "      <td>Propiedad Parcial</td>\n",
       "      <td>Trabajo Fijo</td>\n",
       "      <td>Casado</td>\n",
       "      <td>2000</td>\n",
       "      <td>13</td>\n",
       "      <td>2018-06-29</td>\n",
       "      <td>1</td>\n",
       "      <td>Casa</td>\n",
       "      <td>Financiado</td>\n",
       "      <td>Promo 0 EUR</td>\n",
       "      <td>399</td>\n",
       "      <td>0</td>\n",
       "      <td>0</td>\n",
       "      <td>622.81</td>\n",
       "    </tr>\n",
       "    <tr>\n",
       "      <th>1</th>\n",
       "      <td>2014-01-01</td>\n",
       "      <td>2</td>\n",
       "      <td>Biasi</td>\n",
       "      <td>Barcelona</td>\n",
       "      <td>Mujer</td>\n",
       "      <td>España</td>\n",
       "      <td>1971-04-15</td>\n",
       "      <td>Familiar</td>\n",
       "      <td>Parado</td>\n",
       "      <td>Divorciado</td>\n",
       "      <td>600</td>\n",
       "      <td>12</td>\n",
       "      <td>2014-01-01</td>\n",
       "      <td>0</td>\n",
       "      <td>Piso</td>\n",
       "      <td>Financiado</td>\n",
       "      <td>0 - 100 EUR</td>\n",
       "      <td>399</td>\n",
       "      <td>12</td>\n",
       "      <td>4</td>\n",
       "      <td>42.40</td>\n",
       "    </tr>\n",
       "    <tr>\n",
       "      <th>2</th>\n",
       "      <td>2014-01-01</td>\n",
       "      <td>3</td>\n",
       "      <td>Biasi</td>\n",
       "      <td>Madrid</td>\n",
       "      <td>Hombre</td>\n",
       "      <td>España</td>\n",
       "      <td>1968-02-10</td>\n",
       "      <td>Propiedad Total</td>\n",
       "      <td>Trabajo Fijo</td>\n",
       "      <td>Divorciado</td>\n",
       "      <td>2500</td>\n",
       "      <td>14</td>\n",
       "      <td>2014-01-01</td>\n",
       "      <td>0</td>\n",
       "      <td>Piso</td>\n",
       "      <td>Financiado</td>\n",
       "      <td>100 - 200 EUR</td>\n",
       "      <td>499</td>\n",
       "      <td>0</td>\n",
       "      <td>0</td>\n",
       "      <td>68.34</td>\n",
       "    </tr>\n",
       "    <tr>\n",
       "      <th>3</th>\n",
       "      <td>2014-01-01</td>\n",
       "      <td>4</td>\n",
       "      <td>Biasi</td>\n",
       "      <td>Sevilla</td>\n",
       "      <td>Mujer</td>\n",
       "      <td>España</td>\n",
       "      <td>1968-12-22</td>\n",
       "      <td>Propiedad Parcial</td>\n",
       "      <td>Autonomo</td>\n",
       "      <td>Casado</td>\n",
       "      <td>1800</td>\n",
       "      <td>12</td>\n",
       "      <td>2014-01-01</td>\n",
       "      <td>0</td>\n",
       "      <td>Casa</td>\n",
       "      <td>Financiado</td>\n",
       "      <td>0 - 100 EUR</td>\n",
       "      <td>399</td>\n",
       "      <td>2</td>\n",
       "      <td>0</td>\n",
       "      <td>304.10</td>\n",
       "    </tr>\n",
       "    <tr>\n",
       "      <th>4</th>\n",
       "      <td>2014-01-01</td>\n",
       "      <td>5</td>\n",
       "      <td>Biasi</td>\n",
       "      <td>Barcelona</td>\n",
       "      <td>Hombre</td>\n",
       "      <td>España</td>\n",
       "      <td>1977-02-22</td>\n",
       "      <td>Propiedad Parcial</td>\n",
       "      <td>Autonomo</td>\n",
       "      <td>Casado</td>\n",
       "      <td>1500</td>\n",
       "      <td>12</td>\n",
       "      <td>2014-01-01</td>\n",
       "      <td>0</td>\n",
       "      <td>Tienda</td>\n",
       "      <td>Financiado</td>\n",
       "      <td>100 - 200 EUR</td>\n",
       "      <td>499</td>\n",
       "      <td>0</td>\n",
       "      <td>0</td>\n",
       "      <td>84.33</td>\n",
       "    </tr>\n",
       "  </tbody>\n",
       "</table>\n",
       "</div>"
      ],
      "text/plain": [
       "  Fecha Alta Cliente Modelo Caldera  Provincia  Gender    Pais  Born Date  \\\n",
       "0 2014-01-01       1         Biasi     Granada  Hombre  España 1959-09-02   \n",
       "1 2014-01-01       2         Biasi   Barcelona   Mujer  España 1971-04-15   \n",
       "2 2014-01-01       3         Biasi      Madrid  Hombre  España 1968-02-10   \n",
       "3 2014-01-01       4         Biasi     Sevilla   Mujer  España 1968-12-22   \n",
       "4 2014-01-01       5         Biasi   Barcelona  Hombre  España 1977-02-22   \n",
       "\n",
       "      Tipo Propiedad Situacion Laboral Estado Civil  Ingresos  Pagos Anuales  \\\n",
       "0  Propiedad Parcial      Trabajo Fijo       Casado      2000             13   \n",
       "1           Familiar            Parado   Divorciado       600             12   \n",
       "2    Propiedad Total      Trabajo Fijo   Divorciado      2500             14   \n",
       "3  Propiedad Parcial          Autonomo       Casado      1800             12   \n",
       "4  Propiedad Parcial          Autonomo       Casado      1500             12   \n",
       "\n",
       "  Fecha Estado  Estado Tipo Inmueble  Financiado Precio Contado  Precio Total  \\\n",
       "0   2018-06-29       1          Casa  Financiado    Promo 0 EUR           399   \n",
       "1   2014-01-01       0          Piso  Financiado    0 - 100 EUR           399   \n",
       "2   2014-01-01       0          Piso  Financiado  100 - 200 EUR           499   \n",
       "3   2014-01-01       0          Casa  Financiado    0 - 100 EUR           399   \n",
       "4   2014-01-01       0        Tienda  Financiado  100 - 200 EUR           499   \n",
       "\n",
       "   Quejas  Incidencias  Consumo Mes  \n",
       "0       0            0       622.81  \n",
       "1      12            4        42.40  \n",
       "2       0            0        68.34  \n",
       "3       2            0       304.10  \n",
       "4       0            0        84.33  "
      ]
     },
     "execution_count": 6,
     "metadata": {},
     "output_type": "execute_result"
    }
   ],
   "source": [
    "data['Born Date'] = data['Born Date'].replace(np.nan, datetime(1970, 1, 1))\n",
    "\n",
    "data.head()"
   ]
  },
  {
   "cell_type": "code",
   "execution_count": 7,
   "metadata": {},
   "outputs": [
    {
     "data": {
      "text/plain": [
       "0"
      ]
     },
     "execution_count": 7,
     "metadata": {},
     "output_type": "execute_result"
    }
   ],
   "source": [
    "data['Born Date'].isnull().sum()"
   ]
  },
  {
   "cell_type": "code",
   "execution_count": 8,
   "metadata": {},
   "outputs": [
    {
     "data": {
      "text/html": [
       "<div>\n",
       "<style scoped>\n",
       "    .dataframe tbody tr th:only-of-type {\n",
       "        vertical-align: middle;\n",
       "    }\n",
       "\n",
       "    .dataframe tbody tr th {\n",
       "        vertical-align: top;\n",
       "    }\n",
       "\n",
       "    .dataframe thead th {\n",
       "        text-align: right;\n",
       "    }\n",
       "</style>\n",
       "<table border=\"1\" class=\"dataframe\">\n",
       "  <thead>\n",
       "    <tr style=\"text-align: right;\">\n",
       "      <th></th>\n",
       "      <th>Fecha Alta</th>\n",
       "      <th>Cliente</th>\n",
       "      <th>Modelo Caldera</th>\n",
       "      <th>Provincia</th>\n",
       "      <th>Gender</th>\n",
       "      <th>Pais</th>\n",
       "      <th>Born Date</th>\n",
       "      <th>Tipo Propiedad</th>\n",
       "      <th>Situacion Laboral</th>\n",
       "      <th>Estado Civil</th>\n",
       "      <th>Ingresos</th>\n",
       "      <th>Pagos Anuales</th>\n",
       "      <th>Fecha Estado</th>\n",
       "      <th>Estado</th>\n",
       "      <th>Tipo Inmueble</th>\n",
       "      <th>Financiado</th>\n",
       "      <th>Precio Contado</th>\n",
       "      <th>Precio Total</th>\n",
       "      <th>Quejas</th>\n",
       "      <th>Incidencias</th>\n",
       "      <th>Consumo Mes</th>\n",
       "      <th>Edad</th>\n",
       "    </tr>\n",
       "  </thead>\n",
       "  <tbody>\n",
       "    <tr>\n",
       "      <th>0</th>\n",
       "      <td>2014-01-01</td>\n",
       "      <td>1</td>\n",
       "      <td>Biasi</td>\n",
       "      <td>Granada</td>\n",
       "      <td>Hombre</td>\n",
       "      <td>España</td>\n",
       "      <td>1959-09-02</td>\n",
       "      <td>Propiedad Parcial</td>\n",
       "      <td>Trabajo Fijo</td>\n",
       "      <td>Casado</td>\n",
       "      <td>2000</td>\n",
       "      <td>13</td>\n",
       "      <td>2018-06-29</td>\n",
       "      <td>1</td>\n",
       "      <td>Casa</td>\n",
       "      <td>Financiado</td>\n",
       "      <td>Promo 0 EUR</td>\n",
       "      <td>399</td>\n",
       "      <td>0</td>\n",
       "      <td>0</td>\n",
       "      <td>622.81</td>\n",
       "      <td>54.369863</td>\n",
       "    </tr>\n",
       "    <tr>\n",
       "      <th>1</th>\n",
       "      <td>2014-01-01</td>\n",
       "      <td>2</td>\n",
       "      <td>Biasi</td>\n",
       "      <td>Barcelona</td>\n",
       "      <td>Mujer</td>\n",
       "      <td>España</td>\n",
       "      <td>1971-04-15</td>\n",
       "      <td>Familiar</td>\n",
       "      <td>Parado</td>\n",
       "      <td>Divorciado</td>\n",
       "      <td>600</td>\n",
       "      <td>12</td>\n",
       "      <td>2014-01-01</td>\n",
       "      <td>0</td>\n",
       "      <td>Piso</td>\n",
       "      <td>Financiado</td>\n",
       "      <td>0 - 100 EUR</td>\n",
       "      <td>399</td>\n",
       "      <td>12</td>\n",
       "      <td>4</td>\n",
       "      <td>42.40</td>\n",
       "      <td>42.745205</td>\n",
       "    </tr>\n",
       "    <tr>\n",
       "      <th>2</th>\n",
       "      <td>2014-01-01</td>\n",
       "      <td>3</td>\n",
       "      <td>Biasi</td>\n",
       "      <td>Madrid</td>\n",
       "      <td>Hombre</td>\n",
       "      <td>España</td>\n",
       "      <td>1968-02-10</td>\n",
       "      <td>Propiedad Total</td>\n",
       "      <td>Trabajo Fijo</td>\n",
       "      <td>Divorciado</td>\n",
       "      <td>2500</td>\n",
       "      <td>14</td>\n",
       "      <td>2014-01-01</td>\n",
       "      <td>0</td>\n",
       "      <td>Piso</td>\n",
       "      <td>Financiado</td>\n",
       "      <td>100 - 200 EUR</td>\n",
       "      <td>499</td>\n",
       "      <td>0</td>\n",
       "      <td>0</td>\n",
       "      <td>68.34</td>\n",
       "      <td>45.923288</td>\n",
       "    </tr>\n",
       "    <tr>\n",
       "      <th>3</th>\n",
       "      <td>2014-01-01</td>\n",
       "      <td>4</td>\n",
       "      <td>Biasi</td>\n",
       "      <td>Sevilla</td>\n",
       "      <td>Mujer</td>\n",
       "      <td>España</td>\n",
       "      <td>1968-12-22</td>\n",
       "      <td>Propiedad Parcial</td>\n",
       "      <td>Autonomo</td>\n",
       "      <td>Casado</td>\n",
       "      <td>1800</td>\n",
       "      <td>12</td>\n",
       "      <td>2014-01-01</td>\n",
       "      <td>0</td>\n",
       "      <td>Casa</td>\n",
       "      <td>Financiado</td>\n",
       "      <td>0 - 100 EUR</td>\n",
       "      <td>399</td>\n",
       "      <td>2</td>\n",
       "      <td>0</td>\n",
       "      <td>304.10</td>\n",
       "      <td>45.057534</td>\n",
       "    </tr>\n",
       "    <tr>\n",
       "      <th>4</th>\n",
       "      <td>2014-01-01</td>\n",
       "      <td>5</td>\n",
       "      <td>Biasi</td>\n",
       "      <td>Barcelona</td>\n",
       "      <td>Hombre</td>\n",
       "      <td>España</td>\n",
       "      <td>1977-02-22</td>\n",
       "      <td>Propiedad Parcial</td>\n",
       "      <td>Autonomo</td>\n",
       "      <td>Casado</td>\n",
       "      <td>1500</td>\n",
       "      <td>12</td>\n",
       "      <td>2014-01-01</td>\n",
       "      <td>0</td>\n",
       "      <td>Tienda</td>\n",
       "      <td>Financiado</td>\n",
       "      <td>100 - 200 EUR</td>\n",
       "      <td>499</td>\n",
       "      <td>0</td>\n",
       "      <td>0</td>\n",
       "      <td>84.33</td>\n",
       "      <td>36.882192</td>\n",
       "    </tr>\n",
       "  </tbody>\n",
       "</table>\n",
       "</div>"
      ],
      "text/plain": [
       "  Fecha Alta Cliente Modelo Caldera  Provincia  Gender    Pais  Born Date  \\\n",
       "0 2014-01-01       1         Biasi     Granada  Hombre  España 1959-09-02   \n",
       "1 2014-01-01       2         Biasi   Barcelona   Mujer  España 1971-04-15   \n",
       "2 2014-01-01       3         Biasi      Madrid  Hombre  España 1968-02-10   \n",
       "3 2014-01-01       4         Biasi     Sevilla   Mujer  España 1968-12-22   \n",
       "4 2014-01-01       5         Biasi   Barcelona  Hombre  España 1977-02-22   \n",
       "\n",
       "      Tipo Propiedad Situacion Laboral Estado Civil  Ingresos  Pagos Anuales  \\\n",
       "0  Propiedad Parcial      Trabajo Fijo       Casado      2000             13   \n",
       "1           Familiar            Parado   Divorciado       600             12   \n",
       "2    Propiedad Total      Trabajo Fijo   Divorciado      2500             14   \n",
       "3  Propiedad Parcial          Autonomo       Casado      1800             12   \n",
       "4  Propiedad Parcial          Autonomo       Casado      1500             12   \n",
       "\n",
       "  Fecha Estado  Estado Tipo Inmueble  Financiado Precio Contado  Precio Total  \\\n",
       "0   2018-06-29       1          Casa  Financiado    Promo 0 EUR           399   \n",
       "1   2014-01-01       0          Piso  Financiado    0 - 100 EUR           399   \n",
       "2   2014-01-01       0          Piso  Financiado  100 - 200 EUR           499   \n",
       "3   2014-01-01       0          Casa  Financiado    0 - 100 EUR           399   \n",
       "4   2014-01-01       0        Tienda  Financiado  100 - 200 EUR           499   \n",
       "\n",
       "   Quejas  Incidencias  Consumo Mes       Edad  \n",
       "0       0            0       622.81  54.369863  \n",
       "1      12            4        42.40  42.745205  \n",
       "2       0            0        68.34  45.923288  \n",
       "3       2            0       304.10  45.057534  \n",
       "4       0            0        84.33  36.882192  "
      ]
     },
     "execution_count": 8,
     "metadata": {},
     "output_type": "execute_result"
    }
   ],
   "source": [
    "# Edad en el momento del alta\n",
    "\n",
    "data['Edad'] = ((data['Fecha Alta'] - data['Born Date']).dt.days)/365\n",
    "                        \n",
    "data.head()"
   ]
  },
  {
   "cell_type": "code",
   "execution_count": 9,
   "metadata": {},
   "outputs": [
    {
     "data": {
      "image/png": "[encoded data removed]",
      "text/plain": [
       "<Figure size 432x288 with 1 Axes>"
      ]
     },
     "metadata": {
      "needs_background": "light"
     },
     "output_type": "display_data"
    }
   ],
   "source": [
    "plt.hist(data['Edad'], range = (-100,0));"
   ]
  },
  {
   "cell_type": "code",
   "execution_count": 10,
   "metadata": {},
   "outputs": [
    {
     "data": {
      "image/png": "[encoded data removed]",
      "text/plain": [
       "<Figure size 432x288 with 1 Axes>"
      ]
     },
     "metadata": {
      "needs_background": "light"
     },
     "output_type": "display_data"
    }
   ],
   "source": [
    "plt.hist(data['Edad'], range = (0,18));"
   ]
  },
  {
   "cell_type": "code",
   "execution_count": 12,
   "metadata": {},
   "outputs": [
    {
     "data": {
      "text/plain": [
       "49.68746967251336"
      ]
     },
     "execution_count": 12,
     "metadata": {},
     "output_type": "execute_result"
    }
   ],
   "source": [
    "edad_mean = data['Edad'].mean()\n",
    "edad_mean"
   ]
  },
  {
   "cell_type": "code",
   "execution_count": 13,
   "metadata": {},
   "outputs": [],
   "source": [
    "data['Edad'] = data['Edad'].apply(lambda x: edad_mean if x<18 else x)"
   ]
  },
  {
   "cell_type": "code",
   "execution_count": 14,
   "metadata": {},
   "outputs": [
    {
     "data": {
      "image/png": "[encoded data removed]",
      "text/plain": [
       "<Figure size 432x288 with 1 Axes>"
      ]
     },
     "metadata": {
      "needs_background": "light"
     },
     "output_type": "display_data"
    }
   ],
   "source": [
    "plt.hist(data['Edad']);"
   ]
  },
  {
   "cell_type": "code",
   "execution_count": 15,
   "metadata": {
    "scrolled": false
   },
   "outputs": [
    {
     "data": {
      "text/html": [
       "<div>\n",
       "<style scoped>\n",
       "    .dataframe tbody tr th:only-of-type {\n",
       "        vertical-align: middle;\n",
       "    }\n",
       "\n",
       "    .dataframe tbody tr th {\n",
       "        vertical-align: top;\n",
       "    }\n",
       "\n",
       "    .dataframe thead th {\n",
       "        text-align: right;\n",
       "    }\n",
       "</style>\n",
       "<table border=\"1\" class=\"dataframe\">\n",
       "  <thead>\n",
       "    <tr style=\"text-align: right;\">\n",
       "      <th></th>\n",
       "      <th>Fecha Alta</th>\n",
       "      <th>Cliente</th>\n",
       "      <th>Modelo Caldera</th>\n",
       "      <th>Provincia</th>\n",
       "      <th>Gender</th>\n",
       "      <th>Pais</th>\n",
       "      <th>Born Date</th>\n",
       "      <th>Tipo Propiedad</th>\n",
       "      <th>Situacion Laboral</th>\n",
       "      <th>Estado Civil</th>\n",
       "      <th>Ingresos</th>\n",
       "      <th>Pagos Anuales</th>\n",
       "      <th>Fecha Estado</th>\n",
       "      <th>Estado</th>\n",
       "      <th>Tipo Inmueble</th>\n",
       "      <th>Financiado</th>\n",
       "      <th>Precio Contado</th>\n",
       "      <th>Precio Total</th>\n",
       "      <th>Quejas</th>\n",
       "      <th>Incidencias</th>\n",
       "      <th>Consumo Mes</th>\n",
       "      <th>Edad</th>\n",
       "      <th>Rango_Edad</th>\n",
       "    </tr>\n",
       "  </thead>\n",
       "  <tbody>\n",
       "    <tr>\n",
       "      <th>0</th>\n",
       "      <td>2014-01-01</td>\n",
       "      <td>1</td>\n",
       "      <td>Biasi</td>\n",
       "      <td>Granada</td>\n",
       "      <td>Hombre</td>\n",
       "      <td>España</td>\n",
       "      <td>1959-09-02</td>\n",
       "      <td>Propiedad Parcial</td>\n",
       "      <td>Trabajo Fijo</td>\n",
       "      <td>Casado</td>\n",
       "      <td>2000</td>\n",
       "      <td>13</td>\n",
       "      <td>2018-06-29</td>\n",
       "      <td>1</td>\n",
       "      <td>Casa</td>\n",
       "      <td>Financiado</td>\n",
       "      <td>Promo 0 EUR</td>\n",
       "      <td>399</td>\n",
       "      <td>0</td>\n",
       "      <td>0</td>\n",
       "      <td>622.81</td>\n",
       "      <td>54.369863</td>\n",
       "      <td>50-60</td>\n",
       "    </tr>\n",
       "    <tr>\n",
       "      <th>1</th>\n",
       "      <td>2014-01-01</td>\n",
       "      <td>2</td>\n",
       "      <td>Biasi</td>\n",
       "      <td>Barcelona</td>\n",
       "      <td>Mujer</td>\n",
       "      <td>España</td>\n",
       "      <td>1971-04-15</td>\n",
       "      <td>Familiar</td>\n",
       "      <td>Parado</td>\n",
       "      <td>Divorciado</td>\n",
       "      <td>600</td>\n",
       "      <td>12</td>\n",
       "      <td>2014-01-01</td>\n",
       "      <td>0</td>\n",
       "      <td>Piso</td>\n",
       "      <td>Financiado</td>\n",
       "      <td>0 - 100 EUR</td>\n",
       "      <td>399</td>\n",
       "      <td>12</td>\n",
       "      <td>4</td>\n",
       "      <td>42.40</td>\n",
       "      <td>42.745205</td>\n",
       "      <td>40-50</td>\n",
       "    </tr>\n",
       "    <tr>\n",
       "      <th>2</th>\n",
       "      <td>2014-01-01</td>\n",
       "      <td>3</td>\n",
       "      <td>Biasi</td>\n",
       "      <td>Madrid</td>\n",
       "      <td>Hombre</td>\n",
       "      <td>España</td>\n",
       "      <td>1968-02-10</td>\n",
       "      <td>Propiedad Total</td>\n",
       "      <td>Trabajo Fijo</td>\n",
       "      <td>Divorciado</td>\n",
       "      <td>2500</td>\n",
       "      <td>14</td>\n",
       "      <td>2014-01-01</td>\n",
       "      <td>0</td>\n",
       "      <td>Piso</td>\n",
       "      <td>Financiado</td>\n",
       "      <td>100 - 200 EUR</td>\n",
       "      <td>499</td>\n",
       "      <td>0</td>\n",
       "      <td>0</td>\n",
       "      <td>68.34</td>\n",
       "      <td>45.923288</td>\n",
       "      <td>40-50</td>\n",
       "    </tr>\n",
       "    <tr>\n",
       "      <th>3</th>\n",
       "      <td>2014-01-01</td>\n",
       "      <td>4</td>\n",
       "      <td>Biasi</td>\n",
       "      <td>Sevilla</td>\n",
       "      <td>Mujer</td>\n",
       "      <td>España</td>\n",
       "      <td>1968-12-22</td>\n",
       "      <td>Propiedad Parcial</td>\n",
       "      <td>Autonomo</td>\n",
       "      <td>Casado</td>\n",
       "      <td>1800</td>\n",
       "      <td>12</td>\n",
       "      <td>2014-01-01</td>\n",
       "      <td>0</td>\n",
       "      <td>Casa</td>\n",
       "      <td>Financiado</td>\n",
       "      <td>0 - 100 EUR</td>\n",
       "      <td>399</td>\n",
       "      <td>2</td>\n",
       "      <td>0</td>\n",
       "      <td>304.10</td>\n",
       "      <td>45.057534</td>\n",
       "      <td>40-50</td>\n",
       "    </tr>\n",
       "    <tr>\n",
       "      <th>4</th>\n",
       "      <td>2014-01-01</td>\n",
       "      <td>5</td>\n",
       "      <td>Biasi</td>\n",
       "      <td>Barcelona</td>\n",
       "      <td>Hombre</td>\n",
       "      <td>España</td>\n",
       "      <td>1977-02-22</td>\n",
       "      <td>Propiedad Parcial</td>\n",
       "      <td>Autonomo</td>\n",
       "      <td>Casado</td>\n",
       "      <td>1500</td>\n",
       "      <td>12</td>\n",
       "      <td>2014-01-01</td>\n",
       "      <td>0</td>\n",
       "      <td>Tienda</td>\n",
       "      <td>Financiado</td>\n",
       "      <td>100 - 200 EUR</td>\n",
       "      <td>499</td>\n",
       "      <td>0</td>\n",
       "      <td>0</td>\n",
       "      <td>84.33</td>\n",
       "      <td>36.882192</td>\n",
       "      <td>30-40</td>\n",
       "    </tr>\n",
       "  </tbody>\n",
       "</table>\n",
       "</div>"
      ],
      "text/plain": [
       "  Fecha Alta Cliente Modelo Caldera  Provincia  Gender    Pais  Born Date  \\\n",
       "0 2014-01-01       1         Biasi     Granada  Hombre  España 1959-09-02   \n",
       "1 2014-01-01       2         Biasi   Barcelona   Mujer  España 1971-04-15   \n",
       "2 2014-01-01       3         Biasi      Madrid  Hombre  España 1968-02-10   \n",
       "3 2014-01-01       4         Biasi     Sevilla   Mujer  España 1968-12-22   \n",
       "4 2014-01-01       5         Biasi   Barcelona  Hombre  España 1977-02-22   \n",
       "\n",
       "      Tipo Propiedad Situacion Laboral Estado Civil  Ingresos  Pagos Anuales  \\\n",
       "0  Propiedad Parcial      Trabajo Fijo       Casado      2000             13   \n",
       "1           Familiar            Parado   Divorciado       600             12   \n",
       "2    Propiedad Total      Trabajo Fijo   Divorciado      2500             14   \n",
       "3  Propiedad Parcial          Autonomo       Casado      1800             12   \n",
       "4  Propiedad Parcial          Autonomo       Casado      1500             12   \n",
       "\n",
       "  Fecha Estado  Estado Tipo Inmueble  Financiado Precio Contado  Precio Total  \\\n",
       "0   2018-06-29       1          Casa  Financiado    Promo 0 EUR           399   \n",
       "1   2014-01-01       0          Piso  Financiado    0 - 100 EUR           399   \n",
       "2   2014-01-01       0          Piso  Financiado  100 - 200 EUR           499   \n",
       "3   2014-01-01       0          Casa  Financiado    0 - 100 EUR           399   \n",
       "4   2014-01-01       0        Tienda  Financiado  100 - 200 EUR           499   \n",
       "\n",
       "   Quejas  Incidencias  Consumo Mes       Edad Rango_Edad  \n",
       "0       0            0       622.81  54.369863      50-60  \n",
       "1      12            4        42.40  42.745205      40-50  \n",
       "2       0            0        68.34  45.923288      40-50  \n",
       "3       2            0       304.10  45.057534      40-50  \n",
       "4       0            0        84.33  36.882192      30-40  "
      ]
     },
     "execution_count": 15,
     "metadata": {},
     "output_type": "execute_result"
    }
   ],
   "source": [
    "data.loc[data['Edad'] <= 30, 'Rango_Edad'] = \"18-30\"\n",
    "data.loc[(data['Edad'] > 30) & (data['Edad'] <= 40), 'Rango_Edad'] = \"30-40\"\n",
    "data.loc[(data['Edad'] > 40) & (data['Edad'] <= 50), 'Rango_Edad'] = \"40-50\"\n",
    "data.loc[(data['Edad'] > 50) & (data['Edad'] <= 60), 'Rango_Edad'] = \"50-60\"\n",
    "data.loc[(data['Edad'] > 60) & (data['Edad'] <= 70), 'Rango_Edad'] = \"60-70\"\n",
    "data.loc[(data['Edad'] > 70) & (data['Edad'] <= 80), 'Rango_Edad'] = \"70-80\"\n",
    "data.loc[data['Edad'] > 80, 'Rango_Edad'] = \"+80\"\n",
    "data.head()"
   ]
  },
  {
   "cell_type": "code",
   "execution_count": 16,
   "metadata": {},
   "outputs": [
    {
     "data": {
      "text/html": [
       "<div>\n",
       "<style scoped>\n",
       "    .dataframe tbody tr th:only-of-type {\n",
       "        vertical-align: middle;\n",
       "    }\n",
       "\n",
       "    .dataframe tbody tr th {\n",
       "        vertical-align: top;\n",
       "    }\n",
       "\n",
       "    .dataframe thead th {\n",
       "        text-align: right;\n",
       "    }\n",
       "</style>\n",
       "<table border=\"1\" class=\"dataframe\">\n",
       "  <thead>\n",
       "    <tr style=\"text-align: right;\">\n",
       "      <th>Estado</th>\n",
       "      <th>0</th>\n",
       "      <th>1</th>\n",
       "      <th>All</th>\n",
       "      <th>0</th>\n",
       "      <th>1</th>\n",
       "    </tr>\n",
       "    <tr>\n",
       "      <th>Rango_Edad</th>\n",
       "      <th></th>\n",
       "      <th></th>\n",
       "      <th></th>\n",
       "      <th></th>\n",
       "      <th></th>\n",
       "    </tr>\n",
       "  </thead>\n",
       "  <tbody>\n",
       "    <tr>\n",
       "      <th>+80</th>\n",
       "      <td>9029</td>\n",
       "      <td>1571</td>\n",
       "      <td>10600</td>\n",
       "      <td>0.851792</td>\n",
       "      <td>0.148208</td>\n",
       "    </tr>\n",
       "    <tr>\n",
       "      <th>18-30</th>\n",
       "      <td>24508</td>\n",
       "      <td>18109</td>\n",
       "      <td>42617</td>\n",
       "      <td>0.575076</td>\n",
       "      <td>0.424924</td>\n",
       "    </tr>\n",
       "    <tr>\n",
       "      <th>30-40</th>\n",
       "      <td>58406</td>\n",
       "      <td>29851</td>\n",
       "      <td>88257</td>\n",
       "      <td>0.661772</td>\n",
       "      <td>0.338228</td>\n",
       "    </tr>\n",
       "    <tr>\n",
       "      <th>40-50</th>\n",
       "      <td>91001</td>\n",
       "      <td>30003</td>\n",
       "      <td>121004</td>\n",
       "      <td>0.752050</td>\n",
       "      <td>0.247950</td>\n",
       "    </tr>\n",
       "    <tr>\n",
       "      <th>50-60</th>\n",
       "      <td>83650</td>\n",
       "      <td>19147</td>\n",
       "      <td>102797</td>\n",
       "      <td>0.813740</td>\n",
       "      <td>0.186260</td>\n",
       "    </tr>\n",
       "    <tr>\n",
       "      <th>60-70</th>\n",
       "      <td>66753</td>\n",
       "      <td>10898</td>\n",
       "      <td>77651</td>\n",
       "      <td>0.859654</td>\n",
       "      <td>0.140346</td>\n",
       "    </tr>\n",
       "    <tr>\n",
       "      <th>70-80</th>\n",
       "      <td>34769</td>\n",
       "      <td>5032</td>\n",
       "      <td>39801</td>\n",
       "      <td>0.873571</td>\n",
       "      <td>0.126429</td>\n",
       "    </tr>\n",
       "    <tr>\n",
       "      <th>All</th>\n",
       "      <td>368116</td>\n",
       "      <td>114611</td>\n",
       "      <td>482727</td>\n",
       "      <td>0.762576</td>\n",
       "      <td>0.237424</td>\n",
       "    </tr>\n",
       "  </tbody>\n",
       "</table>\n",
       "</div>"
      ],
      "text/plain": [
       "Estado           0       1     All         0         1\n",
       "Rango_Edad                                            \n",
       "+80           9029    1571   10600  0.851792  0.148208\n",
       "18-30        24508   18109   42617  0.575076  0.424924\n",
       "30-40        58406   29851   88257  0.661772  0.338228\n",
       "40-50        91001   30003  121004  0.752050  0.247950\n",
       "50-60        83650   19147  102797  0.813740  0.186260\n",
       "60-70        66753   10898   77651  0.859654  0.140346\n",
       "70-80        34769    5032   39801  0.873571  0.126429\n",
       "All         368116  114611  482727  0.762576  0.237424"
      ]
     },
     "execution_count": 16,
     "metadata": {},
     "output_type": "execute_result"
    }
   ],
   "source": [
    "tab1 = pd.crosstab(data[\"Rango_Edad\"], data[\"Estado\"], margins = True)\n",
    "tab2 = pd.crosstab(data[\"Rango_Edad\"], data[\"Estado\"], margins = True, normalize = 'index')\n",
    "pd.concat([tab1, tab2], axis = 1)"
   ]
  },
  {
   "cell_type": "markdown",
   "metadata": {},
   "source": [
    "Rangos de Ingresos:"
   ]
  },
  {
   "cell_type": "code",
   "execution_count": 17,
   "metadata": {},
   "outputs": [
    {
     "data": {
      "image/png": "[encoded data removed]",
      "text/plain": [
       "<Figure size 432x288 with 1 Axes>"
      ]
     },
     "metadata": {
      "needs_background": "light"
     },
     "output_type": "display_data"
    }
   ],
   "source": [
    "plt.hist(data['Ingresos'], range=(0, 5000));"
   ]
  },
  {
   "cell_type": "code",
   "execution_count": 18,
   "metadata": {},
   "outputs": [
    {
     "data": {
      "text/html": [
       "<div>\n",
       "<style scoped>\n",
       "    .dataframe tbody tr th:only-of-type {\n",
       "        vertical-align: middle;\n",
       "    }\n",
       "\n",
       "    .dataframe tbody tr th {\n",
       "        vertical-align: top;\n",
       "    }\n",
       "\n",
       "    .dataframe thead th {\n",
       "        text-align: right;\n",
       "    }\n",
       "</style>\n",
       "<table border=\"1\" class=\"dataframe\">\n",
       "  <thead>\n",
       "    <tr style=\"text-align: right;\">\n",
       "      <th></th>\n",
       "      <th>Fecha Alta</th>\n",
       "      <th>Cliente</th>\n",
       "      <th>Modelo Caldera</th>\n",
       "      <th>Provincia</th>\n",
       "      <th>Gender</th>\n",
       "      <th>Pais</th>\n",
       "      <th>Born Date</th>\n",
       "      <th>Tipo Propiedad</th>\n",
       "      <th>Situacion Laboral</th>\n",
       "      <th>Estado Civil</th>\n",
       "      <th>Ingresos</th>\n",
       "      <th>Pagos Anuales</th>\n",
       "      <th>Fecha Estado</th>\n",
       "      <th>Estado</th>\n",
       "      <th>Tipo Inmueble</th>\n",
       "      <th>Financiado</th>\n",
       "      <th>Precio Contado</th>\n",
       "      <th>Precio Total</th>\n",
       "      <th>Quejas</th>\n",
       "      <th>Incidencias</th>\n",
       "      <th>Consumo Mes</th>\n",
       "      <th>Edad</th>\n",
       "      <th>Rango_Edad</th>\n",
       "      <th>Income</th>\n",
       "    </tr>\n",
       "  </thead>\n",
       "  <tbody>\n",
       "    <tr>\n",
       "      <th>0</th>\n",
       "      <td>2014-01-01</td>\n",
       "      <td>1</td>\n",
       "      <td>Biasi</td>\n",
       "      <td>Granada</td>\n",
       "      <td>Hombre</td>\n",
       "      <td>España</td>\n",
       "      <td>1959-09-02</td>\n",
       "      <td>Propiedad Parcial</td>\n",
       "      <td>Trabajo Fijo</td>\n",
       "      <td>Casado</td>\n",
       "      <td>2000</td>\n",
       "      <td>13</td>\n",
       "      <td>2018-06-29</td>\n",
       "      <td>1</td>\n",
       "      <td>Casa</td>\n",
       "      <td>Financiado</td>\n",
       "      <td>Promo 0 EUR</td>\n",
       "      <td>399</td>\n",
       "      <td>0</td>\n",
       "      <td>0</td>\n",
       "      <td>622.81</td>\n",
       "      <td>54.369863</td>\n",
       "      <td>50-60</td>\n",
       "      <td>1500-2000</td>\n",
       "    </tr>\n",
       "    <tr>\n",
       "      <th>1</th>\n",
       "      <td>2014-01-01</td>\n",
       "      <td>2</td>\n",
       "      <td>Biasi</td>\n",
       "      <td>Barcelona</td>\n",
       "      <td>Mujer</td>\n",
       "      <td>España</td>\n",
       "      <td>1971-04-15</td>\n",
       "      <td>Familiar</td>\n",
       "      <td>Parado</td>\n",
       "      <td>Divorciado</td>\n",
       "      <td>600</td>\n",
       "      <td>12</td>\n",
       "      <td>2014-01-01</td>\n",
       "      <td>0</td>\n",
       "      <td>Piso</td>\n",
       "      <td>Financiado</td>\n",
       "      <td>0 - 100 EUR</td>\n",
       "      <td>399</td>\n",
       "      <td>12</td>\n",
       "      <td>4</td>\n",
       "      <td>42.40</td>\n",
       "      <td>42.745205</td>\n",
       "      <td>40-50</td>\n",
       "      <td>0-1000</td>\n",
       "    </tr>\n",
       "    <tr>\n",
       "      <th>2</th>\n",
       "      <td>2014-01-01</td>\n",
       "      <td>3</td>\n",
       "      <td>Biasi</td>\n",
       "      <td>Madrid</td>\n",
       "      <td>Hombre</td>\n",
       "      <td>España</td>\n",
       "      <td>1968-02-10</td>\n",
       "      <td>Propiedad Total</td>\n",
       "      <td>Trabajo Fijo</td>\n",
       "      <td>Divorciado</td>\n",
       "      <td>2500</td>\n",
       "      <td>14</td>\n",
       "      <td>2014-01-01</td>\n",
       "      <td>0</td>\n",
       "      <td>Piso</td>\n",
       "      <td>Financiado</td>\n",
       "      <td>100 - 200 EUR</td>\n",
       "      <td>499</td>\n",
       "      <td>0</td>\n",
       "      <td>0</td>\n",
       "      <td>68.34</td>\n",
       "      <td>45.923288</td>\n",
       "      <td>40-50</td>\n",
       "      <td>2000-3000</td>\n",
       "    </tr>\n",
       "    <tr>\n",
       "      <th>3</th>\n",
       "      <td>2014-01-01</td>\n",
       "      <td>4</td>\n",
       "      <td>Biasi</td>\n",
       "      <td>Sevilla</td>\n",
       "      <td>Mujer</td>\n",
       "      <td>España</td>\n",
       "      <td>1968-12-22</td>\n",
       "      <td>Propiedad Parcial</td>\n",
       "      <td>Autonomo</td>\n",
       "      <td>Casado</td>\n",
       "      <td>1800</td>\n",
       "      <td>12</td>\n",
       "      <td>2014-01-01</td>\n",
       "      <td>0</td>\n",
       "      <td>Casa</td>\n",
       "      <td>Financiado</td>\n",
       "      <td>0 - 100 EUR</td>\n",
       "      <td>399</td>\n",
       "      <td>2</td>\n",
       "      <td>0</td>\n",
       "      <td>304.10</td>\n",
       "      <td>45.057534</td>\n",
       "      <td>40-50</td>\n",
       "      <td>1500-2000</td>\n",
       "    </tr>\n",
       "    <tr>\n",
       "      <th>4</th>\n",
       "      <td>2014-01-01</td>\n",
       "      <td>5</td>\n",
       "      <td>Biasi</td>\n",
       "      <td>Barcelona</td>\n",
       "      <td>Hombre</td>\n",
       "      <td>España</td>\n",
       "      <td>1977-02-22</td>\n",
       "      <td>Propiedad Parcial</td>\n",
       "      <td>Autonomo</td>\n",
       "      <td>Casado</td>\n",
       "      <td>1500</td>\n",
       "      <td>12</td>\n",
       "      <td>2014-01-01</td>\n",
       "      <td>0</td>\n",
       "      <td>Tienda</td>\n",
       "      <td>Financiado</td>\n",
       "      <td>100 - 200 EUR</td>\n",
       "      <td>499</td>\n",
       "      <td>0</td>\n",
       "      <td>0</td>\n",
       "      <td>84.33</td>\n",
       "      <td>36.882192</td>\n",
       "      <td>30-40</td>\n",
       "      <td>1000-1500</td>\n",
       "    </tr>\n",
       "  </tbody>\n",
       "</table>\n",
       "</div>"
      ],
      "text/plain": [
       "  Fecha Alta Cliente Modelo Caldera  Provincia  Gender    Pais  Born Date  \\\n",
       "0 2014-01-01       1         Biasi     Granada  Hombre  España 1959-09-02   \n",
       "1 2014-01-01       2         Biasi   Barcelona   Mujer  España 1971-04-15   \n",
       "2 2014-01-01       3         Biasi      Madrid  Hombre  España 1968-02-10   \n",
       "3 2014-01-01       4         Biasi     Sevilla   Mujer  España 1968-12-22   \n",
       "4 2014-01-01       5         Biasi   Barcelona  Hombre  España 1977-02-22   \n",
       "\n",
       "      Tipo Propiedad Situacion Laboral Estado Civil  Ingresos  Pagos Anuales  \\\n",
       "0  Propiedad Parcial      Trabajo Fijo       Casado      2000             13   \n",
       "1           Familiar            Parado   Divorciado       600             12   \n",
       "2    Propiedad Total      Trabajo Fijo   Divorciado      2500             14   \n",
       "3  Propiedad Parcial          Autonomo       Casado      1800             12   \n",
       "4  Propiedad Parcial          Autonomo       Casado      1500             12   \n",
       "\n",
       "  Fecha Estado  Estado Tipo Inmueble  Financiado Precio Contado  Precio Total  \\\n",
       "0   2018-06-29       1          Casa  Financiado    Promo 0 EUR           399   \n",
       "1   2014-01-01       0          Piso  Financiado    0 - 100 EUR           399   \n",
       "2   2014-01-01       0          Piso  Financiado  100 - 200 EUR           499   \n",
       "3   2014-01-01       0          Casa  Financiado    0 - 100 EUR           399   \n",
       "4   2014-01-01       0        Tienda  Financiado  100 - 200 EUR           499   \n",
       "\n",
       "   Quejas  Incidencias  Consumo Mes       Edad Rango_Edad     Income  \n",
       "0       0            0       622.81  54.369863      50-60  1500-2000  \n",
       "1      12            4        42.40  42.745205      40-50     0-1000  \n",
       "2       0            0        68.34  45.923288      40-50  2000-3000  \n",
       "3       2            0       304.10  45.057534      40-50  1500-2000  \n",
       "4       0            0        84.33  36.882192      30-40  1000-1500  "
      ]
     },
     "execution_count": 18,
     "metadata": {},
     "output_type": "execute_result"
    }
   ],
   "source": [
    "data.loc[data['Ingresos'] <= 1000, 'Income'] = \"0-1000\"\n",
    "data.loc[(data['Ingresos'] > 1000) & (data['Ingresos'] <= 1500), 'Income'] = \"1000-1500\"\n",
    "data.loc[(data['Ingresos'] > 1500) & (data['Ingresos'] <= 2000), 'Income'] = \"1500-2000\"\n",
    "data.loc[(data['Ingresos'] > 2000) & (data['Ingresos'] <= 3000), 'Income'] = \"2000-3000\"\n",
    "data.loc[data['Ingresos'] > 3000, 'Income'] = \"+3000\"\n",
    "data.head()"
   ]
  },
  {
   "cell_type": "code",
   "execution_count": 19,
   "metadata": {},
   "outputs": [
    {
     "data": {
      "text/html": [
       "<div>\n",
       "<style scoped>\n",
       "    .dataframe tbody tr th:only-of-type {\n",
       "        vertical-align: middle;\n",
       "    }\n",
       "\n",
       "    .dataframe tbody tr th {\n",
       "        vertical-align: top;\n",
       "    }\n",
       "\n",
       "    .dataframe thead th {\n",
       "        text-align: right;\n",
       "    }\n",
       "</style>\n",
       "<table border=\"1\" class=\"dataframe\">\n",
       "  <thead>\n",
       "    <tr style=\"text-align: right;\">\n",
       "      <th>Estado</th>\n",
       "      <th>0</th>\n",
       "      <th>1</th>\n",
       "      <th>All</th>\n",
       "      <th>0</th>\n",
       "      <th>1</th>\n",
       "    </tr>\n",
       "    <tr>\n",
       "      <th>Income</th>\n",
       "      <th></th>\n",
       "      <th></th>\n",
       "      <th></th>\n",
       "      <th></th>\n",
       "      <th></th>\n",
       "    </tr>\n",
       "  </thead>\n",
       "  <tbody>\n",
       "    <tr>\n",
       "      <th>+3000</th>\n",
       "      <td>16635</td>\n",
       "      <td>4219</td>\n",
       "      <td>20854</td>\n",
       "      <td>0.797689</td>\n",
       "      <td>0.202311</td>\n",
       "    </tr>\n",
       "    <tr>\n",
       "      <th>0-1000</th>\n",
       "      <td>51940</td>\n",
       "      <td>20045</td>\n",
       "      <td>71985</td>\n",
       "      <td>0.721539</td>\n",
       "      <td>0.278461</td>\n",
       "    </tr>\n",
       "    <tr>\n",
       "      <th>1000-1500</th>\n",
       "      <td>169340</td>\n",
       "      <td>54673</td>\n",
       "      <td>224013</td>\n",
       "      <td>0.755938</td>\n",
       "      <td>0.244062</td>\n",
       "    </tr>\n",
       "    <tr>\n",
       "      <th>1500-2000</th>\n",
       "      <td>88057</td>\n",
       "      <td>25259</td>\n",
       "      <td>113316</td>\n",
       "      <td>0.777092</td>\n",
       "      <td>0.222908</td>\n",
       "    </tr>\n",
       "    <tr>\n",
       "      <th>2000-3000</th>\n",
       "      <td>42144</td>\n",
       "      <td>10415</td>\n",
       "      <td>52559</td>\n",
       "      <td>0.801842</td>\n",
       "      <td>0.198158</td>\n",
       "    </tr>\n",
       "    <tr>\n",
       "      <th>All</th>\n",
       "      <td>368116</td>\n",
       "      <td>114611</td>\n",
       "      <td>482727</td>\n",
       "      <td>0.762576</td>\n",
       "      <td>0.237424</td>\n",
       "    </tr>\n",
       "  </tbody>\n",
       "</table>\n",
       "</div>"
      ],
      "text/plain": [
       "Estado          0       1     All         0         1\n",
       "Income                                               \n",
       "+3000       16635    4219   20854  0.797689  0.202311\n",
       "0-1000      51940   20045   71985  0.721539  0.278461\n",
       "1000-1500  169340   54673  224013  0.755938  0.244062\n",
       "1500-2000   88057   25259  113316  0.777092  0.222908\n",
       "2000-3000   42144   10415   52559  0.801842  0.198158\n",
       "All        368116  114611  482727  0.762576  0.237424"
      ]
     },
     "execution_count": 19,
     "metadata": {},
     "output_type": "execute_result"
    }
   ],
   "source": [
    "tab1 = pd.crosstab(data[\"Income\"], data[\"Estado\"], margins = True)\n",
    "tab2 = pd.crosstab(data[\"Income\"], data[\"Estado\"], margins = True, normalize = 'index')\n",
    "pd.concat([tab1, tab2], axis = 1)"
   ]
  },
  {
   "cell_type": "markdown",
   "metadata": {},
   "source": [
    "Escalado de Quejas, Incidencias y Consumo Mes:"
   ]
  },
  {
   "cell_type": "code",
   "execution_count": 23,
   "metadata": {},
   "outputs": [
    {
     "data": {
      "text/html": [
       "<div>\n",
       "<style scoped>\n",
       "    .dataframe tbody tr th:only-of-type {\n",
       "        vertical-align: middle;\n",
       "    }\n",
       "\n",
       "    .dataframe tbody tr th {\n",
       "        vertical-align: top;\n",
       "    }\n",
       "\n",
       "    .dataframe thead th {\n",
       "        text-align: right;\n",
       "    }\n",
       "</style>\n",
       "<table border=\"1\" class=\"dataframe\">\n",
       "  <thead>\n",
       "    <tr style=\"text-align: right;\">\n",
       "      <th></th>\n",
       "      <th>Fecha Alta</th>\n",
       "      <th>Cliente</th>\n",
       "      <th>Modelo Caldera</th>\n",
       "      <th>Provincia</th>\n",
       "      <th>Gender</th>\n",
       "      <th>Pais</th>\n",
       "      <th>Born Date</th>\n",
       "      <th>Tipo Propiedad</th>\n",
       "      <th>Situacion Laboral</th>\n",
       "      <th>Estado Civil</th>\n",
       "      <th>Ingresos</th>\n",
       "      <th>Pagos Anuales</th>\n",
       "      <th>Fecha Estado</th>\n",
       "      <th>Estado</th>\n",
       "      <th>Tipo Inmueble</th>\n",
       "      <th>Financiado</th>\n",
       "      <th>Precio Contado</th>\n",
       "      <th>Precio Total</th>\n",
       "      <th>Quejas</th>\n",
       "      <th>Incidencias</th>\n",
       "      <th>Consumo Mes</th>\n",
       "      <th>Edad</th>\n",
       "      <th>Rango_Edad</th>\n",
       "      <th>Income</th>\n",
       "      <th>Quejas_sca</th>\n",
       "    </tr>\n",
       "  </thead>\n",
       "  <tbody>\n",
       "    <tr>\n",
       "      <th>0</th>\n",
       "      <td>2014-01-01</td>\n",
       "      <td>1</td>\n",
       "      <td>Biasi</td>\n",
       "      <td>Granada</td>\n",
       "      <td>Hombre</td>\n",
       "      <td>España</td>\n",
       "      <td>1959-09-02</td>\n",
       "      <td>Propiedad Parcial</td>\n",
       "      <td>Trabajo Fijo</td>\n",
       "      <td>Casado</td>\n",
       "      <td>2000</td>\n",
       "      <td>13</td>\n",
       "      <td>2018-06-29</td>\n",
       "      <td>1</td>\n",
       "      <td>Casa</td>\n",
       "      <td>Financiado</td>\n",
       "      <td>Promo 0 EUR</td>\n",
       "      <td>399</td>\n",
       "      <td>0</td>\n",
       "      <td>0</td>\n",
       "      <td>622.81</td>\n",
       "      <td>54.369863</td>\n",
       "      <td>50-60</td>\n",
       "      <td>1500-2000</td>\n",
       "      <td>0.000000</td>\n",
       "    </tr>\n",
       "    <tr>\n",
       "      <th>1</th>\n",
       "      <td>2014-01-01</td>\n",
       "      <td>2</td>\n",
       "      <td>Biasi</td>\n",
       "      <td>Barcelona</td>\n",
       "      <td>Mujer</td>\n",
       "      <td>España</td>\n",
       "      <td>1971-04-15</td>\n",
       "      <td>Familiar</td>\n",
       "      <td>Parado</td>\n",
       "      <td>Divorciado</td>\n",
       "      <td>600</td>\n",
       "      <td>12</td>\n",
       "      <td>2014-01-01</td>\n",
       "      <td>0</td>\n",
       "      <td>Piso</td>\n",
       "      <td>Financiado</td>\n",
       "      <td>0 - 100 EUR</td>\n",
       "      <td>399</td>\n",
       "      <td>12</td>\n",
       "      <td>4</td>\n",
       "      <td>42.40</td>\n",
       "      <td>42.745205</td>\n",
       "      <td>40-50</td>\n",
       "      <td>0-1000</td>\n",
       "      <td>0.285714</td>\n",
       "    </tr>\n",
       "    <tr>\n",
       "      <th>2</th>\n",
       "      <td>2014-01-01</td>\n",
       "      <td>3</td>\n",
       "      <td>Biasi</td>\n",
       "      <td>Madrid</td>\n",
       "      <td>Hombre</td>\n",
       "      <td>España</td>\n",
       "      <td>1968-02-10</td>\n",
       "      <td>Propiedad Total</td>\n",
       "      <td>Trabajo Fijo</td>\n",
       "      <td>Divorciado</td>\n",
       "      <td>2500</td>\n",
       "      <td>14</td>\n",
       "      <td>2014-01-01</td>\n",
       "      <td>0</td>\n",
       "      <td>Piso</td>\n",
       "      <td>Financiado</td>\n",
       "      <td>100 - 200 EUR</td>\n",
       "      <td>499</td>\n",
       "      <td>0</td>\n",
       "      <td>0</td>\n",
       "      <td>68.34</td>\n",
       "      <td>45.923288</td>\n",
       "      <td>40-50</td>\n",
       "      <td>2000-3000</td>\n",
       "      <td>0.000000</td>\n",
       "    </tr>\n",
       "    <tr>\n",
       "      <th>3</th>\n",
       "      <td>2014-01-01</td>\n",
       "      <td>4</td>\n",
       "      <td>Biasi</td>\n",
       "      <td>Sevilla</td>\n",
       "      <td>Mujer</td>\n",
       "      <td>España</td>\n",
       "      <td>1968-12-22</td>\n",
       "      <td>Propiedad Parcial</td>\n",
       "      <td>Autonomo</td>\n",
       "      <td>Casado</td>\n",
       "      <td>1800</td>\n",
       "      <td>12</td>\n",
       "      <td>2014-01-01</td>\n",
       "      <td>0</td>\n",
       "      <td>Casa</td>\n",
       "      <td>Financiado</td>\n",
       "      <td>0 - 100 EUR</td>\n",
       "      <td>399</td>\n",
       "      <td>2</td>\n",
       "      <td>0</td>\n",
       "      <td>304.10</td>\n",
       "      <td>45.057534</td>\n",
       "      <td>40-50</td>\n",
       "      <td>1500-2000</td>\n",
       "      <td>0.047619</td>\n",
       "    </tr>\n",
       "    <tr>\n",
       "      <th>4</th>\n",
       "      <td>2014-01-01</td>\n",
       "      <td>5</td>\n",
       "      <td>Biasi</td>\n",
       "      <td>Barcelona</td>\n",
       "      <td>Hombre</td>\n",
       "      <td>España</td>\n",
       "      <td>1977-02-22</td>\n",
       "      <td>Propiedad Parcial</td>\n",
       "      <td>Autonomo</td>\n",
       "      <td>Casado</td>\n",
       "      <td>1500</td>\n",
       "      <td>12</td>\n",
       "      <td>2014-01-01</td>\n",
       "      <td>0</td>\n",
       "      <td>Tienda</td>\n",
       "      <td>Financiado</td>\n",
       "      <td>100 - 200 EUR</td>\n",
       "      <td>499</td>\n",
       "      <td>0</td>\n",
       "      <td>0</td>\n",
       "      <td>84.33</td>\n",
       "      <td>36.882192</td>\n",
       "      <td>30-40</td>\n",
       "      <td>1000-1500</td>\n",
       "      <td>0.000000</td>\n",
       "    </tr>\n",
       "  </tbody>\n",
       "</table>\n",
       "</div>"
      ],
      "text/plain": [
       "  Fecha Alta Cliente Modelo Caldera  Provincia  Gender    Pais  Born Date  \\\n",
       "0 2014-01-01       1         Biasi     Granada  Hombre  España 1959-09-02   \n",
       "1 2014-01-01       2         Biasi   Barcelona   Mujer  España 1971-04-15   \n",
       "2 2014-01-01       3         Biasi      Madrid  Hombre  España 1968-02-10   \n",
       "3 2014-01-01       4         Biasi     Sevilla   Mujer  España 1968-12-22   \n",
       "4 2014-01-01       5         Biasi   Barcelona  Hombre  España 1977-02-22   \n",
       "\n",
       "      Tipo Propiedad Situacion Laboral Estado Civil  Ingresos  Pagos Anuales  \\\n",
       "0  Propiedad Parcial      Trabajo Fijo       Casado      2000             13   \n",
       "1           Familiar            Parado   Divorciado       600             12   \n",
       "2    Propiedad Total      Trabajo Fijo   Divorciado      2500             14   \n",
       "3  Propiedad Parcial          Autonomo       Casado      1800             12   \n",
       "4  Propiedad Parcial          Autonomo       Casado      1500             12   \n",
       "\n",
       "  Fecha Estado  Estado Tipo Inmueble  Financiado Precio Contado  Precio Total  \\\n",
       "0   2018-06-29       1          Casa  Financiado    Promo 0 EUR           399   \n",
       "1   2014-01-01       0          Piso  Financiado    0 - 100 EUR           399   \n",
       "2   2014-01-01       0          Piso  Financiado  100 - 200 EUR           499   \n",
       "3   2014-01-01       0          Casa  Financiado    0 - 100 EUR           399   \n",
       "4   2014-01-01       0        Tienda  Financiado  100 - 200 EUR           499   \n",
       "\n",
       "   Quejas  Incidencias  Consumo Mes       Edad Rango_Edad     Income  \\\n",
       "0       0            0       622.81  54.369863      50-60  1500-2000   \n",
       "1      12            4        42.40  42.745205      40-50     0-1000   \n",
       "2       0            0        68.34  45.923288      40-50  2000-3000   \n",
       "3       2            0       304.10  45.057534      40-50  1500-2000   \n",
       "4       0            0        84.33  36.882192      30-40  1000-1500   \n",
       "\n",
       "   Quejas_sca  \n",
       "0    0.000000  \n",
       "1    0.285714  \n",
       "2    0.000000  \n",
       "3    0.047619  \n",
       "4    0.000000  "
      ]
     },
     "execution_count": 23,
     "metadata": {},
     "output_type": "execute_result"
    }
   ],
   "source": [
    "scaler = MinMaxScaler()\n",
    "data['Quejas_sca'] = scaler.fit_transform(data['Quejas'].values.reshape(-1, 1))\n",
    "data.head()"
   ]
  },
  {
   "cell_type": "code",
   "execution_count": 24,
   "metadata": {},
   "outputs": [],
   "source": [
    "filename = '../pkl/quejas_sca.pkl'\n",
    "quejas_sca = scaler.fit(data['Quejas'].values.reshape(-1, 1))\n",
    "\n",
    "pickle.dump(quejas_sca, open(filename,'wb'))"
   ]
  },
  {
   "cell_type": "code",
   "execution_count": 25,
   "metadata": {},
   "outputs": [
    {
     "data": {
      "image/png": "[encoded data removed]",
      "text/plain": [
       "<Figure size 432x288 with 1 Axes>"
      ]
     },
     "metadata": {
      "needs_background": "light"
     },
     "output_type": "display_data"
    }
   ],
   "source": [
    "plt.hist(data['Quejas_sca']);"
   ]
  },
  {
   "cell_type": "code",
   "execution_count": 26,
   "metadata": {},
   "outputs": [
    {
     "data": {
      "text/html": [
       "<div>\n",
       "<style scoped>\n",
       "    .dataframe tbody tr th:only-of-type {\n",
       "        vertical-align: middle;\n",
       "    }\n",
       "\n",
       "    .dataframe tbody tr th {\n",
       "        vertical-align: top;\n",
       "    }\n",
       "\n",
       "    .dataframe thead th {\n",
       "        text-align: right;\n",
       "    }\n",
       "</style>\n",
       "<table border=\"1\" class=\"dataframe\">\n",
       "  <thead>\n",
       "    <tr style=\"text-align: right;\">\n",
       "      <th></th>\n",
       "      <th>Fecha Alta</th>\n",
       "      <th>Cliente</th>\n",
       "      <th>Modelo Caldera</th>\n",
       "      <th>Provincia</th>\n",
       "      <th>Gender</th>\n",
       "      <th>Pais</th>\n",
       "      <th>Born Date</th>\n",
       "      <th>Tipo Propiedad</th>\n",
       "      <th>Situacion Laboral</th>\n",
       "      <th>Estado Civil</th>\n",
       "      <th>Ingresos</th>\n",
       "      <th>Pagos Anuales</th>\n",
       "      <th>Fecha Estado</th>\n",
       "      <th>Estado</th>\n",
       "      <th>Tipo Inmueble</th>\n",
       "      <th>Financiado</th>\n",
       "      <th>Precio Contado</th>\n",
       "      <th>Precio Total</th>\n",
       "      <th>Quejas</th>\n",
       "      <th>Incidencias</th>\n",
       "      <th>Consumo Mes</th>\n",
       "      <th>Edad</th>\n",
       "      <th>Rango_Edad</th>\n",
       "      <th>Income</th>\n",
       "      <th>Quejas_sca</th>\n",
       "      <th>Incidencias_sca</th>\n",
       "    </tr>\n",
       "  </thead>\n",
       "  <tbody>\n",
       "    <tr>\n",
       "      <th>0</th>\n",
       "      <td>2014-01-01</td>\n",
       "      <td>1</td>\n",
       "      <td>Biasi</td>\n",
       "      <td>Granada</td>\n",
       "      <td>Hombre</td>\n",
       "      <td>España</td>\n",
       "      <td>1959-09-02</td>\n",
       "      <td>Propiedad Parcial</td>\n",
       "      <td>Trabajo Fijo</td>\n",
       "      <td>Casado</td>\n",
       "      <td>2000</td>\n",
       "      <td>13</td>\n",
       "      <td>2018-06-29</td>\n",
       "      <td>1</td>\n",
       "      <td>Casa</td>\n",
       "      <td>Financiado</td>\n",
       "      <td>Promo 0 EUR</td>\n",
       "      <td>399</td>\n",
       "      <td>0</td>\n",
       "      <td>0</td>\n",
       "      <td>622.81</td>\n",
       "      <td>54.369863</td>\n",
       "      <td>50-60</td>\n",
       "      <td>1500-2000</td>\n",
       "      <td>0.000000</td>\n",
       "      <td>0.000000</td>\n",
       "    </tr>\n",
       "    <tr>\n",
       "      <th>1</th>\n",
       "      <td>2014-01-01</td>\n",
       "      <td>2</td>\n",
       "      <td>Biasi</td>\n",
       "      <td>Barcelona</td>\n",
       "      <td>Mujer</td>\n",
       "      <td>España</td>\n",
       "      <td>1971-04-15</td>\n",
       "      <td>Familiar</td>\n",
       "      <td>Parado</td>\n",
       "      <td>Divorciado</td>\n",
       "      <td>600</td>\n",
       "      <td>12</td>\n",
       "      <td>2014-01-01</td>\n",
       "      <td>0</td>\n",
       "      <td>Piso</td>\n",
       "      <td>Financiado</td>\n",
       "      <td>0 - 100 EUR</td>\n",
       "      <td>399</td>\n",
       "      <td>12</td>\n",
       "      <td>4</td>\n",
       "      <td>42.40</td>\n",
       "      <td>42.745205</td>\n",
       "      <td>40-50</td>\n",
       "      <td>0-1000</td>\n",
       "      <td>0.285714</td>\n",
       "      <td>0.235294</td>\n",
       "    </tr>\n",
       "    <tr>\n",
       "      <th>2</th>\n",
       "      <td>2014-01-01</td>\n",
       "      <td>3</td>\n",
       "      <td>Biasi</td>\n",
       "      <td>Madrid</td>\n",
       "      <td>Hombre</td>\n",
       "      <td>España</td>\n",
       "      <td>1968-02-10</td>\n",
       "      <td>Propiedad Total</td>\n",
       "      <td>Trabajo Fijo</td>\n",
       "      <td>Divorciado</td>\n",
       "      <td>2500</td>\n",
       "      <td>14</td>\n",
       "      <td>2014-01-01</td>\n",
       "      <td>0</td>\n",
       "      <td>Piso</td>\n",
       "      <td>Financiado</td>\n",
       "      <td>100 - 200 EUR</td>\n",
       "      <td>499</td>\n",
       "      <td>0</td>\n",
       "      <td>0</td>\n",
       "      <td>68.34</td>\n",
       "      <td>45.923288</td>\n",
       "      <td>40-50</td>\n",
       "      <td>2000-3000</td>\n",
       "      <td>0.000000</td>\n",
       "      <td>0.000000</td>\n",
       "    </tr>\n",
       "    <tr>\n",
       "      <th>3</th>\n",
       "      <td>2014-01-01</td>\n",
       "      <td>4</td>\n",
       "      <td>Biasi</td>\n",
       "      <td>Sevilla</td>\n",
       "      <td>Mujer</td>\n",
       "      <td>España</td>\n",
       "      <td>1968-12-22</td>\n",
       "      <td>Propiedad Parcial</td>\n",
       "      <td>Autonomo</td>\n",
       "      <td>Casado</td>\n",
       "      <td>1800</td>\n",
       "      <td>12</td>\n",
       "      <td>2014-01-01</td>\n",
       "      <td>0</td>\n",
       "      <td>Casa</td>\n",
       "      <td>Financiado</td>\n",
       "      <td>0 - 100 EUR</td>\n",
       "      <td>399</td>\n",
       "      <td>2</td>\n",
       "      <td>0</td>\n",
       "      <td>304.10</td>\n",
       "      <td>45.057534</td>\n",
       "      <td>40-50</td>\n",
       "      <td>1500-2000</td>\n",
       "      <td>0.047619</td>\n",
       "      <td>0.000000</td>\n",
       "    </tr>\n",
       "    <tr>\n",
       "      <th>4</th>\n",
       "      <td>2014-01-01</td>\n",
       "      <td>5</td>\n",
       "      <td>Biasi</td>\n",
       "      <td>Barcelona</td>\n",
       "      <td>Hombre</td>\n",
       "      <td>España</td>\n",
       "      <td>1977-02-22</td>\n",
       "      <td>Propiedad Parcial</td>\n",
       "      <td>Autonomo</td>\n",
       "      <td>Casado</td>\n",
       "      <td>1500</td>\n",
       "      <td>12</td>\n",
       "      <td>2014-01-01</td>\n",
       "      <td>0</td>\n",
       "      <td>Tienda</td>\n",
       "      <td>Financiado</td>\n",
       "      <td>100 - 200 EUR</td>\n",
       "      <td>499</td>\n",
       "      <td>0</td>\n",
       "      <td>0</td>\n",
       "      <td>84.33</td>\n",
       "      <td>36.882192</td>\n",
       "      <td>30-40</td>\n",
       "      <td>1000-1500</td>\n",
       "      <td>0.000000</td>\n",
       "      <td>0.000000</td>\n",
       "    </tr>\n",
       "  </tbody>\n",
       "</table>\n",
       "</div>"
      ],
      "text/plain": [
       "  Fecha Alta Cliente Modelo Caldera  Provincia  Gender    Pais  Born Date  \\\n",
       "0 2014-01-01       1         Biasi     Granada  Hombre  España 1959-09-02   \n",
       "1 2014-01-01       2         Biasi   Barcelona   Mujer  España 1971-04-15   \n",
       "2 2014-01-01       3         Biasi      Madrid  Hombre  España 1968-02-10   \n",
       "3 2014-01-01       4         Biasi     Sevilla   Mujer  España 1968-12-22   \n",
       "4 2014-01-01       5         Biasi   Barcelona  Hombre  España 1977-02-22   \n",
       "\n",
       "      Tipo Propiedad Situacion Laboral Estado Civil  Ingresos  Pagos Anuales  \\\n",
       "0  Propiedad Parcial      Trabajo Fijo       Casado      2000             13   \n",
       "1           Familiar            Parado   Divorciado       600             12   \n",
       "2    Propiedad Total      Trabajo Fijo   Divorciado      2500             14   \n",
       "3  Propiedad Parcial          Autonomo       Casado      1800             12   \n",
       "4  Propiedad Parcial          Autonomo       Casado      1500             12   \n",
       "\n",
       "  Fecha Estado  Estado Tipo Inmueble  Financiado Precio Contado  Precio Total  \\\n",
       "0   2018-06-29       1          Casa  Financiado    Promo 0 EUR           399   \n",
       "1   2014-01-01       0          Piso  Financiado    0 - 100 EUR           399   \n",
       "2   2014-01-01       0          Piso  Financiado  100 - 200 EUR           499   \n",
       "3   2014-01-01       0          Casa  Financiado    0 - 100 EUR           399   \n",
       "4   2014-01-01       0        Tienda  Financiado  100 - 200 EUR           499   \n",
       "\n",
       "   Quejas  Incidencias  Consumo Mes       Edad Rango_Edad     Income  \\\n",
       "0       0            0       622.81  54.369863      50-60  1500-2000   \n",
       "1      12            4        42.40  42.745205      40-50     0-1000   \n",
       "2       0            0        68.34  45.923288      40-50  2000-3000   \n",
       "3       2            0       304.10  45.057534      40-50  1500-2000   \n",
       "4       0            0        84.33  36.882192      30-40  1000-1500   \n",
       "\n",
       "   Quejas_sca  Incidencias_sca  \n",
       "0    0.000000         0.000000  \n",
       "1    0.285714         0.235294  \n",
       "2    0.000000         0.000000  \n",
       "3    0.047619         0.000000  \n",
       "4    0.000000         0.000000  "
      ]
     },
     "execution_count": 26,
     "metadata": {},
     "output_type": "execute_result"
    }
   ],
   "source": [
    "scaler = MinMaxScaler()\n",
    "data['Incidencias_sca'] = scaler.fit_transform(data['Incidencias'].values.reshape(-1, 1))\n",
    "data.head()"
   ]
  },
  {
   "cell_type": "code",
   "execution_count": 27,
   "metadata": {},
   "outputs": [],
   "source": [
    "filename = '../pkl/incidencias_sca.pkl'\n",
    "mt_sca = scaler.fit(data['Incidencias'].values.reshape(-1, 1))\n",
    "\n",
    "pickle.dump(mt_sca, open(filename,'wb'))"
   ]
  },
  {
   "cell_type": "code",
   "execution_count": 28,
   "metadata": {},
   "outputs": [
    {
     "data": {
      "image/png": "[encoded data removed]",
      "text/plain": [
       "<Figure size 432x288 with 1 Axes>"
      ]
     },
     "metadata": {
      "needs_background": "light"
     },
     "output_type": "display_data"
    }
   ],
   "source": [
    "plt.hist(data['Incidencias_sca']);"
   ]
  },
  {
   "cell_type": "code",
   "execution_count": 29,
   "metadata": {},
   "outputs": [
    {
     "data": {
      "text/html": [
       "<div>\n",
       "<style scoped>\n",
       "    .dataframe tbody tr th:only-of-type {\n",
       "        vertical-align: middle;\n",
       "    }\n",
       "\n",
       "    .dataframe tbody tr th {\n",
       "        vertical-align: top;\n",
       "    }\n",
       "\n",
       "    .dataframe thead th {\n",
       "        text-align: right;\n",
       "    }\n",
       "</style>\n",
       "<table border=\"1\" class=\"dataframe\">\n",
       "  <thead>\n",
       "    <tr style=\"text-align: right;\">\n",
       "      <th></th>\n",
       "      <th>Fecha Alta</th>\n",
       "      <th>Cliente</th>\n",
       "      <th>Modelo Caldera</th>\n",
       "      <th>Provincia</th>\n",
       "      <th>Gender</th>\n",
       "      <th>Pais</th>\n",
       "      <th>Born Date</th>\n",
       "      <th>Tipo Propiedad</th>\n",
       "      <th>Situacion Laboral</th>\n",
       "      <th>Estado Civil</th>\n",
       "      <th>Ingresos</th>\n",
       "      <th>Pagos Anuales</th>\n",
       "      <th>Fecha Estado</th>\n",
       "      <th>Estado</th>\n",
       "      <th>Tipo Inmueble</th>\n",
       "      <th>Financiado</th>\n",
       "      <th>Precio Contado</th>\n",
       "      <th>Precio Total</th>\n",
       "      <th>Quejas</th>\n",
       "      <th>Incidencias</th>\n",
       "      <th>Consumo Mes</th>\n",
       "      <th>Edad</th>\n",
       "      <th>Rango_Edad</th>\n",
       "      <th>Income</th>\n",
       "      <th>Quejas_sca</th>\n",
       "      <th>Incidencias_sca</th>\n",
       "      <th>Consumo_sca</th>\n",
       "    </tr>\n",
       "  </thead>\n",
       "  <tbody>\n",
       "    <tr>\n",
       "      <th>0</th>\n",
       "      <td>2014-01-01</td>\n",
       "      <td>1</td>\n",
       "      <td>Biasi</td>\n",
       "      <td>Granada</td>\n",
       "      <td>Hombre</td>\n",
       "      <td>España</td>\n",
       "      <td>1959-09-02</td>\n",
       "      <td>Propiedad Parcial</td>\n",
       "      <td>Trabajo Fijo</td>\n",
       "      <td>Casado</td>\n",
       "      <td>2000</td>\n",
       "      <td>13</td>\n",
       "      <td>2018-06-29</td>\n",
       "      <td>1</td>\n",
       "      <td>Casa</td>\n",
       "      <td>Financiado</td>\n",
       "      <td>Promo 0 EUR</td>\n",
       "      <td>399</td>\n",
       "      <td>0</td>\n",
       "      <td>0</td>\n",
       "      <td>622.81</td>\n",
       "      <td>54.369863</td>\n",
       "      <td>50-60</td>\n",
       "      <td>1500-2000</td>\n",
       "      <td>0.000000</td>\n",
       "      <td>0.000000</td>\n",
       "      <td>0.494132</td>\n",
       "    </tr>\n",
       "    <tr>\n",
       "      <th>1</th>\n",
       "      <td>2014-01-01</td>\n",
       "      <td>2</td>\n",
       "      <td>Biasi</td>\n",
       "      <td>Barcelona</td>\n",
       "      <td>Mujer</td>\n",
       "      <td>España</td>\n",
       "      <td>1971-04-15</td>\n",
       "      <td>Familiar</td>\n",
       "      <td>Parado</td>\n",
       "      <td>Divorciado</td>\n",
       "      <td>600</td>\n",
       "      <td>12</td>\n",
       "      <td>2014-01-01</td>\n",
       "      <td>0</td>\n",
       "      <td>Piso</td>\n",
       "      <td>Financiado</td>\n",
       "      <td>0 - 100 EUR</td>\n",
       "      <td>399</td>\n",
       "      <td>12</td>\n",
       "      <td>4</td>\n",
       "      <td>42.40</td>\n",
       "      <td>42.745205</td>\n",
       "      <td>40-50</td>\n",
       "      <td>0-1000</td>\n",
       "      <td>0.285714</td>\n",
       "      <td>0.235294</td>\n",
       "      <td>0.033595</td>\n",
       "    </tr>\n",
       "    <tr>\n",
       "      <th>2</th>\n",
       "      <td>2014-01-01</td>\n",
       "      <td>3</td>\n",
       "      <td>Biasi</td>\n",
       "      <td>Madrid</td>\n",
       "      <td>Hombre</td>\n",
       "      <td>España</td>\n",
       "      <td>1968-02-10</td>\n",
       "      <td>Propiedad Total</td>\n",
       "      <td>Trabajo Fijo</td>\n",
       "      <td>Divorciado</td>\n",
       "      <td>2500</td>\n",
       "      <td>14</td>\n",
       "      <td>2014-01-01</td>\n",
       "      <td>0</td>\n",
       "      <td>Piso</td>\n",
       "      <td>Financiado</td>\n",
       "      <td>100 - 200 EUR</td>\n",
       "      <td>499</td>\n",
       "      <td>0</td>\n",
       "      <td>0</td>\n",
       "      <td>68.34</td>\n",
       "      <td>45.923288</td>\n",
       "      <td>40-50</td>\n",
       "      <td>2000-3000</td>\n",
       "      <td>0.000000</td>\n",
       "      <td>0.000000</td>\n",
       "      <td>0.054178</td>\n",
       "    </tr>\n",
       "    <tr>\n",
       "      <th>3</th>\n",
       "      <td>2014-01-01</td>\n",
       "      <td>4</td>\n",
       "      <td>Biasi</td>\n",
       "      <td>Sevilla</td>\n",
       "      <td>Mujer</td>\n",
       "      <td>España</td>\n",
       "      <td>1968-12-22</td>\n",
       "      <td>Propiedad Parcial</td>\n",
       "      <td>Autonomo</td>\n",
       "      <td>Casado</td>\n",
       "      <td>1800</td>\n",
       "      <td>12</td>\n",
       "      <td>2014-01-01</td>\n",
       "      <td>0</td>\n",
       "      <td>Casa</td>\n",
       "      <td>Financiado</td>\n",
       "      <td>0 - 100 EUR</td>\n",
       "      <td>399</td>\n",
       "      <td>2</td>\n",
       "      <td>0</td>\n",
       "      <td>304.10</td>\n",
       "      <td>45.057534</td>\n",
       "      <td>40-50</td>\n",
       "      <td>1500-2000</td>\n",
       "      <td>0.047619</td>\n",
       "      <td>0.000000</td>\n",
       "      <td>0.241246</td>\n",
       "    </tr>\n",
       "    <tr>\n",
       "      <th>4</th>\n",
       "      <td>2014-01-01</td>\n",
       "      <td>5</td>\n",
       "      <td>Biasi</td>\n",
       "      <td>Barcelona</td>\n",
       "      <td>Hombre</td>\n",
       "      <td>España</td>\n",
       "      <td>1977-02-22</td>\n",
       "      <td>Propiedad Parcial</td>\n",
       "      <td>Autonomo</td>\n",
       "      <td>Casado</td>\n",
       "      <td>1500</td>\n",
       "      <td>12</td>\n",
       "      <td>2014-01-01</td>\n",
       "      <td>0</td>\n",
       "      <td>Tienda</td>\n",
       "      <td>Financiado</td>\n",
       "      <td>100 - 200 EUR</td>\n",
       "      <td>499</td>\n",
       "      <td>0</td>\n",
       "      <td>0</td>\n",
       "      <td>84.33</td>\n",
       "      <td>36.882192</td>\n",
       "      <td>30-40</td>\n",
       "      <td>1000-1500</td>\n",
       "      <td>0.000000</td>\n",
       "      <td>0.000000</td>\n",
       "      <td>0.066866</td>\n",
       "    </tr>\n",
       "  </tbody>\n",
       "</table>\n",
       "</div>"
      ],
      "text/plain": [
       "  Fecha Alta Cliente Modelo Caldera  Provincia  Gender    Pais  Born Date  \\\n",
       "0 2014-01-01       1         Biasi     Granada  Hombre  España 1959-09-02   \n",
       "1 2014-01-01       2         Biasi   Barcelona   Mujer  España 1971-04-15   \n",
       "2 2014-01-01       3         Biasi      Madrid  Hombre  España 1968-02-10   \n",
       "3 2014-01-01       4         Biasi     Sevilla   Mujer  España 1968-12-22   \n",
       "4 2014-01-01       5         Biasi   Barcelona  Hombre  España 1977-02-22   \n",
       "\n",
       "      Tipo Propiedad Situacion Laboral Estado Civil  Ingresos  Pagos Anuales  \\\n",
       "0  Propiedad Parcial      Trabajo Fijo       Casado      2000             13   \n",
       "1           Familiar            Parado   Divorciado       600             12   \n",
       "2    Propiedad Total      Trabajo Fijo   Divorciado      2500             14   \n",
       "3  Propiedad Parcial          Autonomo       Casado      1800             12   \n",
       "4  Propiedad Parcial          Autonomo       Casado      1500             12   \n",
       "\n",
       "  Fecha Estado  Estado Tipo Inmueble  Financiado Precio Contado  Precio Total  \\\n",
       "0   2018-06-29       1          Casa  Financiado    Promo 0 EUR           399   \n",
       "1   2014-01-01       0          Piso  Financiado    0 - 100 EUR           399   \n",
       "2   2014-01-01       0          Piso  Financiado  100 - 200 EUR           499   \n",
       "3   2014-01-01       0          Casa  Financiado    0 - 100 EUR           399   \n",
       "4   2014-01-01       0        Tienda  Financiado  100 - 200 EUR           499   \n",
       "\n",
       "   Quejas  Incidencias  Consumo Mes       Edad Rango_Edad     Income  \\\n",
       "0       0            0       622.81  54.369863      50-60  1500-2000   \n",
       "1      12            4        42.40  42.745205      40-50     0-1000   \n",
       "2       0            0        68.34  45.923288      40-50  2000-3000   \n",
       "3       2            0       304.10  45.057534      40-50  1500-2000   \n",
       "4       0            0        84.33  36.882192      30-40  1000-1500   \n",
       "\n",
       "   Quejas_sca  Incidencias_sca  Consumo_sca  \n",
       "0    0.000000         0.000000     0.494132  \n",
       "1    0.285714         0.235294     0.033595  \n",
       "2    0.000000         0.000000     0.054178  \n",
       "3    0.047619         0.000000     0.241246  \n",
       "4    0.000000         0.000000     0.066866  "
      ]
     },
     "execution_count": 29,
     "metadata": {},
     "output_type": "execute_result"
    }
   ],
   "source": [
    "scaler = MinMaxScaler()\n",
    "data['Consumo_sca'] = scaler.fit_transform(data['Consumo Mes'].values.reshape(-1, 1))\n",
    "data.head()"
   ]
  },
  {
   "cell_type": "code",
   "execution_count": 30,
   "metadata": {},
   "outputs": [],
   "source": [
    "filename = '../pkl/consumo_sca.pkl'\n",
    "consumo_sca = scaler.fit(data['Consumo Mes'].values.reshape(-1, 1))\n",
    "\n",
    "pickle.dump(consumo_sca, open(filename,'wb'))"
   ]
  },
  {
   "cell_type": "code",
   "execution_count": 31,
   "metadata": {},
   "outputs": [
    {
     "data": {
      "image/png": "[encoded data removed]",
      "text/plain": [
       "<Figure size 432x288 with 1 Axes>"
      ]
     },
     "metadata": {
      "needs_background": "light"
     },
     "output_type": "display_data"
    }
   ],
   "source": [
    "plt.hist(data['Consumo_sca']);"
   ]
  },
  {
   "cell_type": "markdown",
   "metadata": {},
   "source": [
    "#### Checkpoint `.pkl`\n",
    "\n",
    "Creación del checkpoint:"
   ]
  },
  {
   "cell_type": "code",
   "execution_count": 32,
   "metadata": {},
   "outputs": [],
   "source": [
    "filename = '../pkl/data.pkl'\n",
    "\n",
    "pickle.dump(data, open(filename,'wb'))"
   ]
  },
  {
   "cell_type": "markdown",
   "metadata": {},
   "source": [
    "<a name=\"item1\"></a>\n",
    "Carga del checkpoint:"
   ]
  },
  {
   "cell_type": "code",
   "execution_count": 143,
   "metadata": {},
   "outputs": [
    {
     "data": {
      "text/html": [
       "<div>\n",
       "<style scoped>\n",
       "    .dataframe tbody tr th:only-of-type {\n",
       "        vertical-align: middle;\n",
       "    }\n",
       "\n",
       "    .dataframe tbody tr th {\n",
       "        vertical-align: top;\n",
       "    }\n",
       "\n",
       "    .dataframe thead th {\n",
       "        text-align: right;\n",
       "    }\n",
       "</style>\n",
       "<table border=\"1\" class=\"dataframe\">\n",
       "  <thead>\n",
       "    <tr style=\"text-align: right;\">\n",
       "      <th></th>\n",
       "      <th>Fecha Alta</th>\n",
       "      <th>Cliente</th>\n",
       "      <th>Modelo Caldera</th>\n",
       "      <th>Provincia</th>\n",
       "      <th>Gender</th>\n",
       "      <th>Pais</th>\n",
       "      <th>Born Date</th>\n",
       "      <th>Tipo Propiedad</th>\n",
       "      <th>Situacion Laboral</th>\n",
       "      <th>Estado Civil</th>\n",
       "      <th>Ingresos</th>\n",
       "      <th>Pagos Anuales</th>\n",
       "      <th>Fecha Estado</th>\n",
       "      <th>Estado</th>\n",
       "      <th>Tipo Inmueble</th>\n",
       "      <th>Financiado</th>\n",
       "      <th>Precio Contado</th>\n",
       "      <th>Precio Total</th>\n",
       "      <th>Quejas</th>\n",
       "      <th>Incidencias</th>\n",
       "      <th>Consumo Mes</th>\n",
       "      <th>Edad</th>\n",
       "      <th>Rango_Edad</th>\n",
       "      <th>Income</th>\n",
       "      <th>Dias_Activo</th>\n",
       "      <th>Dias_Activo_sca</th>\n",
       "      <th>Quejas_sca</th>\n",
       "      <th>Incidencias_sca</th>\n",
       "      <th>Consumo_sca</th>\n",
       "    </tr>\n",
       "  </thead>\n",
       "  <tbody>\n",
       "    <tr>\n",
       "      <th>0</th>\n",
       "      <td>2014-01-01</td>\n",
       "      <td>1</td>\n",
       "      <td>Biasi</td>\n",
       "      <td>Granada</td>\n",
       "      <td>Hombre</td>\n",
       "      <td>España</td>\n",
       "      <td>1959-09-02</td>\n",
       "      <td>Propiedad Parcial</td>\n",
       "      <td>Trabajo Fijo</td>\n",
       "      <td>Casado</td>\n",
       "      <td>2000</td>\n",
       "      <td>13</td>\n",
       "      <td>2018-06-29</td>\n",
       "      <td>1</td>\n",
       "      <td>Casa</td>\n",
       "      <td>Financiado</td>\n",
       "      <td>Promo 0 EUR</td>\n",
       "      <td>399</td>\n",
       "      <td>0</td>\n",
       "      <td>0</td>\n",
       "      <td>622.81</td>\n",
       "      <td>58.863014</td>\n",
       "      <td>50-60</td>\n",
       "      <td>1500-2000</td>\n",
       "      <td>1640</td>\n",
       "      <td>0.638578</td>\n",
       "      <td>0.000000</td>\n",
       "      <td>0.000000</td>\n",
       "      <td>0.494132</td>\n",
       "    </tr>\n",
       "    <tr>\n",
       "      <th>1</th>\n",
       "      <td>2014-01-01</td>\n",
       "      <td>2</td>\n",
       "      <td>Biasi</td>\n",
       "      <td>Barcelona</td>\n",
       "      <td>Mujer</td>\n",
       "      <td>España</td>\n",
       "      <td>1971-04-15</td>\n",
       "      <td>Familiar</td>\n",
       "      <td>Parado</td>\n",
       "      <td>Divorciado</td>\n",
       "      <td>600</td>\n",
       "      <td>12</td>\n",
       "      <td>2014-01-01</td>\n",
       "      <td>0</td>\n",
       "      <td>Piso</td>\n",
       "      <td>Financiado</td>\n",
       "      <td>0 - 100 EUR</td>\n",
       "      <td>399</td>\n",
       "      <td>12</td>\n",
       "      <td>4</td>\n",
       "      <td>42.40</td>\n",
       "      <td>49.800000</td>\n",
       "      <td>40-50</td>\n",
       "      <td>0-1000</td>\n",
       "      <td>2575</td>\n",
       "      <td>1.000000</td>\n",
       "      <td>0.285714</td>\n",
       "      <td>0.235294</td>\n",
       "      <td>0.033595</td>\n",
       "    </tr>\n",
       "    <tr>\n",
       "      <th>2</th>\n",
       "      <td>2014-01-01</td>\n",
       "      <td>3</td>\n",
       "      <td>Biasi</td>\n",
       "      <td>Madrid</td>\n",
       "      <td>Hombre</td>\n",
       "      <td>España</td>\n",
       "      <td>1968-02-10</td>\n",
       "      <td>Propiedad Total</td>\n",
       "      <td>Trabajo Fijo</td>\n",
       "      <td>Divorciado</td>\n",
       "      <td>2500</td>\n",
       "      <td>14</td>\n",
       "      <td>2014-01-01</td>\n",
       "      <td>0</td>\n",
       "      <td>Piso</td>\n",
       "      <td>Financiado</td>\n",
       "      <td>100 - 200 EUR</td>\n",
       "      <td>499</td>\n",
       "      <td>0</td>\n",
       "      <td>0</td>\n",
       "      <td>68.34</td>\n",
       "      <td>52.978082</td>\n",
       "      <td>50-60</td>\n",
       "      <td>2000-3000</td>\n",
       "      <td>2575</td>\n",
       "      <td>1.000000</td>\n",
       "      <td>0.000000</td>\n",
       "      <td>0.000000</td>\n",
       "      <td>0.054178</td>\n",
       "    </tr>\n",
       "    <tr>\n",
       "      <th>3</th>\n",
       "      <td>2014-01-01</td>\n",
       "      <td>4</td>\n",
       "      <td>Biasi</td>\n",
       "      <td>Sevilla</td>\n",
       "      <td>Mujer</td>\n",
       "      <td>España</td>\n",
       "      <td>1968-12-22</td>\n",
       "      <td>Propiedad Parcial</td>\n",
       "      <td>Autonomo</td>\n",
       "      <td>Casado</td>\n",
       "      <td>1800</td>\n",
       "      <td>12</td>\n",
       "      <td>2014-01-01</td>\n",
       "      <td>0</td>\n",
       "      <td>Casa</td>\n",
       "      <td>Financiado</td>\n",
       "      <td>0 - 100 EUR</td>\n",
       "      <td>399</td>\n",
       "      <td>2</td>\n",
       "      <td>0</td>\n",
       "      <td>304.10</td>\n",
       "      <td>52.112329</td>\n",
       "      <td>50-60</td>\n",
       "      <td>1500-2000</td>\n",
       "      <td>2575</td>\n",
       "      <td>1.000000</td>\n",
       "      <td>0.047619</td>\n",
       "      <td>0.000000</td>\n",
       "      <td>0.241246</td>\n",
       "    </tr>\n",
       "    <tr>\n",
       "      <th>4</th>\n",
       "      <td>2014-01-01</td>\n",
       "      <td>5</td>\n",
       "      <td>Biasi</td>\n",
       "      <td>Barcelona</td>\n",
       "      <td>Hombre</td>\n",
       "      <td>España</td>\n",
       "      <td>1977-02-22</td>\n",
       "      <td>Propiedad Parcial</td>\n",
       "      <td>Autonomo</td>\n",
       "      <td>Casado</td>\n",
       "      <td>1500</td>\n",
       "      <td>12</td>\n",
       "      <td>2014-01-01</td>\n",
       "      <td>0</td>\n",
       "      <td>Tienda</td>\n",
       "      <td>Financiado</td>\n",
       "      <td>100 - 200 EUR</td>\n",
       "      <td>499</td>\n",
       "      <td>0</td>\n",
       "      <td>0</td>\n",
       "      <td>84.33</td>\n",
       "      <td>43.936986</td>\n",
       "      <td>40-50</td>\n",
       "      <td>1000-1500</td>\n",
       "      <td>2575</td>\n",
       "      <td>1.000000</td>\n",
       "      <td>0.000000</td>\n",
       "      <td>0.000000</td>\n",
       "      <td>0.066866</td>\n",
       "    </tr>\n",
       "  </tbody>\n",
       "</table>\n",
       "</div>"
      ],
      "text/plain": [
       "  Fecha Alta Cliente Modelo Caldera  Provincia  Gender    Pais  Born Date  \\\n",
       "0 2014-01-01       1         Biasi     Granada  Hombre  España 1959-09-02   \n",
       "1 2014-01-01       2         Biasi   Barcelona   Mujer  España 1971-04-15   \n",
       "2 2014-01-01       3         Biasi      Madrid  Hombre  España 1968-02-10   \n",
       "3 2014-01-01       4         Biasi     Sevilla   Mujer  España 1968-12-22   \n",
       "4 2014-01-01       5         Biasi   Barcelona  Hombre  España 1977-02-22   \n",
       "\n",
       "      Tipo Propiedad Situacion Laboral Estado Civil  Ingresos  Pagos Anuales  \\\n",
       "0  Propiedad Parcial      Trabajo Fijo       Casado      2000             13   \n",
       "1           Familiar            Parado   Divorciado       600             12   \n",
       "2    Propiedad Total      Trabajo Fijo   Divorciado      2500             14   \n",
       "3  Propiedad Parcial          Autonomo       Casado      1800             12   \n",
       "4  Propiedad Parcial          Autonomo       Casado      1500             12   \n",
       "\n",
       "  Fecha Estado  Estado Tipo Inmueble  Financiado Precio Contado  Precio Total  \\\n",
       "0   2018-06-29       1          Casa  Financiado    Promo 0 EUR           399   \n",
       "1   2014-01-01       0          Piso  Financiado    0 - 100 EUR           399   \n",
       "2   2014-01-01       0          Piso  Financiado  100 - 200 EUR           499   \n",
       "3   2014-01-01       0          Casa  Financiado    0 - 100 EUR           399   \n",
       "4   2014-01-01       0        Tienda  Financiado  100 - 200 EUR           499   \n",
       "\n",
       "   Quejas  Incidencias  Consumo Mes       Edad Rango_Edad     Income  \\\n",
       "0       0            0       622.81  58.863014      50-60  1500-2000   \n",
       "1      12            4        42.40  49.800000      40-50     0-1000   \n",
       "2       0            0        68.34  52.978082      50-60  2000-3000   \n",
       "3       2            0       304.10  52.112329      50-60  1500-2000   \n",
       "4       0            0        84.33  43.936986      40-50  1000-1500   \n",
       "\n",
       "   Dias_Activo  Dias_Activo_sca  Quejas_sca  Incidencias_sca  Consumo_sca  \n",
       "0         1640         0.638578    0.000000         0.000000     0.494132  \n",
       "1         2575         1.000000    0.285714         0.235294     0.033595  \n",
       "2         2575         1.000000    0.000000         0.000000     0.054178  \n",
       "3         2575         1.000000    0.047619         0.000000     0.241246  \n",
       "4         2575         1.000000    0.000000         0.000000     0.066866  "
      ]
     },
     "execution_count": 143,
     "metadata": {},
     "output_type": "execute_result"
    }
   ],
   "source": [
    "filename = '../pkl/data.pkl'\n",
    "data = pickle.load(open(filename, 'rb'))\n",
    "data.head()"
   ]
  },
  {
   "cell_type": "markdown",
   "metadata": {},
   "source": [
    "## Enconding con ``target encoding``"
   ]
  },
  {
   "cell_type": "code",
   "execution_count": 33,
   "metadata": {},
   "outputs": [
    {
     "data": {
      "text/plain": [
       "Index(['Fecha Alta', 'Cliente', 'Modelo Caldera', 'Provincia', 'Gender',\n",
       "       'Pais', 'Born Date', 'Tipo Propiedad', 'Situacion Laboral',\n",
       "       'Estado Civil', 'Ingresos', 'Pagos Anuales', 'Fecha Estado', 'Estado',\n",
       "       'Tipo Inmueble', 'Financiado', 'Precio Contado', 'Precio Total',\n",
       "       'Quejas', 'Incidencias', 'Consumo Mes', 'Edad', 'Rango_Edad', 'Income',\n",
       "       'Quejas_sca', 'Incidencias_sca', 'Consumo_sca'],\n",
       "      dtype='object')"
      ]
     },
     "execution_count": 33,
     "metadata": {},
     "output_type": "execute_result"
    }
   ],
   "source": [
    "data.columns"
   ]
  },
  {
   "cell_type": "code",
   "execution_count": 34,
   "metadata": {
    "scrolled": true
   },
   "outputs": [
    {
     "data": {
      "text/plain": [
       "Index(['Gender', 'Tipo Inmueble', 'Tipo Propiedad', 'Situacion Laboral',\n",
       "       'Estado Civil', 'Provincia', 'Pais', 'Rango_Edad', 'Income',\n",
       "       'Precio Contado', 'Pagos Anuales', 'Precio Total', 'Quejas_sca',\n",
       "       'Incidencias_sca', 'Consumo_sca', 'Estado'],\n",
       "      dtype='object')"
      ]
     },
     "execution_count": 34,
     "metadata": {},
     "output_type": "execute_result"
    }
   ],
   "source": [
    "data_filtered = data[['Gender', 'Tipo Inmueble', 'Tipo Propiedad', 'Situacion Laboral', 'Estado Civil', \n",
    "                      'Provincia', 'Pais', 'Rango_Edad', 'Income', 'Precio Contado', 'Pagos Anuales', 'Precio Total',\n",
    "                      'Quejas_sca', 'Incidencias_sca', 'Consumo_sca', 'Estado']]\n",
    "data_filtered.columns"
   ]
  },
  {
   "cell_type": "code",
   "execution_count": 35,
   "metadata": {},
   "outputs": [],
   "source": [
    "X = data_filtered.drop(['Estado'],axis=1)\n",
    "y = data_filtered['Estado']"
   ]
  },
  {
   "cell_type": "code",
   "execution_count": 36,
   "metadata": {},
   "outputs": [],
   "source": [
    "from sklearn.model_selection import train_test_split\n",
    "X_train_prev, X_test, y_train, y_test = train_test_split(X, y, test_size = 0.2, random_state = 0, stratify = y)"
   ]
  },
  {
   "cell_type": "code",
   "execution_count": 37,
   "metadata": {},
   "outputs": [],
   "source": [
    "features_TE = ['Gender', 'Tipo Inmueble', 'Tipo Propiedad', 'Situacion Laboral', 'Estado Civil', 'Precio Total',\n",
    "               'Provincia', 'Pais', 'Rango_Edad', 'Income', 'Precio Contado', 'Pagos Anuales']"
   ]
  },
  {
   "cell_type": "code",
   "execution_count": 38,
   "metadata": {},
   "outputs": [],
   "source": [
    "from category_encoders import TargetEncoder\n",
    "\n",
    "TE_encoder = TargetEncoder(cols=features_TE)"
   ]
  },
  {
   "cell_type": "code",
   "execution_count": 39,
   "metadata": {},
   "outputs": [
    {
     "data": {
      "text/html": [
       "<div>\n",
       "<style scoped>\n",
       "    .dataframe tbody tr th:only-of-type {\n",
       "        vertical-align: middle;\n",
       "    }\n",
       "\n",
       "    .dataframe tbody tr th {\n",
       "        vertical-align: top;\n",
       "    }\n",
       "\n",
       "    .dataframe thead th {\n",
       "        text-align: right;\n",
       "    }\n",
       "</style>\n",
       "<table border=\"1\" class=\"dataframe\">\n",
       "  <thead>\n",
       "    <tr style=\"text-align: right;\">\n",
       "      <th></th>\n",
       "      <th>Gender</th>\n",
       "      <th>Tipo Inmueble</th>\n",
       "      <th>Tipo Propiedad</th>\n",
       "      <th>Situacion Laboral</th>\n",
       "      <th>Estado Civil</th>\n",
       "      <th>Provincia</th>\n",
       "      <th>Pais</th>\n",
       "      <th>Rango_Edad</th>\n",
       "      <th>Income</th>\n",
       "      <th>Precio Contado</th>\n",
       "      <th>Pagos Anuales</th>\n",
       "      <th>Precio Total</th>\n",
       "      <th>Quejas_sca</th>\n",
       "      <th>Incidencias_sca</th>\n",
       "      <th>Consumo_sca</th>\n",
       "    </tr>\n",
       "  </thead>\n",
       "  <tbody>\n",
       "    <tr>\n",
       "      <th>290873</th>\n",
       "      <td>Hombre</td>\n",
       "      <td>Piso</td>\n",
       "      <td>Propiedad Parcial</td>\n",
       "      <td>Trabajo Fijo</td>\n",
       "      <td>Casado</td>\n",
       "      <td>Guadalajara</td>\n",
       "      <td>España</td>\n",
       "      <td>40-50</td>\n",
       "      <td>1500-2000</td>\n",
       "      <td>100 - 200 EUR</td>\n",
       "      <td>14</td>\n",
       "      <td>499</td>\n",
       "      <td>0.0</td>\n",
       "      <td>0.000000</td>\n",
       "      <td>0.092804</td>\n",
       "    </tr>\n",
       "    <tr>\n",
       "      <th>132279</th>\n",
       "      <td>Hombre</td>\n",
       "      <td>Casa</td>\n",
       "      <td>Propiedad Parcial</td>\n",
       "      <td>Trabajo Fijo</td>\n",
       "      <td>Casado</td>\n",
       "      <td>Madrid</td>\n",
       "      <td>España</td>\n",
       "      <td>40-50</td>\n",
       "      <td>1000-1500</td>\n",
       "      <td>Promo 0 EUR</td>\n",
       "      <td>12</td>\n",
       "      <td>399</td>\n",
       "      <td>0.0</td>\n",
       "      <td>0.000000</td>\n",
       "      <td>0.232026</td>\n",
       "    </tr>\n",
       "    <tr>\n",
       "      <th>371742</th>\n",
       "      <td>Hombre</td>\n",
       "      <td>Chalet</td>\n",
       "      <td>Propiedad Total</td>\n",
       "      <td>Autonomo</td>\n",
       "      <td>Divorciado</td>\n",
       "      <td>Barcelona</td>\n",
       "      <td>España</td>\n",
       "      <td>50-60</td>\n",
       "      <td>1500-2000</td>\n",
       "      <td>100 - 200 EUR</td>\n",
       "      <td>12</td>\n",
       "      <td>499</td>\n",
       "      <td>0.0</td>\n",
       "      <td>0.000000</td>\n",
       "      <td>0.158225</td>\n",
       "    </tr>\n",
       "    <tr>\n",
       "      <th>388085</th>\n",
       "      <td>Hombre</td>\n",
       "      <td>Piso</td>\n",
       "      <td>Propiedad Total</td>\n",
       "      <td>Autonomo</td>\n",
       "      <td>Casado</td>\n",
       "      <td>Malaga</td>\n",
       "      <td>España</td>\n",
       "      <td>60-70</td>\n",
       "      <td>1500-2000</td>\n",
       "      <td>100 - 200 EUR</td>\n",
       "      <td>12</td>\n",
       "      <td>499</td>\n",
       "      <td>0.0</td>\n",
       "      <td>0.294118</td>\n",
       "      <td>0.056074</td>\n",
       "    </tr>\n",
       "    <tr>\n",
       "      <th>12536</th>\n",
       "      <td>Hombre</td>\n",
       "      <td>Casa</td>\n",
       "      <td>Propiedad Parcial</td>\n",
       "      <td>Autonomo</td>\n",
       "      <td>Casado</td>\n",
       "      <td>Almeria</td>\n",
       "      <td>España</td>\n",
       "      <td>30-40</td>\n",
       "      <td>1000-1500</td>\n",
       "      <td>Promo 0 EUR</td>\n",
       "      <td>12</td>\n",
       "      <td>399</td>\n",
       "      <td>0.0</td>\n",
       "      <td>0.000000</td>\n",
       "      <td>0.266185</td>\n",
       "    </tr>\n",
       "  </tbody>\n",
       "</table>\n",
       "</div>"
      ],
      "text/plain": [
       "        Gender Tipo Inmueble     Tipo Propiedad Situacion Laboral  \\\n",
       "290873  Hombre          Piso  Propiedad Parcial      Trabajo Fijo   \n",
       "132279  Hombre          Casa  Propiedad Parcial      Trabajo Fijo   \n",
       "371742  Hombre        Chalet    Propiedad Total          Autonomo   \n",
       "388085  Hombre          Piso    Propiedad Total          Autonomo   \n",
       "12536   Hombre          Casa  Propiedad Parcial          Autonomo   \n",
       "\n",
       "       Estado Civil    Provincia    Pais Rango_Edad     Income Precio Contado  \\\n",
       "290873       Casado  Guadalajara  España      40-50  1500-2000  100 - 200 EUR   \n",
       "132279       Casado       Madrid  España      40-50  1000-1500    Promo 0 EUR   \n",
       "371742   Divorciado    Barcelona  España      50-60  1500-2000  100 - 200 EUR   \n",
       "388085       Casado       Malaga  España      60-70  1500-2000  100 - 200 EUR   \n",
       "12536        Casado      Almeria  España      30-40  1000-1500    Promo 0 EUR   \n",
       "\n",
       "        Pagos Anuales  Precio Total  Quejas_sca  Incidencias_sca  Consumo_sca  \n",
       "290873             14           499         0.0         0.000000     0.092804  \n",
       "132279             12           399         0.0         0.000000     0.232026  \n",
       "371742             12           499         0.0         0.000000     0.158225  \n",
       "388085             12           499         0.0         0.294118     0.056074  \n",
       "12536              12           399         0.0         0.000000     0.266185  "
      ]
     },
     "execution_count": 39,
     "metadata": {},
     "output_type": "execute_result"
    }
   ],
   "source": [
    "X_train_prev.head()"
   ]
  },
  {
   "cell_type": "code",
   "execution_count": 40,
   "metadata": {},
   "outputs": [
    {
     "name": "stderr",
     "output_type": "stream",
     "text": [
      "C:\\Users\\alber\\anaconda3\\lib\\site-packages\\category_encoders\\utils.py:21: FutureWarning: is_categorical is deprecated and will be removed in a future version.  Use is_categorical_dtype instead\n",
      "  elif pd.api.types.is_categorical(cols):\n"
     ]
    },
    {
     "data": {
      "text/html": [
       "<div>\n",
       "<style scoped>\n",
       "    .dataframe tbody tr th:only-of-type {\n",
       "        vertical-align: middle;\n",
       "    }\n",
       "\n",
       "    .dataframe tbody tr th {\n",
       "        vertical-align: top;\n",
       "    }\n",
       "\n",
       "    .dataframe thead th {\n",
       "        text-align: right;\n",
       "    }\n",
       "</style>\n",
       "<table border=\"1\" class=\"dataframe\">\n",
       "  <thead>\n",
       "    <tr style=\"text-align: right;\">\n",
       "      <th></th>\n",
       "      <th>Gender</th>\n",
       "      <th>Tipo Inmueble</th>\n",
       "      <th>Tipo Propiedad</th>\n",
       "      <th>Situacion Laboral</th>\n",
       "      <th>Estado Civil</th>\n",
       "      <th>Provincia</th>\n",
       "      <th>Pais</th>\n",
       "      <th>Rango_Edad</th>\n",
       "      <th>Income</th>\n",
       "      <th>Precio Contado</th>\n",
       "      <th>Pagos Anuales</th>\n",
       "      <th>Precio Total</th>\n",
       "      <th>Quejas_sca</th>\n",
       "      <th>Incidencias_sca</th>\n",
       "      <th>Consumo_sca</th>\n",
       "    </tr>\n",
       "  </thead>\n",
       "  <tbody>\n",
       "    <tr>\n",
       "      <th>290873</th>\n",
       "      <td>0.234403</td>\n",
       "      <td>0.180630</td>\n",
       "      <td>0.255310</td>\n",
       "      <td>0.196445</td>\n",
       "      <td>0.206019</td>\n",
       "      <td>0.180633</td>\n",
       "      <td>0.229953</td>\n",
       "      <td>0.248319</td>\n",
       "      <td>0.223324</td>\n",
       "      <td>0.219361</td>\n",
       "      <td>0.197137</td>\n",
       "      <td>0.225737</td>\n",
       "      <td>0.0</td>\n",
       "      <td>0.000000</td>\n",
       "      <td>0.092804</td>\n",
       "    </tr>\n",
       "    <tr>\n",
       "      <th>132279</th>\n",
       "      <td>0.234403</td>\n",
       "      <td>0.196753</td>\n",
       "      <td>0.255310</td>\n",
       "      <td>0.196445</td>\n",
       "      <td>0.206019</td>\n",
       "      <td>0.219032</td>\n",
       "      <td>0.229953</td>\n",
       "      <td>0.248319</td>\n",
       "      <td>0.243846</td>\n",
       "      <td>0.268617</td>\n",
       "      <td>0.280445</td>\n",
       "      <td>0.275771</td>\n",
       "      <td>0.0</td>\n",
       "      <td>0.000000</td>\n",
       "      <td>0.232026</td>\n",
       "    </tr>\n",
       "    <tr>\n",
       "      <th>371742</th>\n",
       "      <td>0.234403</td>\n",
       "      <td>0.187376</td>\n",
       "      <td>0.207953</td>\n",
       "      <td>0.325414</td>\n",
       "      <td>0.306967</td>\n",
       "      <td>0.179649</td>\n",
       "      <td>0.229953</td>\n",
       "      <td>0.186532</td>\n",
       "      <td>0.223324</td>\n",
       "      <td>0.219361</td>\n",
       "      <td>0.280445</td>\n",
       "      <td>0.225737</td>\n",
       "      <td>0.0</td>\n",
       "      <td>0.000000</td>\n",
       "      <td>0.158225</td>\n",
       "    </tr>\n",
       "    <tr>\n",
       "      <th>388085</th>\n",
       "      <td>0.234403</td>\n",
       "      <td>0.180630</td>\n",
       "      <td>0.207953</td>\n",
       "      <td>0.325414</td>\n",
       "      <td>0.206019</td>\n",
       "      <td>0.222954</td>\n",
       "      <td>0.229953</td>\n",
       "      <td>0.139265</td>\n",
       "      <td>0.223324</td>\n",
       "      <td>0.219361</td>\n",
       "      <td>0.280445</td>\n",
       "      <td>0.225737</td>\n",
       "      <td>0.0</td>\n",
       "      <td>0.294118</td>\n",
       "      <td>0.056074</td>\n",
       "    </tr>\n",
       "    <tr>\n",
       "      <th>12536</th>\n",
       "      <td>0.234403</td>\n",
       "      <td>0.196753</td>\n",
       "      <td>0.255310</td>\n",
       "      <td>0.325414</td>\n",
       "      <td>0.206019</td>\n",
       "      <td>0.252150</td>\n",
       "      <td>0.229953</td>\n",
       "      <td>0.338342</td>\n",
       "      <td>0.243846</td>\n",
       "      <td>0.268617</td>\n",
       "      <td>0.280445</td>\n",
       "      <td>0.275771</td>\n",
       "      <td>0.0</td>\n",
       "      <td>0.000000</td>\n",
       "      <td>0.266185</td>\n",
       "    </tr>\n",
       "  </tbody>\n",
       "</table>\n",
       "</div>"
      ],
      "text/plain": [
       "          Gender  Tipo Inmueble  Tipo Propiedad  Situacion Laboral  \\\n",
       "290873  0.234403       0.180630        0.255310           0.196445   \n",
       "132279  0.234403       0.196753        0.255310           0.196445   \n",
       "371742  0.234403       0.187376        0.207953           0.325414   \n",
       "388085  0.234403       0.180630        0.207953           0.325414   \n",
       "12536   0.234403       0.196753        0.255310           0.325414   \n",
       "\n",
       "        Estado Civil  Provincia      Pais  Rango_Edad    Income  \\\n",
       "290873      0.206019   0.180633  0.229953    0.248319  0.223324   \n",
       "132279      0.206019   0.219032  0.229953    0.248319  0.243846   \n",
       "371742      0.306967   0.179649  0.229953    0.186532  0.223324   \n",
       "388085      0.206019   0.222954  0.229953    0.139265  0.223324   \n",
       "12536       0.206019   0.252150  0.229953    0.338342  0.243846   \n",
       "\n",
       "        Precio Contado  Pagos Anuales  Precio Total  Quejas_sca  \\\n",
       "290873        0.219361       0.197137      0.225737         0.0   \n",
       "132279        0.268617       0.280445      0.275771         0.0   \n",
       "371742        0.219361       0.280445      0.225737         0.0   \n",
       "388085        0.219361       0.280445      0.225737         0.0   \n",
       "12536         0.268617       0.280445      0.275771         0.0   \n",
       "\n",
       "        Incidencias_sca  Consumo_sca  \n",
       "290873         0.000000     0.092804  \n",
       "132279         0.000000     0.232026  \n",
       "371742         0.000000     0.158225  \n",
       "388085         0.294118     0.056074  \n",
       "12536          0.000000     0.266185  "
      ]
     },
     "execution_count": 40,
     "metadata": {},
     "output_type": "execute_result"
    }
   ],
   "source": [
    "TE_encoder.fit(X_train_prev, y_train)\n",
    "X_train = TE_encoder.transform(X_train_prev)\n",
    "X_train.head()"
   ]
  },
  {
   "cell_type": "code",
   "execution_count": 41,
   "metadata": {},
   "outputs": [
    {
     "name": "stderr",
     "output_type": "stream",
     "text": [
      "C:\\Users\\alber\\anaconda3\\lib\\site-packages\\category_encoders\\utils.py:21: FutureWarning: is_categorical is deprecated and will be removed in a future version.  Use is_categorical_dtype instead\n",
      "  elif pd.api.types.is_categorical(cols):\n"
     ]
    }
   ],
   "source": [
    "filename = '../pkl/TE_encoder.pkl'\n",
    "\n",
    "pickle.dump(TE_encoder.fit(X_train_prev, y_train), open(filename,'wb'))"
   ]
  },
  {
   "cell_type": "code",
   "execution_count": 42,
   "metadata": {
    "scrolled": true
   },
   "outputs": [
    {
     "data": {
      "text/html": [
       "<div>\n",
       "<style scoped>\n",
       "    .dataframe tbody tr th:only-of-type {\n",
       "        vertical-align: middle;\n",
       "    }\n",
       "\n",
       "    .dataframe tbody tr th {\n",
       "        vertical-align: top;\n",
       "    }\n",
       "\n",
       "    .dataframe thead th {\n",
       "        text-align: right;\n",
       "    }\n",
       "</style>\n",
       "<table border=\"1\" class=\"dataframe\">\n",
       "  <thead>\n",
       "    <tr style=\"text-align: right;\">\n",
       "      <th></th>\n",
       "      <th>Gender</th>\n",
       "      <th>Tipo Inmueble</th>\n",
       "      <th>Tipo Propiedad</th>\n",
       "      <th>Situacion Laboral</th>\n",
       "      <th>Estado Civil</th>\n",
       "      <th>Provincia</th>\n",
       "      <th>Pais</th>\n",
       "      <th>Rango_Edad</th>\n",
       "      <th>Income</th>\n",
       "      <th>Precio Contado</th>\n",
       "      <th>Pagos Anuales</th>\n",
       "      <th>Precio Total</th>\n",
       "      <th>Quejas_sca</th>\n",
       "      <th>Incidencias_sca</th>\n",
       "      <th>Consumo_sca</th>\n",
       "    </tr>\n",
       "  </thead>\n",
       "  <tbody>\n",
       "    <tr>\n",
       "      <th>157610</th>\n",
       "      <td>0.234403</td>\n",
       "      <td>0.196753</td>\n",
       "      <td>0.207953</td>\n",
       "      <td>0.325414</td>\n",
       "      <td>0.206019</td>\n",
       "      <td>0.219032</td>\n",
       "      <td>0.229953</td>\n",
       "      <td>0.139265</td>\n",
       "      <td>0.223324</td>\n",
       "      <td>0.219361</td>\n",
       "      <td>0.280445</td>\n",
       "      <td>0.225737</td>\n",
       "      <td>0.047619</td>\n",
       "      <td>0.0</td>\n",
       "      <td>0.401622</td>\n",
       "    </tr>\n",
       "    <tr>\n",
       "      <th>31322</th>\n",
       "      <td>0.234403</td>\n",
       "      <td>0.180630</td>\n",
       "      <td>0.207953</td>\n",
       "      <td>0.196445</td>\n",
       "      <td>0.336110</td>\n",
       "      <td>0.219032</td>\n",
       "      <td>0.229953</td>\n",
       "      <td>0.248319</td>\n",
       "      <td>0.243846</td>\n",
       "      <td>0.219361</td>\n",
       "      <td>0.280445</td>\n",
       "      <td>0.225737</td>\n",
       "      <td>0.000000</td>\n",
       "      <td>0.0</td>\n",
       "      <td>0.075800</td>\n",
       "    </tr>\n",
       "    <tr>\n",
       "      <th>194288</th>\n",
       "      <td>0.234403</td>\n",
       "      <td>0.196753</td>\n",
       "      <td>0.207953</td>\n",
       "      <td>0.196445</td>\n",
       "      <td>0.306967</td>\n",
       "      <td>0.273662</td>\n",
       "      <td>0.229953</td>\n",
       "      <td>0.248319</td>\n",
       "      <td>0.243846</td>\n",
       "      <td>0.219361</td>\n",
       "      <td>0.280445</td>\n",
       "      <td>0.225737</td>\n",
       "      <td>0.000000</td>\n",
       "      <td>0.0</td>\n",
       "      <td>0.173555</td>\n",
       "    </tr>\n",
       "    <tr>\n",
       "      <th>105930</th>\n",
       "      <td>0.234403</td>\n",
       "      <td>0.196753</td>\n",
       "      <td>0.207953</td>\n",
       "      <td>0.196445</td>\n",
       "      <td>0.206019</td>\n",
       "      <td>0.179649</td>\n",
       "      <td>0.229953</td>\n",
       "      <td>0.186532</td>\n",
       "      <td>0.243846</td>\n",
       "      <td>0.209616</td>\n",
       "      <td>0.280445</td>\n",
       "      <td>0.210503</td>\n",
       "      <td>0.000000</td>\n",
       "      <td>0.0</td>\n",
       "      <td>0.436273</td>\n",
       "    </tr>\n",
       "    <tr>\n",
       "      <th>446517</th>\n",
       "      <td>0.234403</td>\n",
       "      <td>0.180630</td>\n",
       "      <td>0.207953</td>\n",
       "      <td>0.196445</td>\n",
       "      <td>0.206019</td>\n",
       "      <td>0.219032</td>\n",
       "      <td>0.229953</td>\n",
       "      <td>0.248319</td>\n",
       "      <td>0.223324</td>\n",
       "      <td>0.191388</td>\n",
       "      <td>0.197137</td>\n",
       "      <td>0.224692</td>\n",
       "      <td>0.023810</td>\n",
       "      <td>0.0</td>\n",
       "      <td>0.063049</td>\n",
       "    </tr>\n",
       "  </tbody>\n",
       "</table>\n",
       "</div>"
      ],
      "text/plain": [
       "          Gender  Tipo Inmueble  Tipo Propiedad  Situacion Laboral  \\\n",
       "157610  0.234403       0.196753        0.207953           0.325414   \n",
       "31322   0.234403       0.180630        0.207953           0.196445   \n",
       "194288  0.234403       0.196753        0.207953           0.196445   \n",
       "105930  0.234403       0.196753        0.207953           0.196445   \n",
       "446517  0.234403       0.180630        0.207953           0.196445   \n",
       "\n",
       "        Estado Civil  Provincia      Pais  Rango_Edad    Income  \\\n",
       "157610      0.206019   0.219032  0.229953    0.139265  0.223324   \n",
       "31322       0.336110   0.219032  0.229953    0.248319  0.243846   \n",
       "194288      0.306967   0.273662  0.229953    0.248319  0.243846   \n",
       "105930      0.206019   0.179649  0.229953    0.186532  0.243846   \n",
       "446517      0.206019   0.219032  0.229953    0.248319  0.223324   \n",
       "\n",
       "        Precio Contado  Pagos Anuales  Precio Total  Quejas_sca  \\\n",
       "157610        0.219361       0.280445      0.225737    0.047619   \n",
       "31322         0.219361       0.280445      0.225737    0.000000   \n",
       "194288        0.219361       0.280445      0.225737    0.000000   \n",
       "105930        0.209616       0.280445      0.210503    0.000000   \n",
       "446517        0.191388       0.197137      0.224692    0.023810   \n",
       "\n",
       "        Incidencias_sca  Consumo_sca  \n",
       "157610              0.0     0.401622  \n",
       "31322               0.0     0.075800  \n",
       "194288              0.0     0.173555  \n",
       "105930              0.0     0.436273  \n",
       "446517              0.0     0.063049  "
      ]
     },
     "execution_count": 42,
     "metadata": {},
     "output_type": "execute_result"
    }
   ],
   "source": [
    "X_test = TE_encoder.transform(X_test)\n",
    "X_test.head()"
   ]
  },
  {
   "cell_type": "markdown",
   "metadata": {},
   "source": [
    "### Naive Model (Baseline)"
   ]
  },
  {
   "cell_type": "code",
   "execution_count": 43,
   "metadata": {},
   "outputs": [
    {
     "data": {
      "text/html": [
       "<div>\n",
       "<style scoped>\n",
       "    .dataframe tbody tr th:only-of-type {\n",
       "        vertical-align: middle;\n",
       "    }\n",
       "\n",
       "    .dataframe tbody tr th {\n",
       "        vertical-align: top;\n",
       "    }\n",
       "\n",
       "    .dataframe thead th {\n",
       "        text-align: right;\n",
       "    }\n",
       "</style>\n",
       "<table border=\"1\" class=\"dataframe\">\n",
       "  <thead>\n",
       "    <tr style=\"text-align: right;\">\n",
       "      <th></th>\n",
       "      <th>Quejas</th>\n",
       "      <th>Incidencias</th>\n",
       "      <th>Estado</th>\n",
       "    </tr>\n",
       "  </thead>\n",
       "  <tbody>\n",
       "    <tr>\n",
       "      <th>0</th>\n",
       "      <td>0</td>\n",
       "      <td>0</td>\n",
       "      <td>1</td>\n",
       "    </tr>\n",
       "    <tr>\n",
       "      <th>1</th>\n",
       "      <td>12</td>\n",
       "      <td>4</td>\n",
       "      <td>0</td>\n",
       "    </tr>\n",
       "    <tr>\n",
       "      <th>2</th>\n",
       "      <td>0</td>\n",
       "      <td>0</td>\n",
       "      <td>0</td>\n",
       "    </tr>\n",
       "    <tr>\n",
       "      <th>3</th>\n",
       "      <td>2</td>\n",
       "      <td>0</td>\n",
       "      <td>0</td>\n",
       "    </tr>\n",
       "    <tr>\n",
       "      <th>4</th>\n",
       "      <td>0</td>\n",
       "      <td>0</td>\n",
       "      <td>0</td>\n",
       "    </tr>\n",
       "  </tbody>\n",
       "</table>\n",
       "</div>"
      ],
      "text/plain": [
       "   Quejas  Incidencias  Estado\n",
       "0       0            0       1\n",
       "1      12            4       0\n",
       "2       0            0       0\n",
       "3       2            0       0\n",
       "4       0            0       0"
      ]
     },
     "execution_count": 43,
     "metadata": {},
     "output_type": "execute_result"
    }
   ],
   "source": [
    "data_filtered_naive = data[['Quejas', 'Incidencias', 'Estado']]\n",
    "data_filtered_naive.head()"
   ]
  },
  {
   "cell_type": "code",
   "execution_count": 44,
   "metadata": {},
   "outputs": [
    {
     "data": {
      "text/plain": [
       "(482727, 3)"
      ]
     },
     "execution_count": 44,
     "metadata": {},
     "output_type": "execute_result"
    }
   ],
   "source": [
    "data_filtered_naive.shape"
   ]
  },
  {
   "cell_type": "code",
   "execution_count": 45,
   "metadata": {},
   "outputs": [],
   "source": [
    "y_pred = data_filtered_naive['Quejas'] + data_filtered_naive['Incidencias']\n",
    "y_pred = y_pred.apply(lambda x: 1 if x > 0 else 0)\n",
    "y_test_naive = data_filtered_naive['Estado']"
   ]
  },
  {
   "cell_type": "code",
   "execution_count": 46,
   "metadata": {},
   "outputs": [
    {
     "name": "stdout",
     "output_type": "stream",
     "text": [
      "              precision    recall  f1-score   support\n",
      "\n",
      "           0       0.84      0.69      0.75    368116\n",
      "           1       0.36      0.57      0.44    114611\n",
      "\n",
      "    accuracy                           0.66    482727\n",
      "   macro avg       0.60      0.63      0.60    482727\n",
      "weighted avg       0.72      0.66      0.68    482727\n",
      "\n"
     ]
    },
    {
     "data": {
      "image/png": "[encoded data removed]",
      "text/plain": [
       "<Figure size 432x288 with 2 Axes>"
      ]
     },
     "metadata": {
      "needs_background": "light"
     },
     "output_type": "display_data"
    }
   ],
   "source": [
    "print(classification_report(y_test_naive,y_pred ))\n",
    "\n",
    "cm = confusion_matrix(y_test_naive,y_pred)\n",
    "plot_confusion_matrix(cm, classes=class_names, title='Confusion matrix')"
   ]
  },
  {
   "cell_type": "markdown",
   "metadata": {},
   "source": [
    "### Regresión Logística"
   ]
  },
  {
   "cell_type": "code",
   "execution_count": 47,
   "metadata": {
    "scrolled": false
   },
   "outputs": [
    {
     "name": "stdout",
     "output_type": "stream",
     "text": [
      "Logistic Accuracy is 0.74\n",
      "Cross Validation Score = 0.74\n",
      "              precision    recall  f1-score   support\n",
      "\n",
      "           0       0.88      0.75      0.81     73624\n",
      "           1       0.46      0.68      0.55     22922\n",
      "\n",
      "    accuracy                           0.74     96546\n",
      "   macro avg       0.67      0.72      0.68     96546\n",
      "weighted avg       0.78      0.74      0.75     96546\n",
      "\n"
     ]
    },
    {
     "data": {
      "image/png": "[encoded data removed]",
      "text/plain": [
       "<Figure size 432x288 with 2 Axes>"
      ]
     },
     "metadata": {
      "needs_background": "light"
     },
     "output_type": "display_data"
    }
   ],
   "source": [
    "from sklearn.linear_model import LogisticRegression\n",
    "\n",
    "LR = LogisticRegression(random_state = 0, max_iter=1000, class_weight=\"balanced\")\n",
    "LR.fit(X_train,y_train) \n",
    "y_pred = LR.predict(X_test)\n",
    "print (\"Logistic Accuracy is %2.2f\" % accuracy_score(y_test, y_pred))\n",
    "\n",
    "skf = StratifiedKFold(n_splits=5)\n",
    "score_LR = cross_val_score(LR, X_train, y_train, cv=skf).mean()\n",
    "print(\"Cross Validation Score = %2.2f\" % score_LR)\n",
    "\n",
    "print(classification_report(y_test, y_pred))\n",
    "\n",
    "cm = confusion_matrix(y_test,y_pred)\n",
    "plot_confusion_matrix(cm, classes=class_names, title='Confusion matrix')"
   ]
  },
  {
   "cell_type": "code",
   "execution_count": 48,
   "metadata": {},
   "outputs": [
    {
     "name": "stdout",
     "output_type": "stream",
     "text": [
      "ROC AUC score: 0.79\n"
     ]
    },
    {
     "data": {
      "image/png": "[encoded data removed]",
      "text/plain": [
       "<Figure size 576x432 with 1 Axes>"
      ]
     },
     "metadata": {
      "needs_background": "light"
     },
     "output_type": "display_data"
    }
   ],
   "source": [
    "plot_roc_curve(LR, X_test, y_test)"
   ]
  },
  {
   "cell_type": "code",
   "execution_count": 49,
   "metadata": {},
   "outputs": [
    {
     "data": {
      "image/png": "[encoded data removed]",
      "text/plain": [
       "<Figure size 432x288 with 1 Axes>"
      ]
     },
     "metadata": {
      "needs_background": "light"
     },
     "output_type": "display_data"
    }
   ],
   "source": [
    "plot_precision_recall_curve(LR, X_test, y_test);"
   ]
  },
  {
   "cell_type": "code",
   "execution_count": 50,
   "metadata": {},
   "outputs": [],
   "source": [
    "filename = '../pkl/LR_model.pkl'\n",
    "LR_model = LR.fit(X_train, y_train)\n",
    "\n",
    "pickle.dump(LR_model, open(filename,'wb'))"
   ]
  },
  {
   "cell_type": "markdown",
   "metadata": {},
   "source": [
    "### Decission Tree Classifier"
   ]
  },
  {
   "cell_type": "code",
   "execution_count": 51,
   "metadata": {},
   "outputs": [
    {
     "name": "stdout",
     "output_type": "stream",
     "text": [
      "Decision Tree Accuracy is 0.71\n",
      "Cross Validation Score = 0.72\n",
      "              precision    recall  f1-score   support\n",
      "\n",
      "           0       0.90      0.70      0.79     73624\n",
      "           1       0.43      0.74      0.55     22922\n",
      "\n",
      "    accuracy                           0.71     96546\n",
      "   macro avg       0.66      0.72      0.67     96546\n",
      "weighted avg       0.79      0.71      0.73     96546\n",
      "\n"
     ]
    },
    {
     "data": {
      "image/png": "[encoded data removed]",
      "text/plain": [
       "<Figure size 432x288 with 2 Axes>"
      ]
     },
     "metadata": {
      "needs_background": "light"
     },
     "output_type": "display_data"
    }
   ],
   "source": [
    "from sklearn.tree import DecisionTreeClassifier\n",
    "from sklearn.model_selection import cross_val_score, StratifiedKFold\n",
    "\n",
    "DT = DecisionTreeClassifier(random_state = 0,class_weight=\"balanced\", min_weight_fraction_leaf=0.01)\n",
    "DT = DT.fit(X_train,y_train)\n",
    "print (\"Decision Tree Accuracy is %2.2f\" % accuracy_score(y_test, DT.predict(X_test)))\n",
    "\n",
    "skf = StratifiedKFold(n_splits=5)\n",
    "score_DT = cross_val_score(DT, X_train, y_train, cv=skf).mean()\n",
    "print(\"Cross Validation Score = %2.2f\" % score_DT)\n",
    "\n",
    "y_pred = DT.predict(X_test)\n",
    "print(classification_report(y_test, y_pred))\n",
    "\n",
    "cm = confusion_matrix(y_test,y_pred)\n",
    "plot_confusion_matrix(cm, classes=class_names, title='Confusion matrix')"
   ]
  },
  {
   "cell_type": "code",
   "execution_count": 52,
   "metadata": {},
   "outputs": [
    {
     "name": "stdout",
     "output_type": "stream",
     "text": [
      "ROC AUC score: 0.79\n"
     ]
    },
    {
     "data": {
      "image/png": "[encoded data removed]",
      "text/plain": [
       "<Figure size 576x432 with 1 Axes>"
      ]
     },
     "metadata": {
      "needs_background": "light"
     },
     "output_type": "display_data"
    }
   ],
   "source": [
    "plot_roc_curve(DT, X_test, y_test)"
   ]
  },
  {
   "cell_type": "code",
   "execution_count": 53,
   "metadata": {},
   "outputs": [
    {
     "data": {
      "image/png": "[encoded data removed]",
      "text/plain": [
       "<Figure size 432x288 with 1 Axes>"
      ]
     },
     "metadata": {
      "needs_background": "light"
     },
     "output_type": "display_data"
    }
   ],
   "source": [
    "plot_precision_recall_curve(DT, X_test, y_test);"
   ]
  },
  {
   "cell_type": "code",
   "execution_count": 54,
   "metadata": {},
   "outputs": [],
   "source": [
    "filename = '../pkl/DT_model.pkl'\n",
    "DT_model = DT.fit(X_train, y_train)\n",
    "\n",
    "pickle.dump(DT_model, open(filename,'wb'))"
   ]
  },
  {
   "cell_type": "markdown",
   "metadata": {},
   "source": [
    "### Random Forest Classifier"
   ]
  },
  {
   "cell_type": "code",
   "execution_count": 55,
   "metadata": {},
   "outputs": [
    {
     "name": "stdout",
     "output_type": "stream",
     "text": [
      "Random Forest Accuracy is 0.79\n",
      "Cross Validation Score = 0.79\n",
      "              precision    recall  f1-score   support\n",
      "\n",
      "           0       0.87      0.86      0.86     73624\n",
      "           1       0.56      0.58      0.57     22922\n",
      "\n",
      "    accuracy                           0.79     96546\n",
      "   macro avg       0.71      0.72      0.71     96546\n",
      "weighted avg       0.79      0.79      0.79     96546\n",
      "\n"
     ]
    },
    {
     "data": {
      "image/png": "[encoded data removed]",
      "text/plain": [
       "<Figure size 432x288 with 2 Axes>"
      ]
     },
     "metadata": {
      "needs_background": "light"
     },
     "output_type": "display_data"
    }
   ],
   "source": [
    "from sklearn.ensemble import RandomForestClassifier\n",
    "\n",
    "rfc = RandomForestClassifier(n_estimators=100, max_depth=None, min_samples_split=10,class_weight=\"balanced\")\n",
    "rfc.fit(X_train, y_train)\n",
    "y_pred = rfc.predict(X_test)\n",
    "print(\"Random Forest Accuracy is %2.2f\" % accuracy_score(y_test, y_pred))\n",
    "\n",
    "skf = StratifiedKFold(n_splits=20)\n",
    "score_rfc = cross_val_score(rfc, X_train, y_train, cv=skf).mean()\n",
    "print(\"Cross Validation Score = %2.2f\" % score_rfc)\n",
    "\n",
    "print(classification_report(y_test,y_pred ))\n",
    "\n",
    "cm = confusion_matrix(y_test,y_pred)\n",
    "plot_confusion_matrix(cm, classes=class_names, title='Confusion matrix')"
   ]
  },
  {
   "cell_type": "code",
   "execution_count": 56,
   "metadata": {},
   "outputs": [
    {
     "name": "stdout",
     "output_type": "stream",
     "text": [
      "ROC AUC score: 0.81\n"
     ]
    },
    {
     "data": {
      "image/png": "[encoded data removed]",
      "text/plain": [
       "<Figure size 576x432 with 1 Axes>"
      ]
     },
     "metadata": {
      "needs_background": "light"
     },
     "output_type": "display_data"
    }
   ],
   "source": [
    "plot_roc_curve(rfc, X_test, y_test)"
   ]
  },
  {
   "cell_type": "code",
   "execution_count": 57,
   "metadata": {},
   "outputs": [
    {
     "data": {
      "image/png": "[encoded data removed]",
      "text/plain": [
       "<Figure size 432x288 with 1 Axes>"
      ]
     },
     "metadata": {
      "needs_background": "light"
     },
     "output_type": "display_data"
    }
   ],
   "source": [
    "plot_precision_recall_curve(rfc, X_test, y_test);"
   ]
  },
  {
   "cell_type": "code",
   "execution_count": 59,
   "metadata": {},
   "outputs": [],
   "source": [
    "filename = '../pkl/rfc_model.pkl'\n",
    "rfc_model = rfc.fit(X_train, y_train)\n",
    "\n",
    "pickle.dump(rfc_model, open(filename,'wb'))"
   ]
  },
  {
   "cell_type": "markdown",
   "metadata": {},
   "source": [
    "Elimino Random Forest con los hiperparámetros tuneados por ocupar más de 2 Gb en `.pkl`"
   ]
  },
  {
   "cell_type": "markdown",
   "metadata": {},
   "source": [
    "### XGBoost"
   ]
  },
  {
   "cell_type": "code",
   "execution_count": 62,
   "metadata": {},
   "outputs": [
    {
     "name": "stdout",
     "output_type": "stream",
     "text": [
      "GradientBoost Accuracy= 0.81\n",
      "Cross Validation Score = 0.81\n",
      "              precision    recall  f1-score   support\n",
      "\n",
      "           0       0.83      0.94      0.89     73624\n",
      "           1       0.69      0.39      0.50     22922\n",
      "\n",
      "    accuracy                           0.81     96546\n",
      "   macro avg       0.76      0.67      0.69     96546\n",
      "weighted avg       0.80      0.81      0.79     96546\n",
      "\n"
     ]
    },
    {
     "data": {
      "image/png": "[encoded data removed]",
      "text/plain": [
       "<Figure size 432x288 with 2 Axes>"
      ]
     },
     "metadata": {
      "needs_background": "light"
     },
     "output_type": "display_data"
    }
   ],
   "source": [
    "# Don´t do this!!!\n",
    "\n",
    "from xgboost import XGBClassifier\n",
    "\n",
    "xgb = XGBClassifier(n_estimators=1000, booster='gbtree', learning_rate=0.01, objective='binary:logistic')\n",
    "xgb.fit(X_train, y_train)\n",
    "y_pred = xgb.predict(X_test)\n",
    "print (\"GradientBoost Accuracy= %2.2f\" % accuracy_score(y_test, y_pred))\n",
    "\n",
    "skf = StratifiedKFold(n_splits=5)\n",
    "score_xgb = cross_val_score(xgb, X_train, y_train, cv=skf).mean()\n",
    "print(\"Cross Validation Score = %2.2f\" % score_xgb)\n",
    "\n",
    "print(classification_report(y_test, y_pred))\n",
    "\n",
    "cm = confusion_matrix(y_test, y_pred)\n",
    "plot_confusion_matrix(cm, classes=class_names, title='Confusion matrix')"
   ]
  },
  {
   "cell_type": "code",
   "execution_count": 63,
   "metadata": {},
   "outputs": [
    {
     "name": "stdout",
     "output_type": "stream",
     "text": [
      "ROC AUC score: 0.82\n"
     ]
    },
    {
     "data": {
      "image/png": "[encoded data removed]",
      "text/plain": [
       "<Figure size 576x432 with 1 Axes>"
      ]
     },
     "metadata": {
      "needs_background": "light"
     },
     "output_type": "display_data"
    }
   ],
   "source": [
    "plot_roc_curve(xgb, X_test, y_test)"
   ]
  },
  {
   "cell_type": "code",
   "execution_count": 64,
   "metadata": {},
   "outputs": [
    {
     "data": {
      "image/png": "[encoded data removed]",
      "text/plain": [
       "<Figure size 432x288 with 1 Axes>"
      ]
     },
     "metadata": {
      "needs_background": "light"
     },
     "output_type": "display_data"
    }
   ],
   "source": [
    "plot_precision_recall_curve(xgb, X_test, y_test);"
   ]
  },
  {
   "cell_type": "markdown",
   "metadata": {},
   "source": [
    "### Voting Classifier\n",
    "\n",
    "Utilizando Regresión Logística y Decission Tree Classifier."
   ]
  },
  {
   "cell_type": "code",
   "execution_count": 66,
   "metadata": {},
   "outputs": [
    {
     "name": "stdout",
     "output_type": "stream",
     "text": [
      "VotingClassifier Accuracy= 0.73\n",
      "Cross Validation Score = 0.73\n",
      "              precision    recall  f1-score   support\n",
      "\n",
      "           0       0.89      0.74      0.81     73624\n",
      "           1       0.46      0.71      0.56     22922\n",
      "\n",
      "    accuracy                           0.73     96546\n",
      "   macro avg       0.67      0.72      0.68     96546\n",
      "weighted avg       0.79      0.73      0.75     96546\n",
      "\n"
     ]
    },
    {
     "data": {
      "image/png": "[encoded data removed]",
      "text/plain": [
       "<Figure size 432x288 with 2 Axes>"
      ]
     },
     "metadata": {
      "needs_background": "light"
     },
     "output_type": "display_data"
    }
   ],
   "source": [
    "from sklearn.ensemble import VotingClassifier\n",
    "\n",
    "voting_clf = VotingClassifier(estimators=[\n",
    "         ('lr', LR), ('dt', DT)],\n",
    "         voting='soft')\n",
    "\n",
    "voting_clf.fit(X_train, y_train)\n",
    "y_pred = voting_clf.predict(X_test)\n",
    "print (\"VotingClassifier Accuracy= %2.2f\" % accuracy_score(y_test, y_pred))\n",
    "\n",
    "skf = StratifiedKFold(n_splits=5)\n",
    "score_voting_clf = cross_val_score(voting_clf, X_train, y_train, cv=skf).mean()\n",
    "print(\"Cross Validation Score = %2.2f\" % score_voting_clf)\n",
    "\n",
    "print(classification_report(y_test, y_pred))\n",
    "\n",
    "cm = confusion_matrix(y_test, y_pred)\n",
    "plot_confusion_matrix(cm, classes=class_names, title='Confusion matrix')"
   ]
  },
  {
   "cell_type": "code",
   "execution_count": 67,
   "metadata": {},
   "outputs": [],
   "source": [
    "filename = '../pkl/voting_clf_model.pkl'\n",
    "voting_clf_model = voting_clf.fit(X_train, y_train)\n",
    "\n",
    "pickle.dump(voting_clf_model, open(filename,'wb'))"
   ]
  },
  {
   "cell_type": "code",
   "execution_count": 68,
   "metadata": {},
   "outputs": [
    {
     "name": "stdout",
     "output_type": "stream",
     "text": [
      "ROC AUC score: 0.80\n"
     ]
    },
    {
     "data": {
      "image/png": "[encoded data removed]",
      "text/plain": [
       "<Figure size 576x432 with 1 Axes>"
      ]
     },
     "metadata": {
      "needs_background": "light"
     },
     "output_type": "display_data"
    }
   ],
   "source": [
    "plot_roc_curve(voting_clf, X_test, y_test);"
   ]
  },
  {
   "cell_type": "code",
   "execution_count": 69,
   "metadata": {},
   "outputs": [
    {
     "data": {
      "image/png": "[encoded data removed]",
      "text/plain": [
       "<Figure size 432x288 with 1 Axes>"
      ]
     },
     "metadata": {
      "needs_background": "light"
     },
     "output_type": "display_data"
    }
   ],
   "source": [
    "plot_precision_recall_curve(voting_clf, X_test, y_test);"
   ]
  },
  {
   "cell_type": "markdown",
   "metadata": {},
   "source": [
    "### Comparing ROC Curves"
   ]
  },
  {
   "cell_type": "code",
   "execution_count": 70,
   "metadata": {},
   "outputs": [
    {
     "data": {
      "image/png": "[encoded data removed]",
      "text/plain": [
       "<Figure size 720x432 with 1 Axes>"
      ]
     },
     "metadata": {
      "needs_background": "light"
     },
     "output_type": "display_data"
    }
   ],
   "source": [
    "plt.figure(figsize = (10,6), linewidth= 1)\n",
    "\n",
    "LR_fpr, LR_tpr, thresholds = roc_curve(y_test, LR.predict_proba(X_test)[:,1])\n",
    "DT_fpr, DT_tpr, thresholds = roc_curve(y_test, DT.predict_proba(X_test)[:,1])\n",
    "rfc_fpr, rfc_tpr, thresholds = roc_curve(y_test, rfc.predict_proba(X_test)[:,1])\n",
    "rfc2_fpr, rfc2_tpr, thresholds = roc_curve(y_test, rfc_2.predict_proba(X_test)[:,1])\n",
    "xgb_fpr, xgb_tpr, thresholds = roc_curve(y_test, xgb.predict_proba(X_test)[:,1])\n",
    "vc_fpr, vc_tpr, thresholds = roc_curve(y_test, voting_clf.predict_proba(X_test)[:,1])\n",
    "\n",
    "plt.plot(LR_fpr, LR_tpr, label='Logistic Regression')\n",
    "plt.plot(DT_fpr, DT_tpr, label='Decision Tree')\n",
    "plt.plot(rfc_fpr, rfc_tpr, label='Random Forest')\n",
    "plt.plot(rfc2_fpr, rfc2_tpr, label='Random Forest 2')\n",
    "plt.plot(xgb_fpr, xgb_tpr, label='XGBoost')\n",
    "plt.plot(vc_fpr, vc_tpr, label='VotingClassifier')\n",
    "\n",
    "plt.plot([0,1],[0,1],label='Base Rate', ls = '--', c = 'grey')\n",
    "plt.xlim([0.0, 1.0])\n",
    "plt.ylim([0.0, 1.0])\n",
    "plt.title('Comparing ROC Curves')\n",
    "plt.xlabel('False Positive Rate')\n",
    "plt.ylabel('True Positive Rate')\n",
    "plt.legend(loc=\"lower right\")\n",
    "plt.show()"
   ]
  },
  {
   "cell_type": "markdown",
   "metadata": {},
   "source": [
    "### Comparing PR Curves"
   ]
  },
  {
   "cell_type": "code",
   "execution_count": 71,
   "metadata": {},
   "outputs": [
    {
     "data": {
      "image/png": "[encoded data removed]",
      "text/plain": [
       "<Figure size 720x432 with 1 Axes>"
      ]
     },
     "metadata": {
      "needs_background": "light"
     },
     "output_type": "display_data"
    }
   ],
   "source": [
    "models = [LR, DT, rfc, xgb, voting_clf]\n",
    "\n",
    "fig, ax = plt.subplots(figsize=(10, 6))\n",
    "for m in models:\n",
    "    plot_precision_recall_curve(m, X_test, y_test, ax=ax)\n",
    "    plt.legend(loc=\"upper right\")\n",
    "ax.set_title(\"Comparing PR Curves\");"
   ]
  },
  {
   "cell_type": "markdown",
   "metadata": {},
   "source": [
    "### Feature importances"
   ]
  },
  {
   "cell_type": "code",
   "execution_count": 72,
   "metadata": {},
   "outputs": [
    {
     "name": "stderr",
     "output_type": "stream",
     "text": [
      "C:\\Users\\alber\\anaconda3\\lib\\site-packages\\sklearn\\utils\\validation.py:70: FutureWarning: Pass n_features_to_select=5 as keyword args. From version 1.0 (renaming of 0.25) passing these as positional arguments will result in an error\n",
      "  warnings.warn(f\"Pass {args_msg} as keyword args. From version \"\n"
     ]
    },
    {
     "data": {
      "text/plain": [
       "array([ 7,  1,  5, 10,  9,  3,  2,  1,  1,  6, 11,  1,  1,  4,  8])"
      ]
     },
     "execution_count": 72,
     "metadata": {},
     "output_type": "execute_result"
    }
   ],
   "source": [
    "from sklearn.feature_selection import RFE\n",
    "\n",
    "# Using Recursive Feature Elimination Function and fitting it in a Logistic Regression Model\n",
    "modell = LogisticRegression(max_iter=1000, class_weight=\"balanced\")\n",
    "rfe = RFE(modell, 5)\n",
    "rfe = rfe.fit(X_train,y_train)\n",
    "\n",
    "rfe.ranking_"
   ]
  },
  {
   "cell_type": "code",
   "execution_count": 73,
   "metadata": {},
   "outputs": [
    {
     "name": "stdout",
     "output_type": "stream",
     "text": [
      "{('Tipo Inmueble', 1), ('Tipo Propiedad', 5), ('Incidencias_sca', 4), ('Income', 1), ('Situacion Laboral', 10), ('Pais', 2), ('Estado Civil', 9), ('Precio Total', 1), ('Precio Contado', 6), ('Quejas_sca', 1), ('Provincia', 3), ('Consumo_sca', 8), ('Pagos Anuales', 11), ('Gender', 7), ('Rango_Edad', 1)}\n"
     ]
    }
   ],
   "source": [
    "result = zip(X_train.columns, rfe.ranking_)\n",
    "\n",
    "result_set = set(result)\n",
    "print(result_set)"
   ]
  },
  {
   "cell_type": "code",
   "execution_count": 74,
   "metadata": {},
   "outputs": [
    {
     "name": "stdout",
     "output_type": "stream",
     "text": [
      "[0.02156063 0.07985333 0.03907779 0.03792096 0.02644921 0.14017263\n",
      " 0.02319743 0.06047024 0.0577303  0.04889416 0.03378093 0.04297648\n",
      " 0.07913208 0.08651458 0.22226927]\n"
     ]
    },
    {
     "data": {
      "image/png": "[encoded data removed]",
      "text/plain": [
       "<Figure size 864x432 with 1 Axes>"
      ]
     },
     "metadata": {
      "needs_background": "light"
     },
     "output_type": "display_data"
    }
   ],
   "source": [
    "from sklearn.ensemble import ExtraTreesClassifier\n",
    "\n",
    "# Using ExtraTreesClassifier model function\n",
    "model = ExtraTreesClassifier()\n",
    "model.fit(X_train, y_train)\n",
    "\n",
    "# Printing important features in the model\n",
    "print(model.feature_importances_)\n",
    "importances = model.feature_importances_\n",
    "feat_names = data_filtered.drop(['Estado'],axis=1).columns\n",
    "\n",
    "# Displaying the feature importances as a chart by sorting it in the order of importances\n",
    "indices = np.argsort(importances)[::-1]\n",
    "plt.figure(figsize=(12,6))\n",
    "plt.title(\"Feature importances\")\n",
    "plt.bar(range(len(indices)), importances[indices], color='lightblue',  align=\"center\")\n",
    "plt.step(range(len(indices)), np.cumsum(importances[indices]), where='mid', label='Cumulative')\n",
    "plt.xticks(range(len(indices)), feat_names[indices], rotation='vertical',fontsize=12)\n",
    "plt.xlim([-1, len(indices)])\n",
    "plt.show()"
   ]
  },
  {
   "cell_type": "code",
   "execution_count": null,
   "metadata": {},
   "outputs": [],
   "source": []
  }
 ],
 "metadata": {
  "kernelspec": {
   "display_name": "Python 3",
   "language": "python",
   "name": "python3"
  },
  "language_info": {
   "codemirror_mode": {
    "name": "ipython",
    "version": 3
   },
   "file_extension": ".py",
   "mimetype": "text/x-python",
   "name": "python",
   "nbconvert_exporter": "python",
   "pygments_lexer": "ipython3",
   "version": "3.8.3"
  }
 },
 "nbformat": 4,
 "nbformat_minor": 4
}
