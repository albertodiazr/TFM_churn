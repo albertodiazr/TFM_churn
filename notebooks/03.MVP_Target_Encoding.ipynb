{
 "cells": [
  {
   "cell_type": "markdown",
   "metadata": {},
   "source": [
    "# MVP Comunidad Valenciana with Target Encoding"
   ]
  },
  {
   "cell_type": "markdown",
   "metadata": {},
   "source": [
    "<img src=\"../images/03.jpg\" width=\"600\"/>"
   ]
  },
  {
   "cell_type": "code",
   "execution_count": 1,
   "metadata": {},
   "outputs": [],
   "source": [
    "import pandas as pd\n",
    "import numpy as np\n",
    "import matplotlib.pyplot as plt\n",
    "import seaborn as sns\n",
    "import itertools\n",
    "import datetime as dt\n",
    "from tools import dataoveriew, plot_roc_curve, plot_confusion_matrix\n",
    "from datetime import datetime\n",
    "from sklearn.model_selection import cross_val_score, StratifiedKFold\n",
    "from sklearn.metrics import confusion_matrix, classification_report, precision_recall_curve, plot_precision_recall_curve\n",
    "from sklearn.metrics import accuracy_score, f1_score, roc_auc_score, roc_curve, average_precision_score\n",
    "from sklearn.model_selection import train_test_split\n",
    "from sklearn.model_selection import GridSearchCV\n",
    "import pickle\n",
    "\n",
    "# Using Activo and Baja for 0 and 1    \n",
    "class_names = ['Activo','Baja']\n",
    "\n",
    "pd.options.display.max_columns = None\n",
    "\n",
    "%matplotlib inline"
   ]
  },
  {
   "cell_type": "code",
   "execution_count": 2,
   "metadata": {},
   "outputs": [
    {
     "data": {
      "text/html": [
       "<div>\n",
       "<style scoped>\n",
       "    .dataframe tbody tr th:only-of-type {\n",
       "        vertical-align: middle;\n",
       "    }\n",
       "\n",
       "    .dataframe tbody tr th {\n",
       "        vertical-align: top;\n",
       "    }\n",
       "\n",
       "    .dataframe thead th {\n",
       "        text-align: right;\n",
       "    }\n",
       "</style>\n",
       "<table border=\"1\" class=\"dataframe\">\n",
       "  <thead>\n",
       "    <tr style=\"text-align: right;\">\n",
       "      <th></th>\n",
       "      <th>Fecha Alta</th>\n",
       "      <th>Cliente</th>\n",
       "      <th>Modelo Caldera</th>\n",
       "      <th>Provincia</th>\n",
       "      <th>Gender</th>\n",
       "      <th>Pais</th>\n",
       "      <th>Born Date</th>\n",
       "      <th>Tipo Propiedad</th>\n",
       "      <th>Situacion Laboral</th>\n",
       "      <th>Estado Civil</th>\n",
       "      <th>Ingresos</th>\n",
       "      <th>Pagos Anuales</th>\n",
       "      <th>Fecha Estado</th>\n",
       "      <th>Estado</th>\n",
       "      <th>Tipo Inmueble</th>\n",
       "      <th>Financiado</th>\n",
       "      <th>Precio Contado</th>\n",
       "      <th>Precio Total</th>\n",
       "      <th>Quejas</th>\n",
       "      <th>Incidencias</th>\n",
       "      <th>Consumo Mes</th>\n",
       "    </tr>\n",
       "  </thead>\n",
       "  <tbody>\n",
       "    <tr>\n",
       "      <th>0</th>\n",
       "      <td>2014-01-01</td>\n",
       "      <td>17</td>\n",
       "      <td>Biasi</td>\n",
       "      <td>Alicante</td>\n",
       "      <td>Hombre</td>\n",
       "      <td>España</td>\n",
       "      <td>1973-05-19</td>\n",
       "      <td>Propiedad Total</td>\n",
       "      <td>Autonomo</td>\n",
       "      <td>Casado</td>\n",
       "      <td>2500</td>\n",
       "      <td>14</td>\n",
       "      <td>2016-09-14</td>\n",
       "      <td>1</td>\n",
       "      <td>Casa</td>\n",
       "      <td>Financiado</td>\n",
       "      <td>Promo 0 EUR</td>\n",
       "      <td>399</td>\n",
       "      <td>1</td>\n",
       "      <td>0</td>\n",
       "      <td>441.63</td>\n",
       "    </tr>\n",
       "    <tr>\n",
       "      <th>1</th>\n",
       "      <td>2014-01-01</td>\n",
       "      <td>54</td>\n",
       "      <td>Biasi</td>\n",
       "      <td>Alicante</td>\n",
       "      <td>Hombre</td>\n",
       "      <td>España</td>\n",
       "      <td>1976-05-08</td>\n",
       "      <td>Propiedad Total</td>\n",
       "      <td>Parado</td>\n",
       "      <td>Soltero</td>\n",
       "      <td>1200</td>\n",
       "      <td>14</td>\n",
       "      <td>2016-12-29</td>\n",
       "      <td>1</td>\n",
       "      <td>Piso</td>\n",
       "      <td>Financiado</td>\n",
       "      <td>Promo 0 EUR</td>\n",
       "      <td>399</td>\n",
       "      <td>0</td>\n",
       "      <td>0</td>\n",
       "      <td>152.57</td>\n",
       "    </tr>\n",
       "    <tr>\n",
       "      <th>2</th>\n",
       "      <td>2014-01-01</td>\n",
       "      <td>84</td>\n",
       "      <td>Biasi</td>\n",
       "      <td>Valencia</td>\n",
       "      <td>Hombre</td>\n",
       "      <td>España</td>\n",
       "      <td>1982-03-15</td>\n",
       "      <td>Propiedad Total</td>\n",
       "      <td>Trabajo Temporal</td>\n",
       "      <td>Soltero</td>\n",
       "      <td>800</td>\n",
       "      <td>14</td>\n",
       "      <td>2017-02-24</td>\n",
       "      <td>1</td>\n",
       "      <td>Casa</td>\n",
       "      <td>Financiado</td>\n",
       "      <td>0 - 100 EUR</td>\n",
       "      <td>399</td>\n",
       "      <td>1</td>\n",
       "      <td>0</td>\n",
       "      <td>288.73</td>\n",
       "    </tr>\n",
       "    <tr>\n",
       "      <th>3</th>\n",
       "      <td>2014-01-01</td>\n",
       "      <td>103</td>\n",
       "      <td>Biasi</td>\n",
       "      <td>Alicante</td>\n",
       "      <td>Hombre</td>\n",
       "      <td>España</td>\n",
       "      <td>1976-02-02</td>\n",
       "      <td>Propiedad Total</td>\n",
       "      <td>Autonomo</td>\n",
       "      <td>Casado</td>\n",
       "      <td>1500</td>\n",
       "      <td>12</td>\n",
       "      <td>2014-01-01</td>\n",
       "      <td>0</td>\n",
       "      <td>Casa</td>\n",
       "      <td>Financiado</td>\n",
       "      <td>Promo 0 EUR</td>\n",
       "      <td>399</td>\n",
       "      <td>1</td>\n",
       "      <td>0</td>\n",
       "      <td>103.97</td>\n",
       "    </tr>\n",
       "    <tr>\n",
       "      <th>4</th>\n",
       "      <td>2014-01-01</td>\n",
       "      <td>110</td>\n",
       "      <td>Biasi</td>\n",
       "      <td>Alicante</td>\n",
       "      <td>Mujer</td>\n",
       "      <td>España</td>\n",
       "      <td>1989-07-31</td>\n",
       "      <td>Propiedad Total</td>\n",
       "      <td>Parado</td>\n",
       "      <td>Soltero</td>\n",
       "      <td>1000</td>\n",
       "      <td>12</td>\n",
       "      <td>2017-03-11</td>\n",
       "      <td>1</td>\n",
       "      <td>Piso</td>\n",
       "      <td>Financiado</td>\n",
       "      <td>Promo 0 EUR</td>\n",
       "      <td>399</td>\n",
       "      <td>0</td>\n",
       "      <td>8</td>\n",
       "      <td>145.43</td>\n",
       "    </tr>\n",
       "  </tbody>\n",
       "</table>\n",
       "</div>"
      ],
      "text/plain": [
       "  Fecha Alta Cliente Modelo Caldera Provincia  Gender    Pais  Born Date  \\\n",
       "0 2014-01-01      17         Biasi   Alicante  Hombre  España 1973-05-19   \n",
       "1 2014-01-01      54         Biasi   Alicante  Hombre  España 1976-05-08   \n",
       "2 2014-01-01      84         Biasi   Valencia  Hombre  España 1982-03-15   \n",
       "3 2014-01-01     103         Biasi   Alicante  Hombre  España 1976-02-02   \n",
       "4 2014-01-01     110         Biasi   Alicante   Mujer  España 1989-07-31   \n",
       "\n",
       "    Tipo Propiedad Situacion Laboral Estado Civil  Ingresos  Pagos Anuales  \\\n",
       "0  Propiedad Total          Autonomo       Casado      2500             14   \n",
       "1  Propiedad Total            Parado      Soltero      1200             14   \n",
       "2  Propiedad Total  Trabajo Temporal      Soltero       800             14   \n",
       "3  Propiedad Total          Autonomo       Casado      1500             12   \n",
       "4  Propiedad Total            Parado      Soltero      1000             12   \n",
       "\n",
       "  Fecha Estado  Estado Tipo Inmueble  Financiado Precio Contado  Precio Total  \\\n",
       "0   2016-09-14       1          Casa  Financiado    Promo 0 EUR           399   \n",
       "1   2016-12-29       1          Piso  Financiado    Promo 0 EUR           399   \n",
       "2   2017-02-24       1          Casa  Financiado    0 - 100 EUR           399   \n",
       "3   2014-01-01       0          Casa  Financiado    Promo 0 EUR           399   \n",
       "4   2017-03-11       1          Piso  Financiado    Promo 0 EUR           399   \n",
       "\n",
       "   Quejas  Incidencias  Consumo Mes  \n",
       "0       1            0       441.63  \n",
       "1       0            0       152.57  \n",
       "2       1            0       288.73  \n",
       "3       1            0       103.97  \n",
       "4       0            8       145.43  "
      ]
     },
     "execution_count": 2,
     "metadata": {},
     "output_type": "execute_result"
    }
   ],
   "source": [
    "data = pd.read_excel('../data/portfolio_com_valencia.xlsx')\n",
    "data['Cliente'] = data['Cliente'].astype('str')\n",
    "data.head()"
   ]
  },
  {
   "cell_type": "code",
   "execution_count": 3,
   "metadata": {},
   "outputs": [
    {
     "data": {
      "text/plain": [
       "(55227, 21)"
      ]
     },
     "execution_count": 3,
     "metadata": {},
     "output_type": "execute_result"
    }
   ],
   "source": [
    "data.shape"
   ]
  },
  {
   "cell_type": "markdown",
   "metadata": {},
   "source": [
    "## Feature engineering\n",
    "\n",
    "- Edad en Años\n",
    "- Rango de Ingresos\n",
    "- Días Activo escalado\n",
    "- Escalado de Quejas, Incidencias y Consumo Mes"
   ]
  },
  {
   "cell_type": "markdown",
   "metadata": {},
   "source": [
    "Rangos de Edad:"
   ]
  },
  {
   "cell_type": "code",
   "execution_count": 4,
   "metadata": {},
   "outputs": [
    {
     "data": {
      "text/plain": [
       "Index(['Fecha Alta', 'Cliente', 'Modelo Caldera', 'Provincia', 'Gender',\n",
       "       'Pais', 'Born Date', 'Tipo Propiedad', 'Situacion Laboral',\n",
       "       'Estado Civil', 'Ingresos', 'Pagos Anuales', 'Fecha Estado', 'Estado',\n",
       "       'Tipo Inmueble', 'Financiado', 'Precio Contado', 'Precio Total',\n",
       "       'Quejas', 'Incidencias', 'Consumo Mes'],\n",
       "      dtype='object')"
      ]
     },
     "execution_count": 4,
     "metadata": {},
     "output_type": "execute_result"
    }
   ],
   "source": [
    "data.columns"
   ]
  },
  {
   "cell_type": "code",
   "execution_count": 5,
   "metadata": {
    "scrolled": true
   },
   "outputs": [
    {
     "data": {
      "text/plain": [
       "226"
      ]
     },
     "execution_count": 5,
     "metadata": {},
     "output_type": "execute_result"
    }
   ],
   "source": [
    "data['Born Date'].isnull().sum()"
   ]
  },
  {
   "cell_type": "code",
   "execution_count": 6,
   "metadata": {},
   "outputs": [
    {
     "data": {
      "text/html": [
       "<div>\n",
       "<style scoped>\n",
       "    .dataframe tbody tr th:only-of-type {\n",
       "        vertical-align: middle;\n",
       "    }\n",
       "\n",
       "    .dataframe tbody tr th {\n",
       "        vertical-align: top;\n",
       "    }\n",
       "\n",
       "    .dataframe thead th {\n",
       "        text-align: right;\n",
       "    }\n",
       "</style>\n",
       "<table border=\"1\" class=\"dataframe\">\n",
       "  <thead>\n",
       "    <tr style=\"text-align: right;\">\n",
       "      <th></th>\n",
       "      <th>Fecha Alta</th>\n",
       "      <th>Cliente</th>\n",
       "      <th>Modelo Caldera</th>\n",
       "      <th>Provincia</th>\n",
       "      <th>Gender</th>\n",
       "      <th>Pais</th>\n",
       "      <th>Born Date</th>\n",
       "      <th>Tipo Propiedad</th>\n",
       "      <th>Situacion Laboral</th>\n",
       "      <th>Estado Civil</th>\n",
       "      <th>Ingresos</th>\n",
       "      <th>Pagos Anuales</th>\n",
       "      <th>Fecha Estado</th>\n",
       "      <th>Estado</th>\n",
       "      <th>Tipo Inmueble</th>\n",
       "      <th>Financiado</th>\n",
       "      <th>Precio Contado</th>\n",
       "      <th>Precio Total</th>\n",
       "      <th>Quejas</th>\n",
       "      <th>Incidencias</th>\n",
       "      <th>Consumo Mes</th>\n",
       "    </tr>\n",
       "  </thead>\n",
       "  <tbody>\n",
       "    <tr>\n",
       "      <th>0</th>\n",
       "      <td>2014-01-01</td>\n",
       "      <td>17</td>\n",
       "      <td>Biasi</td>\n",
       "      <td>Alicante</td>\n",
       "      <td>Hombre</td>\n",
       "      <td>España</td>\n",
       "      <td>1973-05-19</td>\n",
       "      <td>Propiedad Total</td>\n",
       "      <td>Autonomo</td>\n",
       "      <td>Casado</td>\n",
       "      <td>2500</td>\n",
       "      <td>14</td>\n",
       "      <td>2016-09-14</td>\n",
       "      <td>1</td>\n",
       "      <td>Casa</td>\n",
       "      <td>Financiado</td>\n",
       "      <td>Promo 0 EUR</td>\n",
       "      <td>399</td>\n",
       "      <td>1</td>\n",
       "      <td>0</td>\n",
       "      <td>441.63</td>\n",
       "    </tr>\n",
       "    <tr>\n",
       "      <th>1</th>\n",
       "      <td>2014-01-01</td>\n",
       "      <td>54</td>\n",
       "      <td>Biasi</td>\n",
       "      <td>Alicante</td>\n",
       "      <td>Hombre</td>\n",
       "      <td>España</td>\n",
       "      <td>1976-05-08</td>\n",
       "      <td>Propiedad Total</td>\n",
       "      <td>Parado</td>\n",
       "      <td>Soltero</td>\n",
       "      <td>1200</td>\n",
       "      <td>14</td>\n",
       "      <td>2016-12-29</td>\n",
       "      <td>1</td>\n",
       "      <td>Piso</td>\n",
       "      <td>Financiado</td>\n",
       "      <td>Promo 0 EUR</td>\n",
       "      <td>399</td>\n",
       "      <td>0</td>\n",
       "      <td>0</td>\n",
       "      <td>152.57</td>\n",
       "    </tr>\n",
       "    <tr>\n",
       "      <th>2</th>\n",
       "      <td>2014-01-01</td>\n",
       "      <td>84</td>\n",
       "      <td>Biasi</td>\n",
       "      <td>Valencia</td>\n",
       "      <td>Hombre</td>\n",
       "      <td>España</td>\n",
       "      <td>1982-03-15</td>\n",
       "      <td>Propiedad Total</td>\n",
       "      <td>Trabajo Temporal</td>\n",
       "      <td>Soltero</td>\n",
       "      <td>800</td>\n",
       "      <td>14</td>\n",
       "      <td>2017-02-24</td>\n",
       "      <td>1</td>\n",
       "      <td>Casa</td>\n",
       "      <td>Financiado</td>\n",
       "      <td>0 - 100 EUR</td>\n",
       "      <td>399</td>\n",
       "      <td>1</td>\n",
       "      <td>0</td>\n",
       "      <td>288.73</td>\n",
       "    </tr>\n",
       "    <tr>\n",
       "      <th>3</th>\n",
       "      <td>2014-01-01</td>\n",
       "      <td>103</td>\n",
       "      <td>Biasi</td>\n",
       "      <td>Alicante</td>\n",
       "      <td>Hombre</td>\n",
       "      <td>España</td>\n",
       "      <td>1976-02-02</td>\n",
       "      <td>Propiedad Total</td>\n",
       "      <td>Autonomo</td>\n",
       "      <td>Casado</td>\n",
       "      <td>1500</td>\n",
       "      <td>12</td>\n",
       "      <td>2014-01-01</td>\n",
       "      <td>0</td>\n",
       "      <td>Casa</td>\n",
       "      <td>Financiado</td>\n",
       "      <td>Promo 0 EUR</td>\n",
       "      <td>399</td>\n",
       "      <td>1</td>\n",
       "      <td>0</td>\n",
       "      <td>103.97</td>\n",
       "    </tr>\n",
       "    <tr>\n",
       "      <th>4</th>\n",
       "      <td>2014-01-01</td>\n",
       "      <td>110</td>\n",
       "      <td>Biasi</td>\n",
       "      <td>Alicante</td>\n",
       "      <td>Mujer</td>\n",
       "      <td>España</td>\n",
       "      <td>1989-07-31</td>\n",
       "      <td>Propiedad Total</td>\n",
       "      <td>Parado</td>\n",
       "      <td>Soltero</td>\n",
       "      <td>1000</td>\n",
       "      <td>12</td>\n",
       "      <td>2017-03-11</td>\n",
       "      <td>1</td>\n",
       "      <td>Piso</td>\n",
       "      <td>Financiado</td>\n",
       "      <td>Promo 0 EUR</td>\n",
       "      <td>399</td>\n",
       "      <td>0</td>\n",
       "      <td>8</td>\n",
       "      <td>145.43</td>\n",
       "    </tr>\n",
       "  </tbody>\n",
       "</table>\n",
       "</div>"
      ],
      "text/plain": [
       "  Fecha Alta Cliente Modelo Caldera Provincia  Gender    Pais  Born Date  \\\n",
       "0 2014-01-01      17         Biasi   Alicante  Hombre  España 1973-05-19   \n",
       "1 2014-01-01      54         Biasi   Alicante  Hombre  España 1976-05-08   \n",
       "2 2014-01-01      84         Biasi   Valencia  Hombre  España 1982-03-15   \n",
       "3 2014-01-01     103         Biasi   Alicante  Hombre  España 1976-02-02   \n",
       "4 2014-01-01     110         Biasi   Alicante   Mujer  España 1989-07-31   \n",
       "\n",
       "    Tipo Propiedad Situacion Laboral Estado Civil  Ingresos  Pagos Anuales  \\\n",
       "0  Propiedad Total          Autonomo       Casado      2500             14   \n",
       "1  Propiedad Total            Parado      Soltero      1200             14   \n",
       "2  Propiedad Total  Trabajo Temporal      Soltero       800             14   \n",
       "3  Propiedad Total          Autonomo       Casado      1500             12   \n",
       "4  Propiedad Total            Parado      Soltero      1000             12   \n",
       "\n",
       "  Fecha Estado  Estado Tipo Inmueble  Financiado Precio Contado  Precio Total  \\\n",
       "0   2016-09-14       1          Casa  Financiado    Promo 0 EUR           399   \n",
       "1   2016-12-29       1          Piso  Financiado    Promo 0 EUR           399   \n",
       "2   2017-02-24       1          Casa  Financiado    0 - 100 EUR           399   \n",
       "3   2014-01-01       0          Casa  Financiado    Promo 0 EUR           399   \n",
       "4   2017-03-11       1          Piso  Financiado    Promo 0 EUR           399   \n",
       "\n",
       "   Quejas  Incidencias  Consumo Mes  \n",
       "0       1            0       441.63  \n",
       "1       0            0       152.57  \n",
       "2       1            0       288.73  \n",
       "3       1            0       103.97  \n",
       "4       0            8       145.43  "
      ]
     },
     "execution_count": 6,
     "metadata": {},
     "output_type": "execute_result"
    }
   ],
   "source": [
    "data['Born Date'] = data['Born Date'].replace(np.nan, datetime(1970, 1, 1))\n",
    "\n",
    "data.head()"
   ]
  },
  {
   "cell_type": "code",
   "execution_count": 7,
   "metadata": {},
   "outputs": [
    {
     "data": {
      "text/plain": [
       "0"
      ]
     },
     "execution_count": 7,
     "metadata": {},
     "output_type": "execute_result"
    }
   ],
   "source": [
    "data['Born Date'].isnull().sum()"
   ]
  },
  {
   "cell_type": "code",
   "execution_count": 8,
   "metadata": {},
   "outputs": [
    {
     "data": {
      "text/html": [
       "<div>\n",
       "<style scoped>\n",
       "    .dataframe tbody tr th:only-of-type {\n",
       "        vertical-align: middle;\n",
       "    }\n",
       "\n",
       "    .dataframe tbody tr th {\n",
       "        vertical-align: top;\n",
       "    }\n",
       "\n",
       "    .dataframe thead th {\n",
       "        text-align: right;\n",
       "    }\n",
       "</style>\n",
       "<table border=\"1\" class=\"dataframe\">\n",
       "  <thead>\n",
       "    <tr style=\"text-align: right;\">\n",
       "      <th></th>\n",
       "      <th>Fecha Alta</th>\n",
       "      <th>Cliente</th>\n",
       "      <th>Modelo Caldera</th>\n",
       "      <th>Provincia</th>\n",
       "      <th>Gender</th>\n",
       "      <th>Pais</th>\n",
       "      <th>Born Date</th>\n",
       "      <th>Tipo Propiedad</th>\n",
       "      <th>Situacion Laboral</th>\n",
       "      <th>Estado Civil</th>\n",
       "      <th>Ingresos</th>\n",
       "      <th>Pagos Anuales</th>\n",
       "      <th>Fecha Estado</th>\n",
       "      <th>Estado</th>\n",
       "      <th>Tipo Inmueble</th>\n",
       "      <th>Financiado</th>\n",
       "      <th>Precio Contado</th>\n",
       "      <th>Precio Total</th>\n",
       "      <th>Quejas</th>\n",
       "      <th>Incidencias</th>\n",
       "      <th>Consumo Mes</th>\n",
       "      <th>Edad</th>\n",
       "    </tr>\n",
       "  </thead>\n",
       "  <tbody>\n",
       "    <tr>\n",
       "      <th>0</th>\n",
       "      <td>2014-01-01</td>\n",
       "      <td>17</td>\n",
       "      <td>Biasi</td>\n",
       "      <td>Alicante</td>\n",
       "      <td>Hombre</td>\n",
       "      <td>España</td>\n",
       "      <td>1973-05-19</td>\n",
       "      <td>Propiedad Total</td>\n",
       "      <td>Autonomo</td>\n",
       "      <td>Casado</td>\n",
       "      <td>2500</td>\n",
       "      <td>14</td>\n",
       "      <td>2016-09-14</td>\n",
       "      <td>1</td>\n",
       "      <td>Casa</td>\n",
       "      <td>Financiado</td>\n",
       "      <td>Promo 0 EUR</td>\n",
       "      <td>399</td>\n",
       "      <td>1</td>\n",
       "      <td>0</td>\n",
       "      <td>441.63</td>\n",
       "      <td>40.649315</td>\n",
       "    </tr>\n",
       "    <tr>\n",
       "      <th>1</th>\n",
       "      <td>2014-01-01</td>\n",
       "      <td>54</td>\n",
       "      <td>Biasi</td>\n",
       "      <td>Alicante</td>\n",
       "      <td>Hombre</td>\n",
       "      <td>España</td>\n",
       "      <td>1976-05-08</td>\n",
       "      <td>Propiedad Total</td>\n",
       "      <td>Parado</td>\n",
       "      <td>Soltero</td>\n",
       "      <td>1200</td>\n",
       "      <td>14</td>\n",
       "      <td>2016-12-29</td>\n",
       "      <td>1</td>\n",
       "      <td>Piso</td>\n",
       "      <td>Financiado</td>\n",
       "      <td>Promo 0 EUR</td>\n",
       "      <td>399</td>\n",
       "      <td>0</td>\n",
       "      <td>0</td>\n",
       "      <td>152.57</td>\n",
       "      <td>37.676712</td>\n",
       "    </tr>\n",
       "    <tr>\n",
       "      <th>2</th>\n",
       "      <td>2014-01-01</td>\n",
       "      <td>84</td>\n",
       "      <td>Biasi</td>\n",
       "      <td>Valencia</td>\n",
       "      <td>Hombre</td>\n",
       "      <td>España</td>\n",
       "      <td>1982-03-15</td>\n",
       "      <td>Propiedad Total</td>\n",
       "      <td>Trabajo Temporal</td>\n",
       "      <td>Soltero</td>\n",
       "      <td>800</td>\n",
       "      <td>14</td>\n",
       "      <td>2017-02-24</td>\n",
       "      <td>1</td>\n",
       "      <td>Casa</td>\n",
       "      <td>Financiado</td>\n",
       "      <td>0 - 100 EUR</td>\n",
       "      <td>399</td>\n",
       "      <td>1</td>\n",
       "      <td>0</td>\n",
       "      <td>288.73</td>\n",
       "      <td>31.821918</td>\n",
       "    </tr>\n",
       "    <tr>\n",
       "      <th>3</th>\n",
       "      <td>2014-01-01</td>\n",
       "      <td>103</td>\n",
       "      <td>Biasi</td>\n",
       "      <td>Alicante</td>\n",
       "      <td>Hombre</td>\n",
       "      <td>España</td>\n",
       "      <td>1976-02-02</td>\n",
       "      <td>Propiedad Total</td>\n",
       "      <td>Autonomo</td>\n",
       "      <td>Casado</td>\n",
       "      <td>1500</td>\n",
       "      <td>12</td>\n",
       "      <td>2014-01-01</td>\n",
       "      <td>0</td>\n",
       "      <td>Casa</td>\n",
       "      <td>Financiado</td>\n",
       "      <td>Promo 0 EUR</td>\n",
       "      <td>399</td>\n",
       "      <td>1</td>\n",
       "      <td>0</td>\n",
       "      <td>103.97</td>\n",
       "      <td>37.939726</td>\n",
       "    </tr>\n",
       "    <tr>\n",
       "      <th>4</th>\n",
       "      <td>2014-01-01</td>\n",
       "      <td>110</td>\n",
       "      <td>Biasi</td>\n",
       "      <td>Alicante</td>\n",
       "      <td>Mujer</td>\n",
       "      <td>España</td>\n",
       "      <td>1989-07-31</td>\n",
       "      <td>Propiedad Total</td>\n",
       "      <td>Parado</td>\n",
       "      <td>Soltero</td>\n",
       "      <td>1000</td>\n",
       "      <td>12</td>\n",
       "      <td>2017-03-11</td>\n",
       "      <td>1</td>\n",
       "      <td>Piso</td>\n",
       "      <td>Financiado</td>\n",
       "      <td>Promo 0 EUR</td>\n",
       "      <td>399</td>\n",
       "      <td>0</td>\n",
       "      <td>8</td>\n",
       "      <td>145.43</td>\n",
       "      <td>24.438356</td>\n",
       "    </tr>\n",
       "  </tbody>\n",
       "</table>\n",
       "</div>"
      ],
      "text/plain": [
       "  Fecha Alta Cliente Modelo Caldera Provincia  Gender    Pais  Born Date  \\\n",
       "0 2014-01-01      17         Biasi   Alicante  Hombre  España 1973-05-19   \n",
       "1 2014-01-01      54         Biasi   Alicante  Hombre  España 1976-05-08   \n",
       "2 2014-01-01      84         Biasi   Valencia  Hombre  España 1982-03-15   \n",
       "3 2014-01-01     103         Biasi   Alicante  Hombre  España 1976-02-02   \n",
       "4 2014-01-01     110         Biasi   Alicante   Mujer  España 1989-07-31   \n",
       "\n",
       "    Tipo Propiedad Situacion Laboral Estado Civil  Ingresos  Pagos Anuales  \\\n",
       "0  Propiedad Total          Autonomo       Casado      2500             14   \n",
       "1  Propiedad Total            Parado      Soltero      1200             14   \n",
       "2  Propiedad Total  Trabajo Temporal      Soltero       800             14   \n",
       "3  Propiedad Total          Autonomo       Casado      1500             12   \n",
       "4  Propiedad Total            Parado      Soltero      1000             12   \n",
       "\n",
       "  Fecha Estado  Estado Tipo Inmueble  Financiado Precio Contado  Precio Total  \\\n",
       "0   2016-09-14       1          Casa  Financiado    Promo 0 EUR           399   \n",
       "1   2016-12-29       1          Piso  Financiado    Promo 0 EUR           399   \n",
       "2   2017-02-24       1          Casa  Financiado    0 - 100 EUR           399   \n",
       "3   2014-01-01       0          Casa  Financiado    Promo 0 EUR           399   \n",
       "4   2017-03-11       1          Piso  Financiado    Promo 0 EUR           399   \n",
       "\n",
       "   Quejas  Incidencias  Consumo Mes       Edad  \n",
       "0       1            0       441.63  40.649315  \n",
       "1       0            0       152.57  37.676712  \n",
       "2       1            0       288.73  31.821918  \n",
       "3       1            0       103.97  37.939726  \n",
       "4       0            8       145.43  24.438356  "
      ]
     },
     "execution_count": 8,
     "metadata": {},
     "output_type": "execute_result"
    }
   ],
   "source": [
    "# Edad en el momento del alta\n",
    "\n",
    "data['Edad'] = ((data['Fecha Alta'] - data['Born Date']).dt.days)/365\n",
    "                        \n",
    "data.head()"
   ]
  },
  {
   "cell_type": "code",
   "execution_count": 9,
   "metadata": {},
   "outputs": [
    {
     "data": {
      "image/png": "[encoded data removed]",
      "text/plain": [
       "<Figure size 432x288 with 1 Axes>"
      ]
     },
     "metadata": {
      "needs_background": "light"
     },
     "output_type": "display_data"
    }
   ],
   "source": [
    "plt.hist(data['Edad'], range = (-100,0));"
   ]
  },
  {
   "cell_type": "code",
   "execution_count": 10,
   "metadata": {},
   "outputs": [
    {
     "data": {
      "image/png": "[encoded data removed]",
      "text/plain": [
       "<Figure size 432x288 with 1 Axes>"
      ]
     },
     "metadata": {
      "needs_background": "light"
     },
     "output_type": "display_data"
    }
   ],
   "source": [
    "plt.hist(data['Edad'], range = (0,18));"
   ]
  },
  {
   "cell_type": "code",
   "execution_count": 11,
   "metadata": {},
   "outputs": [
    {
     "data": {
      "text/plain": [
       "49.411166614701536"
      ]
     },
     "execution_count": 11,
     "metadata": {},
     "output_type": "execute_result"
    }
   ],
   "source": [
    "edad_mean = data['Edad'].mean()\n",
    "edad_mean"
   ]
  },
  {
   "cell_type": "code",
   "execution_count": 12,
   "metadata": {},
   "outputs": [],
   "source": [
    "data['Edad'] = data['Edad'].apply(lambda x: edad_mean if x<18 else x)"
   ]
  },
  {
   "cell_type": "code",
   "execution_count": 13,
   "metadata": {},
   "outputs": [
    {
     "data": {
      "image/png": "[encoded data removed]",
      "text/plain": [
       "<Figure size 432x288 with 1 Axes>"
      ]
     },
     "metadata": {
      "needs_background": "light"
     },
     "output_type": "display_data"
    }
   ],
   "source": [
    "plt.hist(data['Edad']);"
   ]
  },
  {
   "cell_type": "code",
   "execution_count": 14,
   "metadata": {
    "scrolled": false
   },
   "outputs": [
    {
     "data": {
      "text/html": [
       "<div>\n",
       "<style scoped>\n",
       "    .dataframe tbody tr th:only-of-type {\n",
       "        vertical-align: middle;\n",
       "    }\n",
       "\n",
       "    .dataframe tbody tr th {\n",
       "        vertical-align: top;\n",
       "    }\n",
       "\n",
       "    .dataframe thead th {\n",
       "        text-align: right;\n",
       "    }\n",
       "</style>\n",
       "<table border=\"1\" class=\"dataframe\">\n",
       "  <thead>\n",
       "    <tr style=\"text-align: right;\">\n",
       "      <th></th>\n",
       "      <th>Fecha Alta</th>\n",
       "      <th>Cliente</th>\n",
       "      <th>Modelo Caldera</th>\n",
       "      <th>Provincia</th>\n",
       "      <th>Gender</th>\n",
       "      <th>Pais</th>\n",
       "      <th>Born Date</th>\n",
       "      <th>Tipo Propiedad</th>\n",
       "      <th>Situacion Laboral</th>\n",
       "      <th>Estado Civil</th>\n",
       "      <th>Ingresos</th>\n",
       "      <th>Pagos Anuales</th>\n",
       "      <th>Fecha Estado</th>\n",
       "      <th>Estado</th>\n",
       "      <th>Tipo Inmueble</th>\n",
       "      <th>Financiado</th>\n",
       "      <th>Precio Contado</th>\n",
       "      <th>Precio Total</th>\n",
       "      <th>Quejas</th>\n",
       "      <th>Incidencias</th>\n",
       "      <th>Consumo Mes</th>\n",
       "      <th>Edad</th>\n",
       "      <th>Rango_Edad</th>\n",
       "    </tr>\n",
       "  </thead>\n",
       "  <tbody>\n",
       "    <tr>\n",
       "      <th>0</th>\n",
       "      <td>2014-01-01</td>\n",
       "      <td>17</td>\n",
       "      <td>Biasi</td>\n",
       "      <td>Alicante</td>\n",
       "      <td>Hombre</td>\n",
       "      <td>España</td>\n",
       "      <td>1973-05-19</td>\n",
       "      <td>Propiedad Total</td>\n",
       "      <td>Autonomo</td>\n",
       "      <td>Casado</td>\n",
       "      <td>2500</td>\n",
       "      <td>14</td>\n",
       "      <td>2016-09-14</td>\n",
       "      <td>1</td>\n",
       "      <td>Casa</td>\n",
       "      <td>Financiado</td>\n",
       "      <td>Promo 0 EUR</td>\n",
       "      <td>399</td>\n",
       "      <td>1</td>\n",
       "      <td>0</td>\n",
       "      <td>441.63</td>\n",
       "      <td>40.649315</td>\n",
       "      <td>40-50</td>\n",
       "    </tr>\n",
       "    <tr>\n",
       "      <th>1</th>\n",
       "      <td>2014-01-01</td>\n",
       "      <td>54</td>\n",
       "      <td>Biasi</td>\n",
       "      <td>Alicante</td>\n",
       "      <td>Hombre</td>\n",
       "      <td>España</td>\n",
       "      <td>1976-05-08</td>\n",
       "      <td>Propiedad Total</td>\n",
       "      <td>Parado</td>\n",
       "      <td>Soltero</td>\n",
       "      <td>1200</td>\n",
       "      <td>14</td>\n",
       "      <td>2016-12-29</td>\n",
       "      <td>1</td>\n",
       "      <td>Piso</td>\n",
       "      <td>Financiado</td>\n",
       "      <td>Promo 0 EUR</td>\n",
       "      <td>399</td>\n",
       "      <td>0</td>\n",
       "      <td>0</td>\n",
       "      <td>152.57</td>\n",
       "      <td>37.676712</td>\n",
       "      <td>30-40</td>\n",
       "    </tr>\n",
       "    <tr>\n",
       "      <th>2</th>\n",
       "      <td>2014-01-01</td>\n",
       "      <td>84</td>\n",
       "      <td>Biasi</td>\n",
       "      <td>Valencia</td>\n",
       "      <td>Hombre</td>\n",
       "      <td>España</td>\n",
       "      <td>1982-03-15</td>\n",
       "      <td>Propiedad Total</td>\n",
       "      <td>Trabajo Temporal</td>\n",
       "      <td>Soltero</td>\n",
       "      <td>800</td>\n",
       "      <td>14</td>\n",
       "      <td>2017-02-24</td>\n",
       "      <td>1</td>\n",
       "      <td>Casa</td>\n",
       "      <td>Financiado</td>\n",
       "      <td>0 - 100 EUR</td>\n",
       "      <td>399</td>\n",
       "      <td>1</td>\n",
       "      <td>0</td>\n",
       "      <td>288.73</td>\n",
       "      <td>31.821918</td>\n",
       "      <td>30-40</td>\n",
       "    </tr>\n",
       "    <tr>\n",
       "      <th>3</th>\n",
       "      <td>2014-01-01</td>\n",
       "      <td>103</td>\n",
       "      <td>Biasi</td>\n",
       "      <td>Alicante</td>\n",
       "      <td>Hombre</td>\n",
       "      <td>España</td>\n",
       "      <td>1976-02-02</td>\n",
       "      <td>Propiedad Total</td>\n",
       "      <td>Autonomo</td>\n",
       "      <td>Casado</td>\n",
       "      <td>1500</td>\n",
       "      <td>12</td>\n",
       "      <td>2014-01-01</td>\n",
       "      <td>0</td>\n",
       "      <td>Casa</td>\n",
       "      <td>Financiado</td>\n",
       "      <td>Promo 0 EUR</td>\n",
       "      <td>399</td>\n",
       "      <td>1</td>\n",
       "      <td>0</td>\n",
       "      <td>103.97</td>\n",
       "      <td>37.939726</td>\n",
       "      <td>30-40</td>\n",
       "    </tr>\n",
       "    <tr>\n",
       "      <th>4</th>\n",
       "      <td>2014-01-01</td>\n",
       "      <td>110</td>\n",
       "      <td>Biasi</td>\n",
       "      <td>Alicante</td>\n",
       "      <td>Mujer</td>\n",
       "      <td>España</td>\n",
       "      <td>1989-07-31</td>\n",
       "      <td>Propiedad Total</td>\n",
       "      <td>Parado</td>\n",
       "      <td>Soltero</td>\n",
       "      <td>1000</td>\n",
       "      <td>12</td>\n",
       "      <td>2017-03-11</td>\n",
       "      <td>1</td>\n",
       "      <td>Piso</td>\n",
       "      <td>Financiado</td>\n",
       "      <td>Promo 0 EUR</td>\n",
       "      <td>399</td>\n",
       "      <td>0</td>\n",
       "      <td>8</td>\n",
       "      <td>145.43</td>\n",
       "      <td>24.438356</td>\n",
       "      <td>18-30</td>\n",
       "    </tr>\n",
       "  </tbody>\n",
       "</table>\n",
       "</div>"
      ],
      "text/plain": [
       "  Fecha Alta Cliente Modelo Caldera Provincia  Gender    Pais  Born Date  \\\n",
       "0 2014-01-01      17         Biasi   Alicante  Hombre  España 1973-05-19   \n",
       "1 2014-01-01      54         Biasi   Alicante  Hombre  España 1976-05-08   \n",
       "2 2014-01-01      84         Biasi   Valencia  Hombre  España 1982-03-15   \n",
       "3 2014-01-01     103         Biasi   Alicante  Hombre  España 1976-02-02   \n",
       "4 2014-01-01     110         Biasi   Alicante   Mujer  España 1989-07-31   \n",
       "\n",
       "    Tipo Propiedad Situacion Laboral Estado Civil  Ingresos  Pagos Anuales  \\\n",
       "0  Propiedad Total          Autonomo       Casado      2500             14   \n",
       "1  Propiedad Total            Parado      Soltero      1200             14   \n",
       "2  Propiedad Total  Trabajo Temporal      Soltero       800             14   \n",
       "3  Propiedad Total          Autonomo       Casado      1500             12   \n",
       "4  Propiedad Total            Parado      Soltero      1000             12   \n",
       "\n",
       "  Fecha Estado  Estado Tipo Inmueble  Financiado Precio Contado  Precio Total  \\\n",
       "0   2016-09-14       1          Casa  Financiado    Promo 0 EUR           399   \n",
       "1   2016-12-29       1          Piso  Financiado    Promo 0 EUR           399   \n",
       "2   2017-02-24       1          Casa  Financiado    0 - 100 EUR           399   \n",
       "3   2014-01-01       0          Casa  Financiado    Promo 0 EUR           399   \n",
       "4   2017-03-11       1          Piso  Financiado    Promo 0 EUR           399   \n",
       "\n",
       "   Quejas  Incidencias  Consumo Mes       Edad Rango_Edad  \n",
       "0       1            0       441.63  40.649315      40-50  \n",
       "1       0            0       152.57  37.676712      30-40  \n",
       "2       1            0       288.73  31.821918      30-40  \n",
       "3       1            0       103.97  37.939726      30-40  \n",
       "4       0            8       145.43  24.438356      18-30  "
      ]
     },
     "execution_count": 14,
     "metadata": {},
     "output_type": "execute_result"
    }
   ],
   "source": [
    "# Mapping Edad \n",
    "data.loc[data['Edad'] <= 30, 'Rango_Edad'] = \"18-30\"\n",
    "data.loc[(data['Edad'] > 30) & (data['Edad'] <= 40), 'Rango_Edad'] = \"30-40\"\n",
    "data.loc[(data['Edad'] > 40) & (data['Edad'] <= 50), 'Rango_Edad'] = \"40-50\"\n",
    "data.loc[(data['Edad'] > 50) & (data['Edad'] <= 60), 'Rango_Edad'] = \"50-60\"\n",
    "data.loc[(data['Edad'] > 60) & (data['Edad'] <= 70), 'Rango_Edad'] = \"60-70\"\n",
    "data.loc[(data['Edad'] > 70) & (data['Edad'] <= 80), 'Rango_Edad'] = \"70-80\"\n",
    "data.loc[data['Edad'] > 80, 'Rango_Edad'] = \"+80\"\n",
    "data.head()"
   ]
  },
  {
   "cell_type": "code",
   "execution_count": 15,
   "metadata": {},
   "outputs": [
    {
     "data": {
      "text/html": [
       "<div>\n",
       "<style scoped>\n",
       "    .dataframe tbody tr th:only-of-type {\n",
       "        vertical-align: middle;\n",
       "    }\n",
       "\n",
       "    .dataframe tbody tr th {\n",
       "        vertical-align: top;\n",
       "    }\n",
       "\n",
       "    .dataframe thead th {\n",
       "        text-align: right;\n",
       "    }\n",
       "</style>\n",
       "<table border=\"1\" class=\"dataframe\">\n",
       "  <thead>\n",
       "    <tr style=\"text-align: right;\">\n",
       "      <th>Estado</th>\n",
       "      <th>0</th>\n",
       "      <th>1</th>\n",
       "      <th>All</th>\n",
       "      <th>0</th>\n",
       "      <th>1</th>\n",
       "    </tr>\n",
       "    <tr>\n",
       "      <th>Rango_Edad</th>\n",
       "      <th></th>\n",
       "      <th></th>\n",
       "      <th></th>\n",
       "      <th></th>\n",
       "      <th></th>\n",
       "    </tr>\n",
       "  </thead>\n",
       "  <tbody>\n",
       "    <tr>\n",
       "      <th>+80</th>\n",
       "      <td>961</td>\n",
       "      <td>203</td>\n",
       "      <td>1164</td>\n",
       "      <td>0.825601</td>\n",
       "      <td>0.174399</td>\n",
       "    </tr>\n",
       "    <tr>\n",
       "      <th>18-30</th>\n",
       "      <td>2584</td>\n",
       "      <td>2258</td>\n",
       "      <td>4842</td>\n",
       "      <td>0.533664</td>\n",
       "      <td>0.466336</td>\n",
       "    </tr>\n",
       "    <tr>\n",
       "      <th>30-40</th>\n",
       "      <td>6163</td>\n",
       "      <td>3749</td>\n",
       "      <td>9912</td>\n",
       "      <td>0.621772</td>\n",
       "      <td>0.378228</td>\n",
       "    </tr>\n",
       "    <tr>\n",
       "      <th>40-50</th>\n",
       "      <td>10346</td>\n",
       "      <td>3941</td>\n",
       "      <td>14287</td>\n",
       "      <td>0.724155</td>\n",
       "      <td>0.275845</td>\n",
       "    </tr>\n",
       "    <tr>\n",
       "      <th>50-60</th>\n",
       "      <td>9324</td>\n",
       "      <td>2274</td>\n",
       "      <td>11598</td>\n",
       "      <td>0.803932</td>\n",
       "      <td>0.196068</td>\n",
       "    </tr>\n",
       "    <tr>\n",
       "      <th>60-70</th>\n",
       "      <td>7571</td>\n",
       "      <td>1276</td>\n",
       "      <td>8847</td>\n",
       "      <td>0.855770</td>\n",
       "      <td>0.144230</td>\n",
       "    </tr>\n",
       "    <tr>\n",
       "      <th>70-80</th>\n",
       "      <td>3988</td>\n",
       "      <td>589</td>\n",
       "      <td>4577</td>\n",
       "      <td>0.871313</td>\n",
       "      <td>0.128687</td>\n",
       "    </tr>\n",
       "    <tr>\n",
       "      <th>All</th>\n",
       "      <td>40937</td>\n",
       "      <td>14290</td>\n",
       "      <td>55227</td>\n",
       "      <td>0.741250</td>\n",
       "      <td>0.258750</td>\n",
       "    </tr>\n",
       "  </tbody>\n",
       "</table>\n",
       "</div>"
      ],
      "text/plain": [
       "Estado          0      1    All         0         1\n",
       "Rango_Edad                                         \n",
       "+80           961    203   1164  0.825601  0.174399\n",
       "18-30        2584   2258   4842  0.533664  0.466336\n",
       "30-40        6163   3749   9912  0.621772  0.378228\n",
       "40-50       10346   3941  14287  0.724155  0.275845\n",
       "50-60        9324   2274  11598  0.803932  0.196068\n",
       "60-70        7571   1276   8847  0.855770  0.144230\n",
       "70-80        3988    589   4577  0.871313  0.128687\n",
       "All         40937  14290  55227  0.741250  0.258750"
      ]
     },
     "execution_count": 15,
     "metadata": {},
     "output_type": "execute_result"
    }
   ],
   "source": [
    "tab1 = pd.crosstab(data[\"Rango_Edad\"], data[\"Estado\"], margins = True)\n",
    "tab2 = pd.crosstab(data[\"Rango_Edad\"], data[\"Estado\"], margins = True, normalize = 'index')\n",
    "pd.concat([tab1, tab2], axis = 1)"
   ]
  },
  {
   "cell_type": "markdown",
   "metadata": {},
   "source": [
    "Rangos de Ingresos:"
   ]
  },
  {
   "cell_type": "code",
   "execution_count": 16,
   "metadata": {},
   "outputs": [
    {
     "data": {
      "image/png": "[encoded data removed]",
      "text/plain": [
       "<Figure size 432x288 with 1 Axes>"
      ]
     },
     "metadata": {
      "needs_background": "light"
     },
     "output_type": "display_data"
    }
   ],
   "source": [
    "plt.hist(data['Ingresos'], range=(0, 5000));"
   ]
  },
  {
   "cell_type": "code",
   "execution_count": 17,
   "metadata": {},
   "outputs": [
    {
     "data": {
      "text/html": [
       "<div>\n",
       "<style scoped>\n",
       "    .dataframe tbody tr th:only-of-type {\n",
       "        vertical-align: middle;\n",
       "    }\n",
       "\n",
       "    .dataframe tbody tr th {\n",
       "        vertical-align: top;\n",
       "    }\n",
       "\n",
       "    .dataframe thead th {\n",
       "        text-align: right;\n",
       "    }\n",
       "</style>\n",
       "<table border=\"1\" class=\"dataframe\">\n",
       "  <thead>\n",
       "    <tr style=\"text-align: right;\">\n",
       "      <th></th>\n",
       "      <th>Fecha Alta</th>\n",
       "      <th>Cliente</th>\n",
       "      <th>Modelo Caldera</th>\n",
       "      <th>Provincia</th>\n",
       "      <th>Gender</th>\n",
       "      <th>Pais</th>\n",
       "      <th>Born Date</th>\n",
       "      <th>Tipo Propiedad</th>\n",
       "      <th>Situacion Laboral</th>\n",
       "      <th>Estado Civil</th>\n",
       "      <th>Ingresos</th>\n",
       "      <th>Pagos Anuales</th>\n",
       "      <th>Fecha Estado</th>\n",
       "      <th>Estado</th>\n",
       "      <th>Tipo Inmueble</th>\n",
       "      <th>Financiado</th>\n",
       "      <th>Precio Contado</th>\n",
       "      <th>Precio Total</th>\n",
       "      <th>Quejas</th>\n",
       "      <th>Incidencias</th>\n",
       "      <th>Consumo Mes</th>\n",
       "      <th>Edad</th>\n",
       "      <th>Rango_Edad</th>\n",
       "      <th>Income</th>\n",
       "    </tr>\n",
       "  </thead>\n",
       "  <tbody>\n",
       "    <tr>\n",
       "      <th>0</th>\n",
       "      <td>2014-01-01</td>\n",
       "      <td>17</td>\n",
       "      <td>Biasi</td>\n",
       "      <td>Alicante</td>\n",
       "      <td>Hombre</td>\n",
       "      <td>España</td>\n",
       "      <td>1973-05-19</td>\n",
       "      <td>Propiedad Total</td>\n",
       "      <td>Autonomo</td>\n",
       "      <td>Casado</td>\n",
       "      <td>2500</td>\n",
       "      <td>14</td>\n",
       "      <td>2016-09-14</td>\n",
       "      <td>1</td>\n",
       "      <td>Casa</td>\n",
       "      <td>Financiado</td>\n",
       "      <td>Promo 0 EUR</td>\n",
       "      <td>399</td>\n",
       "      <td>1</td>\n",
       "      <td>0</td>\n",
       "      <td>441.63</td>\n",
       "      <td>40.649315</td>\n",
       "      <td>40-50</td>\n",
       "      <td>2000-3000</td>\n",
       "    </tr>\n",
       "    <tr>\n",
       "      <th>1</th>\n",
       "      <td>2014-01-01</td>\n",
       "      <td>54</td>\n",
       "      <td>Biasi</td>\n",
       "      <td>Alicante</td>\n",
       "      <td>Hombre</td>\n",
       "      <td>España</td>\n",
       "      <td>1976-05-08</td>\n",
       "      <td>Propiedad Total</td>\n",
       "      <td>Parado</td>\n",
       "      <td>Soltero</td>\n",
       "      <td>1200</td>\n",
       "      <td>14</td>\n",
       "      <td>2016-12-29</td>\n",
       "      <td>1</td>\n",
       "      <td>Piso</td>\n",
       "      <td>Financiado</td>\n",
       "      <td>Promo 0 EUR</td>\n",
       "      <td>399</td>\n",
       "      <td>0</td>\n",
       "      <td>0</td>\n",
       "      <td>152.57</td>\n",
       "      <td>37.676712</td>\n",
       "      <td>30-40</td>\n",
       "      <td>1000-1500</td>\n",
       "    </tr>\n",
       "    <tr>\n",
       "      <th>2</th>\n",
       "      <td>2014-01-01</td>\n",
       "      <td>84</td>\n",
       "      <td>Biasi</td>\n",
       "      <td>Valencia</td>\n",
       "      <td>Hombre</td>\n",
       "      <td>España</td>\n",
       "      <td>1982-03-15</td>\n",
       "      <td>Propiedad Total</td>\n",
       "      <td>Trabajo Temporal</td>\n",
       "      <td>Soltero</td>\n",
       "      <td>800</td>\n",
       "      <td>14</td>\n",
       "      <td>2017-02-24</td>\n",
       "      <td>1</td>\n",
       "      <td>Casa</td>\n",
       "      <td>Financiado</td>\n",
       "      <td>0 - 100 EUR</td>\n",
       "      <td>399</td>\n",
       "      <td>1</td>\n",
       "      <td>0</td>\n",
       "      <td>288.73</td>\n",
       "      <td>31.821918</td>\n",
       "      <td>30-40</td>\n",
       "      <td>0-1000</td>\n",
       "    </tr>\n",
       "    <tr>\n",
       "      <th>3</th>\n",
       "      <td>2014-01-01</td>\n",
       "      <td>103</td>\n",
       "      <td>Biasi</td>\n",
       "      <td>Alicante</td>\n",
       "      <td>Hombre</td>\n",
       "      <td>España</td>\n",
       "      <td>1976-02-02</td>\n",
       "      <td>Propiedad Total</td>\n",
       "      <td>Autonomo</td>\n",
       "      <td>Casado</td>\n",
       "      <td>1500</td>\n",
       "      <td>12</td>\n",
       "      <td>2014-01-01</td>\n",
       "      <td>0</td>\n",
       "      <td>Casa</td>\n",
       "      <td>Financiado</td>\n",
       "      <td>Promo 0 EUR</td>\n",
       "      <td>399</td>\n",
       "      <td>1</td>\n",
       "      <td>0</td>\n",
       "      <td>103.97</td>\n",
       "      <td>37.939726</td>\n",
       "      <td>30-40</td>\n",
       "      <td>1000-1500</td>\n",
       "    </tr>\n",
       "    <tr>\n",
       "      <th>4</th>\n",
       "      <td>2014-01-01</td>\n",
       "      <td>110</td>\n",
       "      <td>Biasi</td>\n",
       "      <td>Alicante</td>\n",
       "      <td>Mujer</td>\n",
       "      <td>España</td>\n",
       "      <td>1989-07-31</td>\n",
       "      <td>Propiedad Total</td>\n",
       "      <td>Parado</td>\n",
       "      <td>Soltero</td>\n",
       "      <td>1000</td>\n",
       "      <td>12</td>\n",
       "      <td>2017-03-11</td>\n",
       "      <td>1</td>\n",
       "      <td>Piso</td>\n",
       "      <td>Financiado</td>\n",
       "      <td>Promo 0 EUR</td>\n",
       "      <td>399</td>\n",
       "      <td>0</td>\n",
       "      <td>8</td>\n",
       "      <td>145.43</td>\n",
       "      <td>24.438356</td>\n",
       "      <td>18-30</td>\n",
       "      <td>0-1000</td>\n",
       "    </tr>\n",
       "  </tbody>\n",
       "</table>\n",
       "</div>"
      ],
      "text/plain": [
       "  Fecha Alta Cliente Modelo Caldera Provincia  Gender    Pais  Born Date  \\\n",
       "0 2014-01-01      17         Biasi   Alicante  Hombre  España 1973-05-19   \n",
       "1 2014-01-01      54         Biasi   Alicante  Hombre  España 1976-05-08   \n",
       "2 2014-01-01      84         Biasi   Valencia  Hombre  España 1982-03-15   \n",
       "3 2014-01-01     103         Biasi   Alicante  Hombre  España 1976-02-02   \n",
       "4 2014-01-01     110         Biasi   Alicante   Mujer  España 1989-07-31   \n",
       "\n",
       "    Tipo Propiedad Situacion Laboral Estado Civil  Ingresos  Pagos Anuales  \\\n",
       "0  Propiedad Total          Autonomo       Casado      2500             14   \n",
       "1  Propiedad Total            Parado      Soltero      1200             14   \n",
       "2  Propiedad Total  Trabajo Temporal      Soltero       800             14   \n",
       "3  Propiedad Total          Autonomo       Casado      1500             12   \n",
       "4  Propiedad Total            Parado      Soltero      1000             12   \n",
       "\n",
       "  Fecha Estado  Estado Tipo Inmueble  Financiado Precio Contado  Precio Total  \\\n",
       "0   2016-09-14       1          Casa  Financiado    Promo 0 EUR           399   \n",
       "1   2016-12-29       1          Piso  Financiado    Promo 0 EUR           399   \n",
       "2   2017-02-24       1          Casa  Financiado    0 - 100 EUR           399   \n",
       "3   2014-01-01       0          Casa  Financiado    Promo 0 EUR           399   \n",
       "4   2017-03-11       1          Piso  Financiado    Promo 0 EUR           399   \n",
       "\n",
       "   Quejas  Incidencias  Consumo Mes       Edad Rango_Edad     Income  \n",
       "0       1            0       441.63  40.649315      40-50  2000-3000  \n",
       "1       0            0       152.57  37.676712      30-40  1000-1500  \n",
       "2       1            0       288.73  31.821918      30-40     0-1000  \n",
       "3       1            0       103.97  37.939726      30-40  1000-1500  \n",
       "4       0            8       145.43  24.438356      18-30     0-1000  "
      ]
     },
     "execution_count": 17,
     "metadata": {},
     "output_type": "execute_result"
    }
   ],
   "source": [
    "data.loc[data['Ingresos'] <= 1000, 'Income'] = \"0-1000\"\n",
    "data.loc[(data['Ingresos'] > 1000) & (data['Ingresos'] <= 1500), 'Income'] = \"1000-1500\"\n",
    "data.loc[(data['Ingresos'] > 1500) & (data['Ingresos'] <= 2000), 'Income'] = \"1500-2000\"\n",
    "data.loc[(data['Ingresos'] > 2000) & (data['Ingresos'] <= 3000), 'Income'] = \"2000-3000\"\n",
    "data.loc[data['Ingresos'] > 3000, 'Income'] = \"+3000\"\n",
    "data.head()"
   ]
  },
  {
   "cell_type": "code",
   "execution_count": 18,
   "metadata": {},
   "outputs": [
    {
     "data": {
      "text/html": [
       "<div>\n",
       "<style scoped>\n",
       "    .dataframe tbody tr th:only-of-type {\n",
       "        vertical-align: middle;\n",
       "    }\n",
       "\n",
       "    .dataframe tbody tr th {\n",
       "        vertical-align: top;\n",
       "    }\n",
       "\n",
       "    .dataframe thead th {\n",
       "        text-align: right;\n",
       "    }\n",
       "</style>\n",
       "<table border=\"1\" class=\"dataframe\">\n",
       "  <thead>\n",
       "    <tr style=\"text-align: right;\">\n",
       "      <th>Estado</th>\n",
       "      <th>0</th>\n",
       "      <th>1</th>\n",
       "      <th>All</th>\n",
       "      <th>0</th>\n",
       "      <th>1</th>\n",
       "    </tr>\n",
       "    <tr>\n",
       "      <th>Income</th>\n",
       "      <th></th>\n",
       "      <th></th>\n",
       "      <th></th>\n",
       "      <th></th>\n",
       "      <th></th>\n",
       "    </tr>\n",
       "  </thead>\n",
       "  <tbody>\n",
       "    <tr>\n",
       "      <th>+3000</th>\n",
       "      <td>1687</td>\n",
       "      <td>448</td>\n",
       "      <td>2135</td>\n",
       "      <td>0.790164</td>\n",
       "      <td>0.209836</td>\n",
       "    </tr>\n",
       "    <tr>\n",
       "      <th>0-1000</th>\n",
       "      <td>6979</td>\n",
       "      <td>3147</td>\n",
       "      <td>10126</td>\n",
       "      <td>0.689216</td>\n",
       "      <td>0.310784</td>\n",
       "    </tr>\n",
       "    <tr>\n",
       "      <th>1000-1500</th>\n",
       "      <td>18436</td>\n",
       "      <td>6408</td>\n",
       "      <td>24844</td>\n",
       "      <td>0.742071</td>\n",
       "      <td>0.257929</td>\n",
       "    </tr>\n",
       "    <tr>\n",
       "      <th>1500-2000</th>\n",
       "      <td>9482</td>\n",
       "      <td>3084</td>\n",
       "      <td>12566</td>\n",
       "      <td>0.754576</td>\n",
       "      <td>0.245424</td>\n",
       "    </tr>\n",
       "    <tr>\n",
       "      <th>2000-3000</th>\n",
       "      <td>4353</td>\n",
       "      <td>1203</td>\n",
       "      <td>5556</td>\n",
       "      <td>0.783477</td>\n",
       "      <td>0.216523</td>\n",
       "    </tr>\n",
       "    <tr>\n",
       "      <th>All</th>\n",
       "      <td>40937</td>\n",
       "      <td>14290</td>\n",
       "      <td>55227</td>\n",
       "      <td>0.741250</td>\n",
       "      <td>0.258750</td>\n",
       "    </tr>\n",
       "  </tbody>\n",
       "</table>\n",
       "</div>"
      ],
      "text/plain": [
       "Estado         0      1    All         0         1\n",
       "Income                                            \n",
       "+3000       1687    448   2135  0.790164  0.209836\n",
       "0-1000      6979   3147  10126  0.689216  0.310784\n",
       "1000-1500  18436   6408  24844  0.742071  0.257929\n",
       "1500-2000   9482   3084  12566  0.754576  0.245424\n",
       "2000-3000   4353   1203   5556  0.783477  0.216523\n",
       "All        40937  14290  55227  0.741250  0.258750"
      ]
     },
     "execution_count": 18,
     "metadata": {},
     "output_type": "execute_result"
    }
   ],
   "source": [
    "tab1 = pd.crosstab(data[\"Income\"], data[\"Estado\"], margins = True)\n",
    "tab2 = pd.crosstab(data[\"Income\"], data[\"Estado\"], margins = True, normalize = 'index')\n",
    "pd.concat([tab1, tab2], axis = 1)"
   ]
  },
  {
   "cell_type": "markdown",
   "metadata": {},
   "source": [
    "Días Activo:"
   ]
  },
  {
   "cell_type": "code",
   "execution_count": 19,
   "metadata": {},
   "outputs": [
    {
     "data": {
      "text/html": [
       "<div>\n",
       "<style scoped>\n",
       "    .dataframe tbody tr th:only-of-type {\n",
       "        vertical-align: middle;\n",
       "    }\n",
       "\n",
       "    .dataframe tbody tr th {\n",
       "        vertical-align: top;\n",
       "    }\n",
       "\n",
       "    .dataframe thead th {\n",
       "        text-align: right;\n",
       "    }\n",
       "</style>\n",
       "<table border=\"1\" class=\"dataframe\">\n",
       "  <thead>\n",
       "    <tr style=\"text-align: right;\">\n",
       "      <th></th>\n",
       "      <th>Fecha Alta</th>\n",
       "      <th>Cliente</th>\n",
       "      <th>Modelo Caldera</th>\n",
       "      <th>Provincia</th>\n",
       "      <th>Gender</th>\n",
       "      <th>Pais</th>\n",
       "      <th>Born Date</th>\n",
       "      <th>Tipo Propiedad</th>\n",
       "      <th>Situacion Laboral</th>\n",
       "      <th>Estado Civil</th>\n",
       "      <th>Ingresos</th>\n",
       "      <th>Pagos Anuales</th>\n",
       "      <th>Fecha Estado</th>\n",
       "      <th>Estado</th>\n",
       "      <th>Tipo Inmueble</th>\n",
       "      <th>Financiado</th>\n",
       "      <th>Precio Contado</th>\n",
       "      <th>Precio Total</th>\n",
       "      <th>Quejas</th>\n",
       "      <th>Incidencias</th>\n",
       "      <th>Consumo Mes</th>\n",
       "      <th>Edad</th>\n",
       "      <th>Rango_Edad</th>\n",
       "      <th>Income</th>\n",
       "      <th>Dias_Activo</th>\n",
       "    </tr>\n",
       "  </thead>\n",
       "  <tbody>\n",
       "    <tr>\n",
       "      <th>0</th>\n",
       "      <td>2014-01-01</td>\n",
       "      <td>17</td>\n",
       "      <td>Biasi</td>\n",
       "      <td>Alicante</td>\n",
       "      <td>Hombre</td>\n",
       "      <td>España</td>\n",
       "      <td>1973-05-19</td>\n",
       "      <td>Propiedad Total</td>\n",
       "      <td>Autonomo</td>\n",
       "      <td>Casado</td>\n",
       "      <td>2500</td>\n",
       "      <td>14</td>\n",
       "      <td>2016-09-14</td>\n",
       "      <td>1</td>\n",
       "      <td>Casa</td>\n",
       "      <td>Financiado</td>\n",
       "      <td>Promo 0 EUR</td>\n",
       "      <td>399</td>\n",
       "      <td>1</td>\n",
       "      <td>0</td>\n",
       "      <td>441.63</td>\n",
       "      <td>40.649315</td>\n",
       "      <td>40-50</td>\n",
       "      <td>2000-3000</td>\n",
       "      <td>987</td>\n",
       "    </tr>\n",
       "    <tr>\n",
       "      <th>1</th>\n",
       "      <td>2014-01-01</td>\n",
       "      <td>54</td>\n",
       "      <td>Biasi</td>\n",
       "      <td>Alicante</td>\n",
       "      <td>Hombre</td>\n",
       "      <td>España</td>\n",
       "      <td>1976-05-08</td>\n",
       "      <td>Propiedad Total</td>\n",
       "      <td>Parado</td>\n",
       "      <td>Soltero</td>\n",
       "      <td>1200</td>\n",
       "      <td>14</td>\n",
       "      <td>2016-12-29</td>\n",
       "      <td>1</td>\n",
       "      <td>Piso</td>\n",
       "      <td>Financiado</td>\n",
       "      <td>Promo 0 EUR</td>\n",
       "      <td>399</td>\n",
       "      <td>0</td>\n",
       "      <td>0</td>\n",
       "      <td>152.57</td>\n",
       "      <td>37.676712</td>\n",
       "      <td>30-40</td>\n",
       "      <td>1000-1500</td>\n",
       "      <td>1093</td>\n",
       "    </tr>\n",
       "    <tr>\n",
       "      <th>2</th>\n",
       "      <td>2014-01-01</td>\n",
       "      <td>84</td>\n",
       "      <td>Biasi</td>\n",
       "      <td>Valencia</td>\n",
       "      <td>Hombre</td>\n",
       "      <td>España</td>\n",
       "      <td>1982-03-15</td>\n",
       "      <td>Propiedad Total</td>\n",
       "      <td>Trabajo Temporal</td>\n",
       "      <td>Soltero</td>\n",
       "      <td>800</td>\n",
       "      <td>14</td>\n",
       "      <td>2017-02-24</td>\n",
       "      <td>1</td>\n",
       "      <td>Casa</td>\n",
       "      <td>Financiado</td>\n",
       "      <td>0 - 100 EUR</td>\n",
       "      <td>399</td>\n",
       "      <td>1</td>\n",
       "      <td>0</td>\n",
       "      <td>288.73</td>\n",
       "      <td>31.821918</td>\n",
       "      <td>30-40</td>\n",
       "      <td>0-1000</td>\n",
       "      <td>1150</td>\n",
       "    </tr>\n",
       "    <tr>\n",
       "      <th>3</th>\n",
       "      <td>2014-01-01</td>\n",
       "      <td>103</td>\n",
       "      <td>Biasi</td>\n",
       "      <td>Alicante</td>\n",
       "      <td>Hombre</td>\n",
       "      <td>España</td>\n",
       "      <td>1976-02-02</td>\n",
       "      <td>Propiedad Total</td>\n",
       "      <td>Autonomo</td>\n",
       "      <td>Casado</td>\n",
       "      <td>1500</td>\n",
       "      <td>12</td>\n",
       "      <td>2014-01-01</td>\n",
       "      <td>0</td>\n",
       "      <td>Casa</td>\n",
       "      <td>Financiado</td>\n",
       "      <td>Promo 0 EUR</td>\n",
       "      <td>399</td>\n",
       "      <td>1</td>\n",
       "      <td>0</td>\n",
       "      <td>103.97</td>\n",
       "      <td>37.939726</td>\n",
       "      <td>30-40</td>\n",
       "      <td>1000-1500</td>\n",
       "      <td>2575</td>\n",
       "    </tr>\n",
       "    <tr>\n",
       "      <th>4</th>\n",
       "      <td>2014-01-01</td>\n",
       "      <td>110</td>\n",
       "      <td>Biasi</td>\n",
       "      <td>Alicante</td>\n",
       "      <td>Mujer</td>\n",
       "      <td>España</td>\n",
       "      <td>1989-07-31</td>\n",
       "      <td>Propiedad Total</td>\n",
       "      <td>Parado</td>\n",
       "      <td>Soltero</td>\n",
       "      <td>1000</td>\n",
       "      <td>12</td>\n",
       "      <td>2017-03-11</td>\n",
       "      <td>1</td>\n",
       "      <td>Piso</td>\n",
       "      <td>Financiado</td>\n",
       "      <td>Promo 0 EUR</td>\n",
       "      <td>399</td>\n",
       "      <td>0</td>\n",
       "      <td>8</td>\n",
       "      <td>145.43</td>\n",
       "      <td>24.438356</td>\n",
       "      <td>18-30</td>\n",
       "      <td>0-1000</td>\n",
       "      <td>1165</td>\n",
       "    </tr>\n",
       "  </tbody>\n",
       "</table>\n",
       "</div>"
      ],
      "text/plain": [
       "  Fecha Alta Cliente Modelo Caldera Provincia  Gender    Pais  Born Date  \\\n",
       "0 2014-01-01      17         Biasi   Alicante  Hombre  España 1973-05-19   \n",
       "1 2014-01-01      54         Biasi   Alicante  Hombre  España 1976-05-08   \n",
       "2 2014-01-01      84         Biasi   Valencia  Hombre  España 1982-03-15   \n",
       "3 2014-01-01     103         Biasi   Alicante  Hombre  España 1976-02-02   \n",
       "4 2014-01-01     110         Biasi   Alicante   Mujer  España 1989-07-31   \n",
       "\n",
       "    Tipo Propiedad Situacion Laboral Estado Civil  Ingresos  Pagos Anuales  \\\n",
       "0  Propiedad Total          Autonomo       Casado      2500             14   \n",
       "1  Propiedad Total            Parado      Soltero      1200             14   \n",
       "2  Propiedad Total  Trabajo Temporal      Soltero       800             14   \n",
       "3  Propiedad Total          Autonomo       Casado      1500             12   \n",
       "4  Propiedad Total            Parado      Soltero      1000             12   \n",
       "\n",
       "  Fecha Estado  Estado Tipo Inmueble  Financiado Precio Contado  Precio Total  \\\n",
       "0   2016-09-14       1          Casa  Financiado    Promo 0 EUR           399   \n",
       "1   2016-12-29       1          Piso  Financiado    Promo 0 EUR           399   \n",
       "2   2017-02-24       1          Casa  Financiado    0 - 100 EUR           399   \n",
       "3   2014-01-01       0          Casa  Financiado    Promo 0 EUR           399   \n",
       "4   2017-03-11       1          Piso  Financiado    Promo 0 EUR           399   \n",
       "\n",
       "   Quejas  Incidencias  Consumo Mes       Edad Rango_Edad     Income  \\\n",
       "0       1            0       441.63  40.649315      40-50  2000-3000   \n",
       "1       0            0       152.57  37.676712      30-40  1000-1500   \n",
       "2       1            0       288.73  31.821918      30-40     0-1000   \n",
       "3       1            0       103.97  37.939726      30-40  1000-1500   \n",
       "4       0            8       145.43  24.438356      18-30     0-1000   \n",
       "\n",
       "   Dias_Activo  \n",
       "0          987  \n",
       "1         1093  \n",
       "2         1150  \n",
       "3         2575  \n",
       "4         1165  "
      ]
     },
     "execution_count": 19,
     "metadata": {},
     "output_type": "execute_result"
    }
   ],
   "source": [
    "# Días hasta el 19/01/2021 (fecha de la extracción de datos) si ACTIVO y hasta cuando se dio de baja si BAJA\n",
    "\n",
    "data['Dias_Activo'] = 0\n",
    "fecha = datetime(2021, 1, 19)\n",
    "\n",
    "for i in range(len(data['Fecha Alta'])):\n",
    "    if data.loc[i, 'Estado'] == 0:\n",
    "        data.loc[i,'Dias_Activo'] = (fecha - data.loc[i,'Fecha Alta']).days\n",
    "    else:\n",
    "        data.loc[i,'Dias_Activo'] = (data.loc[i,'Fecha Estado'] - data.loc[i,'Fecha Alta']).days\n",
    "                        \n",
    "data.head()"
   ]
  },
  {
   "cell_type": "code",
   "execution_count": 20,
   "metadata": {},
   "outputs": [
    {
     "data": {
      "image/png": "[encoded data removed]",
      "text/plain": [
       "<Figure size 432x288 with 1 Axes>"
      ]
     },
     "metadata": {
      "needs_background": "light"
     },
     "output_type": "display_data"
    }
   ],
   "source": [
    "plt.hist(data['Dias_Activo']);"
   ]
  },
  {
   "cell_type": "code",
   "execution_count": 21,
   "metadata": {},
   "outputs": [
    {
     "data": {
      "image/png": "[encoded data removed]",
      "text/plain": [
       "<Figure size 432x288 with 1 Axes>"
      ]
     },
     "metadata": {
      "needs_background": "light"
     },
     "output_type": "display_data"
    }
   ],
   "source": [
    "sns.histplot(data = data, x = 'Dias_Activo', hue = 'Estado', multiple = 'stack');"
   ]
  },
  {
   "cell_type": "code",
   "execution_count": 22,
   "metadata": {},
   "outputs": [
    {
     "data": {
      "image/png": "[encoded data removed]",
      "text/plain": [
       "<Figure size 432x288 with 1 Axes>"
      ]
     },
     "metadata": {
      "needs_background": "light"
     },
     "output_type": "display_data"
    }
   ],
   "source": [
    "sns.histplot(data = data, x = 'Dias_Activo', hue = 'Estado');"
   ]
  },
  {
   "cell_type": "code",
   "execution_count": 23,
   "metadata": {
    "scrolled": false
   },
   "outputs": [
    {
     "data": {
      "text/html": [
       "<div>\n",
       "<style scoped>\n",
       "    .dataframe tbody tr th:only-of-type {\n",
       "        vertical-align: middle;\n",
       "    }\n",
       "\n",
       "    .dataframe tbody tr th {\n",
       "        vertical-align: top;\n",
       "    }\n",
       "\n",
       "    .dataframe thead th {\n",
       "        text-align: right;\n",
       "    }\n",
       "</style>\n",
       "<table border=\"1\" class=\"dataframe\">\n",
       "  <thead>\n",
       "    <tr style=\"text-align: right;\">\n",
       "      <th></th>\n",
       "      <th>Fecha Alta</th>\n",
       "      <th>Cliente</th>\n",
       "      <th>Modelo Caldera</th>\n",
       "      <th>Provincia</th>\n",
       "      <th>Gender</th>\n",
       "      <th>Pais</th>\n",
       "      <th>Born Date</th>\n",
       "      <th>Tipo Propiedad</th>\n",
       "      <th>Situacion Laboral</th>\n",
       "      <th>Estado Civil</th>\n",
       "      <th>Ingresos</th>\n",
       "      <th>Pagos Anuales</th>\n",
       "      <th>Fecha Estado</th>\n",
       "      <th>Estado</th>\n",
       "      <th>Tipo Inmueble</th>\n",
       "      <th>Financiado</th>\n",
       "      <th>Precio Contado</th>\n",
       "      <th>Precio Total</th>\n",
       "      <th>Quejas</th>\n",
       "      <th>Incidencias</th>\n",
       "      <th>Consumo Mes</th>\n",
       "      <th>Edad</th>\n",
       "      <th>Rango_Edad</th>\n",
       "      <th>Income</th>\n",
       "      <th>Dias_Activo</th>\n",
       "      <th>Dias_Activo_sca</th>\n",
       "    </tr>\n",
       "  </thead>\n",
       "  <tbody>\n",
       "    <tr>\n",
       "      <th>0</th>\n",
       "      <td>2014-01-01</td>\n",
       "      <td>17</td>\n",
       "      <td>Biasi</td>\n",
       "      <td>Alicante</td>\n",
       "      <td>Hombre</td>\n",
       "      <td>España</td>\n",
       "      <td>1973-05-19</td>\n",
       "      <td>Propiedad Total</td>\n",
       "      <td>Autonomo</td>\n",
       "      <td>Casado</td>\n",
       "      <td>2500</td>\n",
       "      <td>14</td>\n",
       "      <td>2016-09-14</td>\n",
       "      <td>1</td>\n",
       "      <td>Casa</td>\n",
       "      <td>Financiado</td>\n",
       "      <td>Promo 0 EUR</td>\n",
       "      <td>399</td>\n",
       "      <td>1</td>\n",
       "      <td>0</td>\n",
       "      <td>441.63</td>\n",
       "      <td>40.649315</td>\n",
       "      <td>40-50</td>\n",
       "      <td>2000-3000</td>\n",
       "      <td>987</td>\n",
       "      <td>0.380172</td>\n",
       "    </tr>\n",
       "    <tr>\n",
       "      <th>1</th>\n",
       "      <td>2014-01-01</td>\n",
       "      <td>54</td>\n",
       "      <td>Biasi</td>\n",
       "      <td>Alicante</td>\n",
       "      <td>Hombre</td>\n",
       "      <td>España</td>\n",
       "      <td>1976-05-08</td>\n",
       "      <td>Propiedad Total</td>\n",
       "      <td>Parado</td>\n",
       "      <td>Soltero</td>\n",
       "      <td>1200</td>\n",
       "      <td>14</td>\n",
       "      <td>2016-12-29</td>\n",
       "      <td>1</td>\n",
       "      <td>Piso</td>\n",
       "      <td>Financiado</td>\n",
       "      <td>Promo 0 EUR</td>\n",
       "      <td>399</td>\n",
       "      <td>0</td>\n",
       "      <td>0</td>\n",
       "      <td>152.57</td>\n",
       "      <td>37.676712</td>\n",
       "      <td>30-40</td>\n",
       "      <td>1000-1500</td>\n",
       "      <td>1093</td>\n",
       "      <td>0.421546</td>\n",
       "    </tr>\n",
       "    <tr>\n",
       "      <th>2</th>\n",
       "      <td>2014-01-01</td>\n",
       "      <td>84</td>\n",
       "      <td>Biasi</td>\n",
       "      <td>Valencia</td>\n",
       "      <td>Hombre</td>\n",
       "      <td>España</td>\n",
       "      <td>1982-03-15</td>\n",
       "      <td>Propiedad Total</td>\n",
       "      <td>Trabajo Temporal</td>\n",
       "      <td>Soltero</td>\n",
       "      <td>800</td>\n",
       "      <td>14</td>\n",
       "      <td>2017-02-24</td>\n",
       "      <td>1</td>\n",
       "      <td>Casa</td>\n",
       "      <td>Financiado</td>\n",
       "      <td>0 - 100 EUR</td>\n",
       "      <td>399</td>\n",
       "      <td>1</td>\n",
       "      <td>0</td>\n",
       "      <td>288.73</td>\n",
       "      <td>31.821918</td>\n",
       "      <td>30-40</td>\n",
       "      <td>0-1000</td>\n",
       "      <td>1150</td>\n",
       "      <td>0.443794</td>\n",
       "    </tr>\n",
       "    <tr>\n",
       "      <th>3</th>\n",
       "      <td>2014-01-01</td>\n",
       "      <td>103</td>\n",
       "      <td>Biasi</td>\n",
       "      <td>Alicante</td>\n",
       "      <td>Hombre</td>\n",
       "      <td>España</td>\n",
       "      <td>1976-02-02</td>\n",
       "      <td>Propiedad Total</td>\n",
       "      <td>Autonomo</td>\n",
       "      <td>Casado</td>\n",
       "      <td>1500</td>\n",
       "      <td>12</td>\n",
       "      <td>2014-01-01</td>\n",
       "      <td>0</td>\n",
       "      <td>Casa</td>\n",
       "      <td>Financiado</td>\n",
       "      <td>Promo 0 EUR</td>\n",
       "      <td>399</td>\n",
       "      <td>1</td>\n",
       "      <td>0</td>\n",
       "      <td>103.97</td>\n",
       "      <td>37.939726</td>\n",
       "      <td>30-40</td>\n",
       "      <td>1000-1500</td>\n",
       "      <td>2575</td>\n",
       "      <td>1.000000</td>\n",
       "    </tr>\n",
       "    <tr>\n",
       "      <th>4</th>\n",
       "      <td>2014-01-01</td>\n",
       "      <td>110</td>\n",
       "      <td>Biasi</td>\n",
       "      <td>Alicante</td>\n",
       "      <td>Mujer</td>\n",
       "      <td>España</td>\n",
       "      <td>1989-07-31</td>\n",
       "      <td>Propiedad Total</td>\n",
       "      <td>Parado</td>\n",
       "      <td>Soltero</td>\n",
       "      <td>1000</td>\n",
       "      <td>12</td>\n",
       "      <td>2017-03-11</td>\n",
       "      <td>1</td>\n",
       "      <td>Piso</td>\n",
       "      <td>Financiado</td>\n",
       "      <td>Promo 0 EUR</td>\n",
       "      <td>399</td>\n",
       "      <td>0</td>\n",
       "      <td>8</td>\n",
       "      <td>145.43</td>\n",
       "      <td>24.438356</td>\n",
       "      <td>18-30</td>\n",
       "      <td>0-1000</td>\n",
       "      <td>1165</td>\n",
       "      <td>0.449649</td>\n",
       "    </tr>\n",
       "  </tbody>\n",
       "</table>\n",
       "</div>"
      ],
      "text/plain": [
       "  Fecha Alta Cliente Modelo Caldera Provincia  Gender    Pais  Born Date  \\\n",
       "0 2014-01-01      17         Biasi   Alicante  Hombre  España 1973-05-19   \n",
       "1 2014-01-01      54         Biasi   Alicante  Hombre  España 1976-05-08   \n",
       "2 2014-01-01      84         Biasi   Valencia  Hombre  España 1982-03-15   \n",
       "3 2014-01-01     103         Biasi   Alicante  Hombre  España 1976-02-02   \n",
       "4 2014-01-01     110         Biasi   Alicante   Mujer  España 1989-07-31   \n",
       "\n",
       "    Tipo Propiedad Situacion Laboral Estado Civil  Ingresos  Pagos Anuales  \\\n",
       "0  Propiedad Total          Autonomo       Casado      2500             14   \n",
       "1  Propiedad Total            Parado      Soltero      1200             14   \n",
       "2  Propiedad Total  Trabajo Temporal      Soltero       800             14   \n",
       "3  Propiedad Total          Autonomo       Casado      1500             12   \n",
       "4  Propiedad Total            Parado      Soltero      1000             12   \n",
       "\n",
       "  Fecha Estado  Estado Tipo Inmueble  Financiado Precio Contado  Precio Total  \\\n",
       "0   2016-09-14       1          Casa  Financiado    Promo 0 EUR           399   \n",
       "1   2016-12-29       1          Piso  Financiado    Promo 0 EUR           399   \n",
       "2   2017-02-24       1          Casa  Financiado    0 - 100 EUR           399   \n",
       "3   2014-01-01       0          Casa  Financiado    Promo 0 EUR           399   \n",
       "4   2017-03-11       1          Piso  Financiado    Promo 0 EUR           399   \n",
       "\n",
       "   Quejas  Incidencias  Consumo Mes       Edad Rango_Edad     Income  \\\n",
       "0       1            0       441.63  40.649315      40-50  2000-3000   \n",
       "1       0            0       152.57  37.676712      30-40  1000-1500   \n",
       "2       1            0       288.73  31.821918      30-40     0-1000   \n",
       "3       1            0       103.97  37.939726      30-40  1000-1500   \n",
       "4       0            8       145.43  24.438356      18-30     0-1000   \n",
       "\n",
       "   Dias_Activo  Dias_Activo_sca  \n",
       "0          987         0.380172  \n",
       "1         1093         0.421546  \n",
       "2         1150         0.443794  \n",
       "3         2575         1.000000  \n",
       "4         1165         0.449649  "
      ]
     },
     "execution_count": 23,
     "metadata": {},
     "output_type": "execute_result"
    }
   ],
   "source": [
    "from sklearn.preprocessing import MinMaxScaler\n",
    "\n",
    "scaler = MinMaxScaler()\n",
    "data['Dias_Activo_sca'] = scaler.fit_transform(data['Dias_Activo'].values.reshape(-1, 1))\n",
    "\n",
    "data.head()"
   ]
  },
  {
   "cell_type": "code",
   "execution_count": 24,
   "metadata": {},
   "outputs": [],
   "source": [
    "filename = '../mvp_pkl/dias_activo_sca.pkl'\n",
    "dias_activo_sca = scaler.fit(data['Dias_Activo'].values.reshape(-1, 1))\n",
    "\n",
    "pickle.dump(dias_activo_sca, open(filename,'wb'))"
   ]
  },
  {
   "cell_type": "code",
   "execution_count": 25,
   "metadata": {},
   "outputs": [
    {
     "data": {
      "image/png": "[encoded data removed]",
      "text/plain": [
       "<Figure size 432x288 with 1 Axes>"
      ]
     },
     "metadata": {
      "needs_background": "light"
     },
     "output_type": "display_data"
    }
   ],
   "source": [
    "plt.hist(data['Dias_Activo_sca']);"
   ]
  },
  {
   "cell_type": "markdown",
   "metadata": {},
   "source": [
    "Escalado de Quejas, Incidencias y Consumo Mes:"
   ]
  },
  {
   "cell_type": "code",
   "execution_count": 26,
   "metadata": {},
   "outputs": [
    {
     "data": {
      "text/html": [
       "<div>\n",
       "<style scoped>\n",
       "    .dataframe tbody tr th:only-of-type {\n",
       "        vertical-align: middle;\n",
       "    }\n",
       "\n",
       "    .dataframe tbody tr th {\n",
       "        vertical-align: top;\n",
       "    }\n",
       "\n",
       "    .dataframe thead th {\n",
       "        text-align: right;\n",
       "    }\n",
       "</style>\n",
       "<table border=\"1\" class=\"dataframe\">\n",
       "  <thead>\n",
       "    <tr style=\"text-align: right;\">\n",
       "      <th></th>\n",
       "      <th>Fecha Alta</th>\n",
       "      <th>Cliente</th>\n",
       "      <th>Modelo Caldera</th>\n",
       "      <th>Provincia</th>\n",
       "      <th>Gender</th>\n",
       "      <th>Pais</th>\n",
       "      <th>Born Date</th>\n",
       "      <th>Tipo Propiedad</th>\n",
       "      <th>Situacion Laboral</th>\n",
       "      <th>Estado Civil</th>\n",
       "      <th>Ingresos</th>\n",
       "      <th>Pagos Anuales</th>\n",
       "      <th>Fecha Estado</th>\n",
       "      <th>Estado</th>\n",
       "      <th>Tipo Inmueble</th>\n",
       "      <th>Financiado</th>\n",
       "      <th>Precio Contado</th>\n",
       "      <th>Precio Total</th>\n",
       "      <th>Quejas</th>\n",
       "      <th>Incidencias</th>\n",
       "      <th>Consumo Mes</th>\n",
       "      <th>Edad</th>\n",
       "      <th>Rango_Edad</th>\n",
       "      <th>Income</th>\n",
       "      <th>Dias_Activo</th>\n",
       "      <th>Dias_Activo_sca</th>\n",
       "      <th>Quejas_sca</th>\n",
       "    </tr>\n",
       "  </thead>\n",
       "  <tbody>\n",
       "    <tr>\n",
       "      <th>0</th>\n",
       "      <td>2014-01-01</td>\n",
       "      <td>17</td>\n",
       "      <td>Biasi</td>\n",
       "      <td>Alicante</td>\n",
       "      <td>Hombre</td>\n",
       "      <td>España</td>\n",
       "      <td>1973-05-19</td>\n",
       "      <td>Propiedad Total</td>\n",
       "      <td>Autonomo</td>\n",
       "      <td>Casado</td>\n",
       "      <td>2500</td>\n",
       "      <td>14</td>\n",
       "      <td>2016-09-14</td>\n",
       "      <td>1</td>\n",
       "      <td>Casa</td>\n",
       "      <td>Financiado</td>\n",
       "      <td>Promo 0 EUR</td>\n",
       "      <td>399</td>\n",
       "      <td>1</td>\n",
       "      <td>0</td>\n",
       "      <td>441.63</td>\n",
       "      <td>40.649315</td>\n",
       "      <td>40-50</td>\n",
       "      <td>2000-3000</td>\n",
       "      <td>987</td>\n",
       "      <td>0.380172</td>\n",
       "      <td>0.035714</td>\n",
       "    </tr>\n",
       "    <tr>\n",
       "      <th>1</th>\n",
       "      <td>2014-01-01</td>\n",
       "      <td>54</td>\n",
       "      <td>Biasi</td>\n",
       "      <td>Alicante</td>\n",
       "      <td>Hombre</td>\n",
       "      <td>España</td>\n",
       "      <td>1976-05-08</td>\n",
       "      <td>Propiedad Total</td>\n",
       "      <td>Parado</td>\n",
       "      <td>Soltero</td>\n",
       "      <td>1200</td>\n",
       "      <td>14</td>\n",
       "      <td>2016-12-29</td>\n",
       "      <td>1</td>\n",
       "      <td>Piso</td>\n",
       "      <td>Financiado</td>\n",
       "      <td>Promo 0 EUR</td>\n",
       "      <td>399</td>\n",
       "      <td>0</td>\n",
       "      <td>0</td>\n",
       "      <td>152.57</td>\n",
       "      <td>37.676712</td>\n",
       "      <td>30-40</td>\n",
       "      <td>1000-1500</td>\n",
       "      <td>1093</td>\n",
       "      <td>0.421546</td>\n",
       "      <td>0.000000</td>\n",
       "    </tr>\n",
       "    <tr>\n",
       "      <th>2</th>\n",
       "      <td>2014-01-01</td>\n",
       "      <td>84</td>\n",
       "      <td>Biasi</td>\n",
       "      <td>Valencia</td>\n",
       "      <td>Hombre</td>\n",
       "      <td>España</td>\n",
       "      <td>1982-03-15</td>\n",
       "      <td>Propiedad Total</td>\n",
       "      <td>Trabajo Temporal</td>\n",
       "      <td>Soltero</td>\n",
       "      <td>800</td>\n",
       "      <td>14</td>\n",
       "      <td>2017-02-24</td>\n",
       "      <td>1</td>\n",
       "      <td>Casa</td>\n",
       "      <td>Financiado</td>\n",
       "      <td>0 - 100 EUR</td>\n",
       "      <td>399</td>\n",
       "      <td>1</td>\n",
       "      <td>0</td>\n",
       "      <td>288.73</td>\n",
       "      <td>31.821918</td>\n",
       "      <td>30-40</td>\n",
       "      <td>0-1000</td>\n",
       "      <td>1150</td>\n",
       "      <td>0.443794</td>\n",
       "      <td>0.035714</td>\n",
       "    </tr>\n",
       "    <tr>\n",
       "      <th>3</th>\n",
       "      <td>2014-01-01</td>\n",
       "      <td>103</td>\n",
       "      <td>Biasi</td>\n",
       "      <td>Alicante</td>\n",
       "      <td>Hombre</td>\n",
       "      <td>España</td>\n",
       "      <td>1976-02-02</td>\n",
       "      <td>Propiedad Total</td>\n",
       "      <td>Autonomo</td>\n",
       "      <td>Casado</td>\n",
       "      <td>1500</td>\n",
       "      <td>12</td>\n",
       "      <td>2014-01-01</td>\n",
       "      <td>0</td>\n",
       "      <td>Casa</td>\n",
       "      <td>Financiado</td>\n",
       "      <td>Promo 0 EUR</td>\n",
       "      <td>399</td>\n",
       "      <td>1</td>\n",
       "      <td>0</td>\n",
       "      <td>103.97</td>\n",
       "      <td>37.939726</td>\n",
       "      <td>30-40</td>\n",
       "      <td>1000-1500</td>\n",
       "      <td>2575</td>\n",
       "      <td>1.000000</td>\n",
       "      <td>0.035714</td>\n",
       "    </tr>\n",
       "    <tr>\n",
       "      <th>4</th>\n",
       "      <td>2014-01-01</td>\n",
       "      <td>110</td>\n",
       "      <td>Biasi</td>\n",
       "      <td>Alicante</td>\n",
       "      <td>Mujer</td>\n",
       "      <td>España</td>\n",
       "      <td>1989-07-31</td>\n",
       "      <td>Propiedad Total</td>\n",
       "      <td>Parado</td>\n",
       "      <td>Soltero</td>\n",
       "      <td>1000</td>\n",
       "      <td>12</td>\n",
       "      <td>2017-03-11</td>\n",
       "      <td>1</td>\n",
       "      <td>Piso</td>\n",
       "      <td>Financiado</td>\n",
       "      <td>Promo 0 EUR</td>\n",
       "      <td>399</td>\n",
       "      <td>0</td>\n",
       "      <td>8</td>\n",
       "      <td>145.43</td>\n",
       "      <td>24.438356</td>\n",
       "      <td>18-30</td>\n",
       "      <td>0-1000</td>\n",
       "      <td>1165</td>\n",
       "      <td>0.449649</td>\n",
       "      <td>0.000000</td>\n",
       "    </tr>\n",
       "  </tbody>\n",
       "</table>\n",
       "</div>"
      ],
      "text/plain": [
       "  Fecha Alta Cliente Modelo Caldera Provincia  Gender    Pais  Born Date  \\\n",
       "0 2014-01-01      17         Biasi   Alicante  Hombre  España 1973-05-19   \n",
       "1 2014-01-01      54         Biasi   Alicante  Hombre  España 1976-05-08   \n",
       "2 2014-01-01      84         Biasi   Valencia  Hombre  España 1982-03-15   \n",
       "3 2014-01-01     103         Biasi   Alicante  Hombre  España 1976-02-02   \n",
       "4 2014-01-01     110         Biasi   Alicante   Mujer  España 1989-07-31   \n",
       "\n",
       "    Tipo Propiedad Situacion Laboral Estado Civil  Ingresos  Pagos Anuales  \\\n",
       "0  Propiedad Total          Autonomo       Casado      2500             14   \n",
       "1  Propiedad Total            Parado      Soltero      1200             14   \n",
       "2  Propiedad Total  Trabajo Temporal      Soltero       800             14   \n",
       "3  Propiedad Total          Autonomo       Casado      1500             12   \n",
       "4  Propiedad Total            Parado      Soltero      1000             12   \n",
       "\n",
       "  Fecha Estado  Estado Tipo Inmueble  Financiado Precio Contado  Precio Total  \\\n",
       "0   2016-09-14       1          Casa  Financiado    Promo 0 EUR           399   \n",
       "1   2016-12-29       1          Piso  Financiado    Promo 0 EUR           399   \n",
       "2   2017-02-24       1          Casa  Financiado    0 - 100 EUR           399   \n",
       "3   2014-01-01       0          Casa  Financiado    Promo 0 EUR           399   \n",
       "4   2017-03-11       1          Piso  Financiado    Promo 0 EUR           399   \n",
       "\n",
       "   Quejas  Incidencias  Consumo Mes       Edad Rango_Edad     Income  \\\n",
       "0       1            0       441.63  40.649315      40-50  2000-3000   \n",
       "1       0            0       152.57  37.676712      30-40  1000-1500   \n",
       "2       1            0       288.73  31.821918      30-40     0-1000   \n",
       "3       1            0       103.97  37.939726      30-40  1000-1500   \n",
       "4       0            8       145.43  24.438356      18-30     0-1000   \n",
       "\n",
       "   Dias_Activo  Dias_Activo_sca  Quejas_sca  \n",
       "0          987         0.380172    0.035714  \n",
       "1         1093         0.421546    0.000000  \n",
       "2         1150         0.443794    0.035714  \n",
       "3         2575         1.000000    0.035714  \n",
       "4         1165         0.449649    0.000000  "
      ]
     },
     "execution_count": 26,
     "metadata": {},
     "output_type": "execute_result"
    }
   ],
   "source": [
    "scaler = MinMaxScaler()\n",
    "data['Quejas_sca'] = scaler.fit_transform(data['Quejas'].values.reshape(-1, 1))\n",
    "data.head()"
   ]
  },
  {
   "cell_type": "code",
   "execution_count": 27,
   "metadata": {},
   "outputs": [],
   "source": [
    "filename = '../mvp_pkl/quejas_sca.pkl'\n",
    "quejas_sca = scaler.fit(data['Quejas'].values.reshape(-1, 1))\n",
    "\n",
    "pickle.dump(quejas_sca, open(filename,'wb'))"
   ]
  },
  {
   "cell_type": "code",
   "execution_count": 28,
   "metadata": {},
   "outputs": [
    {
     "data": {
      "image/png": "[encoded data removed]",
      "text/plain": [
       "<Figure size 432x288 with 1 Axes>"
      ]
     },
     "metadata": {
      "needs_background": "light"
     },
     "output_type": "display_data"
    }
   ],
   "source": [
    "plt.hist(data['Quejas_sca']);"
   ]
  },
  {
   "cell_type": "code",
   "execution_count": 29,
   "metadata": {},
   "outputs": [
    {
     "data": {
      "text/html": [
       "<div>\n",
       "<style scoped>\n",
       "    .dataframe tbody tr th:only-of-type {\n",
       "        vertical-align: middle;\n",
       "    }\n",
       "\n",
       "    .dataframe tbody tr th {\n",
       "        vertical-align: top;\n",
       "    }\n",
       "\n",
       "    .dataframe thead th {\n",
       "        text-align: right;\n",
       "    }\n",
       "</style>\n",
       "<table border=\"1\" class=\"dataframe\">\n",
       "  <thead>\n",
       "    <tr style=\"text-align: right;\">\n",
       "      <th></th>\n",
       "      <th>Fecha Alta</th>\n",
       "      <th>Cliente</th>\n",
       "      <th>Modelo Caldera</th>\n",
       "      <th>Provincia</th>\n",
       "      <th>Gender</th>\n",
       "      <th>Pais</th>\n",
       "      <th>Born Date</th>\n",
       "      <th>Tipo Propiedad</th>\n",
       "      <th>Situacion Laboral</th>\n",
       "      <th>Estado Civil</th>\n",
       "      <th>Ingresos</th>\n",
       "      <th>Pagos Anuales</th>\n",
       "      <th>Fecha Estado</th>\n",
       "      <th>Estado</th>\n",
       "      <th>Tipo Inmueble</th>\n",
       "      <th>Financiado</th>\n",
       "      <th>Precio Contado</th>\n",
       "      <th>Precio Total</th>\n",
       "      <th>Quejas</th>\n",
       "      <th>Incidencias</th>\n",
       "      <th>Consumo Mes</th>\n",
       "      <th>Edad</th>\n",
       "      <th>Rango_Edad</th>\n",
       "      <th>Income</th>\n",
       "      <th>Dias_Activo</th>\n",
       "      <th>Dias_Activo_sca</th>\n",
       "      <th>Quejas_sca</th>\n",
       "      <th>Incidencias_sca</th>\n",
       "    </tr>\n",
       "  </thead>\n",
       "  <tbody>\n",
       "    <tr>\n",
       "      <th>0</th>\n",
       "      <td>2014-01-01</td>\n",
       "      <td>17</td>\n",
       "      <td>Biasi</td>\n",
       "      <td>Alicante</td>\n",
       "      <td>Hombre</td>\n",
       "      <td>España</td>\n",
       "      <td>1973-05-19</td>\n",
       "      <td>Propiedad Total</td>\n",
       "      <td>Autonomo</td>\n",
       "      <td>Casado</td>\n",
       "      <td>2500</td>\n",
       "      <td>14</td>\n",
       "      <td>2016-09-14</td>\n",
       "      <td>1</td>\n",
       "      <td>Casa</td>\n",
       "      <td>Financiado</td>\n",
       "      <td>Promo 0 EUR</td>\n",
       "      <td>399</td>\n",
       "      <td>1</td>\n",
       "      <td>0</td>\n",
       "      <td>441.63</td>\n",
       "      <td>40.649315</td>\n",
       "      <td>40-50</td>\n",
       "      <td>2000-3000</td>\n",
       "      <td>987</td>\n",
       "      <td>0.380172</td>\n",
       "      <td>0.035714</td>\n",
       "      <td>0.000000</td>\n",
       "    </tr>\n",
       "    <tr>\n",
       "      <th>1</th>\n",
       "      <td>2014-01-01</td>\n",
       "      <td>54</td>\n",
       "      <td>Biasi</td>\n",
       "      <td>Alicante</td>\n",
       "      <td>Hombre</td>\n",
       "      <td>España</td>\n",
       "      <td>1976-05-08</td>\n",
       "      <td>Propiedad Total</td>\n",
       "      <td>Parado</td>\n",
       "      <td>Soltero</td>\n",
       "      <td>1200</td>\n",
       "      <td>14</td>\n",
       "      <td>2016-12-29</td>\n",
       "      <td>1</td>\n",
       "      <td>Piso</td>\n",
       "      <td>Financiado</td>\n",
       "      <td>Promo 0 EUR</td>\n",
       "      <td>399</td>\n",
       "      <td>0</td>\n",
       "      <td>0</td>\n",
       "      <td>152.57</td>\n",
       "      <td>37.676712</td>\n",
       "      <td>30-40</td>\n",
       "      <td>1000-1500</td>\n",
       "      <td>1093</td>\n",
       "      <td>0.421546</td>\n",
       "      <td>0.000000</td>\n",
       "      <td>0.000000</td>\n",
       "    </tr>\n",
       "    <tr>\n",
       "      <th>2</th>\n",
       "      <td>2014-01-01</td>\n",
       "      <td>84</td>\n",
       "      <td>Biasi</td>\n",
       "      <td>Valencia</td>\n",
       "      <td>Hombre</td>\n",
       "      <td>España</td>\n",
       "      <td>1982-03-15</td>\n",
       "      <td>Propiedad Total</td>\n",
       "      <td>Trabajo Temporal</td>\n",
       "      <td>Soltero</td>\n",
       "      <td>800</td>\n",
       "      <td>14</td>\n",
       "      <td>2017-02-24</td>\n",
       "      <td>1</td>\n",
       "      <td>Casa</td>\n",
       "      <td>Financiado</td>\n",
       "      <td>0 - 100 EUR</td>\n",
       "      <td>399</td>\n",
       "      <td>1</td>\n",
       "      <td>0</td>\n",
       "      <td>288.73</td>\n",
       "      <td>31.821918</td>\n",
       "      <td>30-40</td>\n",
       "      <td>0-1000</td>\n",
       "      <td>1150</td>\n",
       "      <td>0.443794</td>\n",
       "      <td>0.035714</td>\n",
       "      <td>0.000000</td>\n",
       "    </tr>\n",
       "    <tr>\n",
       "      <th>3</th>\n",
       "      <td>2014-01-01</td>\n",
       "      <td>103</td>\n",
       "      <td>Biasi</td>\n",
       "      <td>Alicante</td>\n",
       "      <td>Hombre</td>\n",
       "      <td>España</td>\n",
       "      <td>1976-02-02</td>\n",
       "      <td>Propiedad Total</td>\n",
       "      <td>Autonomo</td>\n",
       "      <td>Casado</td>\n",
       "      <td>1500</td>\n",
       "      <td>12</td>\n",
       "      <td>2014-01-01</td>\n",
       "      <td>0</td>\n",
       "      <td>Casa</td>\n",
       "      <td>Financiado</td>\n",
       "      <td>Promo 0 EUR</td>\n",
       "      <td>399</td>\n",
       "      <td>1</td>\n",
       "      <td>0</td>\n",
       "      <td>103.97</td>\n",
       "      <td>37.939726</td>\n",
       "      <td>30-40</td>\n",
       "      <td>1000-1500</td>\n",
       "      <td>2575</td>\n",
       "      <td>1.000000</td>\n",
       "      <td>0.035714</td>\n",
       "      <td>0.000000</td>\n",
       "    </tr>\n",
       "    <tr>\n",
       "      <th>4</th>\n",
       "      <td>2014-01-01</td>\n",
       "      <td>110</td>\n",
       "      <td>Biasi</td>\n",
       "      <td>Alicante</td>\n",
       "      <td>Mujer</td>\n",
       "      <td>España</td>\n",
       "      <td>1989-07-31</td>\n",
       "      <td>Propiedad Total</td>\n",
       "      <td>Parado</td>\n",
       "      <td>Soltero</td>\n",
       "      <td>1000</td>\n",
       "      <td>12</td>\n",
       "      <td>2017-03-11</td>\n",
       "      <td>1</td>\n",
       "      <td>Piso</td>\n",
       "      <td>Financiado</td>\n",
       "      <td>Promo 0 EUR</td>\n",
       "      <td>399</td>\n",
       "      <td>0</td>\n",
       "      <td>8</td>\n",
       "      <td>145.43</td>\n",
       "      <td>24.438356</td>\n",
       "      <td>18-30</td>\n",
       "      <td>0-1000</td>\n",
       "      <td>1165</td>\n",
       "      <td>0.449649</td>\n",
       "      <td>0.000000</td>\n",
       "      <td>0.470588</td>\n",
       "    </tr>\n",
       "  </tbody>\n",
       "</table>\n",
       "</div>"
      ],
      "text/plain": [
       "  Fecha Alta Cliente Modelo Caldera Provincia  Gender    Pais  Born Date  \\\n",
       "0 2014-01-01      17         Biasi   Alicante  Hombre  España 1973-05-19   \n",
       "1 2014-01-01      54         Biasi   Alicante  Hombre  España 1976-05-08   \n",
       "2 2014-01-01      84         Biasi   Valencia  Hombre  España 1982-03-15   \n",
       "3 2014-01-01     103         Biasi   Alicante  Hombre  España 1976-02-02   \n",
       "4 2014-01-01     110         Biasi   Alicante   Mujer  España 1989-07-31   \n",
       "\n",
       "    Tipo Propiedad Situacion Laboral Estado Civil  Ingresos  Pagos Anuales  \\\n",
       "0  Propiedad Total          Autonomo       Casado      2500             14   \n",
       "1  Propiedad Total            Parado      Soltero      1200             14   \n",
       "2  Propiedad Total  Trabajo Temporal      Soltero       800             14   \n",
       "3  Propiedad Total          Autonomo       Casado      1500             12   \n",
       "4  Propiedad Total            Parado      Soltero      1000             12   \n",
       "\n",
       "  Fecha Estado  Estado Tipo Inmueble  Financiado Precio Contado  Precio Total  \\\n",
       "0   2016-09-14       1          Casa  Financiado    Promo 0 EUR           399   \n",
       "1   2016-12-29       1          Piso  Financiado    Promo 0 EUR           399   \n",
       "2   2017-02-24       1          Casa  Financiado    0 - 100 EUR           399   \n",
       "3   2014-01-01       0          Casa  Financiado    Promo 0 EUR           399   \n",
       "4   2017-03-11       1          Piso  Financiado    Promo 0 EUR           399   \n",
       "\n",
       "   Quejas  Incidencias  Consumo Mes       Edad Rango_Edad     Income  \\\n",
       "0       1            0       441.63  40.649315      40-50  2000-3000   \n",
       "1       0            0       152.57  37.676712      30-40  1000-1500   \n",
       "2       1            0       288.73  31.821918      30-40     0-1000   \n",
       "3       1            0       103.97  37.939726      30-40  1000-1500   \n",
       "4       0            8       145.43  24.438356      18-30     0-1000   \n",
       "\n",
       "   Dias_Activo  Dias_Activo_sca  Quejas_sca  Incidencias_sca  \n",
       "0          987         0.380172    0.035714         0.000000  \n",
       "1         1093         0.421546    0.000000         0.000000  \n",
       "2         1150         0.443794    0.035714         0.000000  \n",
       "3         2575         1.000000    0.035714         0.000000  \n",
       "4         1165         0.449649    0.000000         0.470588  "
      ]
     },
     "execution_count": 29,
     "metadata": {},
     "output_type": "execute_result"
    }
   ],
   "source": [
    "scaler = MinMaxScaler()\n",
    "data['Incidencias_sca'] = scaler.fit_transform(data['Incidencias'].values.reshape(-1, 1))\n",
    "data.head()"
   ]
  },
  {
   "cell_type": "code",
   "execution_count": 30,
   "metadata": {},
   "outputs": [],
   "source": [
    "filename = '../mvp_pkl/incidencias_sca.pkl'\n",
    "mt_sca = scaler.fit(data['Incidencias'].values.reshape(-1, 1))\n",
    "\n",
    "pickle.dump(mt_sca, open(filename,'wb'))"
   ]
  },
  {
   "cell_type": "code",
   "execution_count": 31,
   "metadata": {},
   "outputs": [
    {
     "data": {
      "image/png": "[encoded data removed]",
      "text/plain": [
       "<Figure size 432x288 with 1 Axes>"
      ]
     },
     "metadata": {
      "needs_background": "light"
     },
     "output_type": "display_data"
    }
   ],
   "source": [
    "plt.hist(data['Incidencias_sca']);"
   ]
  },
  {
   "cell_type": "code",
   "execution_count": 32,
   "metadata": {},
   "outputs": [
    {
     "data": {
      "text/html": [
       "<div>\n",
       "<style scoped>\n",
       "    .dataframe tbody tr th:only-of-type {\n",
       "        vertical-align: middle;\n",
       "    }\n",
       "\n",
       "    .dataframe tbody tr th {\n",
       "        vertical-align: top;\n",
       "    }\n",
       "\n",
       "    .dataframe thead th {\n",
       "        text-align: right;\n",
       "    }\n",
       "</style>\n",
       "<table border=\"1\" class=\"dataframe\">\n",
       "  <thead>\n",
       "    <tr style=\"text-align: right;\">\n",
       "      <th></th>\n",
       "      <th>Fecha Alta</th>\n",
       "      <th>Cliente</th>\n",
       "      <th>Modelo Caldera</th>\n",
       "      <th>Provincia</th>\n",
       "      <th>Gender</th>\n",
       "      <th>Pais</th>\n",
       "      <th>Born Date</th>\n",
       "      <th>Tipo Propiedad</th>\n",
       "      <th>Situacion Laboral</th>\n",
       "      <th>Estado Civil</th>\n",
       "      <th>Ingresos</th>\n",
       "      <th>Pagos Anuales</th>\n",
       "      <th>Fecha Estado</th>\n",
       "      <th>Estado</th>\n",
       "      <th>Tipo Inmueble</th>\n",
       "      <th>Financiado</th>\n",
       "      <th>Precio Contado</th>\n",
       "      <th>Precio Total</th>\n",
       "      <th>Quejas</th>\n",
       "      <th>Incidencias</th>\n",
       "      <th>Consumo Mes</th>\n",
       "      <th>Edad</th>\n",
       "      <th>Rango_Edad</th>\n",
       "      <th>Income</th>\n",
       "      <th>Dias_Activo</th>\n",
       "      <th>Dias_Activo_sca</th>\n",
       "      <th>Quejas_sca</th>\n",
       "      <th>Incidencias_sca</th>\n",
       "      <th>Consumo_sca</th>\n",
       "    </tr>\n",
       "  </thead>\n",
       "  <tbody>\n",
       "    <tr>\n",
       "      <th>0</th>\n",
       "      <td>2014-01-01</td>\n",
       "      <td>17</td>\n",
       "      <td>Biasi</td>\n",
       "      <td>Alicante</td>\n",
       "      <td>Hombre</td>\n",
       "      <td>España</td>\n",
       "      <td>1973-05-19</td>\n",
       "      <td>Propiedad Total</td>\n",
       "      <td>Autonomo</td>\n",
       "      <td>Casado</td>\n",
       "      <td>2500</td>\n",
       "      <td>14</td>\n",
       "      <td>2016-09-14</td>\n",
       "      <td>1</td>\n",
       "      <td>Casa</td>\n",
       "      <td>Financiado</td>\n",
       "      <td>Promo 0 EUR</td>\n",
       "      <td>399</td>\n",
       "      <td>1</td>\n",
       "      <td>0</td>\n",
       "      <td>441.63</td>\n",
       "      <td>40.649315</td>\n",
       "      <td>40-50</td>\n",
       "      <td>2000-3000</td>\n",
       "      <td>987</td>\n",
       "      <td>0.380172</td>\n",
       "      <td>0.035714</td>\n",
       "      <td>0.000000</td>\n",
       "      <td>0.385207</td>\n",
       "    </tr>\n",
       "    <tr>\n",
       "      <th>1</th>\n",
       "      <td>2014-01-01</td>\n",
       "      <td>54</td>\n",
       "      <td>Biasi</td>\n",
       "      <td>Alicante</td>\n",
       "      <td>Hombre</td>\n",
       "      <td>España</td>\n",
       "      <td>1976-05-08</td>\n",
       "      <td>Propiedad Total</td>\n",
       "      <td>Parado</td>\n",
       "      <td>Soltero</td>\n",
       "      <td>1200</td>\n",
       "      <td>14</td>\n",
       "      <td>2016-12-29</td>\n",
       "      <td>1</td>\n",
       "      <td>Piso</td>\n",
       "      <td>Financiado</td>\n",
       "      <td>Promo 0 EUR</td>\n",
       "      <td>399</td>\n",
       "      <td>0</td>\n",
       "      <td>0</td>\n",
       "      <td>152.57</td>\n",
       "      <td>37.676712</td>\n",
       "      <td>30-40</td>\n",
       "      <td>1000-1500</td>\n",
       "      <td>1093</td>\n",
       "      <td>0.421546</td>\n",
       "      <td>0.000000</td>\n",
       "      <td>0.000000</td>\n",
       "      <td>0.133043</td>\n",
       "    </tr>\n",
       "    <tr>\n",
       "      <th>2</th>\n",
       "      <td>2014-01-01</td>\n",
       "      <td>84</td>\n",
       "      <td>Biasi</td>\n",
       "      <td>Valencia</td>\n",
       "      <td>Hombre</td>\n",
       "      <td>España</td>\n",
       "      <td>1982-03-15</td>\n",
       "      <td>Propiedad Total</td>\n",
       "      <td>Trabajo Temporal</td>\n",
       "      <td>Soltero</td>\n",
       "      <td>800</td>\n",
       "      <td>14</td>\n",
       "      <td>2017-02-24</td>\n",
       "      <td>1</td>\n",
       "      <td>Casa</td>\n",
       "      <td>Financiado</td>\n",
       "      <td>0 - 100 EUR</td>\n",
       "      <td>399</td>\n",
       "      <td>1</td>\n",
       "      <td>0</td>\n",
       "      <td>288.73</td>\n",
       "      <td>31.821918</td>\n",
       "      <td>30-40</td>\n",
       "      <td>0-1000</td>\n",
       "      <td>1150</td>\n",
       "      <td>0.443794</td>\n",
       "      <td>0.035714</td>\n",
       "      <td>0.000000</td>\n",
       "      <td>0.251823</td>\n",
       "    </tr>\n",
       "    <tr>\n",
       "      <th>3</th>\n",
       "      <td>2014-01-01</td>\n",
       "      <td>103</td>\n",
       "      <td>Biasi</td>\n",
       "      <td>Alicante</td>\n",
       "      <td>Hombre</td>\n",
       "      <td>España</td>\n",
       "      <td>1976-02-02</td>\n",
       "      <td>Propiedad Total</td>\n",
       "      <td>Autonomo</td>\n",
       "      <td>Casado</td>\n",
       "      <td>1500</td>\n",
       "      <td>12</td>\n",
       "      <td>2014-01-01</td>\n",
       "      <td>0</td>\n",
       "      <td>Casa</td>\n",
       "      <td>Financiado</td>\n",
       "      <td>Promo 0 EUR</td>\n",
       "      <td>399</td>\n",
       "      <td>1</td>\n",
       "      <td>0</td>\n",
       "      <td>103.97</td>\n",
       "      <td>37.939726</td>\n",
       "      <td>30-40</td>\n",
       "      <td>1000-1500</td>\n",
       "      <td>2575</td>\n",
       "      <td>1.000000</td>\n",
       "      <td>0.035714</td>\n",
       "      <td>0.000000</td>\n",
       "      <td>0.090647</td>\n",
       "    </tr>\n",
       "    <tr>\n",
       "      <th>4</th>\n",
       "      <td>2014-01-01</td>\n",
       "      <td>110</td>\n",
       "      <td>Biasi</td>\n",
       "      <td>Alicante</td>\n",
       "      <td>Mujer</td>\n",
       "      <td>España</td>\n",
       "      <td>1989-07-31</td>\n",
       "      <td>Propiedad Total</td>\n",
       "      <td>Parado</td>\n",
       "      <td>Soltero</td>\n",
       "      <td>1000</td>\n",
       "      <td>12</td>\n",
       "      <td>2017-03-11</td>\n",
       "      <td>1</td>\n",
       "      <td>Piso</td>\n",
       "      <td>Financiado</td>\n",
       "      <td>Promo 0 EUR</td>\n",
       "      <td>399</td>\n",
       "      <td>0</td>\n",
       "      <td>8</td>\n",
       "      <td>145.43</td>\n",
       "      <td>24.438356</td>\n",
       "      <td>18-30</td>\n",
       "      <td>0-1000</td>\n",
       "      <td>1165</td>\n",
       "      <td>0.449649</td>\n",
       "      <td>0.000000</td>\n",
       "      <td>0.470588</td>\n",
       "      <td>0.126815</td>\n",
       "    </tr>\n",
       "  </tbody>\n",
       "</table>\n",
       "</div>"
      ],
      "text/plain": [
       "  Fecha Alta Cliente Modelo Caldera Provincia  Gender    Pais  Born Date  \\\n",
       "0 2014-01-01      17         Biasi   Alicante  Hombre  España 1973-05-19   \n",
       "1 2014-01-01      54         Biasi   Alicante  Hombre  España 1976-05-08   \n",
       "2 2014-01-01      84         Biasi   Valencia  Hombre  España 1982-03-15   \n",
       "3 2014-01-01     103         Biasi   Alicante  Hombre  España 1976-02-02   \n",
       "4 2014-01-01     110         Biasi   Alicante   Mujer  España 1989-07-31   \n",
       "\n",
       "    Tipo Propiedad Situacion Laboral Estado Civil  Ingresos  Pagos Anuales  \\\n",
       "0  Propiedad Total          Autonomo       Casado      2500             14   \n",
       "1  Propiedad Total            Parado      Soltero      1200             14   \n",
       "2  Propiedad Total  Trabajo Temporal      Soltero       800             14   \n",
       "3  Propiedad Total          Autonomo       Casado      1500             12   \n",
       "4  Propiedad Total            Parado      Soltero      1000             12   \n",
       "\n",
       "  Fecha Estado  Estado Tipo Inmueble  Financiado Precio Contado  Precio Total  \\\n",
       "0   2016-09-14       1          Casa  Financiado    Promo 0 EUR           399   \n",
       "1   2016-12-29       1          Piso  Financiado    Promo 0 EUR           399   \n",
       "2   2017-02-24       1          Casa  Financiado    0 - 100 EUR           399   \n",
       "3   2014-01-01       0          Casa  Financiado    Promo 0 EUR           399   \n",
       "4   2017-03-11       1          Piso  Financiado    Promo 0 EUR           399   \n",
       "\n",
       "   Quejas  Incidencias  Consumo Mes       Edad Rango_Edad     Income  \\\n",
       "0       1            0       441.63  40.649315      40-50  2000-3000   \n",
       "1       0            0       152.57  37.676712      30-40  1000-1500   \n",
       "2       1            0       288.73  31.821918      30-40     0-1000   \n",
       "3       1            0       103.97  37.939726      30-40  1000-1500   \n",
       "4       0            8       145.43  24.438356      18-30     0-1000   \n",
       "\n",
       "   Dias_Activo  Dias_Activo_sca  Quejas_sca  Incidencias_sca  Consumo_sca  \n",
       "0          987         0.380172    0.035714         0.000000     0.385207  \n",
       "1         1093         0.421546    0.000000         0.000000     0.133043  \n",
       "2         1150         0.443794    0.035714         0.000000     0.251823  \n",
       "3         2575         1.000000    0.035714         0.000000     0.090647  \n",
       "4         1165         0.449649    0.000000         0.470588     0.126815  "
      ]
     },
     "execution_count": 32,
     "metadata": {},
     "output_type": "execute_result"
    }
   ],
   "source": [
    "scaler = MinMaxScaler()\n",
    "data['Consumo_sca'] = scaler.fit_transform(data['Consumo Mes'].values.reshape(-1, 1))\n",
    "data.head()"
   ]
  },
  {
   "cell_type": "code",
   "execution_count": 33,
   "metadata": {},
   "outputs": [],
   "source": [
    "filename = '../mvp_pkl/consumo_sca.pkl'\n",
    "consumo_sca = scaler.fit(data['Consumo Mes'].values.reshape(-1, 1))\n",
    "\n",
    "pickle.dump(consumo_sca, open(filename,'wb'))"
   ]
  },
  {
   "cell_type": "code",
   "execution_count": 34,
   "metadata": {},
   "outputs": [
    {
     "data": {
      "image/png": "[encoded data removed]",
      "text/plain": [
       "<Figure size 432x288 with 1 Axes>"
      ]
     },
     "metadata": {
      "needs_background": "light"
     },
     "output_type": "display_data"
    }
   ],
   "source": [
    "plt.hist(data['Consumo_sca']);"
   ]
  },
  {
   "cell_type": "markdown",
   "metadata": {},
   "source": [
    "## Enconding con ``target encoding``"
   ]
  },
  {
   "cell_type": "code",
   "execution_count": 35,
   "metadata": {},
   "outputs": [
    {
     "data": {
      "text/plain": [
       "Index(['Fecha Alta', 'Cliente', 'Modelo Caldera', 'Provincia', 'Gender',\n",
       "       'Pais', 'Born Date', 'Tipo Propiedad', 'Situacion Laboral',\n",
       "       'Estado Civil', 'Ingresos', 'Pagos Anuales', 'Fecha Estado', 'Estado',\n",
       "       'Tipo Inmueble', 'Financiado', 'Precio Contado', 'Precio Total',\n",
       "       'Quejas', 'Incidencias', 'Consumo Mes', 'Edad', 'Rango_Edad', 'Income',\n",
       "       'Dias_Activo', 'Dias_Activo_sca', 'Quejas_sca', 'Incidencias_sca',\n",
       "       'Consumo_sca'],\n",
       "      dtype='object')"
      ]
     },
     "execution_count": 35,
     "metadata": {},
     "output_type": "execute_result"
    }
   ],
   "source": [
    "data.columns"
   ]
  },
  {
   "cell_type": "code",
   "execution_count": 36,
   "metadata": {
    "scrolled": true
   },
   "outputs": [
    {
     "data": {
      "text/plain": [
       "Index(['Gender', 'Tipo Inmueble', 'Tipo Propiedad', 'Situacion Laboral',\n",
       "       'Estado Civil', 'Provincia', 'Pais', 'Rango_Edad', 'Income',\n",
       "       'Precio Contado', 'Pagos Anuales', 'Precio Total', 'Quejas_sca',\n",
       "       'Incidencias_sca', 'Consumo_sca', 'Estado'],\n",
       "      dtype='object')"
      ]
     },
     "execution_count": 36,
     "metadata": {},
     "output_type": "execute_result"
    }
   ],
   "source": [
    "data_filtered = data[['Gender', 'Tipo Inmueble', 'Tipo Propiedad', 'Situacion Laboral', 'Estado Civil', \n",
    "                      'Provincia', 'Pais', 'Rango_Edad', 'Income', 'Precio Contado', 'Pagos Anuales', 'Precio Total',\n",
    "                      'Quejas_sca', 'Incidencias_sca', 'Consumo_sca', 'Estado']]\n",
    "data_filtered.columns"
   ]
  },
  {
   "cell_type": "code",
   "execution_count": 37,
   "metadata": {},
   "outputs": [],
   "source": [
    "X = data_filtered.drop(['Estado'],axis=1)\n",
    "y = data_filtered['Estado']"
   ]
  },
  {
   "cell_type": "code",
   "execution_count": 38,
   "metadata": {},
   "outputs": [],
   "source": [
    "from sklearn.model_selection import train_test_split\n",
    "X_train_prev, X_test, y_train, y_test = train_test_split(X, y, test_size = 0.2, random_state = 0, stratify = y)"
   ]
  },
  {
   "cell_type": "code",
   "execution_count": 39,
   "metadata": {},
   "outputs": [],
   "source": [
    "features_TE = ['Gender', 'Tipo Inmueble', 'Tipo Propiedad', 'Situacion Laboral', 'Estado Civil', 'Precio Total',\n",
    "               'Provincia', 'Pais', 'Rango_Edad', 'Income', 'Precio Contado', 'Pagos Anuales']"
   ]
  },
  {
   "cell_type": "code",
   "execution_count": 40,
   "metadata": {},
   "outputs": [],
   "source": [
    "from category_encoders import TargetEncoder\n",
    "\n",
    "TE_encoder = TargetEncoder(cols=features_TE)"
   ]
  },
  {
   "cell_type": "code",
   "execution_count": 41,
   "metadata": {},
   "outputs": [
    {
     "data": {
      "text/html": [
       "<div>\n",
       "<style scoped>\n",
       "    .dataframe tbody tr th:only-of-type {\n",
       "        vertical-align: middle;\n",
       "    }\n",
       "\n",
       "    .dataframe tbody tr th {\n",
       "        vertical-align: top;\n",
       "    }\n",
       "\n",
       "    .dataframe thead th {\n",
       "        text-align: right;\n",
       "    }\n",
       "</style>\n",
       "<table border=\"1\" class=\"dataframe\">\n",
       "  <thead>\n",
       "    <tr style=\"text-align: right;\">\n",
       "      <th></th>\n",
       "      <th>Gender</th>\n",
       "      <th>Tipo Inmueble</th>\n",
       "      <th>Tipo Propiedad</th>\n",
       "      <th>Situacion Laboral</th>\n",
       "      <th>Estado Civil</th>\n",
       "      <th>Provincia</th>\n",
       "      <th>Pais</th>\n",
       "      <th>Rango_Edad</th>\n",
       "      <th>Income</th>\n",
       "      <th>Precio Contado</th>\n",
       "      <th>Pagos Anuales</th>\n",
       "      <th>Precio Total</th>\n",
       "      <th>Quejas_sca</th>\n",
       "      <th>Incidencias_sca</th>\n",
       "      <th>Consumo_sca</th>\n",
       "    </tr>\n",
       "  </thead>\n",
       "  <tbody>\n",
       "    <tr>\n",
       "      <th>25918</th>\n",
       "      <td>Hombre</td>\n",
       "      <td>Casa</td>\n",
       "      <td>Propiedad Total</td>\n",
       "      <td>Jubilado</td>\n",
       "      <td>Casado</td>\n",
       "      <td>Alicante</td>\n",
       "      <td>España</td>\n",
       "      <td>60-70</td>\n",
       "      <td>0-1000</td>\n",
       "      <td>0 - 100 EUR</td>\n",
       "      <td>12</td>\n",
       "      <td>399</td>\n",
       "      <td>0.035714</td>\n",
       "      <td>0.000000</td>\n",
       "      <td>0.234751</td>\n",
       "    </tr>\n",
       "    <tr>\n",
       "      <th>5305</th>\n",
       "      <td>Hombre</td>\n",
       "      <td>Piso</td>\n",
       "      <td>Empresa</td>\n",
       "      <td>Autonomo</td>\n",
       "      <td>Casado</td>\n",
       "      <td>Alicante</td>\n",
       "      <td>España</td>\n",
       "      <td>40-50</td>\n",
       "      <td>1000-1500</td>\n",
       "      <td>0 - 100 EUR</td>\n",
       "      <td>14</td>\n",
       "      <td>399</td>\n",
       "      <td>0.000000</td>\n",
       "      <td>0.000000</td>\n",
       "      <td>0.059634</td>\n",
       "    </tr>\n",
       "    <tr>\n",
       "      <th>38504</th>\n",
       "      <td>Hombre</td>\n",
       "      <td>Casa</td>\n",
       "      <td>Propiedad Total</td>\n",
       "      <td>Trabajo Fijo</td>\n",
       "      <td>Casado</td>\n",
       "      <td>Alicante</td>\n",
       "      <td>Union Europea</td>\n",
       "      <td>40-50</td>\n",
       "      <td>1500-2000</td>\n",
       "      <td>0 - 100 EUR</td>\n",
       "      <td>14</td>\n",
       "      <td>399</td>\n",
       "      <td>0.000000</td>\n",
       "      <td>0.000000</td>\n",
       "      <td>0.299881</td>\n",
       "    </tr>\n",
       "    <tr>\n",
       "      <th>35496</th>\n",
       "      <td>Hombre</td>\n",
       "      <td>Piso</td>\n",
       "      <td>Propiedad Total</td>\n",
       "      <td>Jubilado</td>\n",
       "      <td>Viudo</td>\n",
       "      <td>Alicante</td>\n",
       "      <td>España</td>\n",
       "      <td>+80</td>\n",
       "      <td>1000-1500</td>\n",
       "      <td>100 - 200 EUR</td>\n",
       "      <td>12</td>\n",
       "      <td>499</td>\n",
       "      <td>0.000000</td>\n",
       "      <td>0.000000</td>\n",
       "      <td>0.061728</td>\n",
       "    </tr>\n",
       "    <tr>\n",
       "      <th>8046</th>\n",
       "      <td>Hombre</td>\n",
       "      <td>Piso</td>\n",
       "      <td>Propiedad Total</td>\n",
       "      <td>Autonomo</td>\n",
       "      <td>Casado</td>\n",
       "      <td>Valencia</td>\n",
       "      <td>España</td>\n",
       "      <td>60-70</td>\n",
       "      <td>1000-1500</td>\n",
       "      <td>100 - 200 EUR</td>\n",
       "      <td>14</td>\n",
       "      <td>499</td>\n",
       "      <td>0.000000</td>\n",
       "      <td>0.117647</td>\n",
       "      <td>0.081836</td>\n",
       "    </tr>\n",
       "  </tbody>\n",
       "</table>\n",
       "</div>"
      ],
      "text/plain": [
       "       Gender Tipo Inmueble   Tipo Propiedad Situacion Laboral Estado Civil  \\\n",
       "25918  Hombre          Casa  Propiedad Total          Jubilado       Casado   \n",
       "5305   Hombre          Piso          Empresa          Autonomo       Casado   \n",
       "38504  Hombre          Casa  Propiedad Total      Trabajo Fijo       Casado   \n",
       "35496  Hombre          Piso  Propiedad Total          Jubilado        Viudo   \n",
       "8046   Hombre          Piso  Propiedad Total          Autonomo       Casado   \n",
       "\n",
       "      Provincia           Pais Rango_Edad     Income Precio Contado  \\\n",
       "25918  Alicante         España      60-70     0-1000    0 - 100 EUR   \n",
       "5305   Alicante         España      40-50  1000-1500    0 - 100 EUR   \n",
       "38504  Alicante  Union Europea      40-50  1500-2000    0 - 100 EUR   \n",
       "35496  Alicante         España        +80  1000-1500  100 - 200 EUR   \n",
       "8046   Valencia         España      60-70  1000-1500  100 - 200 EUR   \n",
       "\n",
       "       Pagos Anuales  Precio Total  Quejas_sca  Incidencias_sca  Consumo_sca  \n",
       "25918             12           399    0.035714         0.000000     0.234751  \n",
       "5305              14           399    0.000000         0.000000     0.059634  \n",
       "38504             14           399    0.000000         0.000000     0.299881  \n",
       "35496             12           499    0.000000         0.000000     0.061728  \n",
       "8046              14           499    0.000000         0.117647     0.081836  "
      ]
     },
     "execution_count": 41,
     "metadata": {},
     "output_type": "execute_result"
    }
   ],
   "source": [
    "X_train_prev.head()"
   ]
  },
  {
   "cell_type": "code",
   "execution_count": 42,
   "metadata": {},
   "outputs": [
    {
     "name": "stderr",
     "output_type": "stream",
     "text": [
      "C:\\Users\\alber\\anaconda3\\lib\\site-packages\\category_encoders\\utils.py:21: FutureWarning: is_categorical is deprecated and will be removed in a future version.  Use is_categorical_dtype instead\n",
      "  elif pd.api.types.is_categorical(cols):\n"
     ]
    },
    {
     "data": {
      "text/html": [
       "<div>\n",
       "<style scoped>\n",
       "    .dataframe tbody tr th:only-of-type {\n",
       "        vertical-align: middle;\n",
       "    }\n",
       "\n",
       "    .dataframe tbody tr th {\n",
       "        vertical-align: top;\n",
       "    }\n",
       "\n",
       "    .dataframe thead th {\n",
       "        text-align: right;\n",
       "    }\n",
       "</style>\n",
       "<table border=\"1\" class=\"dataframe\">\n",
       "  <thead>\n",
       "    <tr style=\"text-align: right;\">\n",
       "      <th></th>\n",
       "      <th>Gender</th>\n",
       "      <th>Tipo Inmueble</th>\n",
       "      <th>Tipo Propiedad</th>\n",
       "      <th>Situacion Laboral</th>\n",
       "      <th>Estado Civil</th>\n",
       "      <th>Provincia</th>\n",
       "      <th>Pais</th>\n",
       "      <th>Rango_Edad</th>\n",
       "      <th>Income</th>\n",
       "      <th>Precio Contado</th>\n",
       "      <th>Pagos Anuales</th>\n",
       "      <th>Precio Total</th>\n",
       "      <th>Quejas_sca</th>\n",
       "      <th>Incidencias_sca</th>\n",
       "      <th>Consumo_sca</th>\n",
       "    </tr>\n",
       "  </thead>\n",
       "  <tbody>\n",
       "    <tr>\n",
       "      <th>25918</th>\n",
       "      <td>0.2536</td>\n",
       "      <td>0.207625</td>\n",
       "      <td>0.229333</td>\n",
       "      <td>0.144286</td>\n",
       "      <td>0.219828</td>\n",
       "      <td>0.220812</td>\n",
       "      <td>0.254659</td>\n",
       "      <td>0.145050</td>\n",
       "      <td>0.311213</td>\n",
       "      <td>0.326792</td>\n",
       "      <td>0.282987</td>\n",
       "      <td>0.312914</td>\n",
       "      <td>0.035714</td>\n",
       "      <td>0.000000</td>\n",
       "      <td>0.234751</td>\n",
       "    </tr>\n",
       "    <tr>\n",
       "      <th>5305</th>\n",
       "      <td>0.2536</td>\n",
       "      <td>0.210947</td>\n",
       "      <td>0.272727</td>\n",
       "      <td>0.337908</td>\n",
       "      <td>0.219828</td>\n",
       "      <td>0.220812</td>\n",
       "      <td>0.254659</td>\n",
       "      <td>0.277612</td>\n",
       "      <td>0.257715</td>\n",
       "      <td>0.326792</td>\n",
       "      <td>0.234842</td>\n",
       "      <td>0.312914</td>\n",
       "      <td>0.000000</td>\n",
       "      <td>0.000000</td>\n",
       "      <td>0.059634</td>\n",
       "    </tr>\n",
       "    <tr>\n",
       "      <th>38504</th>\n",
       "      <td>0.2536</td>\n",
       "      <td>0.207625</td>\n",
       "      <td>0.229333</td>\n",
       "      <td>0.219986</td>\n",
       "      <td>0.219828</td>\n",
       "      <td>0.220812</td>\n",
       "      <td>0.250320</td>\n",
       "      <td>0.277612</td>\n",
       "      <td>0.244343</td>\n",
       "      <td>0.326792</td>\n",
       "      <td>0.234842</td>\n",
       "      <td>0.312914</td>\n",
       "      <td>0.000000</td>\n",
       "      <td>0.000000</td>\n",
       "      <td>0.299881</td>\n",
       "    </tr>\n",
       "    <tr>\n",
       "      <th>35496</th>\n",
       "      <td>0.2536</td>\n",
       "      <td>0.210947</td>\n",
       "      <td>0.229333</td>\n",
       "      <td>0.144286</td>\n",
       "      <td>0.183570</td>\n",
       "      <td>0.220812</td>\n",
       "      <td>0.254659</td>\n",
       "      <td>0.163866</td>\n",
       "      <td>0.257715</td>\n",
       "      <td>0.237826</td>\n",
       "      <td>0.282987</td>\n",
       "      <td>0.250299</td>\n",
       "      <td>0.000000</td>\n",
       "      <td>0.000000</td>\n",
       "      <td>0.061728</td>\n",
       "    </tr>\n",
       "    <tr>\n",
       "      <th>8046</th>\n",
       "      <td>0.2536</td>\n",
       "      <td>0.210947</td>\n",
       "      <td>0.229333</td>\n",
       "      <td>0.337908</td>\n",
       "      <td>0.219828</td>\n",
       "      <td>0.272935</td>\n",
       "      <td>0.254659</td>\n",
       "      <td>0.145050</td>\n",
       "      <td>0.257715</td>\n",
       "      <td>0.237826</td>\n",
       "      <td>0.234842</td>\n",
       "      <td>0.250299</td>\n",
       "      <td>0.000000</td>\n",
       "      <td>0.117647</td>\n",
       "      <td>0.081836</td>\n",
       "    </tr>\n",
       "  </tbody>\n",
       "</table>\n",
       "</div>"
      ],
      "text/plain": [
       "       Gender  Tipo Inmueble  Tipo Propiedad  Situacion Laboral  Estado Civil  \\\n",
       "25918  0.2536       0.207625        0.229333           0.144286      0.219828   \n",
       "5305   0.2536       0.210947        0.272727           0.337908      0.219828   \n",
       "38504  0.2536       0.207625        0.229333           0.219986      0.219828   \n",
       "35496  0.2536       0.210947        0.229333           0.144286      0.183570   \n",
       "8046   0.2536       0.210947        0.229333           0.337908      0.219828   \n",
       "\n",
       "       Provincia      Pais  Rango_Edad    Income  Precio Contado  \\\n",
       "25918   0.220812  0.254659    0.145050  0.311213        0.326792   \n",
       "5305    0.220812  0.254659    0.277612  0.257715        0.326792   \n",
       "38504   0.220812  0.250320    0.277612  0.244343        0.326792   \n",
       "35496   0.220812  0.254659    0.163866  0.257715        0.237826   \n",
       "8046    0.272935  0.254659    0.145050  0.257715        0.237826   \n",
       "\n",
       "       Pagos Anuales  Precio Total  Quejas_sca  Incidencias_sca  Consumo_sca  \n",
       "25918       0.282987      0.312914    0.035714         0.000000     0.234751  \n",
       "5305        0.234842      0.312914    0.000000         0.000000     0.059634  \n",
       "38504       0.234842      0.312914    0.000000         0.000000     0.299881  \n",
       "35496       0.282987      0.250299    0.000000         0.000000     0.061728  \n",
       "8046        0.234842      0.250299    0.000000         0.117647     0.081836  "
      ]
     },
     "execution_count": 42,
     "metadata": {},
     "output_type": "execute_result"
    }
   ],
   "source": [
    "TE_encoder.fit(X_train_prev, y_train)\n",
    "X_train = TE_encoder.transform(X_train_prev)\n",
    "X_train.head()"
   ]
  },
  {
   "cell_type": "code",
   "execution_count": 43,
   "metadata": {},
   "outputs": [
    {
     "name": "stderr",
     "output_type": "stream",
     "text": [
      "C:\\Users\\alber\\anaconda3\\lib\\site-packages\\category_encoders\\utils.py:21: FutureWarning: is_categorical is deprecated and will be removed in a future version.  Use is_categorical_dtype instead\n",
      "  elif pd.api.types.is_categorical(cols):\n"
     ]
    }
   ],
   "source": [
    "filename = '../mvp_pkl/TE_encoder.pkl'\n",
    "\n",
    "pickle.dump(TE_encoder.fit(X_train_prev, y_train), open(filename,'wb'))"
   ]
  },
  {
   "cell_type": "code",
   "execution_count": 44,
   "metadata": {
    "scrolled": true
   },
   "outputs": [
    {
     "data": {
      "text/html": [
       "<div>\n",
       "<style scoped>\n",
       "    .dataframe tbody tr th:only-of-type {\n",
       "        vertical-align: middle;\n",
       "    }\n",
       "\n",
       "    .dataframe tbody tr th {\n",
       "        vertical-align: top;\n",
       "    }\n",
       "\n",
       "    .dataframe thead th {\n",
       "        text-align: right;\n",
       "    }\n",
       "</style>\n",
       "<table border=\"1\" class=\"dataframe\">\n",
       "  <thead>\n",
       "    <tr style=\"text-align: right;\">\n",
       "      <th></th>\n",
       "      <th>Gender</th>\n",
       "      <th>Tipo Inmueble</th>\n",
       "      <th>Tipo Propiedad</th>\n",
       "      <th>Situacion Laboral</th>\n",
       "      <th>Estado Civil</th>\n",
       "      <th>Provincia</th>\n",
       "      <th>Pais</th>\n",
       "      <th>Rango_Edad</th>\n",
       "      <th>Income</th>\n",
       "      <th>Precio Contado</th>\n",
       "      <th>Pagos Anuales</th>\n",
       "      <th>Precio Total</th>\n",
       "      <th>Quejas_sca</th>\n",
       "      <th>Incidencias_sca</th>\n",
       "      <th>Consumo_sca</th>\n",
       "    </tr>\n",
       "  </thead>\n",
       "  <tbody>\n",
       "    <tr>\n",
       "      <th>15591</th>\n",
       "      <td>0.253600</td>\n",
       "      <td>0.210947</td>\n",
       "      <td>0.229333</td>\n",
       "      <td>0.337908</td>\n",
       "      <td>0.370321</td>\n",
       "      <td>0.272935</td>\n",
       "      <td>0.254659</td>\n",
       "      <td>0.196224</td>\n",
       "      <td>0.244343</td>\n",
       "      <td>0.326792</td>\n",
       "      <td>0.282987</td>\n",
       "      <td>0.312914</td>\n",
       "      <td>0.000000</td>\n",
       "      <td>0.000000</td>\n",
       "      <td>0.107919</td>\n",
       "    </tr>\n",
       "    <tr>\n",
       "      <th>27726</th>\n",
       "      <td>0.278034</td>\n",
       "      <td>0.210947</td>\n",
       "      <td>0.229333</td>\n",
       "      <td>0.337908</td>\n",
       "      <td>0.370321</td>\n",
       "      <td>0.272935</td>\n",
       "      <td>0.254659</td>\n",
       "      <td>0.378727</td>\n",
       "      <td>0.257715</td>\n",
       "      <td>0.185057</td>\n",
       "      <td>0.234842</td>\n",
       "      <td>0.195478</td>\n",
       "      <td>0.000000</td>\n",
       "      <td>0.000000</td>\n",
       "      <td>0.021408</td>\n",
       "    </tr>\n",
       "    <tr>\n",
       "      <th>16792</th>\n",
       "      <td>0.253600</td>\n",
       "      <td>0.207625</td>\n",
       "      <td>0.229333</td>\n",
       "      <td>0.460733</td>\n",
       "      <td>0.219828</td>\n",
       "      <td>0.220812</td>\n",
       "      <td>0.254659</td>\n",
       "      <td>0.196224</td>\n",
       "      <td>0.257715</td>\n",
       "      <td>0.326792</td>\n",
       "      <td>0.234842</td>\n",
       "      <td>0.312914</td>\n",
       "      <td>0.000000</td>\n",
       "      <td>0.000000</td>\n",
       "      <td>0.210002</td>\n",
       "    </tr>\n",
       "    <tr>\n",
       "      <th>23233</th>\n",
       "      <td>0.253600</td>\n",
       "      <td>0.210947</td>\n",
       "      <td>0.229333</td>\n",
       "      <td>0.337908</td>\n",
       "      <td>0.219828</td>\n",
       "      <td>0.343207</td>\n",
       "      <td>0.254659</td>\n",
       "      <td>0.378727</td>\n",
       "      <td>0.257715</td>\n",
       "      <td>0.308267</td>\n",
       "      <td>0.234842</td>\n",
       "      <td>0.312914</td>\n",
       "      <td>0.035714</td>\n",
       "      <td>0.411765</td>\n",
       "      <td>0.042248</td>\n",
       "    </tr>\n",
       "    <tr>\n",
       "      <th>24836</th>\n",
       "      <td>0.253600</td>\n",
       "      <td>0.207625</td>\n",
       "      <td>0.229333</td>\n",
       "      <td>0.219986</td>\n",
       "      <td>0.219828</td>\n",
       "      <td>0.343207</td>\n",
       "      <td>0.254659</td>\n",
       "      <td>0.378727</td>\n",
       "      <td>0.244343</td>\n",
       "      <td>0.237826</td>\n",
       "      <td>0.234842</td>\n",
       "      <td>0.250299</td>\n",
       "      <td>0.000000</td>\n",
       "      <td>0.000000</td>\n",
       "      <td>0.280463</td>\n",
       "    </tr>\n",
       "  </tbody>\n",
       "</table>\n",
       "</div>"
      ],
      "text/plain": [
       "         Gender  Tipo Inmueble  Tipo Propiedad  Situacion Laboral  \\\n",
       "15591  0.253600       0.210947        0.229333           0.337908   \n",
       "27726  0.278034       0.210947        0.229333           0.337908   \n",
       "16792  0.253600       0.207625        0.229333           0.460733   \n",
       "23233  0.253600       0.210947        0.229333           0.337908   \n",
       "24836  0.253600       0.207625        0.229333           0.219986   \n",
       "\n",
       "       Estado Civil  Provincia      Pais  Rango_Edad    Income  \\\n",
       "15591      0.370321   0.272935  0.254659    0.196224  0.244343   \n",
       "27726      0.370321   0.272935  0.254659    0.378727  0.257715   \n",
       "16792      0.219828   0.220812  0.254659    0.196224  0.257715   \n",
       "23233      0.219828   0.343207  0.254659    0.378727  0.257715   \n",
       "24836      0.219828   0.343207  0.254659    0.378727  0.244343   \n",
       "\n",
       "       Precio Contado  Pagos Anuales  Precio Total  Quejas_sca  \\\n",
       "15591        0.326792       0.282987      0.312914    0.000000   \n",
       "27726        0.185057       0.234842      0.195478    0.000000   \n",
       "16792        0.326792       0.234842      0.312914    0.000000   \n",
       "23233        0.308267       0.234842      0.312914    0.035714   \n",
       "24836        0.237826       0.234842      0.250299    0.000000   \n",
       "\n",
       "       Incidencias_sca  Consumo_sca  \n",
       "15591         0.000000     0.107919  \n",
       "27726         0.000000     0.021408  \n",
       "16792         0.000000     0.210002  \n",
       "23233         0.411765     0.042248  \n",
       "24836         0.000000     0.280463  "
      ]
     },
     "execution_count": 44,
     "metadata": {},
     "output_type": "execute_result"
    }
   ],
   "source": [
    "X_test = TE_encoder.transform(X_test)\n",
    "X_test.head()"
   ]
  },
  {
   "cell_type": "markdown",
   "metadata": {},
   "source": [
    "### Regresión Logística"
   ]
  },
  {
   "cell_type": "code",
   "execution_count": 45,
   "metadata": {
    "scrolled": false
   },
   "outputs": [
    {
     "name": "stdout",
     "output_type": "stream",
     "text": [
      "Logistic Accuracy is 0.73\n",
      "Cross Validation Score = 0.73\n",
      "              precision    recall  f1-score   support\n",
      "\n",
      "           0       0.88      0.74      0.80      8188\n",
      "           1       0.48      0.70      0.57      2858\n",
      "\n",
      "    accuracy                           0.73     11046\n",
      "   macro avg       0.68      0.72      0.69     11046\n",
      "weighted avg       0.78      0.73      0.74     11046\n",
      "\n"
     ]
    },
    {
     "data": {
      "image/png": "[encoded data removed]",
      "text/plain": [
       "<Figure size 432x288 with 2 Axes>"
      ]
     },
     "metadata": {
      "needs_background": "light"
     },
     "output_type": "display_data"
    }
   ],
   "source": [
    "from sklearn.linear_model import LogisticRegression\n",
    "\n",
    "LR = LogisticRegression(random_state = 0, max_iter=1000, class_weight=\"balanced\")\n",
    "LR.fit(X_train,y_train) \n",
    "print (\"Logistic Accuracy is %2.2f\" % accuracy_score(y_test, LR.predict(X_test)))\n",
    "\n",
    "skf = StratifiedKFold(n_splits=5)\n",
    "score_LR = cross_val_score(LR, X_train, y_train, cv=skf).mean()\n",
    "print(\"Cross Validation Score = %2.2f\" % score_LR)\n",
    "\n",
    "y_pred = LR.predict(X_test)\n",
    "print(classification_report(y_test, y_pred))\n",
    "\n",
    "# Almacenar el recall de '1' en una variable para mostrar resultados al final del notebook\n",
    "\n",
    "result = classification_report(y_test, y_pred, output_dict=True)\n",
    "recall_lr = round(result['1']['recall'], 4)\n",
    "\n",
    "cm = confusion_matrix(y_test,y_pred)\n",
    "plot_confusion_matrix(cm, classes=class_names, title='Confusion matrix')"
   ]
  },
  {
   "cell_type": "code",
   "execution_count": 46,
   "metadata": {
    "scrolled": false
   },
   "outputs": [
    {
     "name": "stdout",
     "output_type": "stream",
     "text": [
      "ROC AUC score: 0.79\n"
     ]
    },
    {
     "data": {
      "image/png": "[encoded data removed]",
      "text/plain": [
       "<Figure size 576x432 with 1 Axes>"
      ]
     },
     "metadata": {
      "needs_background": "light"
     },
     "output_type": "display_data"
    }
   ],
   "source": [
    "plot_roc_curve(LR, X_test, y_test)"
   ]
  },
  {
   "cell_type": "code",
   "execution_count": 47,
   "metadata": {},
   "outputs": [
    {
     "data": {
      "image/png": "[encoded data removed]",
      "text/plain": [
       "<Figure size 432x288 with 1 Axes>"
      ]
     },
     "metadata": {
      "needs_background": "light"
     },
     "output_type": "display_data"
    }
   ],
   "source": [
    "plot_precision_recall_curve(LR, X_test, y_test);"
   ]
  },
  {
   "cell_type": "code",
   "execution_count": 48,
   "metadata": {},
   "outputs": [],
   "source": [
    "filename = '../mvp_pkl/LR_model.pkl'\n",
    "LR_model = LR.fit(X_train, y_train)\n",
    "\n",
    "pickle.dump(LR_model, open(filename,'wb'))"
   ]
  },
  {
   "cell_type": "markdown",
   "metadata": {},
   "source": [
    "### KNN"
   ]
  },
  {
   "cell_type": "code",
   "execution_count": 49,
   "metadata": {},
   "outputs": [],
   "source": [
    "from sklearn.neighbors import KNeighborsClassifier"
   ]
  },
  {
   "cell_type": "code",
   "execution_count": 50,
   "metadata": {},
   "outputs": [
    {
     "data": {
      "text/plain": [
       "GridSearchCV(cv=StratifiedKFold(n_splits=5, random_state=None, shuffle=False),\n",
       "             estimator=KNeighborsClassifier(),\n",
       "             param_grid={'n_neighbors': array([ 3,  5,  7,  9, 11, 13, 15])},\n",
       "             scoring='recall')"
      ]
     },
     "execution_count": 50,
     "metadata": {},
     "output_type": "execute_result"
    }
   ],
   "source": [
    "# Don´t do this!!!\n",
    "\n",
    "skf = StratifiedKFold(n_splits=5)\n",
    "knn = GridSearchCV(KNeighborsClassifier(),\n",
    "                      param_grid = {'n_neighbors':np.arange(3,17,2)},\n",
    "                      scoring = 'recall', cv = skf)\n",
    "\n",
    "knn.fit(X_train, y_train)"
   ]
  },
  {
   "cell_type": "code",
   "execution_count": 51,
   "metadata": {},
   "outputs": [
    {
     "data": {
      "text/plain": [
       "{'n_neighbors': 3}"
      ]
     },
     "execution_count": 51,
     "metadata": {},
     "output_type": "execute_result"
    }
   ],
   "source": [
    "knn.best_params_"
   ]
  },
  {
   "cell_type": "code",
   "execution_count": 50,
   "metadata": {},
   "outputs": [
    {
     "data": {
      "text/plain": [
       "KNeighborsClassifier(n_neighbors=3)"
      ]
     },
     "execution_count": 50,
     "metadata": {},
     "output_type": "execute_result"
    }
   ],
   "source": [
    "knn = KNeighborsClassifier(n_neighbors = 3)\n",
    "knn.fit(X_train, y_train)"
   ]
  },
  {
   "cell_type": "code",
   "execution_count": 51,
   "metadata": {},
   "outputs": [],
   "source": [
    "y_pred = knn.predict(X_test)"
   ]
  },
  {
   "cell_type": "code",
   "execution_count": 52,
   "metadata": {},
   "outputs": [
    {
     "name": "stdout",
     "output_type": "stream",
     "text": [
      "              precision    recall  f1-score   support\n",
      "\n",
      "           0       0.81      0.87      0.84      8188\n",
      "           1       0.54      0.42      0.47      2858\n",
      "\n",
      "    accuracy                           0.76     11046\n",
      "   macro avg       0.67      0.65      0.66     11046\n",
      "weighted avg       0.74      0.76      0.75     11046\n",
      "\n"
     ]
    },
    {
     "data": {
      "image/png": "[encoded data removed]",
      "text/plain": [
       "<Figure size 432x288 with 2 Axes>"
      ]
     },
     "metadata": {
      "needs_background": "light"
     },
     "output_type": "display_data"
    }
   ],
   "source": [
    "from sklearn.metrics import confusion_matrix, classification_report\n",
    "cm = confusion_matrix(y_test, y_pred)\n",
    "\n",
    "print(classification_report(y_test,y_pred))\n",
    "\n",
    "result = classification_report(y_test, y_pred, output_dict=True)\n",
    "recall_knn = round(result['1']['recall'], 4)\n",
    "\n",
    "plot_confusion_matrix(cm, classes=class_names, title='Confusion matrix')"
   ]
  },
  {
   "cell_type": "code",
   "execution_count": 53,
   "metadata": {},
   "outputs": [
    {
     "name": "stdout",
     "output_type": "stream",
     "text": [
      "ROC AUC score: 0.71\n"
     ]
    },
    {
     "data": {
      "image/png": "[encoded data removed]",
      "text/plain": [
       "<Figure size 576x432 with 1 Axes>"
      ]
     },
     "metadata": {
      "needs_background": "light"
     },
     "output_type": "display_data"
    }
   ],
   "source": [
    "plot_roc_curve(knn, X_test, y_test)"
   ]
  },
  {
   "cell_type": "code",
   "execution_count": 54,
   "metadata": {},
   "outputs": [
    {
     "data": {
      "image/png": "[encoded data removed]",
      "text/plain": [
       "<Figure size 432x288 with 1 Axes>"
      ]
     },
     "metadata": {
      "needs_background": "light"
     },
     "output_type": "display_data"
    }
   ],
   "source": [
    "plot_precision_recall_curve(knn, X_test, y_test);"
   ]
  },
  {
   "cell_type": "markdown",
   "metadata": {},
   "source": [
    "### Decission Tree Classifier"
   ]
  },
  {
   "cell_type": "code",
   "execution_count": 55,
   "metadata": {},
   "outputs": [
    {
     "name": "stdout",
     "output_type": "stream",
     "text": [
      "Decision Tree Accuracy is 0.72\n",
      "Cross Validation Score = 0.71\n",
      "              precision    recall  f1-score   support\n",
      "\n",
      "           0       0.88      0.71      0.79      8188\n",
      "           1       0.47      0.73      0.57      2858\n",
      "\n",
      "    accuracy                           0.72     11046\n",
      "   macro avg       0.68      0.72      0.68     11046\n",
      "weighted avg       0.78      0.72      0.73     11046\n",
      "\n"
     ]
    },
    {
     "data": {
      "image/png": "[encoded data removed]",
      "text/plain": [
       "<Figure size 432x288 with 2 Axes>"
      ]
     },
     "metadata": {
      "needs_background": "light"
     },
     "output_type": "display_data"
    }
   ],
   "source": [
    "from sklearn.tree import DecisionTreeClassifier\n",
    "from sklearn.model_selection import cross_val_score, StratifiedKFold\n",
    "\n",
    "DT = DecisionTreeClassifier(random_state = 0,class_weight=\"balanced\", min_weight_fraction_leaf=0.01)\n",
    "DT = DT.fit(X_train,y_train)\n",
    "print (\"Decision Tree Accuracy is %2.2f\" % accuracy_score(y_test, DT.predict(X_test)))\n",
    "\n",
    "skf = StratifiedKFold(n_splits=5)\n",
    "score_DT = cross_val_score(DT, X_train, y_train, cv=skf).mean()\n",
    "print(\"Cross Validation Score = %2.2f\" % score_DT)\n",
    "\n",
    "y_pred = DT.predict(X_test)\n",
    "print(classification_report(y_test, y_pred))\n",
    "\n",
    "result = classification_report(y_test, y_pred, output_dict=True)\n",
    "recall_dt = round(result['1']['recall'], 4)\n",
    "\n",
    "cm = confusion_matrix(y_test,y_pred)\n",
    "plot_confusion_matrix(cm, classes=class_names, title='Confusion matrix')"
   ]
  },
  {
   "cell_type": "code",
   "execution_count": 56,
   "metadata": {},
   "outputs": [
    {
     "name": "stdout",
     "output_type": "stream",
     "text": [
      "ROC AUC score: 0.79\n"
     ]
    },
    {
     "data": {
      "image/png": "[encoded data removed]",
      "text/plain": [
       "<Figure size 576x432 with 1 Axes>"
      ]
     },
     "metadata": {
      "needs_background": "light"
     },
     "output_type": "display_data"
    }
   ],
   "source": [
    "plot_roc_curve(DT, X_test, y_test)"
   ]
  },
  {
   "cell_type": "code",
   "execution_count": 57,
   "metadata": {},
   "outputs": [
    {
     "data": {
      "image/png": "[encoded data removed]",
      "text/plain": [
       "<Figure size 432x288 with 1 Axes>"
      ]
     },
     "metadata": {
      "needs_background": "light"
     },
     "output_type": "display_data"
    }
   ],
   "source": [
    "plot_precision_recall_curve(DT, X_test, y_test);"
   ]
  },
  {
   "cell_type": "code",
   "execution_count": 58,
   "metadata": {},
   "outputs": [],
   "source": [
    "filename = '../mvp_pkl/DT_model.pkl'\n",
    "DT_model = DT.fit(X_train, y_train)\n",
    "\n",
    "pickle.dump(DT_model, open(filename,'wb'))"
   ]
  },
  {
   "cell_type": "markdown",
   "metadata": {},
   "source": [
    "### Random Forest Classifier"
   ]
  },
  {
   "cell_type": "code",
   "execution_count": 80,
   "metadata": {},
   "outputs": [
    {
     "name": "stdout",
     "output_type": "stream",
     "text": [
      "Random Forest Accuracy is 0.78\n",
      "Cross Validation Score = 0.78\n",
      "              precision    recall  f1-score   support\n",
      "\n",
      "           0       0.86      0.85      0.85      8188\n",
      "           1       0.58      0.61      0.59      2858\n",
      "\n",
      "    accuracy                           0.78     11046\n",
      "   macro avg       0.72      0.73      0.72     11046\n",
      "weighted avg       0.79      0.78      0.79     11046\n",
      "\n"
     ]
    },
    {
     "data": {
      "image/png": "[encoded data removed]",
      "text/plain": [
       "<Figure size 432x288 with 2 Axes>"
      ]
     },
     "metadata": {
      "needs_background": "light"
     },
     "output_type": "display_data"
    }
   ],
   "source": [
    "from sklearn.ensemble import RandomForestClassifier\n",
    "\n",
    "rfc = RandomForestClassifier(n_estimators=100, max_depth=None, min_samples_split=10,class_weight=\"balanced\")\n",
    "rfc.fit(X_train, y_train)\n",
    "print(\"Random Forest Accuracy is %2.2f\" % accuracy_score(y_test, rfc.predict(X_test)))\n",
    "\n",
    "skf = StratifiedKFold(n_splits=20)\n",
    "score_rfc = cross_val_score(rfc, X_train, y_train, cv=skf).mean()\n",
    "print(\"Cross Validation Score = %2.2f\" % score_rfc)\n",
    "\n",
    "y_pred = rfc.predict(X_test)\n",
    "print(classification_report(y_test,y_pred ))\n",
    "\n",
    "result = classification_report(y_test, y_pred, output_dict=True)\n",
    "recall_rfc = round(result['1']['recall'], 4)\n",
    "\n",
    "cm = confusion_matrix(y_test,y_pred)\n",
    "plot_confusion_matrix(cm, classes=class_names, title='Confusion matrix')"
   ]
  },
  {
   "cell_type": "code",
   "execution_count": 60,
   "metadata": {},
   "outputs": [
    {
     "name": "stdout",
     "output_type": "stream",
     "text": [
      "ROC AUC score: 0.81\n"
     ]
    },
    {
     "data": {
      "image/png": "[encoded data removed]",
      "text/plain": [
       "<Figure size 576x432 with 1 Axes>"
      ]
     },
     "metadata": {
      "needs_background": "light"
     },
     "output_type": "display_data"
    }
   ],
   "source": [
    "plot_roc_curve(rfc, X_test, y_test)"
   ]
  },
  {
   "cell_type": "code",
   "execution_count": 61,
   "metadata": {},
   "outputs": [
    {
     "data": {
      "image/png": "[encoded data removed]",
      "text/plain": [
       "<Figure size 432x288 with 1 Axes>"
      ]
     },
     "metadata": {
      "needs_background": "light"
     },
     "output_type": "display_data"
    }
   ],
   "source": [
    "plot_precision_recall_curve(rfc, X_test, y_test);"
   ]
  },
  {
   "cell_type": "markdown",
   "metadata": {},
   "source": [
    "#### Random Forest parameter tuning"
   ]
  },
  {
   "cell_type": "code",
   "execution_count": 78,
   "metadata": {},
   "outputs": [
    {
     "name": "stdout",
     "output_type": "stream",
     "text": [
      "Fitting 3 folds for each of 144 candidates, totalling 432 fits\n"
     ]
    },
    {
     "data": {
      "text/plain": [
       "GridSearchCV(cv=StratifiedKFold(n_splits=3, random_state=None, shuffle=False),\n",
       "             estimator=RandomForestClassifier(class_weight='balanced'),\n",
       "             n_jobs=-1,\n",
       "             param_grid={'bootstrap': [True, False], 'max_depth': [5, 10, None],\n",
       "                         'max_features': ['auto', 5, 10],\n",
       "                         'min_samples_leaf': [1, 3],\n",
       "                         'min_samples_split': [2, 5],\n",
       "                         'n_estimators': [100, 300]},\n",
       "             scoring='recall_macro', verbose=2)"
      ]
     },
     "execution_count": 78,
     "metadata": {},
     "output_type": "execute_result"
    }
   ],
   "source": [
    "# Don´t do this!!!\n",
    "\n",
    "from sklearn.ensemble import RandomForestClassifier\n",
    "\n",
    "skf = StratifiedKFold(n_splits=3)\n",
    "\n",
    "param_grid = {\n",
    "    'bootstrap': [True, False],\n",
    "    'max_depth': [5, 10, None],\n",
    "    'max_features': ['auto', 5, 10],\n",
    "    'min_samples_leaf': [1, 3],\n",
    "    'min_samples_split': [2, 5],\n",
    "    'n_estimators': [100, 300]\n",
    "}\n",
    "\n",
    "rfc_2 = GridSearchCV(estimator = RandomForestClassifier(class_weight=\"balanced\"), param_grid = param_grid, \n",
    "                          cv = skf, n_jobs = -1, verbose = 2, scoring = 'recall_macro')\n",
    "\n",
    "rfc_2.fit(X_train, y_train)"
   ]
  },
  {
   "cell_type": "code",
   "execution_count": 79,
   "metadata": {},
   "outputs": [
    {
     "data": {
      "text/plain": [
       "{'bootstrap': False,\n",
       " 'max_depth': None,\n",
       " 'max_features': 'auto',\n",
       " 'min_samples_leaf': 3,\n",
       " 'min_samples_split': 5,\n",
       " 'n_estimators': 300}"
      ]
     },
     "execution_count": 79,
     "metadata": {},
     "output_type": "execute_result"
    }
   ],
   "source": [
    "rfc_2.best_params_"
   ]
  },
  {
   "cell_type": "code",
   "execution_count": 62,
   "metadata": {},
   "outputs": [
    {
     "name": "stdout",
     "output_type": "stream",
     "text": [
      "Random Forest Accuracy is 0.77\n",
      "Cross Validation Score = 0.77\n",
      "              precision    recall  f1-score   support\n",
      "\n",
      "           0       0.87      0.82      0.84      8188\n",
      "           1       0.55      0.64      0.60      2858\n",
      "\n",
      "    accuracy                           0.77     11046\n",
      "   macro avg       0.71      0.73      0.72     11046\n",
      "weighted avg       0.79      0.77      0.78     11046\n",
      "\n"
     ]
    },
    {
     "data": {
      "image/png": "[encoded data removed]",
      "text/plain": [
       "<Figure size 432x288 with 2 Axes>"
      ]
     },
     "metadata": {
      "needs_background": "light"
     },
     "output_type": "display_data"
    }
   ],
   "source": [
    "from sklearn.ensemble import RandomForestClassifier\n",
    "\n",
    "rfc_2 = RandomForestClassifier(min_samples_leaf = 3, \n",
    "                                       min_samples_split = 5,\n",
    "                                       max_depth = None,\n",
    "                                       n_estimators = 300, \n",
    "                                       max_features = 'auto', \n",
    "                                       bootstrap = False, class_weight = \"balanced\")\n",
    "rfc_2.fit(X_train, y_train)\n",
    "y_pred = rfc_2.predict(X_test)\n",
    "\n",
    "print(\"Random Forest Accuracy is %2.2f\" % accuracy_score(y_test, y_pred))\n",
    "\n",
    "skf = StratifiedKFold(n_splits=10)\n",
    "score_rfc2 = cross_val_score(rfc_2, X_train, y_train, cv=skf).mean()\n",
    "print(\"Cross Validation Score = %2.2f\" % score_rfc2)\n",
    "\n",
    "print(classification_report(y_test,y_pred ))\n",
    "\n",
    "result = classification_report(y_test, y_pred, output_dict=True)\n",
    "recall_rfc2 = round(result['1']['recall'], 4)\n",
    "\n",
    "cm = confusion_matrix(y_test,y_pred)\n",
    "plot_confusion_matrix(cm, classes=class_names, title='Confusion matrix')"
   ]
  },
  {
   "cell_type": "code",
   "execution_count": 63,
   "metadata": {},
   "outputs": [],
   "source": [
    "filename = '../mvp_pkl/rfc_model.pkl'\n",
    "rfc_model = rfc_2.fit(X_train, y_train)\n",
    "\n",
    "pickle.dump(rfc_model, open(filename,'wb'))"
   ]
  },
  {
   "cell_type": "code",
   "execution_count": 64,
   "metadata": {},
   "outputs": [
    {
     "name": "stdout",
     "output_type": "stream",
     "text": [
      "ROC AUC score: 0.81\n"
     ]
    },
    {
     "data": {
      "image/png": "[encoded data removed]",
      "text/plain": [
       "<Figure size 576x432 with 1 Axes>"
      ]
     },
     "metadata": {
      "needs_background": "light"
     },
     "output_type": "display_data"
    }
   ],
   "source": [
    "plot_roc_curve(rfc_2, X_test, y_test);"
   ]
  },
  {
   "cell_type": "code",
   "execution_count": 65,
   "metadata": {},
   "outputs": [
    {
     "data": {
      "image/png": "[encoded data removed]",
      "text/plain": [
       "<Figure size 432x288 with 1 Axes>"
      ]
     },
     "metadata": {
      "needs_background": "light"
     },
     "output_type": "display_data"
    }
   ],
   "source": [
    "plot_precision_recall_curve(rfc_2, X_test, y_test);"
   ]
  },
  {
   "cell_type": "markdown",
   "metadata": {},
   "source": [
    "### XGBoost"
   ]
  },
  {
   "cell_type": "code",
   "execution_count": 66,
   "metadata": {},
   "outputs": [
    {
     "name": "stdout",
     "output_type": "stream",
     "text": [
      "GradientBoost Accuracy= 0.80\n",
      "Cross Validation Score = 0.80\n",
      "              precision    recall  f1-score   support\n",
      "\n",
      "           0       0.83      0.93      0.88      8188\n",
      "           1       0.70      0.44      0.54      2858\n",
      "\n",
      "    accuracy                           0.80     11046\n",
      "   macro avg       0.76      0.69      0.71     11046\n",
      "weighted avg       0.79      0.80      0.79     11046\n",
      "\n"
     ]
    },
    {
     "data": {
      "image/png": "[encoded data removed]",
      "text/plain": [
       "<Figure size 432x288 with 2 Axes>"
      ]
     },
     "metadata": {
      "needs_background": "light"
     },
     "output_type": "display_data"
    }
   ],
   "source": [
    "from xgboost import XGBClassifier\n",
    "\n",
    "xgb = XGBClassifier(n_estimators=1000, booster='gbtree', learning_rate=0.01, objective='binary:logistic')\n",
    "xgb.fit(X_train,y_train)\n",
    "y_pred = xgb.predict(X_test)\n",
    "print (\"GradientBoost Accuracy= %2.2f\" % accuracy_score(y_test, y_pred))\n",
    "\n",
    "skf = StratifiedKFold(n_splits=5)\n",
    "score_xgb = cross_val_score(xgb, X_train, y_train, cv=skf).mean()\n",
    "print(\"Cross Validation Score = %2.2f\" % score_xgb)\n",
    "\n",
    "print(classification_report(y_test, y_pred))\n",
    "result = classification_report(y_test, y_pred, output_dict=True)\n",
    "recall_xgb = round(result['1']['recall'], 4)\n",
    "\n",
    "cm = confusion_matrix(y_test, y_pred)\n",
    "plot_confusion_matrix(cm, classes=class_names, title='Confusion matrix')"
   ]
  },
  {
   "cell_type": "code",
   "execution_count": 67,
   "metadata": {},
   "outputs": [
    {
     "name": "stdout",
     "output_type": "stream",
     "text": [
      "ROC AUC score: 0.82\n"
     ]
    },
    {
     "data": {
      "image/png": "[encoded data removed]",
      "text/plain": [
       "<Figure size 576x432 with 1 Axes>"
      ]
     },
     "metadata": {
      "needs_background": "light"
     },
     "output_type": "display_data"
    }
   ],
   "source": [
    "plot_roc_curve(xgb, X_test, y_test)"
   ]
  },
  {
   "cell_type": "code",
   "execution_count": 68,
   "metadata": {},
   "outputs": [
    {
     "data": {
      "image/png": "[encoded data removed]",
      "text/plain": [
       "<Figure size 432x288 with 1 Axes>"
      ]
     },
     "metadata": {
      "needs_background": "light"
     },
     "output_type": "display_data"
    }
   ],
   "source": [
    "plot_precision_recall_curve(xgb, X_test, y_test);"
   ]
  },
  {
   "cell_type": "markdown",
   "metadata": {},
   "source": [
    "### Voting Classifier\n",
    "\n",
    "Utilizando la Regresión Logística, el Decission Tree Classifier y el Random Forest con los hiperparámetros tuneados."
   ]
  },
  {
   "cell_type": "code",
   "execution_count": 69,
   "metadata": {},
   "outputs": [
    {
     "name": "stdout",
     "output_type": "stream",
     "text": [
      "VotingClassifier Accuracy= 0.75\n",
      "Cross Validation Score = 0.74\n",
      "              precision    recall  f1-score   support\n",
      "\n",
      "           0       0.88      0.76      0.82      8188\n",
      "           1       0.51      0.71      0.60      2858\n",
      "\n",
      "    accuracy                           0.75     11046\n",
      "   macro avg       0.70      0.74      0.71     11046\n",
      "weighted avg       0.79      0.75      0.76     11046\n",
      "\n"
     ]
    },
    {
     "data": {
      "image/png": "[encoded data removed]",
      "text/plain": [
       "<Figure size 432x288 with 2 Axes>"
      ]
     },
     "metadata": {
      "needs_background": "light"
     },
     "output_type": "display_data"
    }
   ],
   "source": [
    "from sklearn.ensemble import VotingClassifier\n",
    "\n",
    "voting_clf = VotingClassifier(estimators=[\n",
    "         ('lr', LR), ('rf', rfc_2), ('dt', DT)],\n",
    "         voting='soft')\n",
    "\n",
    "voting_clf.fit(X_train, y_train)\n",
    "y_pred = voting_clf.predict(X_test)\n",
    "print (\"VotingClassifier Accuracy= %2.2f\" % accuracy_score(y_test, y_pred))\n",
    "\n",
    "skf = StratifiedKFold(n_splits=5)\n",
    "score_voting_clf = cross_val_score(voting_clf, X_train, y_train, cv=skf).mean()\n",
    "print(\"Cross Validation Score = %2.2f\" % score_voting_clf)\n",
    "\n",
    "print(classification_report(y_test, y_pred))\n",
    "result = classification_report(y_test, y_pred, output_dict=True)\n",
    "recall_voting = round(result['1']['recall'], 4)\n",
    "\n",
    "cm = confusion_matrix(y_test, y_pred)\n",
    "plot_confusion_matrix(cm, classes=class_names, title='Confusion matrix')"
   ]
  },
  {
   "cell_type": "code",
   "execution_count": 70,
   "metadata": {},
   "outputs": [],
   "source": [
    "filename = '../mvp_pkl/voting_clf_model.pkl'\n",
    "voting_clf_model = voting_clf.fit(X_train, y_train)\n",
    "\n",
    "pickle.dump(voting_clf_model, open(filename,'wb'))"
   ]
  },
  {
   "cell_type": "code",
   "execution_count": 71,
   "metadata": {},
   "outputs": [
    {
     "name": "stdout",
     "output_type": "stream",
     "text": [
      "ROC AUC score: 0.81\n"
     ]
    },
    {
     "data": {
      "image/png": "[encoded data removed]",
      "text/plain": [
       "<Figure size 576x432 with 1 Axes>"
      ]
     },
     "metadata": {
      "needs_background": "light"
     },
     "output_type": "display_data"
    }
   ],
   "source": [
    "plot_roc_curve(voting_clf, X_test, y_test);"
   ]
  },
  {
   "cell_type": "code",
   "execution_count": 72,
   "metadata": {},
   "outputs": [
    {
     "data": {
      "image/png": "[encoded data removed]",
      "text/plain": [
       "<Figure size 432x288 with 1 Axes>"
      ]
     },
     "metadata": {
      "needs_background": "light"
     },
     "output_type": "display_data"
    }
   ],
   "source": [
    "plot_precision_recall_curve(voting_clf, X_test, y_test);"
   ]
  },
  {
   "cell_type": "markdown",
   "metadata": {},
   "source": [
    "### Comparing ROC Curves"
   ]
  },
  {
   "cell_type": "code",
   "execution_count": 73,
   "metadata": {},
   "outputs": [
    {
     "data": {
      "image/png": "[encoded data removed]",
      "text/plain": [
       "<Figure size 720x432 with 1 Axes>"
      ]
     },
     "metadata": {
      "needs_background": "light"
     },
     "output_type": "display_data"
    }
   ],
   "source": [
    "plt.figure(figsize = (10,6), linewidth= 1)\n",
    "\n",
    "knn_fpr, knn_tpr, thresholds = roc_curve(y_test, knn.predict_proba(X_test)[:,1])\n",
    "LR_fpr, LR_tpr, thresholds = roc_curve(y_test, LR.predict_proba(X_test)[:,1])\n",
    "DT_fpr, DT_tpr, thresholds = roc_curve(y_test, DT.predict_proba(X_test)[:,1])\n",
    "rfc_fpr, rfc_tpr, thresholds = roc_curve(y_test, rfc.predict_proba(X_test)[:,1])\n",
    "rfc2_fpr, rfc2_tpr, thresholds = roc_curve(y_test, rfc_2.predict_proba(X_test)[:,1])\n",
    "xgb_fpr, xgb_tpr, thresholds = roc_curve(y_test, xgb.predict_proba(X_test)[:,1])\n",
    "vc_fpr, vc_tpr, thresholds = roc_curve(y_test, voting_clf.predict_proba(X_test)[:,1])\n",
    "\n",
    "plt.plot(knn_fpr, knn_tpr, label='KNN' )\n",
    "plt.plot(LR_fpr, LR_tpr, label='Logistic Regression')\n",
    "plt.plot(DT_fpr, DT_tpr, label='Decision Tree')\n",
    "plt.plot(rfc_fpr, rfc_tpr, label='Random Forest')\n",
    "plt.plot(rfc2_fpr, rfc2_tpr, label='Random Forest 2')\n",
    "plt.plot(xgb_fpr, xgb_tpr, label='XGBoost')\n",
    "plt.plot(vc_fpr, vc_tpr, label='VotingClassifier')\n",
    "\n",
    "plt.plot([0,1],[0,1],label='Base Rate', ls = '--', c = 'grey')\n",
    "plt.xlim([0.0, 1.0])\n",
    "plt.ylim([0.0, 1.0])\n",
    "plt.title('Comparing ROC Curves')\n",
    "plt.xlabel('False Positive Rate')\n",
    "plt.ylabel('True Positive Rate')\n",
    "plt.legend(loc=\"lower right\")\n",
    "plt.show()"
   ]
  },
  {
   "cell_type": "markdown",
   "metadata": {},
   "source": [
    "### Comparing PR Curves"
   ]
  },
  {
   "cell_type": "code",
   "execution_count": 74,
   "metadata": {},
   "outputs": [
    {
     "data": {
      "image/png": "[encoded data removed]",
      "text/plain": [
       "<Figure size 720x432 with 1 Axes>"
      ]
     },
     "metadata": {
      "needs_background": "light"
     },
     "output_type": "display_data"
    }
   ],
   "source": [
    "models = [knn, LR, DT, rfc, rfc_2, xgb, voting_clf]\n",
    "\n",
    "fig, ax = plt.subplots(figsize=(10, 6))\n",
    "for m in models:\n",
    "    plot_precision_recall_curve(m, X_test, y_test, ax=ax)\n",
    "    plt.legend(loc=\"upper right\")\n",
    "ax.set_title(\"Comparing PR Curves\");"
   ]
  },
  {
   "cell_type": "markdown",
   "metadata": {},
   "source": [
    "### Feature importances"
   ]
  },
  {
   "cell_type": "code",
   "execution_count": 75,
   "metadata": {},
   "outputs": [
    {
     "name": "stderr",
     "output_type": "stream",
     "text": [
      "C:\\Users\\alber\\anaconda3\\lib\\site-packages\\sklearn\\utils\\validation.py:70: FutureWarning: Pass n_features_to_select=5 as keyword args. From version 1.0 (renaming of 0.25) passing these as positional arguments will result in an error\n",
      "  warnings.warn(f\"Pass {args_msg} as keyword args. From version \"\n"
     ]
    },
    {
     "data": {
      "text/plain": [
       "array([ 7,  1,  5,  9,  3,  8,  4,  1,  1, 10, 11,  1,  1,  2,  6])"
      ]
     },
     "execution_count": 75,
     "metadata": {},
     "output_type": "execute_result"
    }
   ],
   "source": [
    "from sklearn.feature_selection import RFE\n",
    "\n",
    "# Using Recursive Feature Elimination Function and fitting it in a Logistic Regression Model\n",
    "modell = LogisticRegression(max_iter=1000, class_weight=\"balanced\")\n",
    "rfe = RFE(modell, 5)\n",
    "rfe = rfe.fit(X_train,y_train)\n",
    "\n",
    "rfe.ranking_"
   ]
  },
  {
   "cell_type": "code",
   "execution_count": 76,
   "metadata": {},
   "outputs": [
    {
     "name": "stdout",
     "output_type": "stream",
     "text": [
      "{('Consumo_sca', 6), ('Quejas_sca', 1), ('Pagos Anuales', 11), ('Gender', 7), ('Pais', 4), ('Tipo Inmueble', 1), ('Precio Contado', 10), ('Precio Total', 1), ('Income', 1), ('Incidencias_sca', 2), ('Rango_Edad', 1), ('Estado Civil', 3), ('Tipo Propiedad', 5), ('Provincia', 8), ('Situacion Laboral', 9)}\n"
     ]
    }
   ],
   "source": [
    "result = zip(X_train.columns, rfe.ranking_)\n",
    "\n",
    "result_set = set(result)\n",
    "print(result_set)"
   ]
  },
  {
   "cell_type": "code",
   "execution_count": 77,
   "metadata": {},
   "outputs": [
    {
     "name": "stdout",
     "output_type": "stream",
     "text": [
      "[0.02604708 0.09514125 0.0411163  0.0462485  0.03633121 0.04404588\n",
      " 0.03980302 0.08127784 0.07267991 0.0528029  0.04532956 0.04374932\n",
      " 0.07707827 0.09354304 0.20480594]\n"
     ]
    },
    {
     "data": {
      "image/png": "[encoded data removed]",
      "text/plain": [
       "<Figure size 864x432 with 1 Axes>"
      ]
     },
     "metadata": {
      "needs_background": "light"
     },
     "output_type": "display_data"
    }
   ],
   "source": [
    "from sklearn.ensemble import ExtraTreesClassifier\n",
    "\n",
    "# Using ExtraTreesClassifier model function\n",
    "model = ExtraTreesClassifier()\n",
    "model.fit(X_train, y_train)\n",
    "\n",
    "# Printing important features in the model\n",
    "print(model.feature_importances_)\n",
    "importances = model.feature_importances_\n",
    "feat_names = data_filtered.drop(['Estado'],axis=1).columns\n",
    "\n",
    "# Displaying the feature importances as a chart by sorting it in the order of importances\n",
    "indices = np.argsort(importances)[::-1]\n",
    "plt.figure(figsize=(12,6))\n",
    "plt.title(\"Feature importances\")\n",
    "plt.bar(range(len(indices)), importances[indices], color='lightblue',  align=\"center\")\n",
    "plt.step(range(len(indices)), np.cumsum(importances[indices]), where='mid', label='Cumulative')\n",
    "plt.xticks(range(len(indices)), feat_names[indices], rotation='vertical',fontsize=12)\n",
    "plt.xlim([-1, len(indices)])\n",
    "plt.show()"
   ]
  },
  {
   "cell_type": "markdown",
   "metadata": {},
   "source": [
    "### Results Resume"
   ]
  },
  {
   "cell_type": "code",
   "execution_count": 87,
   "metadata": {},
   "outputs": [
    {
     "data": {
      "application/vnd.plotly.v1+json": {
       "config": {
        "plotlyServerURL": "https://plot.ly"
       },
       "data": [
        {
         "colorscale": [
          [
           0,
           "#00083e"
          ],
          [
           0.5,
           "#ededee"
          ],
          [
           1,
           "#ffffff"
          ]
         ],
         "hoverinfo": "none",
         "opacity": 0.75,
         "showscale": false,
         "type": "heatmap",
         "z": [
          [
           0,
           0
          ],
          [
           0.5,
           0.5
          ],
          [
           1,
           1
          ],
          [
           0.5,
           0.5
          ],
          [
           1,
           1
          ],
          [
           0.5,
           0.5
          ],
          [
           1,
           1
          ]
         ]
        },
        {
         "marker": {
          "color": "#2256b5"
         },
         "name": "Recall",
         "type": "bar",
         "x": [
          "Logistic Regression",
          "Decission Tree",
          "RFC_1",
          "RFC_2",
          "XGBoost",
          "Voting Class."
         ],
         "xaxis": "x2",
         "y": [
          0.7029,
          0.7288,
          0.6102,
          0.6435,
          0.4381,
          0.7134
         ],
         "yaxis": "y2"
        }
       ],
       "layout": {
        "annotations": [
         {
          "align": "left",
          "font": {
           "color": "#ffffff"
          },
          "showarrow": false,
          "text": "<b>Model</b>",
          "x": -0.45,
          "xanchor": "left",
          "xref": "x",
          "y": 0,
          "yref": "y"
         },
         {
          "align": "left",
          "font": {
           "color": "#ffffff"
          },
          "showarrow": false,
          "text": "<b>Recall 1</b>",
          "x": 0.55,
          "xanchor": "left",
          "xref": "x",
          "y": 0,
          "yref": "y"
         },
         {
          "align": "left",
          "font": {
           "color": "#000000"
          },
          "showarrow": false,
          "text": "Logistic Regression",
          "x": -0.45,
          "xanchor": "left",
          "xref": "x",
          "y": 1,
          "yref": "y"
         },
         {
          "align": "left",
          "font": {
           "color": "#000000"
          },
          "showarrow": false,
          "text": "0.7029",
          "x": 0.55,
          "xanchor": "left",
          "xref": "x",
          "y": 1,
          "yref": "y"
         },
         {
          "align": "left",
          "font": {
           "color": "#000000"
          },
          "showarrow": false,
          "text": "Decission Tree",
          "x": -0.45,
          "xanchor": "left",
          "xref": "x",
          "y": 2,
          "yref": "y"
         },
         {
          "align": "left",
          "font": {
           "color": "#000000"
          },
          "showarrow": false,
          "text": "0.7288",
          "x": 0.55,
          "xanchor": "left",
          "xref": "x",
          "y": 2,
          "yref": "y"
         },
         {
          "align": "left",
          "font": {
           "color": "#000000"
          },
          "showarrow": false,
          "text": "RFC_1",
          "x": -0.45,
          "xanchor": "left",
          "xref": "x",
          "y": 3,
          "yref": "y"
         },
         {
          "align": "left",
          "font": {
           "color": "#000000"
          },
          "showarrow": false,
          "text": "0.6102",
          "x": 0.55,
          "xanchor": "left",
          "xref": "x",
          "y": 3,
          "yref": "y"
         },
         {
          "align": "left",
          "font": {
           "color": "#000000"
          },
          "showarrow": false,
          "text": "RFC_2",
          "x": -0.45,
          "xanchor": "left",
          "xref": "x",
          "y": 4,
          "yref": "y"
         },
         {
          "align": "left",
          "font": {
           "color": "#000000"
          },
          "showarrow": false,
          "text": "0.6435",
          "x": 0.55,
          "xanchor": "left",
          "xref": "x",
          "y": 4,
          "yref": "y"
         },
         {
          "align": "left",
          "font": {
           "color": "#000000"
          },
          "showarrow": false,
          "text": "XGBoost",
          "x": -0.45,
          "xanchor": "left",
          "xref": "x",
          "y": 5,
          "yref": "y"
         },
         {
          "align": "left",
          "font": {
           "color": "#000000"
          },
          "showarrow": false,
          "text": "0.4381",
          "x": 0.55,
          "xanchor": "left",
          "xref": "x",
          "y": 5,
          "yref": "y"
         },
         {
          "align": "left",
          "font": {
           "color": "#000000"
          },
          "showarrow": false,
          "text": "Voting Class.",
          "x": -0.45,
          "xanchor": "left",
          "xref": "x",
          "y": 6,
          "yref": "y"
         },
         {
          "align": "left",
          "font": {
           "color": "#000000"
          },
          "showarrow": false,
          "text": "0.7134",
          "x": 0.55,
          "xanchor": "left",
          "xref": "x",
          "y": 6,
          "yref": "y"
         }
        ],
        "height": 470,
        "margin": {
         "b": 100,
         "l": 0,
         "r": 0,
         "t": 50
        },
        "template": {
         "data": {
          "bar": [
           {
            "error_x": {
             "color": "#2a3f5f"
            },
            "error_y": {
             "color": "#2a3f5f"
            },
            "marker": {
             "line": {
              "color": "#E5ECF6",
              "width": 0.5
             }
            },
            "type": "bar"
           }
          ],
          "barpolar": [
           {
            "marker": {
             "line": {
              "color": "#E5ECF6",
              "width": 0.5
             }
            },
            "type": "barpolar"
           }
          ],
          "carpet": [
           {
            "aaxis": {
             "endlinecolor": "#2a3f5f",
             "gridcolor": "white",
             "linecolor": "white",
             "minorgridcolor": "white",
             "startlinecolor": "#2a3f5f"
            },
            "baxis": {
             "endlinecolor": "#2a3f5f",
             "gridcolor": "white",
             "linecolor": "white",
             "minorgridcolor": "white",
             "startlinecolor": "#2a3f5f"
            },
            "type": "carpet"
           }
          ],
          "choropleth": [
           {
            "colorbar": {
             "outlinewidth": 0,
             "ticks": ""
            },
            "type": "choropleth"
           }
          ],
          "contour": [
           {
            "colorbar": {
             "outlinewidth": 0,
             "ticks": ""
            },
            "colorscale": [
             [
              0,
              "#0d0887"
             ],
             [
              0.1111111111111111,
              "#46039f"
             ],
             [
              0.2222222222222222,
              "#7201a8"
             ],
             [
              0.3333333333333333,
              "#9c179e"
             ],
             [
              0.4444444444444444,
              "#bd3786"
             ],
             [
              0.5555555555555556,
              "#d8576b"
             ],
             [
              0.6666666666666666,
              "#ed7953"
             ],
             [
              0.7777777777777778,
              "#fb9f3a"
             ],
             [
              0.8888888888888888,
              "#fdca26"
             ],
             [
              1,
              "#f0f921"
             ]
            ],
            "type": "contour"
           }
          ],
          "contourcarpet": [
           {
            "colorbar": {
             "outlinewidth": 0,
             "ticks": ""
            },
            "type": "contourcarpet"
           }
          ],
          "heatmap": [
           {
            "colorbar": {
             "outlinewidth": 0,
             "ticks": ""
            },
            "colorscale": [
             [
              0,
              "#0d0887"
             ],
             [
              0.1111111111111111,
              "#46039f"
             ],
             [
              0.2222222222222222,
              "#7201a8"
             ],
             [
              0.3333333333333333,
              "#9c179e"
             ],
             [
              0.4444444444444444,
              "#bd3786"
             ],
             [
              0.5555555555555556,
              "#d8576b"
             ],
             [
              0.6666666666666666,
              "#ed7953"
             ],
             [
              0.7777777777777778,
              "#fb9f3a"
             ],
             [
              0.8888888888888888,
              "#fdca26"
             ],
             [
              1,
              "#f0f921"
             ]
            ],
            "type": "heatmap"
           }
          ],
          "heatmapgl": [
           {
            "colorbar": {
             "outlinewidth": 0,
             "ticks": ""
            },
            "colorscale": [
             [
              0,
              "#0d0887"
             ],
             [
              0.1111111111111111,
              "#46039f"
             ],
             [
              0.2222222222222222,
              "#7201a8"
             ],
             [
              0.3333333333333333,
              "#9c179e"
             ],
             [
              0.4444444444444444,
              "#bd3786"
             ],
             [
              0.5555555555555556,
              "#d8576b"
             ],
             [
              0.6666666666666666,
              "#ed7953"
             ],
             [
              0.7777777777777778,
              "#fb9f3a"
             ],
             [
              0.8888888888888888,
              "#fdca26"
             ],
             [
              1,
              "#f0f921"
             ]
            ],
            "type": "heatmapgl"
           }
          ],
          "histogram": [
           {
            "marker": {
             "colorbar": {
              "outlinewidth": 0,
              "ticks": ""
             }
            },
            "type": "histogram"
           }
          ],
          "histogram2d": [
           {
            "colorbar": {
             "outlinewidth": 0,
             "ticks": ""
            },
            "colorscale": [
             [
              0,
              "#0d0887"
             ],
             [
              0.1111111111111111,
              "#46039f"
             ],
             [
              0.2222222222222222,
              "#7201a8"
             ],
             [
              0.3333333333333333,
              "#9c179e"
             ],
             [
              0.4444444444444444,
              "#bd3786"
             ],
             [
              0.5555555555555556,
              "#d8576b"
             ],
             [
              0.6666666666666666,
              "#ed7953"
             ],
             [
              0.7777777777777778,
              "#fb9f3a"
             ],
             [
              0.8888888888888888,
              "#fdca26"
             ],
             [
              1,
              "#f0f921"
             ]
            ],
            "type": "histogram2d"
           }
          ],
          "histogram2dcontour": [
           {
            "colorbar": {
             "outlinewidth": 0,
             "ticks": ""
            },
            "colorscale": [
             [
              0,
              "#0d0887"
             ],
             [
              0.1111111111111111,
              "#46039f"
             ],
             [
              0.2222222222222222,
              "#7201a8"
             ],
             [
              0.3333333333333333,
              "#9c179e"
             ],
             [
              0.4444444444444444,
              "#bd3786"
             ],
             [
              0.5555555555555556,
              "#d8576b"
             ],
             [
              0.6666666666666666,
              "#ed7953"
             ],
             [
              0.7777777777777778,
              "#fb9f3a"
             ],
             [
              0.8888888888888888,
              "#fdca26"
             ],
             [
              1,
              "#f0f921"
             ]
            ],
            "type": "histogram2dcontour"
           }
          ],
          "mesh3d": [
           {
            "colorbar": {
             "outlinewidth": 0,
             "ticks": ""
            },
            "type": "mesh3d"
           }
          ],
          "parcoords": [
           {
            "line": {
             "colorbar": {
              "outlinewidth": 0,
              "ticks": ""
             }
            },
            "type": "parcoords"
           }
          ],
          "pie": [
           {
            "automargin": true,
            "type": "pie"
           }
          ],
          "scatter": [
           {
            "marker": {
             "colorbar": {
              "outlinewidth": 0,
              "ticks": ""
             }
            },
            "type": "scatter"
           }
          ],
          "scatter3d": [
           {
            "line": {
             "colorbar": {
              "outlinewidth": 0,
              "ticks": ""
             }
            },
            "marker": {
             "colorbar": {
              "outlinewidth": 0,
              "ticks": ""
             }
            },
            "type": "scatter3d"
           }
          ],
          "scattercarpet": [
           {
            "marker": {
             "colorbar": {
              "outlinewidth": 0,
              "ticks": ""
             }
            },
            "type": "scattercarpet"
           }
          ],
          "scattergeo": [
           {
            "marker": {
             "colorbar": {
              "outlinewidth": 0,
              "ticks": ""
             }
            },
            "type": "scattergeo"
           }
          ],
          "scattergl": [
           {
            "marker": {
             "colorbar": {
              "outlinewidth": 0,
              "ticks": ""
             }
            },
            "type": "scattergl"
           }
          ],
          "scattermapbox": [
           {
            "marker": {
             "colorbar": {
              "outlinewidth": 0,
              "ticks": ""
             }
            },
            "type": "scattermapbox"
           }
          ],
          "scatterpolar": [
           {
            "marker": {
             "colorbar": {
              "outlinewidth": 0,
              "ticks": ""
             }
            },
            "type": "scatterpolar"
           }
          ],
          "scatterpolargl": [
           {
            "marker": {
             "colorbar": {
              "outlinewidth": 0,
              "ticks": ""
             }
            },
            "type": "scatterpolargl"
           }
          ],
          "scatterternary": [
           {
            "marker": {
             "colorbar": {
              "outlinewidth": 0,
              "ticks": ""
             }
            },
            "type": "scatterternary"
           }
          ],
          "surface": [
           {
            "colorbar": {
             "outlinewidth": 0,
             "ticks": ""
            },
            "colorscale": [
             [
              0,
              "#0d0887"
             ],
             [
              0.1111111111111111,
              "#46039f"
             ],
             [
              0.2222222222222222,
              "#7201a8"
             ],
             [
              0.3333333333333333,
              "#9c179e"
             ],
             [
              0.4444444444444444,
              "#bd3786"
             ],
             [
              0.5555555555555556,
              "#d8576b"
             ],
             [
              0.6666666666666666,
              "#ed7953"
             ],
             [
              0.7777777777777778,
              "#fb9f3a"
             ],
             [
              0.8888888888888888,
              "#fdca26"
             ],
             [
              1,
              "#f0f921"
             ]
            ],
            "type": "surface"
           }
          ],
          "table": [
           {
            "cells": {
             "fill": {
              "color": "#EBF0F8"
             },
             "line": {
              "color": "white"
             }
            },
            "header": {
             "fill": {
              "color": "#C8D4E3"
             },
             "line": {
              "color": "white"
             }
            },
            "type": "table"
           }
          ]
         },
         "layout": {
          "annotationdefaults": {
           "arrowcolor": "#2a3f5f",
           "arrowhead": 0,
           "arrowwidth": 1
          },
          "autotypenumbers": "strict",
          "coloraxis": {
           "colorbar": {
            "outlinewidth": 0,
            "ticks": ""
           }
          },
          "colorscale": {
           "diverging": [
            [
             0,
             "#8e0152"
            ],
            [
             0.1,
             "#c51b7d"
            ],
            [
             0.2,
             "#de77ae"
            ],
            [
             0.3,
             "#f1b6da"
            ],
            [
             0.4,
             "#fde0ef"
            ],
            [
             0.5,
             "#f7f7f7"
            ],
            [
             0.6,
             "#e6f5d0"
            ],
            [
             0.7,
             "#b8e186"
            ],
            [
             0.8,
             "#7fbc41"
            ],
            [
             0.9,
             "#4d9221"
            ],
            [
             1,
             "#276419"
            ]
           ],
           "sequential": [
            [
             0,
             "#0d0887"
            ],
            [
             0.1111111111111111,
             "#46039f"
            ],
            [
             0.2222222222222222,
             "#7201a8"
            ],
            [
             0.3333333333333333,
             "#9c179e"
            ],
            [
             0.4444444444444444,
             "#bd3786"
            ],
            [
             0.5555555555555556,
             "#d8576b"
            ],
            [
             0.6666666666666666,
             "#ed7953"
            ],
            [
             0.7777777777777778,
             "#fb9f3a"
            ],
            [
             0.8888888888888888,
             "#fdca26"
            ],
            [
             1,
             "#f0f921"
            ]
           ],
           "sequentialminus": [
            [
             0,
             "#0d0887"
            ],
            [
             0.1111111111111111,
             "#46039f"
            ],
            [
             0.2222222222222222,
             "#7201a8"
            ],
            [
             0.3333333333333333,
             "#9c179e"
            ],
            [
             0.4444444444444444,
             "#bd3786"
            ],
            [
             0.5555555555555556,
             "#d8576b"
            ],
            [
             0.6666666666666666,
             "#ed7953"
            ],
            [
             0.7777777777777778,
             "#fb9f3a"
            ],
            [
             0.8888888888888888,
             "#fdca26"
            ],
            [
             1,
             "#f0f921"
            ]
           ]
          },
          "colorway": [
           "#636efa",
           "#EF553B",
           "#00cc96",
           "#ab63fa",
           "#FFA15A",
           "#19d3f3",
           "#FF6692",
           "#B6E880",
           "#FF97FF",
           "#FECB52"
          ],
          "font": {
           "color": "#2a3f5f"
          },
          "geo": {
           "bgcolor": "white",
           "lakecolor": "white",
           "landcolor": "#E5ECF6",
           "showlakes": true,
           "showland": true,
           "subunitcolor": "white"
          },
          "hoverlabel": {
           "align": "left"
          },
          "hovermode": "closest",
          "mapbox": {
           "style": "light"
          },
          "paper_bgcolor": "white",
          "plot_bgcolor": "#E5ECF6",
          "polar": {
           "angularaxis": {
            "gridcolor": "white",
            "linecolor": "white",
            "ticks": ""
           },
           "bgcolor": "#E5ECF6",
           "radialaxis": {
            "gridcolor": "white",
            "linecolor": "white",
            "ticks": ""
           }
          },
          "scene": {
           "xaxis": {
            "backgroundcolor": "#E5ECF6",
            "gridcolor": "white",
            "gridwidth": 2,
            "linecolor": "white",
            "showbackground": true,
            "ticks": "",
            "zerolinecolor": "white"
           },
           "yaxis": {
            "backgroundcolor": "#E5ECF6",
            "gridcolor": "white",
            "gridwidth": 2,
            "linecolor": "white",
            "showbackground": true,
            "ticks": "",
            "zerolinecolor": "white"
           },
           "zaxis": {
            "backgroundcolor": "#E5ECF6",
            "gridcolor": "white",
            "gridwidth": 2,
            "linecolor": "white",
            "showbackground": true,
            "ticks": "",
            "zerolinecolor": "white"
           }
          },
          "shapedefaults": {
           "line": {
            "color": "#2a3f5f"
           }
          },
          "ternary": {
           "aaxis": {
            "gridcolor": "white",
            "linecolor": "white",
            "ticks": ""
           },
           "baxis": {
            "gridcolor": "white",
            "linecolor": "white",
            "ticks": ""
           },
           "bgcolor": "#E5ECF6",
           "caxis": {
            "gridcolor": "white",
            "linecolor": "white",
            "ticks": ""
           }
          },
          "title": {
           "x": 0.05
          },
          "xaxis": {
           "automargin": true,
           "gridcolor": "white",
           "linecolor": "white",
           "ticks": "",
           "title": {
            "standoff": 15
           },
           "zerolinecolor": "white",
           "zerolinewidth": 2
          },
          "yaxis": {
           "automargin": true,
           "gridcolor": "white",
           "linecolor": "white",
           "ticks": "",
           "title": {
            "standoff": 15
           },
           "zerolinecolor": "white",
           "zerolinewidth": 2
          }
         }
        },
        "title": {
         "text": "Recall de las Bajas de cada modelo"
        },
        "xaxis": {
         "domain": [
          0,
          0.3
         ],
         "dtick": 1,
         "gridwidth": 2,
         "showticklabels": false,
         "tick0": -0.5,
         "ticks": "",
         "zeroline": false
        },
        "xaxis2": {
         "domain": [
          0.4,
          1
         ]
        },
        "yaxis": {
         "autorange": "reversed",
         "dtick": 1,
         "gridwidth": 2,
         "showticklabels": false,
         "tick0": 0.5,
         "ticks": "",
         "zeroline": false
        },
        "yaxis2": {
         "anchor": "x2",
         "title": {
          "text": "Recall"
         }
        }
       }
      },
      "text/html": [
       "<div>                            <div id=\"1222457d-cc9f-4c32-ab03-069ee534adbb\" class=\"plotly-graph-div\" style=\"height:470px; width:100%;\"></div>            <script type=\"text/javascript\">                require([\"plotly\"], function(Plotly) {                    window.PLOTLYENV=window.PLOTLYENV || {};                                    if (document.getElementById(\"1222457d-cc9f-4c32-ab03-069ee534adbb\")) {                    Plotly.newPlot(                        \"1222457d-cc9f-4c32-ab03-069ee534adbb\",                        [{\"colorscale\": [[0, \"#00083e\"], [0.5, \"#ededee\"], [1, \"#ffffff\"]], \"hoverinfo\": \"none\", \"opacity\": 0.75, \"showscale\": false, \"type\": \"heatmap\", \"z\": [[0, 0], [0.5, 0.5], [1, 1], [0.5, 0.5], [1, 1], [0.5, 0.5], [1, 1]]}, {\"marker\": {\"color\": \"#2256b5\"}, \"name\": \"Recall\", \"type\": \"bar\", \"x\": [\"Logistic Regression\", \"Decission Tree\", \"RFC_1\", \"RFC_2\", \"XGBoost\", \"Voting Class.\"], \"xaxis\": \"x2\", \"y\": [0.7029, 0.7288, 0.6102, 0.6435, 0.4381, 0.7134], \"yaxis\": \"y2\"}],                        {\"annotations\": [{\"align\": \"left\", \"font\": {\"color\": \"#ffffff\"}, \"showarrow\": false, \"text\": \"<b>Model</b>\", \"x\": -0.45, \"xanchor\": \"left\", \"xref\": \"x\", \"y\": 0, \"yref\": \"y\"}, {\"align\": \"left\", \"font\": {\"color\": \"#ffffff\"}, \"showarrow\": false, \"text\": \"<b>Recall 1</b>\", \"x\": 0.55, \"xanchor\": \"left\", \"xref\": \"x\", \"y\": 0, \"yref\": \"y\"}, {\"align\": \"left\", \"font\": {\"color\": \"#000000\"}, \"showarrow\": false, \"text\": \"Logistic Regression\", \"x\": -0.45, \"xanchor\": \"left\", \"xref\": \"x\", \"y\": 1, \"yref\": \"y\"}, {\"align\": \"left\", \"font\": {\"color\": \"#000000\"}, \"showarrow\": false, \"text\": \"0.7029\", \"x\": 0.55, \"xanchor\": \"left\", \"xref\": \"x\", \"y\": 1, \"yref\": \"y\"}, {\"align\": \"left\", \"font\": {\"color\": \"#000000\"}, \"showarrow\": false, \"text\": \"Decission Tree\", \"x\": -0.45, \"xanchor\": \"left\", \"xref\": \"x\", \"y\": 2, \"yref\": \"y\"}, {\"align\": \"left\", \"font\": {\"color\": \"#000000\"}, \"showarrow\": false, \"text\": \"0.7288\", \"x\": 0.55, \"xanchor\": \"left\", \"xref\": \"x\", \"y\": 2, \"yref\": \"y\"}, {\"align\": \"left\", \"font\": {\"color\": \"#000000\"}, \"showarrow\": false, \"text\": \"RFC_1\", \"x\": -0.45, \"xanchor\": \"left\", \"xref\": \"x\", \"y\": 3, \"yref\": \"y\"}, {\"align\": \"left\", \"font\": {\"color\": \"#000000\"}, \"showarrow\": false, \"text\": \"0.6102\", \"x\": 0.55, \"xanchor\": \"left\", \"xref\": \"x\", \"y\": 3, \"yref\": \"y\"}, {\"align\": \"left\", \"font\": {\"color\": \"#000000\"}, \"showarrow\": false, \"text\": \"RFC_2\", \"x\": -0.45, \"xanchor\": \"left\", \"xref\": \"x\", \"y\": 4, \"yref\": \"y\"}, {\"align\": \"left\", \"font\": {\"color\": \"#000000\"}, \"showarrow\": false, \"text\": \"0.6435\", \"x\": 0.55, \"xanchor\": \"left\", \"xref\": \"x\", \"y\": 4, \"yref\": \"y\"}, {\"align\": \"left\", \"font\": {\"color\": \"#000000\"}, \"showarrow\": false, \"text\": \"XGBoost\", \"x\": -0.45, \"xanchor\": \"left\", \"xref\": \"x\", \"y\": 5, \"yref\": \"y\"}, {\"align\": \"left\", \"font\": {\"color\": \"#000000\"}, \"showarrow\": false, \"text\": \"0.4381\", \"x\": 0.55, \"xanchor\": \"left\", \"xref\": \"x\", \"y\": 5, \"yref\": \"y\"}, {\"align\": \"left\", \"font\": {\"color\": \"#000000\"}, \"showarrow\": false, \"text\": \"Voting Class.\", \"x\": -0.45, \"xanchor\": \"left\", \"xref\": \"x\", \"y\": 6, \"yref\": \"y\"}, {\"align\": \"left\", \"font\": {\"color\": \"#000000\"}, \"showarrow\": false, \"text\": \"0.7134\", \"x\": 0.55, \"xanchor\": \"left\", \"xref\": \"x\", \"y\": 6, \"yref\": \"y\"}], \"height\": 470, \"margin\": {\"b\": 100, \"l\": 0, \"r\": 0, \"t\": 50}, \"template\": {\"data\": {\"bar\": [{\"error_x\": {\"color\": \"#2a3f5f\"}, \"error_y\": {\"color\": \"#2a3f5f\"}, \"marker\": {\"line\": {\"color\": \"#E5ECF6\", \"width\": 0.5}}, \"type\": \"bar\"}], \"barpolar\": [{\"marker\": {\"line\": {\"color\": \"#E5ECF6\", \"width\": 0.5}}, \"type\": \"barpolar\"}], \"carpet\": [{\"aaxis\": {\"endlinecolor\": \"#2a3f5f\", \"gridcolor\": \"white\", \"linecolor\": \"white\", \"minorgridcolor\": \"white\", \"startlinecolor\": \"#2a3f5f\"}, \"baxis\": {\"endlinecolor\": \"#2a3f5f\", \"gridcolor\": \"white\", \"linecolor\": \"white\", \"minorgridcolor\": \"white\", \"startlinecolor\": \"#2a3f5f\"}, \"type\": \"carpet\"}], \"choropleth\": [{\"colorbar\": {\"outlinewidth\": 0, \"ticks\": \"\"}, \"type\": \"choropleth\"}], \"contour\": [{\"colorbar\": {\"outlinewidth\": 0, \"ticks\": \"\"}, \"colorscale\": [[0.0, \"#0d0887\"], [0.1111111111111111, \"#46039f\"], [0.2222222222222222, \"#7201a8\"], [0.3333333333333333, \"#9c179e\"], [0.4444444444444444, \"#bd3786\"], [0.5555555555555556, \"#d8576b\"], [0.6666666666666666, \"#ed7953\"], [0.7777777777777778, \"#fb9f3a\"], [0.8888888888888888, \"#fdca26\"], [1.0, \"#f0f921\"]], \"type\": \"contour\"}], \"contourcarpet\": [{\"colorbar\": {\"outlinewidth\": 0, \"ticks\": \"\"}, \"type\": \"contourcarpet\"}], \"heatmap\": [{\"colorbar\": {\"outlinewidth\": 0, \"ticks\": \"\"}, \"colorscale\": [[0.0, \"#0d0887\"], [0.1111111111111111, \"#46039f\"], [0.2222222222222222, \"#7201a8\"], [0.3333333333333333, \"#9c179e\"], [0.4444444444444444, \"#bd3786\"], [0.5555555555555556, \"#d8576b\"], [0.6666666666666666, \"#ed7953\"], [0.7777777777777778, \"#fb9f3a\"], [0.8888888888888888, \"#fdca26\"], [1.0, \"#f0f921\"]], \"type\": \"heatmap\"}], \"heatmapgl\": [{\"colorbar\": {\"outlinewidth\": 0, \"ticks\": \"\"}, \"colorscale\": [[0.0, \"#0d0887\"], [0.1111111111111111, \"#46039f\"], [0.2222222222222222, \"#7201a8\"], [0.3333333333333333, \"#9c179e\"], [0.4444444444444444, \"#bd3786\"], [0.5555555555555556, \"#d8576b\"], [0.6666666666666666, \"#ed7953\"], [0.7777777777777778, \"#fb9f3a\"], [0.8888888888888888, \"#fdca26\"], [1.0, \"#f0f921\"]], \"type\": \"heatmapgl\"}], \"histogram\": [{\"marker\": {\"colorbar\": {\"outlinewidth\": 0, \"ticks\": \"\"}}, \"type\": \"histogram\"}], \"histogram2d\": [{\"colorbar\": {\"outlinewidth\": 0, \"ticks\": \"\"}, \"colorscale\": [[0.0, \"#0d0887\"], [0.1111111111111111, \"#46039f\"], [0.2222222222222222, \"#7201a8\"], [0.3333333333333333, \"#9c179e\"], [0.4444444444444444, \"#bd3786\"], [0.5555555555555556, \"#d8576b\"], [0.6666666666666666, \"#ed7953\"], [0.7777777777777778, \"#fb9f3a\"], [0.8888888888888888, \"#fdca26\"], [1.0, \"#f0f921\"]], \"type\": \"histogram2d\"}], \"histogram2dcontour\": [{\"colorbar\": {\"outlinewidth\": 0, \"ticks\": \"\"}, \"colorscale\": [[0.0, \"#0d0887\"], [0.1111111111111111, \"#46039f\"], [0.2222222222222222, \"#7201a8\"], [0.3333333333333333, \"#9c179e\"], [0.4444444444444444, \"#bd3786\"], [0.5555555555555556, \"#d8576b\"], [0.6666666666666666, \"#ed7953\"], [0.7777777777777778, \"#fb9f3a\"], [0.8888888888888888, \"#fdca26\"], [1.0, \"#f0f921\"]], \"type\": \"histogram2dcontour\"}], \"mesh3d\": [{\"colorbar\": {\"outlinewidth\": 0, \"ticks\": \"\"}, \"type\": \"mesh3d\"}], \"parcoords\": [{\"line\": {\"colorbar\": {\"outlinewidth\": 0, \"ticks\": \"\"}}, \"type\": \"parcoords\"}], \"pie\": [{\"automargin\": true, \"type\": \"pie\"}], \"scatter\": [{\"marker\": {\"colorbar\": {\"outlinewidth\": 0, \"ticks\": \"\"}}, \"type\": \"scatter\"}], \"scatter3d\": [{\"line\": {\"colorbar\": {\"outlinewidth\": 0, \"ticks\": \"\"}}, \"marker\": {\"colorbar\": {\"outlinewidth\": 0, \"ticks\": \"\"}}, \"type\": \"scatter3d\"}], \"scattercarpet\": [{\"marker\": {\"colorbar\": {\"outlinewidth\": 0, \"ticks\": \"\"}}, \"type\": \"scattercarpet\"}], \"scattergeo\": [{\"marker\": {\"colorbar\": {\"outlinewidth\": 0, \"ticks\": \"\"}}, \"type\": \"scattergeo\"}], \"scattergl\": [{\"marker\": {\"colorbar\": {\"outlinewidth\": 0, \"ticks\": \"\"}}, \"type\": \"scattergl\"}], \"scattermapbox\": [{\"marker\": {\"colorbar\": {\"outlinewidth\": 0, \"ticks\": \"\"}}, \"type\": \"scattermapbox\"}], \"scatterpolar\": [{\"marker\": {\"colorbar\": {\"outlinewidth\": 0, \"ticks\": \"\"}}, \"type\": \"scatterpolar\"}], \"scatterpolargl\": [{\"marker\": {\"colorbar\": {\"outlinewidth\": 0, \"ticks\": \"\"}}, \"type\": \"scatterpolargl\"}], \"scatterternary\": [{\"marker\": {\"colorbar\": {\"outlinewidth\": 0, \"ticks\": \"\"}}, \"type\": \"scatterternary\"}], \"surface\": [{\"colorbar\": {\"outlinewidth\": 0, \"ticks\": \"\"}, \"colorscale\": [[0.0, \"#0d0887\"], [0.1111111111111111, \"#46039f\"], [0.2222222222222222, \"#7201a8\"], [0.3333333333333333, \"#9c179e\"], [0.4444444444444444, \"#bd3786\"], [0.5555555555555556, \"#d8576b\"], [0.6666666666666666, \"#ed7953\"], [0.7777777777777778, \"#fb9f3a\"], [0.8888888888888888, \"#fdca26\"], [1.0, \"#f0f921\"]], \"type\": \"surface\"}], \"table\": [{\"cells\": {\"fill\": {\"color\": \"#EBF0F8\"}, \"line\": {\"color\": \"white\"}}, \"header\": {\"fill\": {\"color\": \"#C8D4E3\"}, \"line\": {\"color\": \"white\"}}, \"type\": \"table\"}]}, \"layout\": {\"annotationdefaults\": {\"arrowcolor\": \"#2a3f5f\", \"arrowhead\": 0, \"arrowwidth\": 1}, \"autotypenumbers\": \"strict\", \"coloraxis\": {\"colorbar\": {\"outlinewidth\": 0, \"ticks\": \"\"}}, \"colorscale\": {\"diverging\": [[0, \"#8e0152\"], [0.1, \"#c51b7d\"], [0.2, \"#de77ae\"], [0.3, \"#f1b6da\"], [0.4, \"#fde0ef\"], [0.5, \"#f7f7f7\"], [0.6, \"#e6f5d0\"], [0.7, \"#b8e186\"], [0.8, \"#7fbc41\"], [0.9, \"#4d9221\"], [1, \"#276419\"]], \"sequential\": [[0.0, \"#0d0887\"], [0.1111111111111111, \"#46039f\"], [0.2222222222222222, \"#7201a8\"], [0.3333333333333333, \"#9c179e\"], [0.4444444444444444, \"#bd3786\"], [0.5555555555555556, \"#d8576b\"], [0.6666666666666666, \"#ed7953\"], [0.7777777777777778, \"#fb9f3a\"], [0.8888888888888888, \"#fdca26\"], [1.0, \"#f0f921\"]], \"sequentialminus\": [[0.0, \"#0d0887\"], [0.1111111111111111, \"#46039f\"], [0.2222222222222222, \"#7201a8\"], [0.3333333333333333, \"#9c179e\"], [0.4444444444444444, \"#bd3786\"], [0.5555555555555556, \"#d8576b\"], [0.6666666666666666, \"#ed7953\"], [0.7777777777777778, \"#fb9f3a\"], [0.8888888888888888, \"#fdca26\"], [1.0, \"#f0f921\"]]}, \"colorway\": [\"#636efa\", \"#EF553B\", \"#00cc96\", \"#ab63fa\", \"#FFA15A\", \"#19d3f3\", \"#FF6692\", \"#B6E880\", \"#FF97FF\", \"#FECB52\"], \"font\": {\"color\": \"#2a3f5f\"}, \"geo\": {\"bgcolor\": \"white\", \"lakecolor\": \"white\", \"landcolor\": \"#E5ECF6\", \"showlakes\": true, \"showland\": true, \"subunitcolor\": \"white\"}, \"hoverlabel\": {\"align\": \"left\"}, \"hovermode\": \"closest\", \"mapbox\": {\"style\": \"light\"}, \"paper_bgcolor\": \"white\", \"plot_bgcolor\": \"#E5ECF6\", \"polar\": {\"angularaxis\": {\"gridcolor\": \"white\", \"linecolor\": \"white\", \"ticks\": \"\"}, \"bgcolor\": \"#E5ECF6\", \"radialaxis\": {\"gridcolor\": \"white\", \"linecolor\": \"white\", \"ticks\": \"\"}}, \"scene\": {\"xaxis\": {\"backgroundcolor\": \"#E5ECF6\", \"gridcolor\": \"white\", \"gridwidth\": 2, \"linecolor\": \"white\", \"showbackground\": true, \"ticks\": \"\", \"zerolinecolor\": \"white\"}, \"yaxis\": {\"backgroundcolor\": \"#E5ECF6\", \"gridcolor\": \"white\", \"gridwidth\": 2, \"linecolor\": \"white\", \"showbackground\": true, \"ticks\": \"\", \"zerolinecolor\": \"white\"}, \"zaxis\": {\"backgroundcolor\": \"#E5ECF6\", \"gridcolor\": \"white\", \"gridwidth\": 2, \"linecolor\": \"white\", \"showbackground\": true, \"ticks\": \"\", \"zerolinecolor\": \"white\"}}, \"shapedefaults\": {\"line\": {\"color\": \"#2a3f5f\"}}, \"ternary\": {\"aaxis\": {\"gridcolor\": \"white\", \"linecolor\": \"white\", \"ticks\": \"\"}, \"baxis\": {\"gridcolor\": \"white\", \"linecolor\": \"white\", \"ticks\": \"\"}, \"bgcolor\": \"#E5ECF6\", \"caxis\": {\"gridcolor\": \"white\", \"linecolor\": \"white\", \"ticks\": \"\"}}, \"title\": {\"x\": 0.05}, \"xaxis\": {\"automargin\": true, \"gridcolor\": \"white\", \"linecolor\": \"white\", \"ticks\": \"\", \"title\": {\"standoff\": 15}, \"zerolinecolor\": \"white\", \"zerolinewidth\": 2}, \"yaxis\": {\"automargin\": true, \"gridcolor\": \"white\", \"linecolor\": \"white\", \"ticks\": \"\", \"title\": {\"standoff\": 15}, \"zerolinecolor\": \"white\", \"zerolinewidth\": 2}}}, \"title\": {\"text\": \"Recall de las Bajas de cada modelo\"}, \"xaxis\": {\"domain\": [0, 0.3], \"dtick\": 1, \"gridwidth\": 2, \"showticklabels\": false, \"tick0\": -0.5, \"ticks\": \"\", \"zeroline\": false}, \"xaxis2\": {\"domain\": [0.4, 1.0]}, \"yaxis\": {\"autorange\": \"reversed\", \"dtick\": 1, \"gridwidth\": 2, \"showticklabels\": false, \"tick0\": 0.5, \"ticks\": \"\", \"zeroline\": false}, \"yaxis2\": {\"anchor\": \"x2\", \"title\": {\"text\": \"Recall\"}}},                        {\"responsive\": true}                    ).then(function(){\n",
       "                            \n",
       "var gd = document.getElementById('1222457d-cc9f-4c32-ab03-069ee534adbb');\n",
       "var x = new MutationObserver(function (mutations, observer) {{\n",
       "        var display = window.getComputedStyle(gd).display;\n",
       "        if (!display || display === 'none') {{\n",
       "            console.log([gd, 'removed!']);\n",
       "            Plotly.purge(gd);\n",
       "            observer.disconnect();\n",
       "        }}\n",
       "}});\n",
       "\n",
       "// Listen for the removal of the full notebook cells\n",
       "var notebookContainer = gd.closest('#notebook-container');\n",
       "if (notebookContainer) {{\n",
       "    x.observe(notebookContainer, {childList: true});\n",
       "}}\n",
       "\n",
       "// Listen for the clearing of the current output cell\n",
       "var outputEl = gd.closest('.output');\n",
       "if (outputEl) {{\n",
       "    x.observe(outputEl, {childList: true});\n",
       "}}\n",
       "\n",
       "                        })                };                });            </script>        </div>"
      ]
     },
     "metadata": {},
     "output_type": "display_data"
    }
   ],
   "source": [
    "import plotly.graph_objs as go\n",
    "import plotly.figure_factory as ff\n",
    "\n",
    "# Add table data\n",
    "table_data = [['Model', 'Recall 1'],\n",
    "              ['Logistic Regression', recall_lr],\n",
    "              ['Decission Tree', recall_dt],\n",
    "              ['RFC_1', recall_rfc],\n",
    "              ['RFC_2', recall_rfc2],\n",
    "              ['XGBoost', recall_xgb],\n",
    "              ['Voting Class.', recall_voting]]\n",
    "\n",
    "fig = ff.create_table(table_data, height_constant=60)\n",
    "\n",
    "models = ['Logistic Regression', 'Decission Tree', 'RFC_1', 'RFC_2', 'XGBoost', 'Voting Class.']\n",
    "recalls = [recall_lr, recall_dt, recall_rfc, recall_rfc2, recall_xgb, recall_voting]\n",
    "              \n",
    "# Make traces for graph\n",
    "fig.add_trace(go.Bar(x=models, y=recalls,\n",
    "                    marker=dict(color='#2256b5'),\n",
    "                    name='Recall',\n",
    "                    xaxis='x2', yaxis='y2'))\n",
    "\n",
    "fig.update_layout(\n",
    "    title_text = 'Recall de las Bajas de cada modelo',\n",
    "    margin = {'t':50, 'b':100},\n",
    "    xaxis = {'domain': [0, .3]},\n",
    "    xaxis2 = {'domain': [0.4, 1.]},\n",
    "    yaxis2 = {'anchor': 'x2', 'title': 'Recall'}\n",
    ")\n",
    "\n",
    "fig.show()"
   ]
  },
  {
   "cell_type": "code",
   "execution_count": null,
   "metadata": {},
   "outputs": [],
   "source": []
  }
 ],
 "metadata": {
  "kernelspec": {
   "display_name": "Python 3",
   "language": "python",
   "name": "python3"
  },
  "language_info": {
   "codemirror_mode": {
    "name": "ipython",
    "version": 3
   },
   "file_extension": ".py",
   "mimetype": "text/x-python",
   "name": "python",
   "nbconvert_exporter": "python",
   "pygments_lexer": "ipython3",
   "version": "3.8.3"
  }
 },
 "nbformat": 4,
 "nbformat_minor": 4
}
