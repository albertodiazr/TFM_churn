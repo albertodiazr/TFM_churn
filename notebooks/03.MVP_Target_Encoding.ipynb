{
 "cells": [
  {
   "cell_type": "markdown",
   "metadata": {},
   "source": [
    "# MVP Comunidad Valenciana with Target Encoding"
   ]
  },
  {
   "cell_type": "markdown",
   "metadata": {},
   "source": [
    "<img src=\"../images/03.jpg\" width=\"600\"/>"
   ]
  },
  {
   "cell_type": "code",
   "execution_count": 24,
   "metadata": {},
   "outputs": [],
   "source": [
    "import pandas as pd\n",
    "import numpy as np\n",
    "import matplotlib.pyplot as plt\n",
    "import seaborn as sns\n",
    "import itertools\n",
    "import datetime as dt\n",
    "from tools import dataoveriew, plot_roc_curve, plot_confusion_matrix\n",
    "from datetime import datetime\n",
    "from sklearn.model_selection import cross_val_score, StratifiedKFold\n",
    "from sklearn.metrics import confusion_matrix, classification_report, precision_recall_curve, plot_precision_recall_curve\n",
    "from sklearn.metrics import accuracy_score, f1_score, roc_auc_score, roc_curve, average_precision_score\n",
    "from sklearn.model_selection import train_test_split\n",
    "from sklearn.model_selection import GridSearchCV\n",
    "import pickle\n",
    "\n",
    "# Using Activo and Baja for 0 and 1    \n",
    "class_names = ['Activo','Baja']\n",
    "\n",
    "pd.options.display.max_columns = None\n",
    "\n",
    "%matplotlib inline"
   ]
  },
  {
   "cell_type": "code",
   "execution_count": 25,
   "metadata": {},
   "outputs": [
    {
     "data": {
      "text/html": [
       "<div>\n",
       "<style scoped>\n",
       "    .dataframe tbody tr th:only-of-type {\n",
       "        vertical-align: middle;\n",
       "    }\n",
       "\n",
       "    .dataframe tbody tr th {\n",
       "        vertical-align: top;\n",
       "    }\n",
       "\n",
       "    .dataframe thead th {\n",
       "        text-align: right;\n",
       "    }\n",
       "</style>\n",
       "<table border=\"1\" class=\"dataframe\">\n",
       "  <thead>\n",
       "    <tr style=\"text-align: right;\">\n",
       "      <th></th>\n",
       "      <th>Start Date</th>\n",
       "      <th>Cliente</th>\n",
       "      <th>Client Type</th>\n",
       "      <th>Modelo</th>\n",
       "      <th>Provincia</th>\n",
       "      <th>Gender</th>\n",
       "      <th>Nationality</th>\n",
       "      <th>Born Date</th>\n",
       "      <th>Housing Type</th>\n",
       "      <th>Labor Situation</th>\n",
       "      <th>Marital Status</th>\n",
       "      <th>Income Amount</th>\n",
       "      <th>Number Pay</th>\n",
       "      <th>Status Date</th>\n",
       "      <th>Status</th>\n",
       "      <th>Property Type</th>\n",
       "      <th>Financiado</th>\n",
       "      <th>Rango Precio</th>\n",
       "      <th>Resumen Precio</th>\n",
       "      <th>Precio Contado</th>\n",
       "      <th>Precio Total</th>\n",
       "      <th>Precio Mensualidad</th>\n",
       "      <th>Quejas</th>\n",
       "      <th>Incidencias</th>\n",
       "    </tr>\n",
       "  </thead>\n",
       "  <tbody>\n",
       "    <tr>\n",
       "      <th>0</th>\n",
       "      <td>2015-01-02</td>\n",
       "      <td>17</td>\n",
       "      <td>Normal</td>\n",
       "      <td>V1</td>\n",
       "      <td>Alicante</td>\n",
       "      <td>HOMBRE</td>\n",
       "      <td>ES - ESPAÑOLA</td>\n",
       "      <td>1973-05-19</td>\n",
       "      <td>1 - PROPIEDAD SIN HIPOTECA</td>\n",
       "      <td>04 AUTONOMO</td>\n",
       "      <td>2 - CASADO</td>\n",
       "      <td>2500</td>\n",
       "      <td>14</td>\n",
       "      <td>2017-09-15</td>\n",
       "      <td>1</td>\n",
       "      <td>Chalet, villa</td>\n",
       "      <td>Financiado</td>\n",
       "      <td>A 0</td>\n",
       "      <td>0+(36*10)</td>\n",
       "      <td>0</td>\n",
       "      <td>360</td>\n",
       "      <td>10</td>\n",
       "      <td>1</td>\n",
       "      <td>0</td>\n",
       "    </tr>\n",
       "    <tr>\n",
       "      <th>1</th>\n",
       "      <td>2015-01-03</td>\n",
       "      <td>58</td>\n",
       "      <td>Normal</td>\n",
       "      <td>V1</td>\n",
       "      <td>Alicante</td>\n",
       "      <td>HOMBRE</td>\n",
       "      <td>ES - ESPAÑOLA</td>\n",
       "      <td>1976-05-08</td>\n",
       "      <td>1 - PROPIEDAD SIN HIPOTECA</td>\n",
       "      <td>06 PARADO</td>\n",
       "      <td>1 - SOLTERO</td>\n",
       "      <td>1200</td>\n",
       "      <td>14</td>\n",
       "      <td>2017-12-31</td>\n",
       "      <td>1</td>\n",
       "      <td>Apartamento</td>\n",
       "      <td>Financiado</td>\n",
       "      <td>A 0</td>\n",
       "      <td>0+(36*10)</td>\n",
       "      <td>0</td>\n",
       "      <td>360</td>\n",
       "      <td>10</td>\n",
       "      <td>0</td>\n",
       "      <td>0</td>\n",
       "    </tr>\n",
       "    <tr>\n",
       "      <th>2</th>\n",
       "      <td>2015-01-05</td>\n",
       "      <td>91</td>\n",
       "      <td>Normal</td>\n",
       "      <td>V1</td>\n",
       "      <td>Valencia</td>\n",
       "      <td>HOMBRE</td>\n",
       "      <td>ES - ESPAÑOLA</td>\n",
       "      <td>1982-03-15</td>\n",
       "      <td>1 - PROPIEDAD SIN HIPOTECA</td>\n",
       "      <td>02 ASALARIADO TEMPORAL</td>\n",
       "      <td>1 - SOLTERO</td>\n",
       "      <td>800</td>\n",
       "      <td>14</td>\n",
       "      <td>2018-02-28</td>\n",
       "      <td>1</td>\n",
       "      <td>Chalet, villa</td>\n",
       "      <td>Financiado</td>\n",
       "      <td>Entre 000-050</td>\n",
       "      <td>49+(36*10)</td>\n",
       "      <td>49</td>\n",
       "      <td>409</td>\n",
       "      <td>10</td>\n",
       "      <td>1</td>\n",
       "      <td>0</td>\n",
       "    </tr>\n",
       "    <tr>\n",
       "      <th>3</th>\n",
       "      <td>2015-01-05</td>\n",
       "      <td>111</td>\n",
       "      <td>Normal</td>\n",
       "      <td>V1</td>\n",
       "      <td>Alicante</td>\n",
       "      <td>HOMBRE</td>\n",
       "      <td>ES - ESPAÑOLA</td>\n",
       "      <td>1976-02-02</td>\n",
       "      <td>1 - PROPIEDAD SIN HIPOTECA</td>\n",
       "      <td>04 AUTONOMO</td>\n",
       "      <td>2 - CASADO</td>\n",
       "      <td>1500</td>\n",
       "      <td>12</td>\n",
       "      <td>2015-01-07</td>\n",
       "      <td>0</td>\n",
       "      <td>Chalet, villa</td>\n",
       "      <td>Financiado</td>\n",
       "      <td>A 0</td>\n",
       "      <td>0+(36*10)</td>\n",
       "      <td>0</td>\n",
       "      <td>360</td>\n",
       "      <td>10</td>\n",
       "      <td>1</td>\n",
       "      <td>0</td>\n",
       "    </tr>\n",
       "    <tr>\n",
       "      <th>4</th>\n",
       "      <td>2015-01-05</td>\n",
       "      <td>118</td>\n",
       "      <td>Normal</td>\n",
       "      <td>V1</td>\n",
       "      <td>Alicante</td>\n",
       "      <td>MUJER</td>\n",
       "      <td>ES - ESPAÑOLA</td>\n",
       "      <td>1989-07-31</td>\n",
       "      <td>1 - PROPIEDAD SIN HIPOTECA</td>\n",
       "      <td>06 PARADO</td>\n",
       "      <td>1 - SOLTERO</td>\n",
       "      <td>1000</td>\n",
       "      <td>12</td>\n",
       "      <td>2018-03-15</td>\n",
       "      <td>1</td>\n",
       "      <td>Apartamento</td>\n",
       "      <td>Financiado</td>\n",
       "      <td>A 0</td>\n",
       "      <td>0+(36*10)</td>\n",
       "      <td>0</td>\n",
       "      <td>360</td>\n",
       "      <td>10</td>\n",
       "      <td>0</td>\n",
       "      <td>53</td>\n",
       "    </tr>\n",
       "  </tbody>\n",
       "</table>\n",
       "</div>"
      ],
      "text/plain": [
       "  Start Date Cliente  Client Type Modelo Provincia  Gender    Nationality  \\\n",
       "0 2015-01-02      17  Normal          V1  Alicante  HOMBRE  ES - ESPAÑOLA   \n",
       "1 2015-01-03      58  Normal          V1  Alicante  HOMBRE  ES - ESPAÑOLA   \n",
       "2 2015-01-05      91  Normal          V1  Valencia  HOMBRE  ES - ESPAÑOLA   \n",
       "3 2015-01-05     111  Normal          V1  Alicante  HOMBRE  ES - ESPAÑOLA   \n",
       "4 2015-01-05     118  Normal          V1  Alicante   MUJER  ES - ESPAÑOLA   \n",
       "\n",
       "   Born Date                Housing Type         Labor Situation  \\\n",
       "0 1973-05-19  1 - PROPIEDAD SIN HIPOTECA             04 AUTONOMO   \n",
       "1 1976-05-08  1 - PROPIEDAD SIN HIPOTECA               06 PARADO   \n",
       "2 1982-03-15  1 - PROPIEDAD SIN HIPOTECA  02 ASALARIADO TEMPORAL   \n",
       "3 1976-02-02  1 - PROPIEDAD SIN HIPOTECA             04 AUTONOMO   \n",
       "4 1989-07-31  1 - PROPIEDAD SIN HIPOTECA               06 PARADO   \n",
       "\n",
       "  Marital Status  Income Amount  Number Pay Status Date  Status  \\\n",
       "0     2 - CASADO           2500          14  2017-09-15       1   \n",
       "1    1 - SOLTERO           1200          14  2017-12-31       1   \n",
       "2    1 - SOLTERO            800          14  2018-02-28       1   \n",
       "3     2 - CASADO           1500          12  2015-01-07       0   \n",
       "4    1 - SOLTERO           1000          12  2018-03-15       1   \n",
       "\n",
       "   Property Type  Financiado   Rango Precio Resumen Precio  Precio Contado  \\\n",
       "0  Chalet, villa  Financiado            A 0      0+(36*10)               0   \n",
       "1    Apartamento  Financiado            A 0      0+(36*10)               0   \n",
       "2  Chalet, villa  Financiado  Entre 000-050     49+(36*10)              49   \n",
       "3  Chalet, villa  Financiado            A 0      0+(36*10)               0   \n",
       "4    Apartamento  Financiado            A 0      0+(36*10)               0   \n",
       "\n",
       "   Precio Total  Precio Mensualidad  Quejas  Incidencias  \n",
       "0           360                  10       1            0  \n",
       "1           360                  10       0            0  \n",
       "2           409                  10       1            0  \n",
       "3           360                  10       1            0  \n",
       "4           360                  10       0           53  "
      ]
     },
     "execution_count": 25,
     "metadata": {},
     "output_type": "execute_result"
    }
   ],
   "source": [
    "data = pd.read_excel('../data/portfolio_com_valencia.xlsx')\n",
    "data['Cliente'] = data['Cliente'].astype('str')\n",
    "data.head()"
   ]
  },
  {
   "cell_type": "code",
   "execution_count": 26,
   "metadata": {},
   "outputs": [
    {
     "data": {
      "text/plain": [
       "(55227, 24)"
      ]
     },
     "execution_count": 26,
     "metadata": {},
     "output_type": "execute_result"
    }
   ],
   "source": [
    "data.shape"
   ]
  },
  {
   "cell_type": "markdown",
   "metadata": {},
   "source": [
    "## Feature engineering\n",
    "\n",
    "- Edad en Años\n",
    "- Rango de Income Amount\n",
    "- Días Activo escalado\n",
    "- Escalado de 'Quejas' y 'MT"
   ]
  },
  {
   "cell_type": "markdown",
   "metadata": {},
   "source": [
    "Rangos de Edad:"
   ]
  },
  {
   "cell_type": "code",
   "execution_count": 27,
   "metadata": {},
   "outputs": [
    {
     "data": {
      "text/plain": [
       "Index(['Start Date', 'Cliente', 'Client Type', 'Modelo', 'Provincia', 'Gender',\n",
       "       'Nationality', 'Born Date', 'Housing Type', 'Labor Situation',\n",
       "       'Marital Status', 'Income Amount', 'Number Pay', 'Status Date',\n",
       "       'Status', 'Property Type', 'Financiado', 'Rango Precio',\n",
       "       'Resumen Precio', 'Precio Contado', 'Precio Total',\n",
       "       'Precio Mensualidad', 'Quejas', 'Incidencias'],\n",
       "      dtype='object')"
      ]
     },
     "execution_count": 27,
     "metadata": {},
     "output_type": "execute_result"
    }
   ],
   "source": [
    "data.columns"
   ]
  },
  {
   "cell_type": "code",
   "execution_count": 28,
   "metadata": {
    "scrolled": true
   },
   "outputs": [
    {
     "data": {
      "text/plain": [
       "226"
      ]
     },
     "execution_count": 28,
     "metadata": {},
     "output_type": "execute_result"
    }
   ],
   "source": [
    "data['Born Date'].isnull().sum()"
   ]
  },
  {
   "cell_type": "code",
   "execution_count": 29,
   "metadata": {},
   "outputs": [
    {
     "data": {
      "text/html": [
       "<div>\n",
       "<style scoped>\n",
       "    .dataframe tbody tr th:only-of-type {\n",
       "        vertical-align: middle;\n",
       "    }\n",
       "\n",
       "    .dataframe tbody tr th {\n",
       "        vertical-align: top;\n",
       "    }\n",
       "\n",
       "    .dataframe thead th {\n",
       "        text-align: right;\n",
       "    }\n",
       "</style>\n",
       "<table border=\"1\" class=\"dataframe\">\n",
       "  <thead>\n",
       "    <tr style=\"text-align: right;\">\n",
       "      <th></th>\n",
       "      <th>Start Date</th>\n",
       "      <th>Cliente</th>\n",
       "      <th>Client Type</th>\n",
       "      <th>Modelo</th>\n",
       "      <th>Provincia</th>\n",
       "      <th>Gender</th>\n",
       "      <th>Nationality</th>\n",
       "      <th>Born Date</th>\n",
       "      <th>Housing Type</th>\n",
       "      <th>Labor Situation</th>\n",
       "      <th>Marital Status</th>\n",
       "      <th>Income Amount</th>\n",
       "      <th>Number Pay</th>\n",
       "      <th>Status Date</th>\n",
       "      <th>Status</th>\n",
       "      <th>Property Type</th>\n",
       "      <th>Financiado</th>\n",
       "      <th>Rango Precio</th>\n",
       "      <th>Resumen Precio</th>\n",
       "      <th>Precio Contado</th>\n",
       "      <th>Precio Total</th>\n",
       "      <th>Precio Mensualidad</th>\n",
       "      <th>Quejas</th>\n",
       "      <th>Incidencias</th>\n",
       "    </tr>\n",
       "  </thead>\n",
       "  <tbody>\n",
       "    <tr>\n",
       "      <th>0</th>\n",
       "      <td>2015-01-02</td>\n",
       "      <td>17</td>\n",
       "      <td>Normal</td>\n",
       "      <td>V1</td>\n",
       "      <td>Alicante</td>\n",
       "      <td>HOMBRE</td>\n",
       "      <td>ES - ESPAÑOLA</td>\n",
       "      <td>1973-05-19</td>\n",
       "      <td>1 - PROPIEDAD SIN HIPOTECA</td>\n",
       "      <td>04 AUTONOMO</td>\n",
       "      <td>2 - CASADO</td>\n",
       "      <td>2500</td>\n",
       "      <td>14</td>\n",
       "      <td>2017-09-15</td>\n",
       "      <td>1</td>\n",
       "      <td>Chalet, villa</td>\n",
       "      <td>Financiado</td>\n",
       "      <td>A 0</td>\n",
       "      <td>0+(36*10)</td>\n",
       "      <td>0</td>\n",
       "      <td>360</td>\n",
       "      <td>10</td>\n",
       "      <td>1</td>\n",
       "      <td>0</td>\n",
       "    </tr>\n",
       "    <tr>\n",
       "      <th>1</th>\n",
       "      <td>2015-01-03</td>\n",
       "      <td>58</td>\n",
       "      <td>Normal</td>\n",
       "      <td>V1</td>\n",
       "      <td>Alicante</td>\n",
       "      <td>HOMBRE</td>\n",
       "      <td>ES - ESPAÑOLA</td>\n",
       "      <td>1976-05-08</td>\n",
       "      <td>1 - PROPIEDAD SIN HIPOTECA</td>\n",
       "      <td>06 PARADO</td>\n",
       "      <td>1 - SOLTERO</td>\n",
       "      <td>1200</td>\n",
       "      <td>14</td>\n",
       "      <td>2017-12-31</td>\n",
       "      <td>1</td>\n",
       "      <td>Apartamento</td>\n",
       "      <td>Financiado</td>\n",
       "      <td>A 0</td>\n",
       "      <td>0+(36*10)</td>\n",
       "      <td>0</td>\n",
       "      <td>360</td>\n",
       "      <td>10</td>\n",
       "      <td>0</td>\n",
       "      <td>0</td>\n",
       "    </tr>\n",
       "    <tr>\n",
       "      <th>2</th>\n",
       "      <td>2015-01-05</td>\n",
       "      <td>91</td>\n",
       "      <td>Normal</td>\n",
       "      <td>V1</td>\n",
       "      <td>Valencia</td>\n",
       "      <td>HOMBRE</td>\n",
       "      <td>ES - ESPAÑOLA</td>\n",
       "      <td>1982-03-15</td>\n",
       "      <td>1 - PROPIEDAD SIN HIPOTECA</td>\n",
       "      <td>02 ASALARIADO TEMPORAL</td>\n",
       "      <td>1 - SOLTERO</td>\n",
       "      <td>800</td>\n",
       "      <td>14</td>\n",
       "      <td>2018-02-28</td>\n",
       "      <td>1</td>\n",
       "      <td>Chalet, villa</td>\n",
       "      <td>Financiado</td>\n",
       "      <td>Entre 000-050</td>\n",
       "      <td>49+(36*10)</td>\n",
       "      <td>49</td>\n",
       "      <td>409</td>\n",
       "      <td>10</td>\n",
       "      <td>1</td>\n",
       "      <td>0</td>\n",
       "    </tr>\n",
       "    <tr>\n",
       "      <th>3</th>\n",
       "      <td>2015-01-05</td>\n",
       "      <td>111</td>\n",
       "      <td>Normal</td>\n",
       "      <td>V1</td>\n",
       "      <td>Alicante</td>\n",
       "      <td>HOMBRE</td>\n",
       "      <td>ES - ESPAÑOLA</td>\n",
       "      <td>1976-02-02</td>\n",
       "      <td>1 - PROPIEDAD SIN HIPOTECA</td>\n",
       "      <td>04 AUTONOMO</td>\n",
       "      <td>2 - CASADO</td>\n",
       "      <td>1500</td>\n",
       "      <td>12</td>\n",
       "      <td>2015-01-07</td>\n",
       "      <td>0</td>\n",
       "      <td>Chalet, villa</td>\n",
       "      <td>Financiado</td>\n",
       "      <td>A 0</td>\n",
       "      <td>0+(36*10)</td>\n",
       "      <td>0</td>\n",
       "      <td>360</td>\n",
       "      <td>10</td>\n",
       "      <td>1</td>\n",
       "      <td>0</td>\n",
       "    </tr>\n",
       "    <tr>\n",
       "      <th>4</th>\n",
       "      <td>2015-01-05</td>\n",
       "      <td>118</td>\n",
       "      <td>Normal</td>\n",
       "      <td>V1</td>\n",
       "      <td>Alicante</td>\n",
       "      <td>MUJER</td>\n",
       "      <td>ES - ESPAÑOLA</td>\n",
       "      <td>1989-07-31</td>\n",
       "      <td>1 - PROPIEDAD SIN HIPOTECA</td>\n",
       "      <td>06 PARADO</td>\n",
       "      <td>1 - SOLTERO</td>\n",
       "      <td>1000</td>\n",
       "      <td>12</td>\n",
       "      <td>2018-03-15</td>\n",
       "      <td>1</td>\n",
       "      <td>Apartamento</td>\n",
       "      <td>Financiado</td>\n",
       "      <td>A 0</td>\n",
       "      <td>0+(36*10)</td>\n",
       "      <td>0</td>\n",
       "      <td>360</td>\n",
       "      <td>10</td>\n",
       "      <td>0</td>\n",
       "      <td>53</td>\n",
       "    </tr>\n",
       "  </tbody>\n",
       "</table>\n",
       "</div>"
      ],
      "text/plain": [
       "  Start Date Cliente  Client Type Modelo Provincia  Gender    Nationality  \\\n",
       "0 2015-01-02      17  Normal          V1  Alicante  HOMBRE  ES - ESPAÑOLA   \n",
       "1 2015-01-03      58  Normal          V1  Alicante  HOMBRE  ES - ESPAÑOLA   \n",
       "2 2015-01-05      91  Normal          V1  Valencia  HOMBRE  ES - ESPAÑOLA   \n",
       "3 2015-01-05     111  Normal          V1  Alicante  HOMBRE  ES - ESPAÑOLA   \n",
       "4 2015-01-05     118  Normal          V1  Alicante   MUJER  ES - ESPAÑOLA   \n",
       "\n",
       "   Born Date                Housing Type         Labor Situation  \\\n",
       "0 1973-05-19  1 - PROPIEDAD SIN HIPOTECA             04 AUTONOMO   \n",
       "1 1976-05-08  1 - PROPIEDAD SIN HIPOTECA               06 PARADO   \n",
       "2 1982-03-15  1 - PROPIEDAD SIN HIPOTECA  02 ASALARIADO TEMPORAL   \n",
       "3 1976-02-02  1 - PROPIEDAD SIN HIPOTECA             04 AUTONOMO   \n",
       "4 1989-07-31  1 - PROPIEDAD SIN HIPOTECA               06 PARADO   \n",
       "\n",
       "  Marital Status  Income Amount  Number Pay Status Date  Status  \\\n",
       "0     2 - CASADO           2500          14  2017-09-15       1   \n",
       "1    1 - SOLTERO           1200          14  2017-12-31       1   \n",
       "2    1 - SOLTERO            800          14  2018-02-28       1   \n",
       "3     2 - CASADO           1500          12  2015-01-07       0   \n",
       "4    1 - SOLTERO           1000          12  2018-03-15       1   \n",
       "\n",
       "   Property Type  Financiado   Rango Precio Resumen Precio  Precio Contado  \\\n",
       "0  Chalet, villa  Financiado            A 0      0+(36*10)               0   \n",
       "1    Apartamento  Financiado            A 0      0+(36*10)               0   \n",
       "2  Chalet, villa  Financiado  Entre 000-050     49+(36*10)              49   \n",
       "3  Chalet, villa  Financiado            A 0      0+(36*10)               0   \n",
       "4    Apartamento  Financiado            A 0      0+(36*10)               0   \n",
       "\n",
       "   Precio Total  Precio Mensualidad  Quejas  Incidencias  \n",
       "0           360                  10       1            0  \n",
       "1           360                  10       0            0  \n",
       "2           409                  10       1            0  \n",
       "3           360                  10       1            0  \n",
       "4           360                  10       0           53  "
      ]
     },
     "execution_count": 29,
     "metadata": {},
     "output_type": "execute_result"
    }
   ],
   "source": [
    "data['Born Date'] = data['Born Date'].replace(np.nan, datetime(1970, 1, 1))\n",
    "\n",
    "data.head()"
   ]
  },
  {
   "cell_type": "code",
   "execution_count": 30,
   "metadata": {},
   "outputs": [
    {
     "data": {
      "text/plain": [
       "0"
      ]
     },
     "execution_count": 30,
     "metadata": {},
     "output_type": "execute_result"
    }
   ],
   "source": [
    "data['Born Date'].isnull().sum()"
   ]
  },
  {
   "cell_type": "code",
   "execution_count": 31,
   "metadata": {},
   "outputs": [
    {
     "data": {
      "text/html": [
       "<div>\n",
       "<style scoped>\n",
       "    .dataframe tbody tr th:only-of-type {\n",
       "        vertical-align: middle;\n",
       "    }\n",
       "\n",
       "    .dataframe tbody tr th {\n",
       "        vertical-align: top;\n",
       "    }\n",
       "\n",
       "    .dataframe thead th {\n",
       "        text-align: right;\n",
       "    }\n",
       "</style>\n",
       "<table border=\"1\" class=\"dataframe\">\n",
       "  <thead>\n",
       "    <tr style=\"text-align: right;\">\n",
       "      <th></th>\n",
       "      <th>Start Date</th>\n",
       "      <th>Cliente</th>\n",
       "      <th>Client Type</th>\n",
       "      <th>Modelo</th>\n",
       "      <th>Provincia</th>\n",
       "      <th>Gender</th>\n",
       "      <th>Nationality</th>\n",
       "      <th>Born Date</th>\n",
       "      <th>Housing Type</th>\n",
       "      <th>Labor Situation</th>\n",
       "      <th>Marital Status</th>\n",
       "      <th>Income Amount</th>\n",
       "      <th>Number Pay</th>\n",
       "      <th>Status Date</th>\n",
       "      <th>Status</th>\n",
       "      <th>Property Type</th>\n",
       "      <th>Financiado</th>\n",
       "      <th>Rango Precio</th>\n",
       "      <th>Resumen Precio</th>\n",
       "      <th>Precio Contado</th>\n",
       "      <th>Precio Total</th>\n",
       "      <th>Precio Mensualidad</th>\n",
       "      <th>Quejas</th>\n",
       "      <th>Incidencias</th>\n",
       "      <th>Edad</th>\n",
       "    </tr>\n",
       "  </thead>\n",
       "  <tbody>\n",
       "    <tr>\n",
       "      <th>0</th>\n",
       "      <td>2015-01-02</td>\n",
       "      <td>17</td>\n",
       "      <td>Normal</td>\n",
       "      <td>V1</td>\n",
       "      <td>Alicante</td>\n",
       "      <td>HOMBRE</td>\n",
       "      <td>ES - ESPAÑOLA</td>\n",
       "      <td>1973-05-19</td>\n",
       "      <td>1 - PROPIEDAD SIN HIPOTECA</td>\n",
       "      <td>04 AUTONOMO</td>\n",
       "      <td>2 - CASADO</td>\n",
       "      <td>2500</td>\n",
       "      <td>14</td>\n",
       "      <td>2017-09-15</td>\n",
       "      <td>1</td>\n",
       "      <td>Chalet, villa</td>\n",
       "      <td>Financiado</td>\n",
       "      <td>A 0</td>\n",
       "      <td>0+(36*10)</td>\n",
       "      <td>0</td>\n",
       "      <td>360</td>\n",
       "      <td>10</td>\n",
       "      <td>1</td>\n",
       "      <td>0</td>\n",
       "      <td>44.356164</td>\n",
       "    </tr>\n",
       "    <tr>\n",
       "      <th>1</th>\n",
       "      <td>2015-01-03</td>\n",
       "      <td>58</td>\n",
       "      <td>Normal</td>\n",
       "      <td>V1</td>\n",
       "      <td>Alicante</td>\n",
       "      <td>HOMBRE</td>\n",
       "      <td>ES - ESPAÑOLA</td>\n",
       "      <td>1976-05-08</td>\n",
       "      <td>1 - PROPIEDAD SIN HIPOTECA</td>\n",
       "      <td>06 PARADO</td>\n",
       "      <td>1 - SOLTERO</td>\n",
       "      <td>1200</td>\n",
       "      <td>14</td>\n",
       "      <td>2017-12-31</td>\n",
       "      <td>1</td>\n",
       "      <td>Apartamento</td>\n",
       "      <td>Financiado</td>\n",
       "      <td>A 0</td>\n",
       "      <td>0+(36*10)</td>\n",
       "      <td>0</td>\n",
       "      <td>360</td>\n",
       "      <td>10</td>\n",
       "      <td>0</td>\n",
       "      <td>0</td>\n",
       "      <td>41.676712</td>\n",
       "    </tr>\n",
       "    <tr>\n",
       "      <th>2</th>\n",
       "      <td>2015-01-05</td>\n",
       "      <td>91</td>\n",
       "      <td>Normal</td>\n",
       "      <td>V1</td>\n",
       "      <td>Valencia</td>\n",
       "      <td>HOMBRE</td>\n",
       "      <td>ES - ESPAÑOLA</td>\n",
       "      <td>1982-03-15</td>\n",
       "      <td>1 - PROPIEDAD SIN HIPOTECA</td>\n",
       "      <td>02 ASALARIADO TEMPORAL</td>\n",
       "      <td>1 - SOLTERO</td>\n",
       "      <td>800</td>\n",
       "      <td>14</td>\n",
       "      <td>2018-02-28</td>\n",
       "      <td>1</td>\n",
       "      <td>Chalet, villa</td>\n",
       "      <td>Financiado</td>\n",
       "      <td>Entre 000-050</td>\n",
       "      <td>49+(36*10)</td>\n",
       "      <td>49</td>\n",
       "      <td>409</td>\n",
       "      <td>10</td>\n",
       "      <td>1</td>\n",
       "      <td>0</td>\n",
       "      <td>35.983562</td>\n",
       "    </tr>\n",
       "    <tr>\n",
       "      <th>3</th>\n",
       "      <td>2015-01-05</td>\n",
       "      <td>111</td>\n",
       "      <td>Normal</td>\n",
       "      <td>V1</td>\n",
       "      <td>Alicante</td>\n",
       "      <td>HOMBRE</td>\n",
       "      <td>ES - ESPAÑOLA</td>\n",
       "      <td>1976-02-02</td>\n",
       "      <td>1 - PROPIEDAD SIN HIPOTECA</td>\n",
       "      <td>04 AUTONOMO</td>\n",
       "      <td>2 - CASADO</td>\n",
       "      <td>1500</td>\n",
       "      <td>12</td>\n",
       "      <td>2015-01-07</td>\n",
       "      <td>0</td>\n",
       "      <td>Chalet, villa</td>\n",
       "      <td>Financiado</td>\n",
       "      <td>A 0</td>\n",
       "      <td>0+(36*10)</td>\n",
       "      <td>0</td>\n",
       "      <td>360</td>\n",
       "      <td>10</td>\n",
       "      <td>1</td>\n",
       "      <td>0</td>\n",
       "      <td>44.994521</td>\n",
       "    </tr>\n",
       "    <tr>\n",
       "      <th>4</th>\n",
       "      <td>2015-01-05</td>\n",
       "      <td>118</td>\n",
       "      <td>Normal</td>\n",
       "      <td>V1</td>\n",
       "      <td>Alicante</td>\n",
       "      <td>MUJER</td>\n",
       "      <td>ES - ESPAÑOLA</td>\n",
       "      <td>1989-07-31</td>\n",
       "      <td>1 - PROPIEDAD SIN HIPOTECA</td>\n",
       "      <td>06 PARADO</td>\n",
       "      <td>1 - SOLTERO</td>\n",
       "      <td>1000</td>\n",
       "      <td>12</td>\n",
       "      <td>2018-03-15</td>\n",
       "      <td>1</td>\n",
       "      <td>Apartamento</td>\n",
       "      <td>Financiado</td>\n",
       "      <td>A 0</td>\n",
       "      <td>0+(36*10)</td>\n",
       "      <td>0</td>\n",
       "      <td>360</td>\n",
       "      <td>10</td>\n",
       "      <td>0</td>\n",
       "      <td>53</td>\n",
       "      <td>28.641096</td>\n",
       "    </tr>\n",
       "  </tbody>\n",
       "</table>\n",
       "</div>"
      ],
      "text/plain": [
       "  Start Date Cliente  Client Type Modelo Provincia  Gender    Nationality  \\\n",
       "0 2015-01-02      17  Normal          V1  Alicante  HOMBRE  ES - ESPAÑOLA   \n",
       "1 2015-01-03      58  Normal          V1  Alicante  HOMBRE  ES - ESPAÑOLA   \n",
       "2 2015-01-05      91  Normal          V1  Valencia  HOMBRE  ES - ESPAÑOLA   \n",
       "3 2015-01-05     111  Normal          V1  Alicante  HOMBRE  ES - ESPAÑOLA   \n",
       "4 2015-01-05     118  Normal          V1  Alicante   MUJER  ES - ESPAÑOLA   \n",
       "\n",
       "   Born Date                Housing Type         Labor Situation  \\\n",
       "0 1973-05-19  1 - PROPIEDAD SIN HIPOTECA             04 AUTONOMO   \n",
       "1 1976-05-08  1 - PROPIEDAD SIN HIPOTECA               06 PARADO   \n",
       "2 1982-03-15  1 - PROPIEDAD SIN HIPOTECA  02 ASALARIADO TEMPORAL   \n",
       "3 1976-02-02  1 - PROPIEDAD SIN HIPOTECA             04 AUTONOMO   \n",
       "4 1989-07-31  1 - PROPIEDAD SIN HIPOTECA               06 PARADO   \n",
       "\n",
       "  Marital Status  Income Amount  Number Pay Status Date  Status  \\\n",
       "0     2 - CASADO           2500          14  2017-09-15       1   \n",
       "1    1 - SOLTERO           1200          14  2017-12-31       1   \n",
       "2    1 - SOLTERO            800          14  2018-02-28       1   \n",
       "3     2 - CASADO           1500          12  2015-01-07       0   \n",
       "4    1 - SOLTERO           1000          12  2018-03-15       1   \n",
       "\n",
       "   Property Type  Financiado   Rango Precio Resumen Precio  Precio Contado  \\\n",
       "0  Chalet, villa  Financiado            A 0      0+(36*10)               0   \n",
       "1    Apartamento  Financiado            A 0      0+(36*10)               0   \n",
       "2  Chalet, villa  Financiado  Entre 000-050     49+(36*10)              49   \n",
       "3  Chalet, villa  Financiado            A 0      0+(36*10)               0   \n",
       "4    Apartamento  Financiado            A 0      0+(36*10)               0   \n",
       "\n",
       "   Precio Total  Precio Mensualidad  Quejas  Incidencias       Edad  \n",
       "0           360                  10       1            0  44.356164  \n",
       "1           360                  10       0            0  41.676712  \n",
       "2           409                  10       1            0  35.983562  \n",
       "3           360                  10       1            0  44.994521  \n",
       "4           360                  10       0           53  28.641096  "
      ]
     },
     "execution_count": 31,
     "metadata": {},
     "output_type": "execute_result"
    }
   ],
   "source": [
    "# Edad actual si OP y edad cuando se dio de baja si BAJA\n",
    "\n",
    "data['Edad'] = 0\n",
    "fecha = datetime(2021, 1, 19)\n",
    "\n",
    "for i in range(len(data['Born Date'])):\n",
    "    if data.loc[i, 'Status'] == 0:\n",
    "        data.loc[i,'Edad'] = ((fecha - data.loc[i,'Born Date']).days)/365\n",
    "    else:\n",
    "        data.loc[i,'Edad'] = ((data.loc[i,'Status Date'] - data.loc[i,'Born Date']).days)/365\n",
    "                        \n",
    "data.head()"
   ]
  },
  {
   "cell_type": "code",
   "execution_count": 32,
   "metadata": {},
   "outputs": [
    {
     "data": {
      "image/png": "[encoded data removed]",
      "text/plain": [
       "<Figure size 432x288 with 1 Axes>"
      ]
     },
     "metadata": {
      "needs_background": "light"
     },
     "output_type": "display_data"
    }
   ],
   "source": [
    "plt.hist(data['Edad'], range = (-100,0));"
   ]
  },
  {
   "cell_type": "code",
   "execution_count": 33,
   "metadata": {},
   "outputs": [
    {
     "data": {
      "image/png": "[encoded data removed]",
      "text/plain": [
       "<Figure size 432x288 with 1 Axes>"
      ]
     },
     "metadata": {
      "needs_background": "light"
     },
     "output_type": "display_data"
    }
   ],
   "source": [
    "plt.hist(data['Edad'], range = (0,18));"
   ]
  },
  {
   "cell_type": "code",
   "execution_count": 34,
   "metadata": {},
   "outputs": [
    {
     "data": {
      "text/plain": [
       "52.30124380793465"
      ]
     },
     "execution_count": 34,
     "metadata": {},
     "output_type": "execute_result"
    }
   ],
   "source": [
    "data['Edad'].mean()"
   ]
  },
  {
   "cell_type": "code",
   "execution_count": 35,
   "metadata": {},
   "outputs": [],
   "source": [
    "for i in range(len(data['Edad'])):\n",
    "    if data.loc[i, 'Edad'] < 18:\n",
    "        data.loc[i, 'Edad'] = data['Edad'].mean()\n",
    "    else:\n",
    "        continue"
   ]
  },
  {
   "cell_type": "code",
   "execution_count": 36,
   "metadata": {},
   "outputs": [
    {
     "data": {
      "image/png": "[encoded data removed]",
      "text/plain": [
       "<Figure size 432x288 with 1 Axes>"
      ]
     },
     "metadata": {
      "needs_background": "light"
     },
     "output_type": "display_data"
    }
   ],
   "source": [
    "plt.hist(data['Edad']);"
   ]
  },
  {
   "cell_type": "code",
   "execution_count": 37,
   "metadata": {
    "scrolled": false
   },
   "outputs": [
    {
     "data": {
      "text/html": [
       "<div>\n",
       "<style scoped>\n",
       "    .dataframe tbody tr th:only-of-type {\n",
       "        vertical-align: middle;\n",
       "    }\n",
       "\n",
       "    .dataframe tbody tr th {\n",
       "        vertical-align: top;\n",
       "    }\n",
       "\n",
       "    .dataframe thead th {\n",
       "        text-align: right;\n",
       "    }\n",
       "</style>\n",
       "<table border=\"1\" class=\"dataframe\">\n",
       "  <thead>\n",
       "    <tr style=\"text-align: right;\">\n",
       "      <th></th>\n",
       "      <th>Start Date</th>\n",
       "      <th>Cliente</th>\n",
       "      <th>Client Type</th>\n",
       "      <th>Modelo</th>\n",
       "      <th>Provincia</th>\n",
       "      <th>Gender</th>\n",
       "      <th>Nationality</th>\n",
       "      <th>Born Date</th>\n",
       "      <th>Housing Type</th>\n",
       "      <th>Labor Situation</th>\n",
       "      <th>Marital Status</th>\n",
       "      <th>Income Amount</th>\n",
       "      <th>Number Pay</th>\n",
       "      <th>Status Date</th>\n",
       "      <th>Status</th>\n",
       "      <th>Property Type</th>\n",
       "      <th>Financiado</th>\n",
       "      <th>Rango Precio</th>\n",
       "      <th>Resumen Precio</th>\n",
       "      <th>Precio Contado</th>\n",
       "      <th>Precio Total</th>\n",
       "      <th>Precio Mensualidad</th>\n",
       "      <th>Quejas</th>\n",
       "      <th>Incidencias</th>\n",
       "      <th>Edad</th>\n",
       "      <th>Rango_Edad</th>\n",
       "    </tr>\n",
       "  </thead>\n",
       "  <tbody>\n",
       "    <tr>\n",
       "      <th>0</th>\n",
       "      <td>2015-01-02</td>\n",
       "      <td>17</td>\n",
       "      <td>Normal</td>\n",
       "      <td>V1</td>\n",
       "      <td>Alicante</td>\n",
       "      <td>HOMBRE</td>\n",
       "      <td>ES - ESPAÑOLA</td>\n",
       "      <td>1973-05-19</td>\n",
       "      <td>1 - PROPIEDAD SIN HIPOTECA</td>\n",
       "      <td>04 AUTONOMO</td>\n",
       "      <td>2 - CASADO</td>\n",
       "      <td>2500</td>\n",
       "      <td>14</td>\n",
       "      <td>2017-09-15</td>\n",
       "      <td>1</td>\n",
       "      <td>Chalet, villa</td>\n",
       "      <td>Financiado</td>\n",
       "      <td>A 0</td>\n",
       "      <td>0+(36*10)</td>\n",
       "      <td>0</td>\n",
       "      <td>360</td>\n",
       "      <td>10</td>\n",
       "      <td>1</td>\n",
       "      <td>0</td>\n",
       "      <td>44.356164</td>\n",
       "      <td>40-50</td>\n",
       "    </tr>\n",
       "    <tr>\n",
       "      <th>1</th>\n",
       "      <td>2015-01-03</td>\n",
       "      <td>58</td>\n",
       "      <td>Normal</td>\n",
       "      <td>V1</td>\n",
       "      <td>Alicante</td>\n",
       "      <td>HOMBRE</td>\n",
       "      <td>ES - ESPAÑOLA</td>\n",
       "      <td>1976-05-08</td>\n",
       "      <td>1 - PROPIEDAD SIN HIPOTECA</td>\n",
       "      <td>06 PARADO</td>\n",
       "      <td>1 - SOLTERO</td>\n",
       "      <td>1200</td>\n",
       "      <td>14</td>\n",
       "      <td>2017-12-31</td>\n",
       "      <td>1</td>\n",
       "      <td>Apartamento</td>\n",
       "      <td>Financiado</td>\n",
       "      <td>A 0</td>\n",
       "      <td>0+(36*10)</td>\n",
       "      <td>0</td>\n",
       "      <td>360</td>\n",
       "      <td>10</td>\n",
       "      <td>0</td>\n",
       "      <td>0</td>\n",
       "      <td>41.676712</td>\n",
       "      <td>40-50</td>\n",
       "    </tr>\n",
       "    <tr>\n",
       "      <th>2</th>\n",
       "      <td>2015-01-05</td>\n",
       "      <td>91</td>\n",
       "      <td>Normal</td>\n",
       "      <td>V1</td>\n",
       "      <td>Valencia</td>\n",
       "      <td>HOMBRE</td>\n",
       "      <td>ES - ESPAÑOLA</td>\n",
       "      <td>1982-03-15</td>\n",
       "      <td>1 - PROPIEDAD SIN HIPOTECA</td>\n",
       "      <td>02 ASALARIADO TEMPORAL</td>\n",
       "      <td>1 - SOLTERO</td>\n",
       "      <td>800</td>\n",
       "      <td>14</td>\n",
       "      <td>2018-02-28</td>\n",
       "      <td>1</td>\n",
       "      <td>Chalet, villa</td>\n",
       "      <td>Financiado</td>\n",
       "      <td>Entre 000-050</td>\n",
       "      <td>49+(36*10)</td>\n",
       "      <td>49</td>\n",
       "      <td>409</td>\n",
       "      <td>10</td>\n",
       "      <td>1</td>\n",
       "      <td>0</td>\n",
       "      <td>35.983562</td>\n",
       "      <td>30-40</td>\n",
       "    </tr>\n",
       "    <tr>\n",
       "      <th>3</th>\n",
       "      <td>2015-01-05</td>\n",
       "      <td>111</td>\n",
       "      <td>Normal</td>\n",
       "      <td>V1</td>\n",
       "      <td>Alicante</td>\n",
       "      <td>HOMBRE</td>\n",
       "      <td>ES - ESPAÑOLA</td>\n",
       "      <td>1976-02-02</td>\n",
       "      <td>1 - PROPIEDAD SIN HIPOTECA</td>\n",
       "      <td>04 AUTONOMO</td>\n",
       "      <td>2 - CASADO</td>\n",
       "      <td>1500</td>\n",
       "      <td>12</td>\n",
       "      <td>2015-01-07</td>\n",
       "      <td>0</td>\n",
       "      <td>Chalet, villa</td>\n",
       "      <td>Financiado</td>\n",
       "      <td>A 0</td>\n",
       "      <td>0+(36*10)</td>\n",
       "      <td>0</td>\n",
       "      <td>360</td>\n",
       "      <td>10</td>\n",
       "      <td>1</td>\n",
       "      <td>0</td>\n",
       "      <td>44.994521</td>\n",
       "      <td>40-50</td>\n",
       "    </tr>\n",
       "    <tr>\n",
       "      <th>4</th>\n",
       "      <td>2015-01-05</td>\n",
       "      <td>118</td>\n",
       "      <td>Normal</td>\n",
       "      <td>V1</td>\n",
       "      <td>Alicante</td>\n",
       "      <td>MUJER</td>\n",
       "      <td>ES - ESPAÑOLA</td>\n",
       "      <td>1989-07-31</td>\n",
       "      <td>1 - PROPIEDAD SIN HIPOTECA</td>\n",
       "      <td>06 PARADO</td>\n",
       "      <td>1 - SOLTERO</td>\n",
       "      <td>1000</td>\n",
       "      <td>12</td>\n",
       "      <td>2018-03-15</td>\n",
       "      <td>1</td>\n",
       "      <td>Apartamento</td>\n",
       "      <td>Financiado</td>\n",
       "      <td>A 0</td>\n",
       "      <td>0+(36*10)</td>\n",
       "      <td>0</td>\n",
       "      <td>360</td>\n",
       "      <td>10</td>\n",
       "      <td>0</td>\n",
       "      <td>53</td>\n",
       "      <td>28.641096</td>\n",
       "      <td>18-30</td>\n",
       "    </tr>\n",
       "  </tbody>\n",
       "</table>\n",
       "</div>"
      ],
      "text/plain": [
       "  Start Date Cliente  Client Type Modelo Provincia  Gender    Nationality  \\\n",
       "0 2015-01-02      17  Normal          V1  Alicante  HOMBRE  ES - ESPAÑOLA   \n",
       "1 2015-01-03      58  Normal          V1  Alicante  HOMBRE  ES - ESPAÑOLA   \n",
       "2 2015-01-05      91  Normal          V1  Valencia  HOMBRE  ES - ESPAÑOLA   \n",
       "3 2015-01-05     111  Normal          V1  Alicante  HOMBRE  ES - ESPAÑOLA   \n",
       "4 2015-01-05     118  Normal          V1  Alicante   MUJER  ES - ESPAÑOLA   \n",
       "\n",
       "   Born Date                Housing Type         Labor Situation  \\\n",
       "0 1973-05-19  1 - PROPIEDAD SIN HIPOTECA             04 AUTONOMO   \n",
       "1 1976-05-08  1 - PROPIEDAD SIN HIPOTECA               06 PARADO   \n",
       "2 1982-03-15  1 - PROPIEDAD SIN HIPOTECA  02 ASALARIADO TEMPORAL   \n",
       "3 1976-02-02  1 - PROPIEDAD SIN HIPOTECA             04 AUTONOMO   \n",
       "4 1989-07-31  1 - PROPIEDAD SIN HIPOTECA               06 PARADO   \n",
       "\n",
       "  Marital Status  Income Amount  Number Pay Status Date  Status  \\\n",
       "0     2 - CASADO           2500          14  2017-09-15       1   \n",
       "1    1 - SOLTERO           1200          14  2017-12-31       1   \n",
       "2    1 - SOLTERO            800          14  2018-02-28       1   \n",
       "3     2 - CASADO           1500          12  2015-01-07       0   \n",
       "4    1 - SOLTERO           1000          12  2018-03-15       1   \n",
       "\n",
       "   Property Type  Financiado   Rango Precio Resumen Precio  Precio Contado  \\\n",
       "0  Chalet, villa  Financiado            A 0      0+(36*10)               0   \n",
       "1    Apartamento  Financiado            A 0      0+(36*10)               0   \n",
       "2  Chalet, villa  Financiado  Entre 000-050     49+(36*10)              49   \n",
       "3  Chalet, villa  Financiado            A 0      0+(36*10)               0   \n",
       "4    Apartamento  Financiado            A 0      0+(36*10)               0   \n",
       "\n",
       "   Precio Total  Precio Mensualidad  Quejas  Incidencias       Edad Rango_Edad  \n",
       "0           360                  10       1            0  44.356164      40-50  \n",
       "1           360                  10       0            0  41.676712      40-50  \n",
       "2           409                  10       1            0  35.983562      30-40  \n",
       "3           360                  10       1            0  44.994521      40-50  \n",
       "4           360                  10       0           53  28.641096      18-30  "
      ]
     },
     "execution_count": 37,
     "metadata": {},
     "output_type": "execute_result"
    }
   ],
   "source": [
    "# Mapping Edad \n",
    "data.loc[data['Edad'] <= 30, 'Rango_Edad'] = \"18-30\"\n",
    "data.loc[(data['Edad'] > 30) & (data['Edad'] <= 40), 'Rango_Edad'] = \"30-40\"\n",
    "data.loc[(data['Edad'] > 40) & (data['Edad'] <= 50), 'Rango_Edad'] = \"40-50\"\n",
    "data.loc[(data['Edad'] > 50) & (data['Edad'] <= 60), 'Rango_Edad'] = \"50-60\"\n",
    "data.loc[(data['Edad'] > 60) & (data['Edad'] <= 70), 'Rango_Edad'] = \"60-70\"\n",
    "data.loc[(data['Edad'] > 70) & (data['Edad'] <= 80), 'Rango_Edad'] = \"70-80\"\n",
    "data.loc[data['Edad'] > 80, 'Rango_Edad'] = \"+80\"\n",
    "data.head()"
   ]
  },
  {
   "cell_type": "code",
   "execution_count": 38,
   "metadata": {},
   "outputs": [
    {
     "data": {
      "text/html": [
       "<div>\n",
       "<style scoped>\n",
       "    .dataframe tbody tr th:only-of-type {\n",
       "        vertical-align: middle;\n",
       "    }\n",
       "\n",
       "    .dataframe tbody tr th {\n",
       "        vertical-align: top;\n",
       "    }\n",
       "\n",
       "    .dataframe thead th {\n",
       "        text-align: right;\n",
       "    }\n",
       "</style>\n",
       "<table border=\"1\" class=\"dataframe\">\n",
       "  <thead>\n",
       "    <tr style=\"text-align: right;\">\n",
       "      <th>Status</th>\n",
       "      <th>0</th>\n",
       "      <th>1</th>\n",
       "      <th>All</th>\n",
       "      <th>0</th>\n",
       "      <th>1</th>\n",
       "    </tr>\n",
       "    <tr>\n",
       "      <th>Rango_Edad</th>\n",
       "      <th></th>\n",
       "      <th></th>\n",
       "      <th></th>\n",
       "      <th></th>\n",
       "      <th></th>\n",
       "    </tr>\n",
       "  </thead>\n",
       "  <tbody>\n",
       "    <tr>\n",
       "      <th>+80</th>\n",
       "      <td>1602</td>\n",
       "      <td>319</td>\n",
       "      <td>1921</td>\n",
       "      <td>0.833941</td>\n",
       "      <td>0.166059</td>\n",
       "    </tr>\n",
       "    <tr>\n",
       "      <th>18-30</th>\n",
       "      <td>2516</td>\n",
       "      <td>1582</td>\n",
       "      <td>4098</td>\n",
       "      <td>0.613958</td>\n",
       "      <td>0.386042</td>\n",
       "    </tr>\n",
       "    <tr>\n",
       "      <th>30-40</th>\n",
       "      <td>4622</td>\n",
       "      <td>3306</td>\n",
       "      <td>7928</td>\n",
       "      <td>0.582997</td>\n",
       "      <td>0.417003</td>\n",
       "    </tr>\n",
       "    <tr>\n",
       "      <th>40-50</th>\n",
       "      <td>8795</td>\n",
       "      <td>4081</td>\n",
       "      <td>12876</td>\n",
       "      <td>0.683054</td>\n",
       "      <td>0.316946</td>\n",
       "    </tr>\n",
       "    <tr>\n",
       "      <th>50-60</th>\n",
       "      <td>9820</td>\n",
       "      <td>2748</td>\n",
       "      <td>12568</td>\n",
       "      <td>0.781349</td>\n",
       "      <td>0.218651</td>\n",
       "    </tr>\n",
       "    <tr>\n",
       "      <th>60-70</th>\n",
       "      <td>8380</td>\n",
       "      <td>1489</td>\n",
       "      <td>9869</td>\n",
       "      <td>0.849124</td>\n",
       "      <td>0.150876</td>\n",
       "    </tr>\n",
       "    <tr>\n",
       "      <th>70-80</th>\n",
       "      <td>5202</td>\n",
       "      <td>765</td>\n",
       "      <td>5967</td>\n",
       "      <td>0.871795</td>\n",
       "      <td>0.128205</td>\n",
       "    </tr>\n",
       "    <tr>\n",
       "      <th>All</th>\n",
       "      <td>40937</td>\n",
       "      <td>14290</td>\n",
       "      <td>55227</td>\n",
       "      <td>0.741250</td>\n",
       "      <td>0.258750</td>\n",
       "    </tr>\n",
       "  </tbody>\n",
       "</table>\n",
       "</div>"
      ],
      "text/plain": [
       "Status          0      1    All         0         1\n",
       "Rango_Edad                                         \n",
       "+80          1602    319   1921  0.833941  0.166059\n",
       "18-30        2516   1582   4098  0.613958  0.386042\n",
       "30-40        4622   3306   7928  0.582997  0.417003\n",
       "40-50        8795   4081  12876  0.683054  0.316946\n",
       "50-60        9820   2748  12568  0.781349  0.218651\n",
       "60-70        8380   1489   9869  0.849124  0.150876\n",
       "70-80        5202    765   5967  0.871795  0.128205\n",
       "All         40937  14290  55227  0.741250  0.258750"
      ]
     },
     "execution_count": 38,
     "metadata": {},
     "output_type": "execute_result"
    }
   ],
   "source": [
    "tab1 = pd.crosstab(data[\"Rango_Edad\"], data[\"Status\"], margins = True)\n",
    "tab2 = pd.crosstab(data[\"Rango_Edad\"], data[\"Status\"], margins = True, normalize = 'index')\n",
    "pd.concat([tab1, tab2], axis = 1)"
   ]
  },
  {
   "cell_type": "markdown",
   "metadata": {},
   "source": [
    "Rangos de Income Amount:"
   ]
  },
  {
   "cell_type": "code",
   "execution_count": 39,
   "metadata": {},
   "outputs": [
    {
     "data": {
      "image/png": "[encoded data removed]",
      "text/plain": [
       "<Figure size 432x288 with 1 Axes>"
      ]
     },
     "metadata": {
      "needs_background": "light"
     },
     "output_type": "display_data"
    }
   ],
   "source": [
    "plt.hist(data['Income Amount'], range=(0, 5000));"
   ]
  },
  {
   "cell_type": "code",
   "execution_count": 40,
   "metadata": {},
   "outputs": [
    {
     "data": {
      "text/html": [
       "<div>\n",
       "<style scoped>\n",
       "    .dataframe tbody tr th:only-of-type {\n",
       "        vertical-align: middle;\n",
       "    }\n",
       "\n",
       "    .dataframe tbody tr th {\n",
       "        vertical-align: top;\n",
       "    }\n",
       "\n",
       "    .dataframe thead th {\n",
       "        text-align: right;\n",
       "    }\n",
       "</style>\n",
       "<table border=\"1\" class=\"dataframe\">\n",
       "  <thead>\n",
       "    <tr style=\"text-align: right;\">\n",
       "      <th></th>\n",
       "      <th>Start Date</th>\n",
       "      <th>Cliente</th>\n",
       "      <th>Client Type</th>\n",
       "      <th>Modelo</th>\n",
       "      <th>Provincia</th>\n",
       "      <th>Gender</th>\n",
       "      <th>Nationality</th>\n",
       "      <th>Born Date</th>\n",
       "      <th>Housing Type</th>\n",
       "      <th>Labor Situation</th>\n",
       "      <th>Marital Status</th>\n",
       "      <th>Income Amount</th>\n",
       "      <th>Number Pay</th>\n",
       "      <th>Status Date</th>\n",
       "      <th>Status</th>\n",
       "      <th>Property Type</th>\n",
       "      <th>Financiado</th>\n",
       "      <th>Rango Precio</th>\n",
       "      <th>Resumen Precio</th>\n",
       "      <th>Precio Contado</th>\n",
       "      <th>Precio Total</th>\n",
       "      <th>Precio Mensualidad</th>\n",
       "      <th>Quejas</th>\n",
       "      <th>Incidencias</th>\n",
       "      <th>Edad</th>\n",
       "      <th>Rango_Edad</th>\n",
       "      <th>Income</th>\n",
       "    </tr>\n",
       "  </thead>\n",
       "  <tbody>\n",
       "    <tr>\n",
       "      <th>0</th>\n",
       "      <td>2015-01-02</td>\n",
       "      <td>17</td>\n",
       "      <td>Normal</td>\n",
       "      <td>V1</td>\n",
       "      <td>Alicante</td>\n",
       "      <td>HOMBRE</td>\n",
       "      <td>ES - ESPAÑOLA</td>\n",
       "      <td>1973-05-19</td>\n",
       "      <td>1 - PROPIEDAD SIN HIPOTECA</td>\n",
       "      <td>04 AUTONOMO</td>\n",
       "      <td>2 - CASADO</td>\n",
       "      <td>2500</td>\n",
       "      <td>14</td>\n",
       "      <td>2017-09-15</td>\n",
       "      <td>1</td>\n",
       "      <td>Chalet, villa</td>\n",
       "      <td>Financiado</td>\n",
       "      <td>A 0</td>\n",
       "      <td>0+(36*10)</td>\n",
       "      <td>0</td>\n",
       "      <td>360</td>\n",
       "      <td>10</td>\n",
       "      <td>1</td>\n",
       "      <td>0</td>\n",
       "      <td>44.356164</td>\n",
       "      <td>40-50</td>\n",
       "      <td>2000-3000</td>\n",
       "    </tr>\n",
       "    <tr>\n",
       "      <th>1</th>\n",
       "      <td>2015-01-03</td>\n",
       "      <td>58</td>\n",
       "      <td>Normal</td>\n",
       "      <td>V1</td>\n",
       "      <td>Alicante</td>\n",
       "      <td>HOMBRE</td>\n",
       "      <td>ES - ESPAÑOLA</td>\n",
       "      <td>1976-05-08</td>\n",
       "      <td>1 - PROPIEDAD SIN HIPOTECA</td>\n",
       "      <td>06 PARADO</td>\n",
       "      <td>1 - SOLTERO</td>\n",
       "      <td>1200</td>\n",
       "      <td>14</td>\n",
       "      <td>2017-12-31</td>\n",
       "      <td>1</td>\n",
       "      <td>Apartamento</td>\n",
       "      <td>Financiado</td>\n",
       "      <td>A 0</td>\n",
       "      <td>0+(36*10)</td>\n",
       "      <td>0</td>\n",
       "      <td>360</td>\n",
       "      <td>10</td>\n",
       "      <td>0</td>\n",
       "      <td>0</td>\n",
       "      <td>41.676712</td>\n",
       "      <td>40-50</td>\n",
       "      <td>1000-1500</td>\n",
       "    </tr>\n",
       "    <tr>\n",
       "      <th>2</th>\n",
       "      <td>2015-01-05</td>\n",
       "      <td>91</td>\n",
       "      <td>Normal</td>\n",
       "      <td>V1</td>\n",
       "      <td>Valencia</td>\n",
       "      <td>HOMBRE</td>\n",
       "      <td>ES - ESPAÑOLA</td>\n",
       "      <td>1982-03-15</td>\n",
       "      <td>1 - PROPIEDAD SIN HIPOTECA</td>\n",
       "      <td>02 ASALARIADO TEMPORAL</td>\n",
       "      <td>1 - SOLTERO</td>\n",
       "      <td>800</td>\n",
       "      <td>14</td>\n",
       "      <td>2018-02-28</td>\n",
       "      <td>1</td>\n",
       "      <td>Chalet, villa</td>\n",
       "      <td>Financiado</td>\n",
       "      <td>Entre 000-050</td>\n",
       "      <td>49+(36*10)</td>\n",
       "      <td>49</td>\n",
       "      <td>409</td>\n",
       "      <td>10</td>\n",
       "      <td>1</td>\n",
       "      <td>0</td>\n",
       "      <td>35.983562</td>\n",
       "      <td>30-40</td>\n",
       "      <td>0-1000</td>\n",
       "    </tr>\n",
       "    <tr>\n",
       "      <th>3</th>\n",
       "      <td>2015-01-05</td>\n",
       "      <td>111</td>\n",
       "      <td>Normal</td>\n",
       "      <td>V1</td>\n",
       "      <td>Alicante</td>\n",
       "      <td>HOMBRE</td>\n",
       "      <td>ES - ESPAÑOLA</td>\n",
       "      <td>1976-02-02</td>\n",
       "      <td>1 - PROPIEDAD SIN HIPOTECA</td>\n",
       "      <td>04 AUTONOMO</td>\n",
       "      <td>2 - CASADO</td>\n",
       "      <td>1500</td>\n",
       "      <td>12</td>\n",
       "      <td>2015-01-07</td>\n",
       "      <td>0</td>\n",
       "      <td>Chalet, villa</td>\n",
       "      <td>Financiado</td>\n",
       "      <td>A 0</td>\n",
       "      <td>0+(36*10)</td>\n",
       "      <td>0</td>\n",
       "      <td>360</td>\n",
       "      <td>10</td>\n",
       "      <td>1</td>\n",
       "      <td>0</td>\n",
       "      <td>44.994521</td>\n",
       "      <td>40-50</td>\n",
       "      <td>1000-1500</td>\n",
       "    </tr>\n",
       "    <tr>\n",
       "      <th>4</th>\n",
       "      <td>2015-01-05</td>\n",
       "      <td>118</td>\n",
       "      <td>Normal</td>\n",
       "      <td>V1</td>\n",
       "      <td>Alicante</td>\n",
       "      <td>MUJER</td>\n",
       "      <td>ES - ESPAÑOLA</td>\n",
       "      <td>1989-07-31</td>\n",
       "      <td>1 - PROPIEDAD SIN HIPOTECA</td>\n",
       "      <td>06 PARADO</td>\n",
       "      <td>1 - SOLTERO</td>\n",
       "      <td>1000</td>\n",
       "      <td>12</td>\n",
       "      <td>2018-03-15</td>\n",
       "      <td>1</td>\n",
       "      <td>Apartamento</td>\n",
       "      <td>Financiado</td>\n",
       "      <td>A 0</td>\n",
       "      <td>0+(36*10)</td>\n",
       "      <td>0</td>\n",
       "      <td>360</td>\n",
       "      <td>10</td>\n",
       "      <td>0</td>\n",
       "      <td>53</td>\n",
       "      <td>28.641096</td>\n",
       "      <td>18-30</td>\n",
       "      <td>0-1000</td>\n",
       "    </tr>\n",
       "  </tbody>\n",
       "</table>\n",
       "</div>"
      ],
      "text/plain": [
       "  Start Date Cliente  Client Type Modelo Provincia  Gender    Nationality  \\\n",
       "0 2015-01-02      17  Normal          V1  Alicante  HOMBRE  ES - ESPAÑOLA   \n",
       "1 2015-01-03      58  Normal          V1  Alicante  HOMBRE  ES - ESPAÑOLA   \n",
       "2 2015-01-05      91  Normal          V1  Valencia  HOMBRE  ES - ESPAÑOLA   \n",
       "3 2015-01-05     111  Normal          V1  Alicante  HOMBRE  ES - ESPAÑOLA   \n",
       "4 2015-01-05     118  Normal          V1  Alicante   MUJER  ES - ESPAÑOLA   \n",
       "\n",
       "   Born Date                Housing Type         Labor Situation  \\\n",
       "0 1973-05-19  1 - PROPIEDAD SIN HIPOTECA             04 AUTONOMO   \n",
       "1 1976-05-08  1 - PROPIEDAD SIN HIPOTECA               06 PARADO   \n",
       "2 1982-03-15  1 - PROPIEDAD SIN HIPOTECA  02 ASALARIADO TEMPORAL   \n",
       "3 1976-02-02  1 - PROPIEDAD SIN HIPOTECA             04 AUTONOMO   \n",
       "4 1989-07-31  1 - PROPIEDAD SIN HIPOTECA               06 PARADO   \n",
       "\n",
       "  Marital Status  Income Amount  Number Pay Status Date  Status  \\\n",
       "0     2 - CASADO           2500          14  2017-09-15       1   \n",
       "1    1 - SOLTERO           1200          14  2017-12-31       1   \n",
       "2    1 - SOLTERO            800          14  2018-02-28       1   \n",
       "3     2 - CASADO           1500          12  2015-01-07       0   \n",
       "4    1 - SOLTERO           1000          12  2018-03-15       1   \n",
       "\n",
       "   Property Type  Financiado   Rango Precio Resumen Precio  Precio Contado  \\\n",
       "0  Chalet, villa  Financiado            A 0      0+(36*10)               0   \n",
       "1    Apartamento  Financiado            A 0      0+(36*10)               0   \n",
       "2  Chalet, villa  Financiado  Entre 000-050     49+(36*10)              49   \n",
       "3  Chalet, villa  Financiado            A 0      0+(36*10)               0   \n",
       "4    Apartamento  Financiado            A 0      0+(36*10)               0   \n",
       "\n",
       "   Precio Total  Precio Mensualidad  Quejas  Incidencias       Edad  \\\n",
       "0           360                  10       1            0  44.356164   \n",
       "1           360                  10       0            0  41.676712   \n",
       "2           409                  10       1            0  35.983562   \n",
       "3           360                  10       1            0  44.994521   \n",
       "4           360                  10       0           53  28.641096   \n",
       "\n",
       "  Rango_Edad     Income  \n",
       "0      40-50  2000-3000  \n",
       "1      40-50  1000-1500  \n",
       "2      30-40     0-1000  \n",
       "3      40-50  1000-1500  \n",
       "4      18-30     0-1000  "
      ]
     },
     "execution_count": 40,
     "metadata": {},
     "output_type": "execute_result"
    }
   ],
   "source": [
    "# Mapping Income Amount\n",
    "data.loc[data['Income Amount'] <= 1000, 'Income'] = \"0-1000\"\n",
    "data.loc[(data['Income Amount'] > 1000) & (data['Income Amount'] <= 1500), 'Income'] = \"1000-1500\"\n",
    "data.loc[(data['Income Amount'] > 1500) & (data['Income Amount'] <= 2000), 'Income'] = \"1500-2000\"\n",
    "data.loc[(data['Income Amount'] > 2000) & (data['Income Amount'] <= 3000), 'Income'] = \"2000-3000\"\n",
    "data.loc[data['Income Amount'] > 3000, 'Income'] = \"+3000\"\n",
    "data.head()"
   ]
  },
  {
   "cell_type": "code",
   "execution_count": 41,
   "metadata": {},
   "outputs": [
    {
     "data": {
      "text/html": [
       "<div>\n",
       "<style scoped>\n",
       "    .dataframe tbody tr th:only-of-type {\n",
       "        vertical-align: middle;\n",
       "    }\n",
       "\n",
       "    .dataframe tbody tr th {\n",
       "        vertical-align: top;\n",
       "    }\n",
       "\n",
       "    .dataframe thead th {\n",
       "        text-align: right;\n",
       "    }\n",
       "</style>\n",
       "<table border=\"1\" class=\"dataframe\">\n",
       "  <thead>\n",
       "    <tr style=\"text-align: right;\">\n",
       "      <th>Status</th>\n",
       "      <th>0</th>\n",
       "      <th>1</th>\n",
       "      <th>All</th>\n",
       "      <th>0</th>\n",
       "      <th>1</th>\n",
       "    </tr>\n",
       "    <tr>\n",
       "      <th>Income</th>\n",
       "      <th></th>\n",
       "      <th></th>\n",
       "      <th></th>\n",
       "      <th></th>\n",
       "      <th></th>\n",
       "    </tr>\n",
       "  </thead>\n",
       "  <tbody>\n",
       "    <tr>\n",
       "      <th>+3000</th>\n",
       "      <td>1687</td>\n",
       "      <td>448</td>\n",
       "      <td>2135</td>\n",
       "      <td>0.790164</td>\n",
       "      <td>0.209836</td>\n",
       "    </tr>\n",
       "    <tr>\n",
       "      <th>0-1000</th>\n",
       "      <td>6979</td>\n",
       "      <td>3147</td>\n",
       "      <td>10126</td>\n",
       "      <td>0.689216</td>\n",
       "      <td>0.310784</td>\n",
       "    </tr>\n",
       "    <tr>\n",
       "      <th>1000-1500</th>\n",
       "      <td>18436</td>\n",
       "      <td>6408</td>\n",
       "      <td>24844</td>\n",
       "      <td>0.742071</td>\n",
       "      <td>0.257929</td>\n",
       "    </tr>\n",
       "    <tr>\n",
       "      <th>1500-2000</th>\n",
       "      <td>9482</td>\n",
       "      <td>3084</td>\n",
       "      <td>12566</td>\n",
       "      <td>0.754576</td>\n",
       "      <td>0.245424</td>\n",
       "    </tr>\n",
       "    <tr>\n",
       "      <th>2000-3000</th>\n",
       "      <td>4353</td>\n",
       "      <td>1203</td>\n",
       "      <td>5556</td>\n",
       "      <td>0.783477</td>\n",
       "      <td>0.216523</td>\n",
       "    </tr>\n",
       "    <tr>\n",
       "      <th>All</th>\n",
       "      <td>40937</td>\n",
       "      <td>14290</td>\n",
       "      <td>55227</td>\n",
       "      <td>0.741250</td>\n",
       "      <td>0.258750</td>\n",
       "    </tr>\n",
       "  </tbody>\n",
       "</table>\n",
       "</div>"
      ],
      "text/plain": [
       "Status         0      1    All         0         1\n",
       "Income                                            \n",
       "+3000       1687    448   2135  0.790164  0.209836\n",
       "0-1000      6979   3147  10126  0.689216  0.310784\n",
       "1000-1500  18436   6408  24844  0.742071  0.257929\n",
       "1500-2000   9482   3084  12566  0.754576  0.245424\n",
       "2000-3000   4353   1203   5556  0.783477  0.216523\n",
       "All        40937  14290  55227  0.741250  0.258750"
      ]
     },
     "execution_count": 41,
     "metadata": {},
     "output_type": "execute_result"
    }
   ],
   "source": [
    "tab1 = pd.crosstab(data[\"Income\"], data[\"Status\"], margins = True)\n",
    "tab2 = pd.crosstab(data[\"Income\"], data[\"Status\"], margins = True, normalize = 'index')\n",
    "pd.concat([tab1, tab2], axis = 1)"
   ]
  },
  {
   "cell_type": "markdown",
   "metadata": {},
   "source": [
    "Días Activo:"
   ]
  },
  {
   "cell_type": "code",
   "execution_count": 42,
   "metadata": {},
   "outputs": [
    {
     "data": {
      "text/html": [
       "<div>\n",
       "<style scoped>\n",
       "    .dataframe tbody tr th:only-of-type {\n",
       "        vertical-align: middle;\n",
       "    }\n",
       "\n",
       "    .dataframe tbody tr th {\n",
       "        vertical-align: top;\n",
       "    }\n",
       "\n",
       "    .dataframe thead th {\n",
       "        text-align: right;\n",
       "    }\n",
       "</style>\n",
       "<table border=\"1\" class=\"dataframe\">\n",
       "  <thead>\n",
       "    <tr style=\"text-align: right;\">\n",
       "      <th></th>\n",
       "      <th>Start Date</th>\n",
       "      <th>Cliente</th>\n",
       "      <th>Client Type</th>\n",
       "      <th>Modelo</th>\n",
       "      <th>Provincia</th>\n",
       "      <th>Gender</th>\n",
       "      <th>Nationality</th>\n",
       "      <th>Born Date</th>\n",
       "      <th>Housing Type</th>\n",
       "      <th>Labor Situation</th>\n",
       "      <th>Marital Status</th>\n",
       "      <th>Income Amount</th>\n",
       "      <th>Number Pay</th>\n",
       "      <th>Status Date</th>\n",
       "      <th>Status</th>\n",
       "      <th>Property Type</th>\n",
       "      <th>Financiado</th>\n",
       "      <th>Rango Precio</th>\n",
       "      <th>Resumen Precio</th>\n",
       "      <th>Precio Contado</th>\n",
       "      <th>Precio Total</th>\n",
       "      <th>Precio Mensualidad</th>\n",
       "      <th>Quejas</th>\n",
       "      <th>Incidencias</th>\n",
       "      <th>Edad</th>\n",
       "      <th>Rango_Edad</th>\n",
       "      <th>Income</th>\n",
       "      <th>Dias_Activo</th>\n",
       "    </tr>\n",
       "  </thead>\n",
       "  <tbody>\n",
       "    <tr>\n",
       "      <th>0</th>\n",
       "      <td>2015-01-02</td>\n",
       "      <td>17</td>\n",
       "      <td>Normal</td>\n",
       "      <td>V1</td>\n",
       "      <td>Alicante</td>\n",
       "      <td>HOMBRE</td>\n",
       "      <td>ES - ESPAÑOLA</td>\n",
       "      <td>1973-05-19</td>\n",
       "      <td>1 - PROPIEDAD SIN HIPOTECA</td>\n",
       "      <td>04 AUTONOMO</td>\n",
       "      <td>2 - CASADO</td>\n",
       "      <td>2500</td>\n",
       "      <td>14</td>\n",
       "      <td>2017-09-15</td>\n",
       "      <td>1</td>\n",
       "      <td>Chalet, villa</td>\n",
       "      <td>Financiado</td>\n",
       "      <td>A 0</td>\n",
       "      <td>0+(36*10)</td>\n",
       "      <td>0</td>\n",
       "      <td>360</td>\n",
       "      <td>10</td>\n",
       "      <td>1</td>\n",
       "      <td>0</td>\n",
       "      <td>44.356164</td>\n",
       "      <td>40-50</td>\n",
       "      <td>2000-3000</td>\n",
       "      <td>987</td>\n",
       "    </tr>\n",
       "    <tr>\n",
       "      <th>1</th>\n",
       "      <td>2015-01-03</td>\n",
       "      <td>58</td>\n",
       "      <td>Normal</td>\n",
       "      <td>V1</td>\n",
       "      <td>Alicante</td>\n",
       "      <td>HOMBRE</td>\n",
       "      <td>ES - ESPAÑOLA</td>\n",
       "      <td>1976-05-08</td>\n",
       "      <td>1 - PROPIEDAD SIN HIPOTECA</td>\n",
       "      <td>06 PARADO</td>\n",
       "      <td>1 - SOLTERO</td>\n",
       "      <td>1200</td>\n",
       "      <td>14</td>\n",
       "      <td>2017-12-31</td>\n",
       "      <td>1</td>\n",
       "      <td>Apartamento</td>\n",
       "      <td>Financiado</td>\n",
       "      <td>A 0</td>\n",
       "      <td>0+(36*10)</td>\n",
       "      <td>0</td>\n",
       "      <td>360</td>\n",
       "      <td>10</td>\n",
       "      <td>0</td>\n",
       "      <td>0</td>\n",
       "      <td>41.676712</td>\n",
       "      <td>40-50</td>\n",
       "      <td>1000-1500</td>\n",
       "      <td>1093</td>\n",
       "    </tr>\n",
       "    <tr>\n",
       "      <th>2</th>\n",
       "      <td>2015-01-05</td>\n",
       "      <td>91</td>\n",
       "      <td>Normal</td>\n",
       "      <td>V1</td>\n",
       "      <td>Valencia</td>\n",
       "      <td>HOMBRE</td>\n",
       "      <td>ES - ESPAÑOLA</td>\n",
       "      <td>1982-03-15</td>\n",
       "      <td>1 - PROPIEDAD SIN HIPOTECA</td>\n",
       "      <td>02 ASALARIADO TEMPORAL</td>\n",
       "      <td>1 - SOLTERO</td>\n",
       "      <td>800</td>\n",
       "      <td>14</td>\n",
       "      <td>2018-02-28</td>\n",
       "      <td>1</td>\n",
       "      <td>Chalet, villa</td>\n",
       "      <td>Financiado</td>\n",
       "      <td>Entre 000-050</td>\n",
       "      <td>49+(36*10)</td>\n",
       "      <td>49</td>\n",
       "      <td>409</td>\n",
       "      <td>10</td>\n",
       "      <td>1</td>\n",
       "      <td>0</td>\n",
       "      <td>35.983562</td>\n",
       "      <td>30-40</td>\n",
       "      <td>0-1000</td>\n",
       "      <td>1150</td>\n",
       "    </tr>\n",
       "    <tr>\n",
       "      <th>3</th>\n",
       "      <td>2015-01-05</td>\n",
       "      <td>111</td>\n",
       "      <td>Normal</td>\n",
       "      <td>V1</td>\n",
       "      <td>Alicante</td>\n",
       "      <td>HOMBRE</td>\n",
       "      <td>ES - ESPAÑOLA</td>\n",
       "      <td>1976-02-02</td>\n",
       "      <td>1 - PROPIEDAD SIN HIPOTECA</td>\n",
       "      <td>04 AUTONOMO</td>\n",
       "      <td>2 - CASADO</td>\n",
       "      <td>1500</td>\n",
       "      <td>12</td>\n",
       "      <td>2015-01-07</td>\n",
       "      <td>0</td>\n",
       "      <td>Chalet, villa</td>\n",
       "      <td>Financiado</td>\n",
       "      <td>A 0</td>\n",
       "      <td>0+(36*10)</td>\n",
       "      <td>0</td>\n",
       "      <td>360</td>\n",
       "      <td>10</td>\n",
       "      <td>1</td>\n",
       "      <td>0</td>\n",
       "      <td>44.994521</td>\n",
       "      <td>40-50</td>\n",
       "      <td>1000-1500</td>\n",
       "      <td>2206</td>\n",
       "    </tr>\n",
       "    <tr>\n",
       "      <th>4</th>\n",
       "      <td>2015-01-05</td>\n",
       "      <td>118</td>\n",
       "      <td>Normal</td>\n",
       "      <td>V1</td>\n",
       "      <td>Alicante</td>\n",
       "      <td>MUJER</td>\n",
       "      <td>ES - ESPAÑOLA</td>\n",
       "      <td>1989-07-31</td>\n",
       "      <td>1 - PROPIEDAD SIN HIPOTECA</td>\n",
       "      <td>06 PARADO</td>\n",
       "      <td>1 - SOLTERO</td>\n",
       "      <td>1000</td>\n",
       "      <td>12</td>\n",
       "      <td>2018-03-15</td>\n",
       "      <td>1</td>\n",
       "      <td>Apartamento</td>\n",
       "      <td>Financiado</td>\n",
       "      <td>A 0</td>\n",
       "      <td>0+(36*10)</td>\n",
       "      <td>0</td>\n",
       "      <td>360</td>\n",
       "      <td>10</td>\n",
       "      <td>0</td>\n",
       "      <td>53</td>\n",
       "      <td>28.641096</td>\n",
       "      <td>18-30</td>\n",
       "      <td>0-1000</td>\n",
       "      <td>1165</td>\n",
       "    </tr>\n",
       "  </tbody>\n",
       "</table>\n",
       "</div>"
      ],
      "text/plain": [
       "  Start Date Cliente  Client Type Modelo Provincia  Gender    Nationality  \\\n",
       "0 2015-01-02      17  Normal          V1  Alicante  HOMBRE  ES - ESPAÑOLA   \n",
       "1 2015-01-03      58  Normal          V1  Alicante  HOMBRE  ES - ESPAÑOLA   \n",
       "2 2015-01-05      91  Normal          V1  Valencia  HOMBRE  ES - ESPAÑOLA   \n",
       "3 2015-01-05     111  Normal          V1  Alicante  HOMBRE  ES - ESPAÑOLA   \n",
       "4 2015-01-05     118  Normal          V1  Alicante   MUJER  ES - ESPAÑOLA   \n",
       "\n",
       "   Born Date                Housing Type         Labor Situation  \\\n",
       "0 1973-05-19  1 - PROPIEDAD SIN HIPOTECA             04 AUTONOMO   \n",
       "1 1976-05-08  1 - PROPIEDAD SIN HIPOTECA               06 PARADO   \n",
       "2 1982-03-15  1 - PROPIEDAD SIN HIPOTECA  02 ASALARIADO TEMPORAL   \n",
       "3 1976-02-02  1 - PROPIEDAD SIN HIPOTECA             04 AUTONOMO   \n",
       "4 1989-07-31  1 - PROPIEDAD SIN HIPOTECA               06 PARADO   \n",
       "\n",
       "  Marital Status  Income Amount  Number Pay Status Date  Status  \\\n",
       "0     2 - CASADO           2500          14  2017-09-15       1   \n",
       "1    1 - SOLTERO           1200          14  2017-12-31       1   \n",
       "2    1 - SOLTERO            800          14  2018-02-28       1   \n",
       "3     2 - CASADO           1500          12  2015-01-07       0   \n",
       "4    1 - SOLTERO           1000          12  2018-03-15       1   \n",
       "\n",
       "   Property Type  Financiado   Rango Precio Resumen Precio  Precio Contado  \\\n",
       "0  Chalet, villa  Financiado            A 0      0+(36*10)               0   \n",
       "1    Apartamento  Financiado            A 0      0+(36*10)               0   \n",
       "2  Chalet, villa  Financiado  Entre 000-050     49+(36*10)              49   \n",
       "3  Chalet, villa  Financiado            A 0      0+(36*10)               0   \n",
       "4    Apartamento  Financiado            A 0      0+(36*10)               0   \n",
       "\n",
       "   Precio Total  Precio Mensualidad  Quejas  Incidencias       Edad  \\\n",
       "0           360                  10       1            0  44.356164   \n",
       "1           360                  10       0            0  41.676712   \n",
       "2           409                  10       1            0  35.983562   \n",
       "3           360                  10       1            0  44.994521   \n",
       "4           360                  10       0           53  28.641096   \n",
       "\n",
       "  Rango_Edad     Income  Dias_Activo  \n",
       "0      40-50  2000-3000          987  \n",
       "1      40-50  1000-1500         1093  \n",
       "2      30-40     0-1000         1150  \n",
       "3      40-50  1000-1500         2206  \n",
       "4      18-30     0-1000         1165  "
      ]
     },
     "execution_count": 42,
     "metadata": {},
     "output_type": "execute_result"
    }
   ],
   "source": [
    "# Días hasta el 19/01/2021 si OP y hasta cuando se dio de baja si BAJA\n",
    "\n",
    "data['Dias_Activo'] = 0\n",
    "fecha = datetime(2021, 1, 19)\n",
    "\n",
    "for i in range(len(data['Start Date'])):\n",
    "    if data.loc[i, 'Status'] == 0:\n",
    "        data.loc[i,'Dias_Activo'] = (fecha - data.loc[i,'Start Date']).days\n",
    "    else:\n",
    "        data.loc[i,'Dias_Activo'] = (data.loc[i,'Status Date'] - data.loc[i,'Start Date']).days\n",
    "                        \n",
    "data.head()"
   ]
  },
  {
   "cell_type": "code",
   "execution_count": 43,
   "metadata": {},
   "outputs": [
    {
     "data": {
      "image/png": "[encoded data removed]",
      "text/plain": [
       "<Figure size 432x288 with 1 Axes>"
      ]
     },
     "metadata": {
      "needs_background": "light"
     },
     "output_type": "display_data"
    }
   ],
   "source": [
    "plt.hist(data['Dias_Activo']);"
   ]
  },
  {
   "cell_type": "code",
   "execution_count": 44,
   "metadata": {},
   "outputs": [
    {
     "data": {
      "text/plain": [
       "<matplotlib.axes._subplots.AxesSubplot at 0x2282c541ca0>"
      ]
     },
     "execution_count": 44,
     "metadata": {},
     "output_type": "execute_result"
    },
    {
     "data": {
      "image/png": "[encoded data removed]",
      "text/plain": [
       "<Figure size 432x288 with 1 Axes>"
      ]
     },
     "metadata": {
      "needs_background": "light"
     },
     "output_type": "display_data"
    }
   ],
   "source": [
    "sns.histplot(data = data, x = 'Dias_Activo', hue = 'Status', multiple = 'stack')"
   ]
  },
  {
   "cell_type": "code",
   "execution_count": 45,
   "metadata": {
    "scrolled": false
   },
   "outputs": [
    {
     "data": {
      "text/html": [
       "<div>\n",
       "<style scoped>\n",
       "    .dataframe tbody tr th:only-of-type {\n",
       "        vertical-align: middle;\n",
       "    }\n",
       "\n",
       "    .dataframe tbody tr th {\n",
       "        vertical-align: top;\n",
       "    }\n",
       "\n",
       "    .dataframe thead th {\n",
       "        text-align: right;\n",
       "    }\n",
       "</style>\n",
       "<table border=\"1\" class=\"dataframe\">\n",
       "  <thead>\n",
       "    <tr style=\"text-align: right;\">\n",
       "      <th></th>\n",
       "      <th>Start Date</th>\n",
       "      <th>Cliente</th>\n",
       "      <th>Client Type</th>\n",
       "      <th>Modelo</th>\n",
       "      <th>Provincia</th>\n",
       "      <th>Gender</th>\n",
       "      <th>Nationality</th>\n",
       "      <th>Born Date</th>\n",
       "      <th>Housing Type</th>\n",
       "      <th>Labor Situation</th>\n",
       "      <th>Marital Status</th>\n",
       "      <th>Income Amount</th>\n",
       "      <th>Number Pay</th>\n",
       "      <th>Status Date</th>\n",
       "      <th>Status</th>\n",
       "      <th>Property Type</th>\n",
       "      <th>Financiado</th>\n",
       "      <th>Rango Precio</th>\n",
       "      <th>Resumen Precio</th>\n",
       "      <th>Precio Contado</th>\n",
       "      <th>Precio Total</th>\n",
       "      <th>Precio Mensualidad</th>\n",
       "      <th>Quejas</th>\n",
       "      <th>Incidencias</th>\n",
       "      <th>Edad</th>\n",
       "      <th>Rango_Edad</th>\n",
       "      <th>Income</th>\n",
       "      <th>Dias_Activo</th>\n",
       "      <th>Dias_Activo_sca</th>\n",
       "    </tr>\n",
       "  </thead>\n",
       "  <tbody>\n",
       "    <tr>\n",
       "      <th>0</th>\n",
       "      <td>2015-01-02</td>\n",
       "      <td>17</td>\n",
       "      <td>Normal</td>\n",
       "      <td>V1</td>\n",
       "      <td>Alicante</td>\n",
       "      <td>HOMBRE</td>\n",
       "      <td>ES - ESPAÑOLA</td>\n",
       "      <td>1973-05-19</td>\n",
       "      <td>1 - PROPIEDAD SIN HIPOTECA</td>\n",
       "      <td>04 AUTONOMO</td>\n",
       "      <td>2 - CASADO</td>\n",
       "      <td>2500</td>\n",
       "      <td>14</td>\n",
       "      <td>2017-09-15</td>\n",
       "      <td>1</td>\n",
       "      <td>Chalet, villa</td>\n",
       "      <td>Financiado</td>\n",
       "      <td>A 0</td>\n",
       "      <td>0+(36*10)</td>\n",
       "      <td>0</td>\n",
       "      <td>360</td>\n",
       "      <td>10</td>\n",
       "      <td>1</td>\n",
       "      <td>0</td>\n",
       "      <td>44.356164</td>\n",
       "      <td>40-50</td>\n",
       "      <td>2000-3000</td>\n",
       "      <td>987</td>\n",
       "      <td>0.437694</td>\n",
       "    </tr>\n",
       "    <tr>\n",
       "      <th>1</th>\n",
       "      <td>2015-01-03</td>\n",
       "      <td>58</td>\n",
       "      <td>Normal</td>\n",
       "      <td>V1</td>\n",
       "      <td>Alicante</td>\n",
       "      <td>HOMBRE</td>\n",
       "      <td>ES - ESPAÑOLA</td>\n",
       "      <td>1976-05-08</td>\n",
       "      <td>1 - PROPIEDAD SIN HIPOTECA</td>\n",
       "      <td>06 PARADO</td>\n",
       "      <td>1 - SOLTERO</td>\n",
       "      <td>1200</td>\n",
       "      <td>14</td>\n",
       "      <td>2017-12-31</td>\n",
       "      <td>1</td>\n",
       "      <td>Apartamento</td>\n",
       "      <td>Financiado</td>\n",
       "      <td>A 0</td>\n",
       "      <td>0+(36*10)</td>\n",
       "      <td>0</td>\n",
       "      <td>360</td>\n",
       "      <td>10</td>\n",
       "      <td>0</td>\n",
       "      <td>0</td>\n",
       "      <td>41.676712</td>\n",
       "      <td>40-50</td>\n",
       "      <td>1000-1500</td>\n",
       "      <td>1093</td>\n",
       "      <td>0.484701</td>\n",
       "    </tr>\n",
       "    <tr>\n",
       "      <th>2</th>\n",
       "      <td>2015-01-05</td>\n",
       "      <td>91</td>\n",
       "      <td>Normal</td>\n",
       "      <td>V1</td>\n",
       "      <td>Valencia</td>\n",
       "      <td>HOMBRE</td>\n",
       "      <td>ES - ESPAÑOLA</td>\n",
       "      <td>1982-03-15</td>\n",
       "      <td>1 - PROPIEDAD SIN HIPOTECA</td>\n",
       "      <td>02 ASALARIADO TEMPORAL</td>\n",
       "      <td>1 - SOLTERO</td>\n",
       "      <td>800</td>\n",
       "      <td>14</td>\n",
       "      <td>2018-02-28</td>\n",
       "      <td>1</td>\n",
       "      <td>Chalet, villa</td>\n",
       "      <td>Financiado</td>\n",
       "      <td>Entre 000-050</td>\n",
       "      <td>49+(36*10)</td>\n",
       "      <td>49</td>\n",
       "      <td>409</td>\n",
       "      <td>10</td>\n",
       "      <td>1</td>\n",
       "      <td>0</td>\n",
       "      <td>35.983562</td>\n",
       "      <td>30-40</td>\n",
       "      <td>0-1000</td>\n",
       "      <td>1150</td>\n",
       "      <td>0.509978</td>\n",
       "    </tr>\n",
       "    <tr>\n",
       "      <th>3</th>\n",
       "      <td>2015-01-05</td>\n",
       "      <td>111</td>\n",
       "      <td>Normal</td>\n",
       "      <td>V1</td>\n",
       "      <td>Alicante</td>\n",
       "      <td>HOMBRE</td>\n",
       "      <td>ES - ESPAÑOLA</td>\n",
       "      <td>1976-02-02</td>\n",
       "      <td>1 - PROPIEDAD SIN HIPOTECA</td>\n",
       "      <td>04 AUTONOMO</td>\n",
       "      <td>2 - CASADO</td>\n",
       "      <td>1500</td>\n",
       "      <td>12</td>\n",
       "      <td>2015-01-07</td>\n",
       "      <td>0</td>\n",
       "      <td>Chalet, villa</td>\n",
       "      <td>Financiado</td>\n",
       "      <td>A 0</td>\n",
       "      <td>0+(36*10)</td>\n",
       "      <td>0</td>\n",
       "      <td>360</td>\n",
       "      <td>10</td>\n",
       "      <td>1</td>\n",
       "      <td>0</td>\n",
       "      <td>44.994521</td>\n",
       "      <td>40-50</td>\n",
       "      <td>1000-1500</td>\n",
       "      <td>2206</td>\n",
       "      <td>0.978271</td>\n",
       "    </tr>\n",
       "    <tr>\n",
       "      <th>4</th>\n",
       "      <td>2015-01-05</td>\n",
       "      <td>118</td>\n",
       "      <td>Normal</td>\n",
       "      <td>V1</td>\n",
       "      <td>Alicante</td>\n",
       "      <td>MUJER</td>\n",
       "      <td>ES - ESPAÑOLA</td>\n",
       "      <td>1989-07-31</td>\n",
       "      <td>1 - PROPIEDAD SIN HIPOTECA</td>\n",
       "      <td>06 PARADO</td>\n",
       "      <td>1 - SOLTERO</td>\n",
       "      <td>1000</td>\n",
       "      <td>12</td>\n",
       "      <td>2018-03-15</td>\n",
       "      <td>1</td>\n",
       "      <td>Apartamento</td>\n",
       "      <td>Financiado</td>\n",
       "      <td>A 0</td>\n",
       "      <td>0+(36*10)</td>\n",
       "      <td>0</td>\n",
       "      <td>360</td>\n",
       "      <td>10</td>\n",
       "      <td>0</td>\n",
       "      <td>53</td>\n",
       "      <td>28.641096</td>\n",
       "      <td>18-30</td>\n",
       "      <td>0-1000</td>\n",
       "      <td>1165</td>\n",
       "      <td>0.516630</td>\n",
       "    </tr>\n",
       "  </tbody>\n",
       "</table>\n",
       "</div>"
      ],
      "text/plain": [
       "  Start Date Cliente  Client Type Modelo Provincia  Gender    Nationality  \\\n",
       "0 2015-01-02      17  Normal          V1  Alicante  HOMBRE  ES - ESPAÑOLA   \n",
       "1 2015-01-03      58  Normal          V1  Alicante  HOMBRE  ES - ESPAÑOLA   \n",
       "2 2015-01-05      91  Normal          V1  Valencia  HOMBRE  ES - ESPAÑOLA   \n",
       "3 2015-01-05     111  Normal          V1  Alicante  HOMBRE  ES - ESPAÑOLA   \n",
       "4 2015-01-05     118  Normal          V1  Alicante   MUJER  ES - ESPAÑOLA   \n",
       "\n",
       "   Born Date                Housing Type         Labor Situation  \\\n",
       "0 1973-05-19  1 - PROPIEDAD SIN HIPOTECA             04 AUTONOMO   \n",
       "1 1976-05-08  1 - PROPIEDAD SIN HIPOTECA               06 PARADO   \n",
       "2 1982-03-15  1 - PROPIEDAD SIN HIPOTECA  02 ASALARIADO TEMPORAL   \n",
       "3 1976-02-02  1 - PROPIEDAD SIN HIPOTECA             04 AUTONOMO   \n",
       "4 1989-07-31  1 - PROPIEDAD SIN HIPOTECA               06 PARADO   \n",
       "\n",
       "  Marital Status  Income Amount  Number Pay Status Date  Status  \\\n",
       "0     2 - CASADO           2500          14  2017-09-15       1   \n",
       "1    1 - SOLTERO           1200          14  2017-12-31       1   \n",
       "2    1 - SOLTERO            800          14  2018-02-28       1   \n",
       "3     2 - CASADO           1500          12  2015-01-07       0   \n",
       "4    1 - SOLTERO           1000          12  2018-03-15       1   \n",
       "\n",
       "   Property Type  Financiado   Rango Precio Resumen Precio  Precio Contado  \\\n",
       "0  Chalet, villa  Financiado            A 0      0+(36*10)               0   \n",
       "1    Apartamento  Financiado            A 0      0+(36*10)               0   \n",
       "2  Chalet, villa  Financiado  Entre 000-050     49+(36*10)              49   \n",
       "3  Chalet, villa  Financiado            A 0      0+(36*10)               0   \n",
       "4    Apartamento  Financiado            A 0      0+(36*10)               0   \n",
       "\n",
       "   Precio Total  Precio Mensualidad  Quejas  Incidencias       Edad  \\\n",
       "0           360                  10       1            0  44.356164   \n",
       "1           360                  10       0            0  41.676712   \n",
       "2           409                  10       1            0  35.983562   \n",
       "3           360                  10       1            0  44.994521   \n",
       "4           360                  10       0           53  28.641096   \n",
       "\n",
       "  Rango_Edad     Income  Dias_Activo  Dias_Activo_sca  \n",
       "0      40-50  2000-3000          987         0.437694  \n",
       "1      40-50  1000-1500         1093         0.484701  \n",
       "2      30-40     0-1000         1150         0.509978  \n",
       "3      40-50  1000-1500         2206         0.978271  \n",
       "4      18-30     0-1000         1165         0.516630  "
      ]
     },
     "execution_count": 45,
     "metadata": {},
     "output_type": "execute_result"
    }
   ],
   "source": [
    "from sklearn.preprocessing import MinMaxScaler\n",
    "\n",
    "scaler = MinMaxScaler()\n",
    "data['Dias_Activo_sca'] = scaler.fit_transform(data['Dias_Activo'].values.reshape(-1, 1))\n",
    "\n",
    "data.head()"
   ]
  },
  {
   "cell_type": "code",
   "execution_count": 46,
   "metadata": {},
   "outputs": [],
   "source": [
    "filename = '../mvp_pkl/dias_activo_sca.pkl'\n",
    "dias_activo_sca = scaler.fit(data['Dias_Activo'].values.reshape(-1, 1))\n",
    "\n",
    "pickle.dump(dias_activo_sca, open(filename,'wb'))"
   ]
  },
  {
   "cell_type": "code",
   "execution_count": 47,
   "metadata": {},
   "outputs": [
    {
     "data": {
      "image/png": "[encoded data removed]",
      "text/plain": [
       "<Figure size 432x288 with 1 Axes>"
      ]
     },
     "metadata": {
      "needs_background": "light"
     },
     "output_type": "display_data"
    }
   ],
   "source": [
    "plt.hist(data['Dias_Activo_sca']);"
   ]
  },
  {
   "cell_type": "markdown",
   "metadata": {},
   "source": [
    "Escalado de Quejas y Missing Test (MT):"
   ]
  },
  {
   "cell_type": "code",
   "execution_count": 48,
   "metadata": {},
   "outputs": [
    {
     "data": {
      "text/html": [
       "<div>\n",
       "<style scoped>\n",
       "    .dataframe tbody tr th:only-of-type {\n",
       "        vertical-align: middle;\n",
       "    }\n",
       "\n",
       "    .dataframe tbody tr th {\n",
       "        vertical-align: top;\n",
       "    }\n",
       "\n",
       "    .dataframe thead th {\n",
       "        text-align: right;\n",
       "    }\n",
       "</style>\n",
       "<table border=\"1\" class=\"dataframe\">\n",
       "  <thead>\n",
       "    <tr style=\"text-align: right;\">\n",
       "      <th></th>\n",
       "      <th>Start Date</th>\n",
       "      <th>Cliente</th>\n",
       "      <th>Client Type</th>\n",
       "      <th>Modelo</th>\n",
       "      <th>Provincia</th>\n",
       "      <th>Gender</th>\n",
       "      <th>Nationality</th>\n",
       "      <th>Born Date</th>\n",
       "      <th>Housing Type</th>\n",
       "      <th>Labor Situation</th>\n",
       "      <th>Marital Status</th>\n",
       "      <th>Income Amount</th>\n",
       "      <th>Number Pay</th>\n",
       "      <th>Status Date</th>\n",
       "      <th>Status</th>\n",
       "      <th>Property Type</th>\n",
       "      <th>Financiado</th>\n",
       "      <th>Rango Precio</th>\n",
       "      <th>Resumen Precio</th>\n",
       "      <th>Precio Contado</th>\n",
       "      <th>Precio Total</th>\n",
       "      <th>Precio Mensualidad</th>\n",
       "      <th>Quejas</th>\n",
       "      <th>Incidencias</th>\n",
       "      <th>Edad</th>\n",
       "      <th>Rango_Edad</th>\n",
       "      <th>Income</th>\n",
       "      <th>Dias_Activo</th>\n",
       "      <th>Dias_Activo_sca</th>\n",
       "      <th>Quejas_sca</th>\n",
       "    </tr>\n",
       "  </thead>\n",
       "  <tbody>\n",
       "    <tr>\n",
       "      <th>0</th>\n",
       "      <td>2015-01-02</td>\n",
       "      <td>17</td>\n",
       "      <td>Normal</td>\n",
       "      <td>V1</td>\n",
       "      <td>Alicante</td>\n",
       "      <td>HOMBRE</td>\n",
       "      <td>ES - ESPAÑOLA</td>\n",
       "      <td>1973-05-19</td>\n",
       "      <td>1 - PROPIEDAD SIN HIPOTECA</td>\n",
       "      <td>04 AUTONOMO</td>\n",
       "      <td>2 - CASADO</td>\n",
       "      <td>2500</td>\n",
       "      <td>14</td>\n",
       "      <td>2017-09-15</td>\n",
       "      <td>1</td>\n",
       "      <td>Chalet, villa</td>\n",
       "      <td>Financiado</td>\n",
       "      <td>A 0</td>\n",
       "      <td>0+(36*10)</td>\n",
       "      <td>0</td>\n",
       "      <td>360</td>\n",
       "      <td>10</td>\n",
       "      <td>1</td>\n",
       "      <td>0</td>\n",
       "      <td>44.356164</td>\n",
       "      <td>40-50</td>\n",
       "      <td>2000-3000</td>\n",
       "      <td>987</td>\n",
       "      <td>0.437694</td>\n",
       "      <td>0.035714</td>\n",
       "    </tr>\n",
       "    <tr>\n",
       "      <th>1</th>\n",
       "      <td>2015-01-03</td>\n",
       "      <td>58</td>\n",
       "      <td>Normal</td>\n",
       "      <td>V1</td>\n",
       "      <td>Alicante</td>\n",
       "      <td>HOMBRE</td>\n",
       "      <td>ES - ESPAÑOLA</td>\n",
       "      <td>1976-05-08</td>\n",
       "      <td>1 - PROPIEDAD SIN HIPOTECA</td>\n",
       "      <td>06 PARADO</td>\n",
       "      <td>1 - SOLTERO</td>\n",
       "      <td>1200</td>\n",
       "      <td>14</td>\n",
       "      <td>2017-12-31</td>\n",
       "      <td>1</td>\n",
       "      <td>Apartamento</td>\n",
       "      <td>Financiado</td>\n",
       "      <td>A 0</td>\n",
       "      <td>0+(36*10)</td>\n",
       "      <td>0</td>\n",
       "      <td>360</td>\n",
       "      <td>10</td>\n",
       "      <td>0</td>\n",
       "      <td>0</td>\n",
       "      <td>41.676712</td>\n",
       "      <td>40-50</td>\n",
       "      <td>1000-1500</td>\n",
       "      <td>1093</td>\n",
       "      <td>0.484701</td>\n",
       "      <td>0.000000</td>\n",
       "    </tr>\n",
       "    <tr>\n",
       "      <th>2</th>\n",
       "      <td>2015-01-05</td>\n",
       "      <td>91</td>\n",
       "      <td>Normal</td>\n",
       "      <td>V1</td>\n",
       "      <td>Valencia</td>\n",
       "      <td>HOMBRE</td>\n",
       "      <td>ES - ESPAÑOLA</td>\n",
       "      <td>1982-03-15</td>\n",
       "      <td>1 - PROPIEDAD SIN HIPOTECA</td>\n",
       "      <td>02 ASALARIADO TEMPORAL</td>\n",
       "      <td>1 - SOLTERO</td>\n",
       "      <td>800</td>\n",
       "      <td>14</td>\n",
       "      <td>2018-02-28</td>\n",
       "      <td>1</td>\n",
       "      <td>Chalet, villa</td>\n",
       "      <td>Financiado</td>\n",
       "      <td>Entre 000-050</td>\n",
       "      <td>49+(36*10)</td>\n",
       "      <td>49</td>\n",
       "      <td>409</td>\n",
       "      <td>10</td>\n",
       "      <td>1</td>\n",
       "      <td>0</td>\n",
       "      <td>35.983562</td>\n",
       "      <td>30-40</td>\n",
       "      <td>0-1000</td>\n",
       "      <td>1150</td>\n",
       "      <td>0.509978</td>\n",
       "      <td>0.035714</td>\n",
       "    </tr>\n",
       "    <tr>\n",
       "      <th>3</th>\n",
       "      <td>2015-01-05</td>\n",
       "      <td>111</td>\n",
       "      <td>Normal</td>\n",
       "      <td>V1</td>\n",
       "      <td>Alicante</td>\n",
       "      <td>HOMBRE</td>\n",
       "      <td>ES - ESPAÑOLA</td>\n",
       "      <td>1976-02-02</td>\n",
       "      <td>1 - PROPIEDAD SIN HIPOTECA</td>\n",
       "      <td>04 AUTONOMO</td>\n",
       "      <td>2 - CASADO</td>\n",
       "      <td>1500</td>\n",
       "      <td>12</td>\n",
       "      <td>2015-01-07</td>\n",
       "      <td>0</td>\n",
       "      <td>Chalet, villa</td>\n",
       "      <td>Financiado</td>\n",
       "      <td>A 0</td>\n",
       "      <td>0+(36*10)</td>\n",
       "      <td>0</td>\n",
       "      <td>360</td>\n",
       "      <td>10</td>\n",
       "      <td>1</td>\n",
       "      <td>0</td>\n",
       "      <td>44.994521</td>\n",
       "      <td>40-50</td>\n",
       "      <td>1000-1500</td>\n",
       "      <td>2206</td>\n",
       "      <td>0.978271</td>\n",
       "      <td>0.035714</td>\n",
       "    </tr>\n",
       "    <tr>\n",
       "      <th>4</th>\n",
       "      <td>2015-01-05</td>\n",
       "      <td>118</td>\n",
       "      <td>Normal</td>\n",
       "      <td>V1</td>\n",
       "      <td>Alicante</td>\n",
       "      <td>MUJER</td>\n",
       "      <td>ES - ESPAÑOLA</td>\n",
       "      <td>1989-07-31</td>\n",
       "      <td>1 - PROPIEDAD SIN HIPOTECA</td>\n",
       "      <td>06 PARADO</td>\n",
       "      <td>1 - SOLTERO</td>\n",
       "      <td>1000</td>\n",
       "      <td>12</td>\n",
       "      <td>2018-03-15</td>\n",
       "      <td>1</td>\n",
       "      <td>Apartamento</td>\n",
       "      <td>Financiado</td>\n",
       "      <td>A 0</td>\n",
       "      <td>0+(36*10)</td>\n",
       "      <td>0</td>\n",
       "      <td>360</td>\n",
       "      <td>10</td>\n",
       "      <td>0</td>\n",
       "      <td>53</td>\n",
       "      <td>28.641096</td>\n",
       "      <td>18-30</td>\n",
       "      <td>0-1000</td>\n",
       "      <td>1165</td>\n",
       "      <td>0.516630</td>\n",
       "      <td>0.000000</td>\n",
       "    </tr>\n",
       "  </tbody>\n",
       "</table>\n",
       "</div>"
      ],
      "text/plain": [
       "  Start Date Cliente  Client Type Modelo Provincia  Gender    Nationality  \\\n",
       "0 2015-01-02      17  Normal          V1  Alicante  HOMBRE  ES - ESPAÑOLA   \n",
       "1 2015-01-03      58  Normal          V1  Alicante  HOMBRE  ES - ESPAÑOLA   \n",
       "2 2015-01-05      91  Normal          V1  Valencia  HOMBRE  ES - ESPAÑOLA   \n",
       "3 2015-01-05     111  Normal          V1  Alicante  HOMBRE  ES - ESPAÑOLA   \n",
       "4 2015-01-05     118  Normal          V1  Alicante   MUJER  ES - ESPAÑOLA   \n",
       "\n",
       "   Born Date                Housing Type         Labor Situation  \\\n",
       "0 1973-05-19  1 - PROPIEDAD SIN HIPOTECA             04 AUTONOMO   \n",
       "1 1976-05-08  1 - PROPIEDAD SIN HIPOTECA               06 PARADO   \n",
       "2 1982-03-15  1 - PROPIEDAD SIN HIPOTECA  02 ASALARIADO TEMPORAL   \n",
       "3 1976-02-02  1 - PROPIEDAD SIN HIPOTECA             04 AUTONOMO   \n",
       "4 1989-07-31  1 - PROPIEDAD SIN HIPOTECA               06 PARADO   \n",
       "\n",
       "  Marital Status  Income Amount  Number Pay Status Date  Status  \\\n",
       "0     2 - CASADO           2500          14  2017-09-15       1   \n",
       "1    1 - SOLTERO           1200          14  2017-12-31       1   \n",
       "2    1 - SOLTERO            800          14  2018-02-28       1   \n",
       "3     2 - CASADO           1500          12  2015-01-07       0   \n",
       "4    1 - SOLTERO           1000          12  2018-03-15       1   \n",
       "\n",
       "   Property Type  Financiado   Rango Precio Resumen Precio  Precio Contado  \\\n",
       "0  Chalet, villa  Financiado            A 0      0+(36*10)               0   \n",
       "1    Apartamento  Financiado            A 0      0+(36*10)               0   \n",
       "2  Chalet, villa  Financiado  Entre 000-050     49+(36*10)              49   \n",
       "3  Chalet, villa  Financiado            A 0      0+(36*10)               0   \n",
       "4    Apartamento  Financiado            A 0      0+(36*10)               0   \n",
       "\n",
       "   Precio Total  Precio Mensualidad  Quejas  Incidencias       Edad  \\\n",
       "0           360                  10       1            0  44.356164   \n",
       "1           360                  10       0            0  41.676712   \n",
       "2           409                  10       1            0  35.983562   \n",
       "3           360                  10       1            0  44.994521   \n",
       "4           360                  10       0           53  28.641096   \n",
       "\n",
       "  Rango_Edad     Income  Dias_Activo  Dias_Activo_sca  Quejas_sca  \n",
       "0      40-50  2000-3000          987         0.437694    0.035714  \n",
       "1      40-50  1000-1500         1093         0.484701    0.000000  \n",
       "2      30-40     0-1000         1150         0.509978    0.035714  \n",
       "3      40-50  1000-1500         2206         0.978271    0.035714  \n",
       "4      18-30     0-1000         1165         0.516630    0.000000  "
      ]
     },
     "execution_count": 48,
     "metadata": {},
     "output_type": "execute_result"
    }
   ],
   "source": [
    "scaler = MinMaxScaler()\n",
    "data['Quejas_sca'] = scaler.fit_transform(data['Quejas'].values.reshape(-1, 1))\n",
    "data.head()"
   ]
  },
  {
   "cell_type": "code",
   "execution_count": 26,
   "metadata": {},
   "outputs": [],
   "source": [
    "filename = '../mvp_pkl/quejas_sca.pkl'\n",
    "quejas_sca = scaler.fit(data['Quejas'].values.reshape(-1, 1))\n",
    "\n",
    "pickle.dump(quejas_sca, open(filename,'wb'))"
   ]
  },
  {
   "cell_type": "code",
   "execution_count": 49,
   "metadata": {},
   "outputs": [
    {
     "data": {
      "image/png": "[encoded data removed]",
      "text/plain": [
       "<Figure size 432x288 with 1 Axes>"
      ]
     },
     "metadata": {
      "needs_background": "light"
     },
     "output_type": "display_data"
    }
   ],
   "source": [
    "plt.hist(data['Quejas_sca']);"
   ]
  },
  {
   "cell_type": "code",
   "execution_count": 50,
   "metadata": {},
   "outputs": [
    {
     "data": {
      "text/html": [
       "<div>\n",
       "<style scoped>\n",
       "    .dataframe tbody tr th:only-of-type {\n",
       "        vertical-align: middle;\n",
       "    }\n",
       "\n",
       "    .dataframe tbody tr th {\n",
       "        vertical-align: top;\n",
       "    }\n",
       "\n",
       "    .dataframe thead th {\n",
       "        text-align: right;\n",
       "    }\n",
       "</style>\n",
       "<table border=\"1\" class=\"dataframe\">\n",
       "  <thead>\n",
       "    <tr style=\"text-align: right;\">\n",
       "      <th></th>\n",
       "      <th>Start Date</th>\n",
       "      <th>Cliente</th>\n",
       "      <th>Client Type</th>\n",
       "      <th>Modelo</th>\n",
       "      <th>Provincia</th>\n",
       "      <th>Gender</th>\n",
       "      <th>Nationality</th>\n",
       "      <th>Born Date</th>\n",
       "      <th>Housing Type</th>\n",
       "      <th>Labor Situation</th>\n",
       "      <th>Marital Status</th>\n",
       "      <th>Income Amount</th>\n",
       "      <th>Number Pay</th>\n",
       "      <th>Status Date</th>\n",
       "      <th>Status</th>\n",
       "      <th>Property Type</th>\n",
       "      <th>Financiado</th>\n",
       "      <th>Rango Precio</th>\n",
       "      <th>Resumen Precio</th>\n",
       "      <th>Precio Contado</th>\n",
       "      <th>Precio Total</th>\n",
       "      <th>Precio Mensualidad</th>\n",
       "      <th>Quejas</th>\n",
       "      <th>Incidencias</th>\n",
       "      <th>Edad</th>\n",
       "      <th>Rango_Edad</th>\n",
       "      <th>Income</th>\n",
       "      <th>Dias_Activo</th>\n",
       "      <th>Dias_Activo_sca</th>\n",
       "      <th>Quejas_sca</th>\n",
       "      <th>Incidencias_sca</th>\n",
       "    </tr>\n",
       "  </thead>\n",
       "  <tbody>\n",
       "    <tr>\n",
       "      <th>0</th>\n",
       "      <td>2015-01-02</td>\n",
       "      <td>17</td>\n",
       "      <td>Normal</td>\n",
       "      <td>V1</td>\n",
       "      <td>Alicante</td>\n",
       "      <td>HOMBRE</td>\n",
       "      <td>ES - ESPAÑOLA</td>\n",
       "      <td>1973-05-19</td>\n",
       "      <td>1 - PROPIEDAD SIN HIPOTECA</td>\n",
       "      <td>04 AUTONOMO</td>\n",
       "      <td>2 - CASADO</td>\n",
       "      <td>2500</td>\n",
       "      <td>14</td>\n",
       "      <td>2017-09-15</td>\n",
       "      <td>1</td>\n",
       "      <td>Chalet, villa</td>\n",
       "      <td>Financiado</td>\n",
       "      <td>A 0</td>\n",
       "      <td>0+(36*10)</td>\n",
       "      <td>0</td>\n",
       "      <td>360</td>\n",
       "      <td>10</td>\n",
       "      <td>1</td>\n",
       "      <td>0</td>\n",
       "      <td>44.356164</td>\n",
       "      <td>40-50</td>\n",
       "      <td>2000-3000</td>\n",
       "      <td>987</td>\n",
       "      <td>0.437694</td>\n",
       "      <td>0.035714</td>\n",
       "      <td>0.000000</td>\n",
       "    </tr>\n",
       "    <tr>\n",
       "      <th>1</th>\n",
       "      <td>2015-01-03</td>\n",
       "      <td>58</td>\n",
       "      <td>Normal</td>\n",
       "      <td>V1</td>\n",
       "      <td>Alicante</td>\n",
       "      <td>HOMBRE</td>\n",
       "      <td>ES - ESPAÑOLA</td>\n",
       "      <td>1976-05-08</td>\n",
       "      <td>1 - PROPIEDAD SIN HIPOTECA</td>\n",
       "      <td>06 PARADO</td>\n",
       "      <td>1 - SOLTERO</td>\n",
       "      <td>1200</td>\n",
       "      <td>14</td>\n",
       "      <td>2017-12-31</td>\n",
       "      <td>1</td>\n",
       "      <td>Apartamento</td>\n",
       "      <td>Financiado</td>\n",
       "      <td>A 0</td>\n",
       "      <td>0+(36*10)</td>\n",
       "      <td>0</td>\n",
       "      <td>360</td>\n",
       "      <td>10</td>\n",
       "      <td>0</td>\n",
       "      <td>0</td>\n",
       "      <td>41.676712</td>\n",
       "      <td>40-50</td>\n",
       "      <td>1000-1500</td>\n",
       "      <td>1093</td>\n",
       "      <td>0.484701</td>\n",
       "      <td>0.000000</td>\n",
       "      <td>0.000000</td>\n",
       "    </tr>\n",
       "    <tr>\n",
       "      <th>2</th>\n",
       "      <td>2015-01-05</td>\n",
       "      <td>91</td>\n",
       "      <td>Normal</td>\n",
       "      <td>V1</td>\n",
       "      <td>Valencia</td>\n",
       "      <td>HOMBRE</td>\n",
       "      <td>ES - ESPAÑOLA</td>\n",
       "      <td>1982-03-15</td>\n",
       "      <td>1 - PROPIEDAD SIN HIPOTECA</td>\n",
       "      <td>02 ASALARIADO TEMPORAL</td>\n",
       "      <td>1 - SOLTERO</td>\n",
       "      <td>800</td>\n",
       "      <td>14</td>\n",
       "      <td>2018-02-28</td>\n",
       "      <td>1</td>\n",
       "      <td>Chalet, villa</td>\n",
       "      <td>Financiado</td>\n",
       "      <td>Entre 000-050</td>\n",
       "      <td>49+(36*10)</td>\n",
       "      <td>49</td>\n",
       "      <td>409</td>\n",
       "      <td>10</td>\n",
       "      <td>1</td>\n",
       "      <td>0</td>\n",
       "      <td>35.983562</td>\n",
       "      <td>30-40</td>\n",
       "      <td>0-1000</td>\n",
       "      <td>1150</td>\n",
       "      <td>0.509978</td>\n",
       "      <td>0.035714</td>\n",
       "      <td>0.000000</td>\n",
       "    </tr>\n",
       "    <tr>\n",
       "      <th>3</th>\n",
       "      <td>2015-01-05</td>\n",
       "      <td>111</td>\n",
       "      <td>Normal</td>\n",
       "      <td>V1</td>\n",
       "      <td>Alicante</td>\n",
       "      <td>HOMBRE</td>\n",
       "      <td>ES - ESPAÑOLA</td>\n",
       "      <td>1976-02-02</td>\n",
       "      <td>1 - PROPIEDAD SIN HIPOTECA</td>\n",
       "      <td>04 AUTONOMO</td>\n",
       "      <td>2 - CASADO</td>\n",
       "      <td>1500</td>\n",
       "      <td>12</td>\n",
       "      <td>2015-01-07</td>\n",
       "      <td>0</td>\n",
       "      <td>Chalet, villa</td>\n",
       "      <td>Financiado</td>\n",
       "      <td>A 0</td>\n",
       "      <td>0+(36*10)</td>\n",
       "      <td>0</td>\n",
       "      <td>360</td>\n",
       "      <td>10</td>\n",
       "      <td>1</td>\n",
       "      <td>0</td>\n",
       "      <td>44.994521</td>\n",
       "      <td>40-50</td>\n",
       "      <td>1000-1500</td>\n",
       "      <td>2206</td>\n",
       "      <td>0.978271</td>\n",
       "      <td>0.035714</td>\n",
       "      <td>0.000000</td>\n",
       "    </tr>\n",
       "    <tr>\n",
       "      <th>4</th>\n",
       "      <td>2015-01-05</td>\n",
       "      <td>118</td>\n",
       "      <td>Normal</td>\n",
       "      <td>V1</td>\n",
       "      <td>Alicante</td>\n",
       "      <td>MUJER</td>\n",
       "      <td>ES - ESPAÑOLA</td>\n",
       "      <td>1989-07-31</td>\n",
       "      <td>1 - PROPIEDAD SIN HIPOTECA</td>\n",
       "      <td>06 PARADO</td>\n",
       "      <td>1 - SOLTERO</td>\n",
       "      <td>1000</td>\n",
       "      <td>12</td>\n",
       "      <td>2018-03-15</td>\n",
       "      <td>1</td>\n",
       "      <td>Apartamento</td>\n",
       "      <td>Financiado</td>\n",
       "      <td>A 0</td>\n",
       "      <td>0+(36*10)</td>\n",
       "      <td>0</td>\n",
       "      <td>360</td>\n",
       "      <td>10</td>\n",
       "      <td>0</td>\n",
       "      <td>53</td>\n",
       "      <td>28.641096</td>\n",
       "      <td>18-30</td>\n",
       "      <td>0-1000</td>\n",
       "      <td>1165</td>\n",
       "      <td>0.516630</td>\n",
       "      <td>0.000000</td>\n",
       "      <td>0.194853</td>\n",
       "    </tr>\n",
       "  </tbody>\n",
       "</table>\n",
       "</div>"
      ],
      "text/plain": [
       "  Start Date Cliente  Client Type Modelo Provincia  Gender    Nationality  \\\n",
       "0 2015-01-02      17  Normal          V1  Alicante  HOMBRE  ES - ESPAÑOLA   \n",
       "1 2015-01-03      58  Normal          V1  Alicante  HOMBRE  ES - ESPAÑOLA   \n",
       "2 2015-01-05      91  Normal          V1  Valencia  HOMBRE  ES - ESPAÑOLA   \n",
       "3 2015-01-05     111  Normal          V1  Alicante  HOMBRE  ES - ESPAÑOLA   \n",
       "4 2015-01-05     118  Normal          V1  Alicante   MUJER  ES - ESPAÑOLA   \n",
       "\n",
       "   Born Date                Housing Type         Labor Situation  \\\n",
       "0 1973-05-19  1 - PROPIEDAD SIN HIPOTECA             04 AUTONOMO   \n",
       "1 1976-05-08  1 - PROPIEDAD SIN HIPOTECA               06 PARADO   \n",
       "2 1982-03-15  1 - PROPIEDAD SIN HIPOTECA  02 ASALARIADO TEMPORAL   \n",
       "3 1976-02-02  1 - PROPIEDAD SIN HIPOTECA             04 AUTONOMO   \n",
       "4 1989-07-31  1 - PROPIEDAD SIN HIPOTECA               06 PARADO   \n",
       "\n",
       "  Marital Status  Income Amount  Number Pay Status Date  Status  \\\n",
       "0     2 - CASADO           2500          14  2017-09-15       1   \n",
       "1    1 - SOLTERO           1200          14  2017-12-31       1   \n",
       "2    1 - SOLTERO            800          14  2018-02-28       1   \n",
       "3     2 - CASADO           1500          12  2015-01-07       0   \n",
       "4    1 - SOLTERO           1000          12  2018-03-15       1   \n",
       "\n",
       "   Property Type  Financiado   Rango Precio Resumen Precio  Precio Contado  \\\n",
       "0  Chalet, villa  Financiado            A 0      0+(36*10)               0   \n",
       "1    Apartamento  Financiado            A 0      0+(36*10)               0   \n",
       "2  Chalet, villa  Financiado  Entre 000-050     49+(36*10)              49   \n",
       "3  Chalet, villa  Financiado            A 0      0+(36*10)               0   \n",
       "4    Apartamento  Financiado            A 0      0+(36*10)               0   \n",
       "\n",
       "   Precio Total  Precio Mensualidad  Quejas  Incidencias       Edad  \\\n",
       "0           360                  10       1            0  44.356164   \n",
       "1           360                  10       0            0  41.676712   \n",
       "2           409                  10       1            0  35.983562   \n",
       "3           360                  10       1            0  44.994521   \n",
       "4           360                  10       0           53  28.641096   \n",
       "\n",
       "  Rango_Edad     Income  Dias_Activo  Dias_Activo_sca  Quejas_sca  \\\n",
       "0      40-50  2000-3000          987         0.437694    0.035714   \n",
       "1      40-50  1000-1500         1093         0.484701    0.000000   \n",
       "2      30-40     0-1000         1150         0.509978    0.035714   \n",
       "3      40-50  1000-1500         2206         0.978271    0.035714   \n",
       "4      18-30     0-1000         1165         0.516630    0.000000   \n",
       "\n",
       "   Incidencias_sca  \n",
       "0         0.000000  \n",
       "1         0.000000  \n",
       "2         0.000000  \n",
       "3         0.000000  \n",
       "4         0.194853  "
      ]
     },
     "execution_count": 50,
     "metadata": {},
     "output_type": "execute_result"
    }
   ],
   "source": [
    "scaler = MinMaxScaler()\n",
    "data['Incidencias_sca'] = scaler.fit_transform(data['Incidencias'].values.reshape(-1, 1))\n",
    "data.head()"
   ]
  },
  {
   "cell_type": "code",
   "execution_count": 29,
   "metadata": {},
   "outputs": [],
   "source": [
    "filename = '../mvp_pkl/incidencias_sca.pkl'\n",
    "mt_sca = scaler.fit(data['Incidencias'].values.reshape(-1, 1))\n",
    "\n",
    "pickle.dump(mt_sca, open(filename,'wb'))"
   ]
  },
  {
   "cell_type": "code",
   "execution_count": 51,
   "metadata": {},
   "outputs": [
    {
     "data": {
      "image/png": "[encoded data removed]",
      "text/plain": [
       "<Figure size 432x288 with 1 Axes>"
      ]
     },
     "metadata": {
      "needs_background": "light"
     },
     "output_type": "display_data"
    }
   ],
   "source": [
    "plt.hist(data['Incidencias_sca']);"
   ]
  },
  {
   "cell_type": "markdown",
   "metadata": {},
   "source": [
    "## Enconding con ``target encoding``"
   ]
  },
  {
   "cell_type": "code",
   "execution_count": 52,
   "metadata": {},
   "outputs": [
    {
     "data": {
      "text/plain": [
       "Index(['Start Date', 'Cliente', 'Client Type', 'Modelo', 'Provincia', 'Gender',\n",
       "       'Nationality', 'Born Date', 'Housing Type', 'Labor Situation',\n",
       "       'Marital Status', 'Income Amount', 'Number Pay', 'Status Date',\n",
       "       'Status', 'Property Type', 'Financiado', 'Rango Precio',\n",
       "       'Resumen Precio', 'Precio Contado', 'Precio Total',\n",
       "       'Precio Mensualidad', 'Quejas', 'Incidencias', 'Edad', 'Rango_Edad',\n",
       "       'Income', 'Dias_Activo', 'Dias_Activo_sca', 'Quejas_sca',\n",
       "       'Incidencias_sca'],\n",
       "      dtype='object')"
      ]
     },
     "execution_count": 52,
     "metadata": {},
     "output_type": "execute_result"
    }
   ],
   "source": [
    "data.columns"
   ]
  },
  {
   "cell_type": "code",
   "execution_count": 53,
   "metadata": {
    "scrolled": true
   },
   "outputs": [
    {
     "data": {
      "text/plain": [
       "Index(['Gender', 'Housing Type', 'Property Type', 'Labor Situation',\n",
       "       'Marital Status', 'Provincia', 'Nationality', 'Rango_Edad', 'Income',\n",
       "       'Rango Precio', 'Number Pay', 'Dias_Activo_sca', 'Quejas_sca',\n",
       "       'Incidencias_sca', 'Status'],\n",
       "      dtype='object')"
      ]
     },
     "execution_count": 53,
     "metadata": {},
     "output_type": "execute_result"
    }
   ],
   "source": [
    "data_filtered = data[['Gender', 'Housing Type', 'Property Type', 'Labor Situation', 'Marital Status',\n",
    "                      'Provincia', 'Nationality', 'Rango_Edad', 'Income', 'Rango Precio', 'Number Pay', 'Dias_Activo_sca',\n",
    "                      'Quejas_sca', 'Incidencias_sca', 'Status']]\n",
    "data_filtered.columns"
   ]
  },
  {
   "cell_type": "code",
   "execution_count": 54,
   "metadata": {},
   "outputs": [],
   "source": [
    "X = data_filtered.drop(['Status'],axis=1)\n",
    "y = data_filtered['Status']"
   ]
  },
  {
   "cell_type": "code",
   "execution_count": 55,
   "metadata": {},
   "outputs": [],
   "source": [
    "from sklearn.model_selection import train_test_split\n",
    "X_train_prev, X_test, y_train, y_test = train_test_split(X, y, test_size = 0.2, random_state = 0, stratify = y)"
   ]
  },
  {
   "cell_type": "code",
   "execution_count": 56,
   "metadata": {},
   "outputs": [],
   "source": [
    "features_TE = ['Gender', 'Housing Type', 'Property Type', 'Labor Situation', 'Marital Status',\n",
    "                      'Provincia', 'Nationality', 'Rango_Edad', 'Income', 'Rango Precio', 'Number Pay']"
   ]
  },
  {
   "cell_type": "code",
   "execution_count": 57,
   "metadata": {},
   "outputs": [],
   "source": [
    "from category_encoders import TargetEncoder\n",
    "\n",
    "TE_encoder = TargetEncoder(cols=features_TE)"
   ]
  },
  {
   "cell_type": "code",
   "execution_count": 58,
   "metadata": {},
   "outputs": [
    {
     "data": {
      "text/html": [
       "<div>\n",
       "<style scoped>\n",
       "    .dataframe tbody tr th:only-of-type {\n",
       "        vertical-align: middle;\n",
       "    }\n",
       "\n",
       "    .dataframe tbody tr th {\n",
       "        vertical-align: top;\n",
       "    }\n",
       "\n",
       "    .dataframe thead th {\n",
       "        text-align: right;\n",
       "    }\n",
       "</style>\n",
       "<table border=\"1\" class=\"dataframe\">\n",
       "  <thead>\n",
       "    <tr style=\"text-align: right;\">\n",
       "      <th></th>\n",
       "      <th>Gender</th>\n",
       "      <th>Housing Type</th>\n",
       "      <th>Property Type</th>\n",
       "      <th>Labor Situation</th>\n",
       "      <th>Marital Status</th>\n",
       "      <th>Provincia</th>\n",
       "      <th>Nationality</th>\n",
       "      <th>Rango_Edad</th>\n",
       "      <th>Income</th>\n",
       "      <th>Rango Precio</th>\n",
       "      <th>Number Pay</th>\n",
       "      <th>Dias_Activo_sca</th>\n",
       "      <th>Quejas_sca</th>\n",
       "      <th>Incidencias_sca</th>\n",
       "    </tr>\n",
       "  </thead>\n",
       "  <tbody>\n",
       "    <tr>\n",
       "      <th>25918</th>\n",
       "      <td>HOMBRE</td>\n",
       "      <td>1 - PROPIEDAD SIN HIPOTECA</td>\n",
       "      <td>Chalet, villa</td>\n",
       "      <td>07 PENSIONISTA (JUBILACION)</td>\n",
       "      <td>2 - CASADO</td>\n",
       "      <td>Alicante</td>\n",
       "      <td>ES - ESPAÑOLA</td>\n",
       "      <td>60-70</td>\n",
       "      <td>0-1000</td>\n",
       "      <td>Entre 000-050</td>\n",
       "      <td>12</td>\n",
       "      <td>0.352993</td>\n",
       "      <td>0.035714</td>\n",
       "      <td>0.000000</td>\n",
       "    </tr>\n",
       "    <tr>\n",
       "      <th>5305</th>\n",
       "      <td>HOMBRE</td>\n",
       "      <td>5 - EMPRESA</td>\n",
       "      <td>Apartamento</td>\n",
       "      <td>04 AUTONOMO</td>\n",
       "      <td>2 - CASADO</td>\n",
       "      <td>Alicante</td>\n",
       "      <td>ES - ESPAÑOLA</td>\n",
       "      <td>40-50</td>\n",
       "      <td>1000-1500</td>\n",
       "      <td>Entre 000-050</td>\n",
       "      <td>14</td>\n",
       "      <td>0.756984</td>\n",
       "      <td>0.000000</td>\n",
       "      <td>0.000000</td>\n",
       "    </tr>\n",
       "    <tr>\n",
       "      <th>38504</th>\n",
       "      <td>HOMBRE</td>\n",
       "      <td>1 - PROPIEDAD SIN HIPOTECA</td>\n",
       "      <td>Chalet, villa</td>\n",
       "      <td>01 ASALARIADO FIJO</td>\n",
       "      <td>2 - CASADO</td>\n",
       "      <td>Alicante</td>\n",
       "      <td>UE - UNION EUROPEA</td>\n",
       "      <td>50-60</td>\n",
       "      <td>1500-2000</td>\n",
       "      <td>Entre 000-050</td>\n",
       "      <td>14</td>\n",
       "      <td>0.178714</td>\n",
       "      <td>0.000000</td>\n",
       "      <td>0.000000</td>\n",
       "    </tr>\n",
       "    <tr>\n",
       "      <th>35496</th>\n",
       "      <td>HOMBRE</td>\n",
       "      <td>1 - PROPIEDAD SIN HIPOTECA</td>\n",
       "      <td>Apartamento</td>\n",
       "      <td>07 PENSIONISTA (JUBILACION)</td>\n",
       "      <td>3 - VIUDO</td>\n",
       "      <td>Alicante</td>\n",
       "      <td>ES - ESPAÑOLA</td>\n",
       "      <td>+80</td>\n",
       "      <td>1000-1500</td>\n",
       "      <td>Entre 050-100</td>\n",
       "      <td>12</td>\n",
       "      <td>0.228381</td>\n",
       "      <td>0.000000</td>\n",
       "      <td>0.000000</td>\n",
       "    </tr>\n",
       "    <tr>\n",
       "      <th>8046</th>\n",
       "      <td>HOMBRE</td>\n",
       "      <td>1 - PROPIEDAD SIN HIPOTECA</td>\n",
       "      <td>Apartamento</td>\n",
       "      <td>04 AUTONOMO</td>\n",
       "      <td>2 - CASADO</td>\n",
       "      <td>Valencia</td>\n",
       "      <td>ES - ESPAÑOLA</td>\n",
       "      <td>60-70</td>\n",
       "      <td>1000-1500</td>\n",
       "      <td>Entre 050-100</td>\n",
       "      <td>14</td>\n",
       "      <td>0.678936</td>\n",
       "      <td>0.000000</td>\n",
       "      <td>0.007353</td>\n",
       "    </tr>\n",
       "  </tbody>\n",
       "</table>\n",
       "</div>"
      ],
      "text/plain": [
       "       Gender                Housing Type  Property Type  \\\n",
       "25918  HOMBRE  1 - PROPIEDAD SIN HIPOTECA  Chalet, villa   \n",
       "5305   HOMBRE                 5 - EMPRESA    Apartamento   \n",
       "38504  HOMBRE  1 - PROPIEDAD SIN HIPOTECA  Chalet, villa   \n",
       "35496  HOMBRE  1 - PROPIEDAD SIN HIPOTECA    Apartamento   \n",
       "8046   HOMBRE  1 - PROPIEDAD SIN HIPOTECA    Apartamento   \n",
       "\n",
       "                   Labor Situation Marital Status Provincia  \\\n",
       "25918  07 PENSIONISTA (JUBILACION)     2 - CASADO  Alicante   \n",
       "5305                   04 AUTONOMO     2 - CASADO  Alicante   \n",
       "38504           01 ASALARIADO FIJO     2 - CASADO  Alicante   \n",
       "35496  07 PENSIONISTA (JUBILACION)      3 - VIUDO  Alicante   \n",
       "8046                   04 AUTONOMO     2 - CASADO  Valencia   \n",
       "\n",
       "              Nationality Rango_Edad     Income   Rango Precio  Number Pay  \\\n",
       "25918       ES - ESPAÑOLA      60-70     0-1000  Entre 000-050          12   \n",
       "5305        ES - ESPAÑOLA      40-50  1000-1500  Entre 000-050          14   \n",
       "38504  UE - UNION EUROPEA      50-60  1500-2000  Entre 000-050          14   \n",
       "35496       ES - ESPAÑOLA        +80  1000-1500  Entre 050-100          12   \n",
       "8046        ES - ESPAÑOLA      60-70  1000-1500  Entre 050-100          14   \n",
       "\n",
       "       Dias_Activo_sca  Quejas_sca  Incidencias_sca  \n",
       "25918         0.352993    0.035714         0.000000  \n",
       "5305          0.756984    0.000000         0.000000  \n",
       "38504         0.178714    0.000000         0.000000  \n",
       "35496         0.228381    0.000000         0.000000  \n",
       "8046          0.678936    0.000000         0.007353  "
      ]
     },
     "execution_count": 58,
     "metadata": {},
     "output_type": "execute_result"
    }
   ],
   "source": [
    "X_train_prev.head()"
   ]
  },
  {
   "cell_type": "code",
   "execution_count": 59,
   "metadata": {},
   "outputs": [
    {
     "name": "stderr",
     "output_type": "stream",
     "text": [
      "C:\\Users\\alber\\anaconda3\\lib\\site-packages\\category_encoders\\utils.py:21: FutureWarning: is_categorical is deprecated and will be removed in a future version.  Use is_categorical_dtype instead\n",
      "  elif pd.api.types.is_categorical(cols):\n"
     ]
    },
    {
     "data": {
      "text/html": [
       "<div>\n",
       "<style scoped>\n",
       "    .dataframe tbody tr th:only-of-type {\n",
       "        vertical-align: middle;\n",
       "    }\n",
       "\n",
       "    .dataframe tbody tr th {\n",
       "        vertical-align: top;\n",
       "    }\n",
       "\n",
       "    .dataframe thead th {\n",
       "        text-align: right;\n",
       "    }\n",
       "</style>\n",
       "<table border=\"1\" class=\"dataframe\">\n",
       "  <thead>\n",
       "    <tr style=\"text-align: right;\">\n",
       "      <th></th>\n",
       "      <th>Gender</th>\n",
       "      <th>Housing Type</th>\n",
       "      <th>Property Type</th>\n",
       "      <th>Labor Situation</th>\n",
       "      <th>Marital Status</th>\n",
       "      <th>Provincia</th>\n",
       "      <th>Nationality</th>\n",
       "      <th>Rango_Edad</th>\n",
       "      <th>Income</th>\n",
       "      <th>Rango Precio</th>\n",
       "      <th>Number Pay</th>\n",
       "      <th>Dias_Activo_sca</th>\n",
       "      <th>Quejas_sca</th>\n",
       "      <th>Incidencias_sca</th>\n",
       "    </tr>\n",
       "  </thead>\n",
       "  <tbody>\n",
       "    <tr>\n",
       "      <th>25918</th>\n",
       "      <td>0.2536</td>\n",
       "      <td>0.229333</td>\n",
       "      <td>0.207625</td>\n",
       "      <td>0.144286</td>\n",
       "      <td>0.219234</td>\n",
       "      <td>0.220812</td>\n",
       "      <td>0.254659</td>\n",
       "      <td>0.150285</td>\n",
       "      <td>0.311213</td>\n",
       "      <td>0.326792</td>\n",
       "      <td>0.282987</td>\n",
       "      <td>0.352993</td>\n",
       "      <td>0.035714</td>\n",
       "      <td>0.000000</td>\n",
       "    </tr>\n",
       "    <tr>\n",
       "      <th>5305</th>\n",
       "      <td>0.2536</td>\n",
       "      <td>0.272727</td>\n",
       "      <td>0.210947</td>\n",
       "      <td>0.337908</td>\n",
       "      <td>0.219234</td>\n",
       "      <td>0.220812</td>\n",
       "      <td>0.254659</td>\n",
       "      <td>0.318098</td>\n",
       "      <td>0.257715</td>\n",
       "      <td>0.326792</td>\n",
       "      <td>0.234842</td>\n",
       "      <td>0.756984</td>\n",
       "      <td>0.000000</td>\n",
       "      <td>0.000000</td>\n",
       "    </tr>\n",
       "    <tr>\n",
       "      <th>38504</th>\n",
       "      <td>0.2536</td>\n",
       "      <td>0.229333</td>\n",
       "      <td>0.207625</td>\n",
       "      <td>0.224191</td>\n",
       "      <td>0.219234</td>\n",
       "      <td>0.220812</td>\n",
       "      <td>0.250320</td>\n",
       "      <td>0.219219</td>\n",
       "      <td>0.244343</td>\n",
       "      <td>0.326792</td>\n",
       "      <td>0.234842</td>\n",
       "      <td>0.178714</td>\n",
       "      <td>0.000000</td>\n",
       "      <td>0.000000</td>\n",
       "    </tr>\n",
       "    <tr>\n",
       "      <th>35496</th>\n",
       "      <td>0.2536</td>\n",
       "      <td>0.229333</td>\n",
       "      <td>0.210947</td>\n",
       "      <td>0.144286</td>\n",
       "      <td>0.183570</td>\n",
       "      <td>0.220812</td>\n",
       "      <td>0.254659</td>\n",
       "      <td>0.160261</td>\n",
       "      <td>0.257715</td>\n",
       "      <td>0.237826</td>\n",
       "      <td>0.282987</td>\n",
       "      <td>0.228381</td>\n",
       "      <td>0.000000</td>\n",
       "      <td>0.000000</td>\n",
       "    </tr>\n",
       "    <tr>\n",
       "      <th>8046</th>\n",
       "      <td>0.2536</td>\n",
       "      <td>0.229333</td>\n",
       "      <td>0.210947</td>\n",
       "      <td>0.337908</td>\n",
       "      <td>0.219234</td>\n",
       "      <td>0.272935</td>\n",
       "      <td>0.254659</td>\n",
       "      <td>0.150285</td>\n",
       "      <td>0.257715</td>\n",
       "      <td>0.237826</td>\n",
       "      <td>0.234842</td>\n",
       "      <td>0.678936</td>\n",
       "      <td>0.000000</td>\n",
       "      <td>0.007353</td>\n",
       "    </tr>\n",
       "  </tbody>\n",
       "</table>\n",
       "</div>"
      ],
      "text/plain": [
       "       Gender  Housing Type  Property Type  Labor Situation  Marital Status  \\\n",
       "25918  0.2536      0.229333       0.207625         0.144286        0.219234   \n",
       "5305   0.2536      0.272727       0.210947         0.337908        0.219234   \n",
       "38504  0.2536      0.229333       0.207625         0.224191        0.219234   \n",
       "35496  0.2536      0.229333       0.210947         0.144286        0.183570   \n",
       "8046   0.2536      0.229333       0.210947         0.337908        0.219234   \n",
       "\n",
       "       Provincia  Nationality  Rango_Edad    Income  Rango Precio  Number Pay  \\\n",
       "25918   0.220812     0.254659    0.150285  0.311213      0.326792    0.282987   \n",
       "5305    0.220812     0.254659    0.318098  0.257715      0.326792    0.234842   \n",
       "38504   0.220812     0.250320    0.219219  0.244343      0.326792    0.234842   \n",
       "35496   0.220812     0.254659    0.160261  0.257715      0.237826    0.282987   \n",
       "8046    0.272935     0.254659    0.150285  0.257715      0.237826    0.234842   \n",
       "\n",
       "       Dias_Activo_sca  Quejas_sca  Incidencias_sca  \n",
       "25918         0.352993    0.035714         0.000000  \n",
       "5305          0.756984    0.000000         0.000000  \n",
       "38504         0.178714    0.000000         0.000000  \n",
       "35496         0.228381    0.000000         0.000000  \n",
       "8046          0.678936    0.000000         0.007353  "
      ]
     },
     "execution_count": 59,
     "metadata": {},
     "output_type": "execute_result"
    }
   ],
   "source": [
    "TE_encoder.fit(X_train_prev, y_train)\n",
    "X_train = TE_encoder.transform(X_train_prev)\n",
    "X_train.head()"
   ]
  },
  {
   "cell_type": "code",
   "execution_count": 39,
   "metadata": {},
   "outputs": [
    {
     "name": "stderr",
     "output_type": "stream",
     "text": [
      "C:\\Users\\alber\\anaconda3\\lib\\site-packages\\category_encoders\\utils.py:21: FutureWarning: is_categorical is deprecated and will be removed in a future version.  Use is_categorical_dtype instead\n",
      "  elif pd.api.types.is_categorical(cols):\n"
     ]
    }
   ],
   "source": [
    "filename = '../mvp_pkl/TE_encoder.pkl'\n",
    "\n",
    "pickle.dump(TE_encoder.fit(X_train_prev, y_train), open(filename,'wb'))"
   ]
  },
  {
   "cell_type": "code",
   "execution_count": 60,
   "metadata": {
    "scrolled": true
   },
   "outputs": [
    {
     "data": {
      "text/html": [
       "<div>\n",
       "<style scoped>\n",
       "    .dataframe tbody tr th:only-of-type {\n",
       "        vertical-align: middle;\n",
       "    }\n",
       "\n",
       "    .dataframe tbody tr th {\n",
       "        vertical-align: top;\n",
       "    }\n",
       "\n",
       "    .dataframe thead th {\n",
       "        text-align: right;\n",
       "    }\n",
       "</style>\n",
       "<table border=\"1\" class=\"dataframe\">\n",
       "  <thead>\n",
       "    <tr style=\"text-align: right;\">\n",
       "      <th></th>\n",
       "      <th>Gender</th>\n",
       "      <th>Housing Type</th>\n",
       "      <th>Property Type</th>\n",
       "      <th>Labor Situation</th>\n",
       "      <th>Marital Status</th>\n",
       "      <th>Provincia</th>\n",
       "      <th>Nationality</th>\n",
       "      <th>Rango_Edad</th>\n",
       "      <th>Income</th>\n",
       "      <th>Rango Precio</th>\n",
       "      <th>Number Pay</th>\n",
       "      <th>Dias_Activo_sca</th>\n",
       "      <th>Quejas_sca</th>\n",
       "      <th>Incidencias_sca</th>\n",
       "    </tr>\n",
       "  </thead>\n",
       "  <tbody>\n",
       "    <tr>\n",
       "      <th>15591</th>\n",
       "      <td>0.253600</td>\n",
       "      <td>0.229333</td>\n",
       "      <td>0.210947</td>\n",
       "      <td>0.337908</td>\n",
       "      <td>0.370321</td>\n",
       "      <td>0.272935</td>\n",
       "      <td>0.254659</td>\n",
       "      <td>0.150285</td>\n",
       "      <td>0.244343</td>\n",
       "      <td>0.326792</td>\n",
       "      <td>0.282987</td>\n",
       "      <td>0.523282</td>\n",
       "      <td>0.000000</td>\n",
       "      <td>0.000000</td>\n",
       "    </tr>\n",
       "    <tr>\n",
       "      <th>27726</th>\n",
       "      <td>0.278034</td>\n",
       "      <td>0.229333</td>\n",
       "      <td>0.210947</td>\n",
       "      <td>0.337908</td>\n",
       "      <td>0.370321</td>\n",
       "      <td>0.272935</td>\n",
       "      <td>0.254659</td>\n",
       "      <td>0.415079</td>\n",
       "      <td>0.257715</td>\n",
       "      <td>0.185057</td>\n",
       "      <td>0.234842</td>\n",
       "      <td>0.321951</td>\n",
       "      <td>0.000000</td>\n",
       "      <td>0.000000</td>\n",
       "    </tr>\n",
       "    <tr>\n",
       "      <th>16792</th>\n",
       "      <td>0.253600</td>\n",
       "      <td>0.229333</td>\n",
       "      <td>0.207625</td>\n",
       "      <td>0.460733</td>\n",
       "      <td>0.219234</td>\n",
       "      <td>0.220812</td>\n",
       "      <td>0.254659</td>\n",
       "      <td>0.150285</td>\n",
       "      <td>0.257715</td>\n",
       "      <td>0.326792</td>\n",
       "      <td>0.234842</td>\n",
       "      <td>0.502439</td>\n",
       "      <td>0.000000</td>\n",
       "      <td>0.000000</td>\n",
       "    </tr>\n",
       "    <tr>\n",
       "      <th>23233</th>\n",
       "      <td>0.253600</td>\n",
       "      <td>0.229333</td>\n",
       "      <td>0.210947</td>\n",
       "      <td>0.337908</td>\n",
       "      <td>0.219234</td>\n",
       "      <td>0.343207</td>\n",
       "      <td>0.254659</td>\n",
       "      <td>0.318098</td>\n",
       "      <td>0.257715</td>\n",
       "      <td>0.308267</td>\n",
       "      <td>0.234842</td>\n",
       "      <td>0.276275</td>\n",
       "      <td>0.035714</td>\n",
       "      <td>0.147059</td>\n",
       "    </tr>\n",
       "    <tr>\n",
       "      <th>24836</th>\n",
       "      <td>0.253600</td>\n",
       "      <td>0.229333</td>\n",
       "      <td>0.207625</td>\n",
       "      <td>0.224191</td>\n",
       "      <td>0.219234</td>\n",
       "      <td>0.343207</td>\n",
       "      <td>0.254659</td>\n",
       "      <td>0.318098</td>\n",
       "      <td>0.244343</td>\n",
       "      <td>0.237826</td>\n",
       "      <td>0.234842</td>\n",
       "      <td>0.369845</td>\n",
       "      <td>0.000000</td>\n",
       "      <td>0.000000</td>\n",
       "    </tr>\n",
       "  </tbody>\n",
       "</table>\n",
       "</div>"
      ],
      "text/plain": [
       "         Gender  Housing Type  Property Type  Labor Situation  Marital Status  \\\n",
       "15591  0.253600      0.229333       0.210947         0.337908        0.370321   \n",
       "27726  0.278034      0.229333       0.210947         0.337908        0.370321   \n",
       "16792  0.253600      0.229333       0.207625         0.460733        0.219234   \n",
       "23233  0.253600      0.229333       0.210947         0.337908        0.219234   \n",
       "24836  0.253600      0.229333       0.207625         0.224191        0.219234   \n",
       "\n",
       "       Provincia  Nationality  Rango_Edad    Income  Rango Precio  Number Pay  \\\n",
       "15591   0.272935     0.254659    0.150285  0.244343      0.326792    0.282987   \n",
       "27726   0.272935     0.254659    0.415079  0.257715      0.185057    0.234842   \n",
       "16792   0.220812     0.254659    0.150285  0.257715      0.326792    0.234842   \n",
       "23233   0.343207     0.254659    0.318098  0.257715      0.308267    0.234842   \n",
       "24836   0.343207     0.254659    0.318098  0.244343      0.237826    0.234842   \n",
       "\n",
       "       Dias_Activo_sca  Quejas_sca  Incidencias_sca  \n",
       "15591         0.523282    0.000000         0.000000  \n",
       "27726         0.321951    0.000000         0.000000  \n",
       "16792         0.502439    0.000000         0.000000  \n",
       "23233         0.276275    0.035714         0.147059  \n",
       "24836         0.369845    0.000000         0.000000  "
      ]
     },
     "execution_count": 60,
     "metadata": {},
     "output_type": "execute_result"
    }
   ],
   "source": [
    "X_test = TE_encoder.transform(X_test)\n",
    "X_test.head()"
   ]
  },
  {
   "cell_type": "markdown",
   "metadata": {},
   "source": [
    "### Regresión Logística"
   ]
  },
  {
   "cell_type": "code",
   "execution_count": 100,
   "metadata": {
    "scrolled": false
   },
   "outputs": [
    {
     "name": "stdout",
     "output_type": "stream",
     "text": [
      "Logistic Accuracy is 0.74\n",
      "Cross Validation Score = 0.74\n",
      "              precision    recall  f1-score   support\n",
      "\n",
      "           0       0.88      0.75      0.81      8188\n",
      "           1       0.50      0.71      0.59      2858\n",
      "\n",
      "    accuracy                           0.74     11046\n",
      "   macro avg       0.69      0.73      0.70     11046\n",
      "weighted avg       0.78      0.74      0.75     11046\n",
      "\n"
     ]
    },
    {
     "data": {
      "image/png": "[encoded data removed]",
      "text/plain": [
       "<Figure size 432x288 with 2 Axes>"
      ]
     },
     "metadata": {
      "needs_background": "light"
     },
     "output_type": "display_data"
    }
   ],
   "source": [
    "from sklearn.linear_model import LogisticRegression\n",
    "\n",
    "LR = LogisticRegression(random_state = 0, max_iter=1000, class_weight=\"balanced\")\n",
    "LR.fit(X_train,y_train) \n",
    "print (\"Logistic Accuracy is %2.2f\" % accuracy_score(y_test, LR.predict(X_test)))\n",
    "\n",
    "skf = StratifiedKFold(n_splits=5)\n",
    "score_LR = cross_val_score(LR, X_train, y_train, cv=skf).mean()\n",
    "print(\"Cross Validation Score = %2.2f\" % score_LR)\n",
    "\n",
    "y_pred = LR.predict(X_test)\n",
    "print(classification_report(y_test, y_pred))\n",
    "\n",
    "cm = confusion_matrix(y_test,y_pred)\n",
    "plot_confusion_matrix(cm, classes=class_names, title='Confusion matrix')"
   ]
  },
  {
   "cell_type": "code",
   "execution_count": 101,
   "metadata": {},
   "outputs": [
    {
     "name": "stdout",
     "output_type": "stream",
     "text": [
      "ROC AUC score: 0.80\n"
     ]
    },
    {
     "data": {
      "image/png": "[encoded data removed]",
      "text/plain": [
       "<Figure size 576x432 with 1 Axes>"
      ]
     },
     "metadata": {
      "needs_background": "light"
     },
     "output_type": "display_data"
    }
   ],
   "source": [
    "plot_roc_curve(LR, X_test, y_test)"
   ]
  },
  {
   "cell_type": "code",
   "execution_count": 102,
   "metadata": {},
   "outputs": [
    {
     "data": {
      "image/png": "[encoded data removed]",
      "text/plain": [
       "<Figure size 432x288 with 1 Axes>"
      ]
     },
     "metadata": {
      "needs_background": "light"
     },
     "output_type": "display_data"
    }
   ],
   "source": [
    "plot_precision_recall_curve(LR, X_test, y_test);"
   ]
  },
  {
   "cell_type": "code",
   "execution_count": 103,
   "metadata": {},
   "outputs": [],
   "source": [
    "filename = '../mvp_pkl/LR_model.pkl'\n",
    "LR_model = LR.fit(X_train, y_train)\n",
    "\n",
    "pickle.dump(LR_model, open(filename,'wb'))"
   ]
  },
  {
   "cell_type": "markdown",
   "metadata": {},
   "source": [
    "### KNN"
   ]
  },
  {
   "cell_type": "code",
   "execution_count": 86,
   "metadata": {},
   "outputs": [],
   "source": [
    "from sklearn.neighbors import KNeighborsClassifier"
   ]
  },
  {
   "cell_type": "code",
   "execution_count": 49,
   "metadata": {},
   "outputs": [
    {
     "data": {
      "text/plain": [
       "GridSearchCV(cv=StratifiedKFold(n_splits=5, random_state=None, shuffle=False),\n",
       "             estimator=KNeighborsClassifier(),\n",
       "             param_grid={'n_neighbors': array([ 3,  5,  7,  9, 11, 13, 15])},\n",
       "             scoring='recall')"
      ]
     },
     "execution_count": 49,
     "metadata": {},
     "output_type": "execute_result"
    }
   ],
   "source": [
    "# Don´t do this!!!\n",
    "\n",
    "skf = StratifiedKFold(n_splits=5)\n",
    "knn = GridSearchCV(KNeighborsClassifier(),\n",
    "                      param_grid = {'n_neighbors':np.arange(3,17,2)},\n",
    "                      scoring = 'recall', cv = skf)\n",
    "\n",
    "knn.fit(X_train, y_train)"
   ]
  },
  {
   "cell_type": "code",
   "execution_count": 50,
   "metadata": {},
   "outputs": [
    {
     "data": {
      "text/plain": [
       "{'n_neighbors': 3}"
      ]
     },
     "execution_count": 50,
     "metadata": {},
     "output_type": "execute_result"
    }
   ],
   "source": [
    "knn.best_params_"
   ]
  },
  {
   "cell_type": "code",
   "execution_count": 87,
   "metadata": {},
   "outputs": [
    {
     "data": {
      "text/plain": [
       "KNeighborsClassifier(n_neighbors=3)"
      ]
     },
     "execution_count": 87,
     "metadata": {},
     "output_type": "execute_result"
    }
   ],
   "source": [
    "knn = KNeighborsClassifier(n_neighbors = 3)\n",
    "knn.fit(X_train, y_train)"
   ]
  },
  {
   "cell_type": "code",
   "execution_count": 47,
   "metadata": {},
   "outputs": [],
   "source": [
    "y_pred = knn.predict(X_test)"
   ]
  },
  {
   "cell_type": "code",
   "execution_count": 48,
   "metadata": {},
   "outputs": [
    {
     "name": "stdout",
     "output_type": "stream",
     "text": [
      "              precision    recall  f1-score   support\n",
      "\n",
      "           0       0.82      0.89      0.86      8188\n",
      "           1       0.60      0.45      0.51      2858\n",
      "\n",
      "    accuracy                           0.78     11046\n",
      "   macro avg       0.71      0.67      0.69     11046\n",
      "weighted avg       0.77      0.78      0.77     11046\n",
      "\n"
     ]
    },
    {
     "data": {
      "image/png": "[encoded data removed]",
      "text/plain": [
       "<Figure size 432x288 with 2 Axes>"
      ]
     },
     "metadata": {
      "needs_background": "light"
     },
     "output_type": "display_data"
    }
   ],
   "source": [
    "from sklearn.metrics import confusion_matrix, classification_report\n",
    "cm = confusion_matrix(y_test, y_pred)\n",
    "\n",
    "print(classification_report(y_test,y_pred))\n",
    "plot_confusion_matrix(cm, classes=class_names, title='Confusion matrix')"
   ]
  },
  {
   "cell_type": "code",
   "execution_count": 49,
   "metadata": {},
   "outputs": [
    {
     "name": "stdout",
     "output_type": "stream",
     "text": [
      "ROC AUC score: 0.74\n"
     ]
    },
    {
     "data": {
      "image/png": "[encoded data removed]",
      "text/plain": [
       "<Figure size 576x432 with 1 Axes>"
      ]
     },
     "metadata": {
      "needs_background": "light"
     },
     "output_type": "display_data"
    }
   ],
   "source": [
    "plot_roc_curve(knn, X_test, y_test)"
   ]
  },
  {
   "cell_type": "code",
   "execution_count": 50,
   "metadata": {},
   "outputs": [
    {
     "data": {
      "image/png": "[encoded data removed]",
      "text/plain": [
       "<Figure size 432x288 with 1 Axes>"
      ]
     },
     "metadata": {
      "needs_background": "light"
     },
     "output_type": "display_data"
    }
   ],
   "source": [
    "plot_precision_recall_curve(knn, X_test, y_test);"
   ]
  },
  {
   "cell_type": "markdown",
   "metadata": {},
   "source": [
    "### Decission Tree Classifier"
   ]
  },
  {
   "cell_type": "code",
   "execution_count": 104,
   "metadata": {},
   "outputs": [
    {
     "name": "stdout",
     "output_type": "stream",
     "text": [
      "Decision Tree Accuracy is 0.74\n",
      "Cross Validation Score = 0.74\n",
      "              precision    recall  f1-score   support\n",
      "\n",
      "           0       0.88      0.75      0.81      8188\n",
      "           1       0.50      0.71      0.58      2858\n",
      "\n",
      "    accuracy                           0.74     11046\n",
      "   macro avg       0.69      0.73      0.70     11046\n",
      "weighted avg       0.78      0.74      0.75     11046\n",
      "\n"
     ]
    },
    {
     "data": {
      "image/png": "[encoded data removed]",
      "text/plain": [
       "<Figure size 432x288 with 2 Axes>"
      ]
     },
     "metadata": {
      "needs_background": "light"
     },
     "output_type": "display_data"
    }
   ],
   "source": [
    "from sklearn.tree import DecisionTreeClassifier\n",
    "from sklearn.model_selection import cross_val_score, StratifiedKFold\n",
    "\n",
    "DT = DecisionTreeClassifier(random_state = 0,class_weight=\"balanced\", min_weight_fraction_leaf=0.01)\n",
    "DT = DT.fit(X_train,y_train)\n",
    "print (\"Decision Tree Accuracy is %2.2f\" % accuracy_score(y_test, DT.predict(X_test)))\n",
    "\n",
    "skf = StratifiedKFold(n_splits=5)\n",
    "score_DT = cross_val_score(DT, X_train, y_train, cv=skf).mean()\n",
    "print(\"Cross Validation Score = %2.2f\" % score_DT)\n",
    "\n",
    "y_pred = DT.predict(X_test)\n",
    "print(classification_report(y_test, y_pred))\n",
    "\n",
    "cm = confusion_matrix(y_test,y_pred)\n",
    "plot_confusion_matrix(cm, classes=class_names, title='Confusion matrix')"
   ]
  },
  {
   "cell_type": "code",
   "execution_count": 105,
   "metadata": {},
   "outputs": [
    {
     "name": "stdout",
     "output_type": "stream",
     "text": [
      "ROC AUC score: 0.80\n"
     ]
    },
    {
     "data": {
      "image/png": "[encoded data removed]",
      "text/plain": [
       "<Figure size 576x432 with 1 Axes>"
      ]
     },
     "metadata": {
      "needs_background": "light"
     },
     "output_type": "display_data"
    }
   ],
   "source": [
    "plot_roc_curve(DT, X_test, y_test)"
   ]
  },
  {
   "cell_type": "code",
   "execution_count": 106,
   "metadata": {},
   "outputs": [
    {
     "data": {
      "image/png": "[encoded data removed]",
      "text/plain": [
       "<Figure size 432x288 with 1 Axes>"
      ]
     },
     "metadata": {
      "needs_background": "light"
     },
     "output_type": "display_data"
    }
   ],
   "source": [
    "plot_precision_recall_curve(DT, X_test, y_test);"
   ]
  },
  {
   "cell_type": "code",
   "execution_count": 107,
   "metadata": {},
   "outputs": [],
   "source": [
    "filename = '../mvp_pkl/DT_model.pkl'\n",
    "DT_model = DT.fit(X_train, y_train)\n",
    "\n",
    "pickle.dump(DT_model, open(filename,'wb'))"
   ]
  },
  {
   "cell_type": "markdown",
   "metadata": {},
   "source": [
    "### Random Forest Classifier"
   ]
  },
  {
   "cell_type": "code",
   "execution_count": 91,
   "metadata": {},
   "outputs": [
    {
     "name": "stdout",
     "output_type": "stream",
     "text": [
      "Random Forest Accuracy is 0.81\n",
      "Cross Validation Score = 0.81\n",
      "              precision    recall  f1-score   support\n",
      "\n",
      "           0       0.87      0.88      0.87      8188\n",
      "           1       0.64      0.63      0.64      2858\n",
      "\n",
      "    accuracy                           0.81     11046\n",
      "   macro avg       0.76      0.75      0.75     11046\n",
      "weighted avg       0.81      0.81      0.81     11046\n",
      "\n"
     ]
    },
    {
     "data": {
      "image/png": "[encoded data removed]",
      "text/plain": [
       "<Figure size 432x288 with 2 Axes>"
      ]
     },
     "metadata": {
      "needs_background": "light"
     },
     "output_type": "display_data"
    }
   ],
   "source": [
    "from sklearn.ensemble import RandomForestClassifier\n",
    "\n",
    "rfc = RandomForestClassifier(n_estimators=100, max_depth=None, min_samples_split=10,class_weight=\"balanced\")\n",
    "rfc.fit(X_train, y_train)\n",
    "print(\"Random Forest Accuracy is %2.2f\" % accuracy_score(y_test, rfc.predict(X_test)))\n",
    "\n",
    "skf = StratifiedKFold(n_splits=20)\n",
    "score_rfc = cross_val_score(rfc, X_train, y_train, cv=skf).mean()\n",
    "print(\"Cross Validation Score = %2.2f\" % score_rfc)\n",
    "\n",
    "y_pred = rfc.predict(X_test)\n",
    "print(classification_report(y_test,y_pred ))\n",
    "\n",
    "cm = confusion_matrix(y_test,y_pred)\n",
    "plot_confusion_matrix(cm, classes=class_names, title='Confusion matrix')"
   ]
  },
  {
   "cell_type": "code",
   "execution_count": 57,
   "metadata": {},
   "outputs": [
    {
     "name": "stdout",
     "output_type": "stream",
     "text": [
      "ROC AUC score: 0.85\n"
     ]
    },
    {
     "data": {
      "image/png": "[encoded data removed]",
      "text/plain": [
       "<Figure size 576x432 with 1 Axes>"
      ]
     },
     "metadata": {
      "needs_background": "light"
     },
     "output_type": "display_data"
    }
   ],
   "source": [
    "plot_roc_curve(rfc, X_test, y_test)"
   ]
  },
  {
   "cell_type": "code",
   "execution_count": 58,
   "metadata": {},
   "outputs": [
    {
     "data": {
      "image/png": "[encoded data removed]",
      "text/plain": [
       "<Figure size 432x288 with 1 Axes>"
      ]
     },
     "metadata": {
      "needs_background": "light"
     },
     "output_type": "display_data"
    }
   ],
   "source": [
    "plot_precision_recall_curve(rfc, X_test, y_test);"
   ]
  },
  {
   "cell_type": "markdown",
   "metadata": {},
   "source": [
    "#### Random Forest parameter tuning"
   ]
  },
  {
   "cell_type": "code",
   "execution_count": 78,
   "metadata": {},
   "outputs": [
    {
     "name": "stdout",
     "output_type": "stream",
     "text": [
      "Fitting 3 folds for each of 144 candidates, totalling 432 fits\n"
     ]
    },
    {
     "data": {
      "text/plain": [
       "GridSearchCV(cv=StratifiedKFold(n_splits=3, random_state=None, shuffle=False),\n",
       "             estimator=RandomForestClassifier(class_weight='balanced'),\n",
       "             n_jobs=-1,\n",
       "             param_grid={'bootstrap': [True, False], 'max_depth': [5, 10, None],\n",
       "                         'max_features': ['auto', 5, 10],\n",
       "                         'min_samples_leaf': [1, 3],\n",
       "                         'min_samples_split': [2, 5],\n",
       "                         'n_estimators': [100, 300]},\n",
       "             scoring='recall_macro', verbose=2)"
      ]
     },
     "execution_count": 78,
     "metadata": {},
     "output_type": "execute_result"
    }
   ],
   "source": [
    "from sklearn.ensemble import RandomForestClassifier\n",
    "\n",
    "skf = StratifiedKFold(n_splits=3)\n",
    "\n",
    "param_grid = {\n",
    "    'bootstrap': [True, False],\n",
    "    'max_depth': [5, 10, None],\n",
    "    'max_features': ['auto', 5, 10],\n",
    "    'min_samples_leaf': [1, 3],\n",
    "    'min_samples_split': [2, 5],\n",
    "    'n_estimators': [100, 300]\n",
    "}\n",
    "\n",
    "rfc_2 = GridSearchCV(estimator = RandomForestClassifier(class_weight=\"balanced\"), param_grid = param_grid, \n",
    "                          cv = skf, n_jobs = -1, verbose = 2, scoring = 'recall_macro')\n",
    "\n",
    "rfc_2.fit(X_train, y_train)"
   ]
  },
  {
   "cell_type": "code",
   "execution_count": 79,
   "metadata": {},
   "outputs": [
    {
     "data": {
      "text/plain": [
       "{'bootstrap': False,\n",
       " 'max_depth': None,\n",
       " 'max_features': 'auto',\n",
       " 'min_samples_leaf': 3,\n",
       " 'min_samples_split': 5,\n",
       " 'n_estimators': 300}"
      ]
     },
     "execution_count": 79,
     "metadata": {},
     "output_type": "execute_result"
    }
   ],
   "source": [
    "rfc_2.best_params_"
   ]
  },
  {
   "cell_type": "code",
   "execution_count": 108,
   "metadata": {},
   "outputs": [
    {
     "name": "stdout",
     "output_type": "stream",
     "text": [
      "Random Forest Accuracy is 0.81\n",
      "Cross Validation Score = 0.81\n",
      "              precision    recall  f1-score   support\n",
      "\n",
      "           0       0.88      0.86      0.87      8188\n",
      "           1       0.62      0.66      0.64      2858\n",
      "\n",
      "    accuracy                           0.81     11046\n",
      "   macro avg       0.75      0.76      0.75     11046\n",
      "weighted avg       0.81      0.81      0.81     11046\n",
      "\n"
     ]
    },
    {
     "data": {
      "image/png": "[encoded data removed]",
      "text/plain": [
       "<Figure size 432x288 with 2 Axes>"
      ]
     },
     "metadata": {
      "needs_background": "light"
     },
     "output_type": "display_data"
    }
   ],
   "source": [
    "from sklearn.ensemble import RandomForestClassifier\n",
    "\n",
    "rfc_2 = RandomForestClassifier(min_samples_leaf = 3, \n",
    "                                       min_samples_split = 5,\n",
    "                                       max_depth = None,\n",
    "                                       n_estimators = 300, \n",
    "                                       max_features = 'auto', \n",
    "                                       bootstrap = False, class_weight = \"balanced\")\n",
    "rfc_2.fit(X_train, y_train)\n",
    "y_pred = rfc_2.predict(X_test)\n",
    "\n",
    "print(\"Random Forest Accuracy is %2.2f\" % accuracy_score(y_test, y_pred))\n",
    "\n",
    "skf = StratifiedKFold(n_splits=10)\n",
    "score_rfc2 = cross_val_score(rfc_2, X_train, y_train, cv=skf).mean()\n",
    "print(\"Cross Validation Score = %2.2f\" % score_rfc2)\n",
    "\n",
    "\n",
    "print(classification_report(y_test,y_pred ))\n",
    "\n",
    "cm = confusion_matrix(y_test,y_pred)\n",
    "plot_confusion_matrix(cm, classes=class_names, title='Confusion matrix')"
   ]
  },
  {
   "cell_type": "code",
   "execution_count": 109,
   "metadata": {},
   "outputs": [],
   "source": [
    "filename = '../mvp_pkl/rfc_model.pkl'\n",
    "rfc_model = rfc_2.fit(X_train, y_train)\n",
    "\n",
    "pickle.dump(rfc_model, open(filename,'wb'))"
   ]
  },
  {
   "cell_type": "code",
   "execution_count": 110,
   "metadata": {},
   "outputs": [
    {
     "name": "stdout",
     "output_type": "stream",
     "text": [
      "ROC AUC score: 0.85\n"
     ]
    },
    {
     "data": {
      "image/png": "[encoded data removed]",
      "text/plain": [
       "<Figure size 576x432 with 1 Axes>"
      ]
     },
     "metadata": {
      "needs_background": "light"
     },
     "output_type": "display_data"
    }
   ],
   "source": [
    "plot_roc_curve(rfc_2, X_test, y_test);"
   ]
  },
  {
   "cell_type": "code",
   "execution_count": 111,
   "metadata": {},
   "outputs": [
    {
     "data": {
      "image/png": "[encoded data removed]",
      "text/plain": [
       "<Figure size 432x288 with 1 Axes>"
      ]
     },
     "metadata": {
      "needs_background": "light"
     },
     "output_type": "display_data"
    }
   ],
   "source": [
    "plot_precision_recall_curve(rfc_2, X_test, y_test);"
   ]
  },
  {
   "cell_type": "markdown",
   "metadata": {},
   "source": [
    "### XGBoost"
   ]
  },
  {
   "cell_type": "code",
   "execution_count": 89,
   "metadata": {},
   "outputs": [
    {
     "name": "stdout",
     "output_type": "stream",
     "text": [
      "GradientBoost Accuracy= 0.83\n",
      "Cross Validation Score = 0.83\n",
      "              precision    recall  f1-score   support\n",
      "\n",
      "           0       0.85      0.94      0.89      8188\n",
      "           1       0.77      0.52      0.62      2858\n",
      "\n",
      "    accuracy                           0.83     11046\n",
      "   macro avg       0.81      0.73      0.76     11046\n",
      "weighted avg       0.83      0.83      0.82     11046\n",
      "\n"
     ]
    },
    {
     "data": {
      "image/png": "[encoded data removed]",
      "text/plain": [
       "<Figure size 432x288 with 2 Axes>"
      ]
     },
     "metadata": {
      "needs_background": "light"
     },
     "output_type": "display_data"
    }
   ],
   "source": [
    "from xgboost import XGBClassifier\n",
    "\n",
    "xgb = XGBClassifier(n_estimators=1000, booster='gbtree', learning_rate=0.01, objective='binary:logistic')\n",
    "xgb.fit(X_train,y_train)\n",
    "y_pred = xgb.predict(X_test)\n",
    "print (\"GradientBoost Accuracy= %2.2f\" % accuracy_score(y_test, y_pred))\n",
    "\n",
    "skf = StratifiedKFold(n_splits=5)\n",
    "score_xgb = cross_val_score(xgb, X_train, y_train, cv=skf).mean()\n",
    "print(\"Cross Validation Score = %2.2f\" % score_xgb)\n",
    "\n",
    "print(classification_report(y_test, y_pred))\n",
    "\n",
    "cm = confusion_matrix(y_test, y_pred)\n",
    "plot_confusion_matrix(cm, classes=class_names, title='Confusion matrix')"
   ]
  },
  {
   "cell_type": "code",
   "execution_count": 60,
   "metadata": {},
   "outputs": [
    {
     "name": "stdout",
     "output_type": "stream",
     "text": [
      "ROC AUC score: 0.86\n"
     ]
    },
    {
     "data": {
      "image/png": "[encoded data removed]",
      "text/plain": [
       "<Figure size 576x432 with 1 Axes>"
      ]
     },
     "metadata": {
      "needs_background": "light"
     },
     "output_type": "display_data"
    }
   ],
   "source": [
    "plot_roc_curve(xgb, X_test, y_test)"
   ]
  },
  {
   "cell_type": "code",
   "execution_count": 61,
   "metadata": {},
   "outputs": [
    {
     "data": {
      "image/png": "[encoded data removed]",
      "text/plain": [
       "<Figure size 432x288 with 1 Axes>"
      ]
     },
     "metadata": {
      "needs_background": "light"
     },
     "output_type": "display_data"
    }
   ],
   "source": [
    "plot_precision_recall_curve(xgb, X_test, y_test);"
   ]
  },
  {
   "cell_type": "markdown",
   "metadata": {},
   "source": [
    "### Voting Classifier\n",
    "\n",
    "Utilizando la Regresión Logística, el Decission Tree Classifier y el Random Forest con los hiperparámetros tuneados."
   ]
  },
  {
   "cell_type": "code",
   "execution_count": 112,
   "metadata": {},
   "outputs": [
    {
     "name": "stdout",
     "output_type": "stream",
     "text": [
      "VotingClassifier Accuracy= 0.78\n",
      "Cross Validation Score = 0.77\n",
      "              precision    recall  f1-score   support\n",
      "\n",
      "           0       0.89      0.80      0.84      8188\n",
      "           1       0.56      0.71      0.63      2858\n",
      "\n",
      "    accuracy                           0.78     11046\n",
      "   macro avg       0.72      0.76      0.74     11046\n",
      "weighted avg       0.80      0.78      0.79     11046\n",
      "\n"
     ]
    },
    {
     "data": {
      "image/png": "[encoded data removed]",
      "text/plain": [
       "<Figure size 432x288 with 2 Axes>"
      ]
     },
     "metadata": {
      "needs_background": "light"
     },
     "output_type": "display_data"
    }
   ],
   "source": [
    "from sklearn.ensemble import VotingClassifier\n",
    "\n",
    "voting_clf = VotingClassifier(estimators=[\n",
    "         ('lr', LR), ('rf', rfc_2), ('dt', DT)],\n",
    "         voting='soft')\n",
    "\n",
    "voting_clf.fit(X_train, y_train)\n",
    "y_pred = voting_clf.predict(X_test)\n",
    "print (\"VotingClassifier Accuracy= %2.2f\" % accuracy_score(y_test, y_pred))\n",
    "\n",
    "skf = StratifiedKFold(n_splits=5)\n",
    "score_voting_clf = cross_val_score(voting_clf, X_train, y_train, cv=skf).mean()\n",
    "print(\"Cross Validation Score = %2.2f\" % score_voting_clf)\n",
    "\n",
    "print(classification_report(y_test, y_pred))\n",
    "\n",
    "cm = confusion_matrix(y_test, y_pred)\n",
    "plot_confusion_matrix(cm, classes=class_names, title='Confusion matrix')"
   ]
  },
  {
   "cell_type": "code",
   "execution_count": 113,
   "metadata": {},
   "outputs": [],
   "source": [
    "filename = '../mvp_pkl/voting_clf_model.pkl'\n",
    "voting_clf_model = voting_clf.fit(X_train, y_train)\n",
    "\n",
    "pickle.dump(voting_clf_model, open(filename,'wb'))"
   ]
  },
  {
   "cell_type": "code",
   "execution_count": 95,
   "metadata": {},
   "outputs": [
    {
     "name": "stdout",
     "output_type": "stream",
     "text": [
      "ROC AUC score: 0.84\n"
     ]
    },
    {
     "data": {
      "image/png": "[encoded data removed]",
      "text/plain": [
       "<Figure size 576x432 with 1 Axes>"
      ]
     },
     "metadata": {
      "needs_background": "light"
     },
     "output_type": "display_data"
    }
   ],
   "source": [
    "plot_roc_curve(voting_clf, X_test, y_test);"
   ]
  },
  {
   "cell_type": "code",
   "execution_count": 96,
   "metadata": {},
   "outputs": [
    {
     "data": {
      "image/png": "[encoded data removed]",
      "text/plain": [
       "<Figure size 432x288 with 1 Axes>"
      ]
     },
     "metadata": {
      "needs_background": "light"
     },
     "output_type": "display_data"
    }
   ],
   "source": [
    "plot_precision_recall_curve(voting_clf, X_test, y_test);"
   ]
  },
  {
   "cell_type": "markdown",
   "metadata": {},
   "source": [
    "### Comparing ROC Curves"
   ]
  },
  {
   "cell_type": "code",
   "execution_count": 97,
   "metadata": {},
   "outputs": [
    {
     "data": {
      "image/png": "[encoded data removed]",
      "text/plain": [
       "<Figure size 720x432 with 1 Axes>"
      ]
     },
     "metadata": {
      "needs_background": "light"
     },
     "output_type": "display_data"
    }
   ],
   "source": [
    "plt.figure(figsize = (10,6), linewidth= 1)\n",
    "\n",
    "knn_fpr, knn_tpr, thresholds = roc_curve(y_test, knn.predict_proba(X_test)[:,1])\n",
    "LR_fpr, LR_tpr, thresholds = roc_curve(y_test, LR.predict_proba(X_test)[:,1])\n",
    "DT_fpr, DT_tpr, thresholds = roc_curve(y_test, DT.predict_proba(X_test)[:,1])\n",
    "rfc_fpr, rfc_tpr, thresholds = roc_curve(y_test, rfc.predict_proba(X_test)[:,1])\n",
    "rfc2_fpr, rfc2_tpr, thresholds = roc_curve(y_test, rfc_2.predict_proba(X_test)[:,1])\n",
    "xgb_fpr, xgb_tpr, thresholds = roc_curve(y_test, xgb.predict_proba(X_test)[:,1])\n",
    "vc_fpr, vc_tpr, thresholds = roc_curve(y_test, voting_clf.predict_proba(X_test)[:,1])\n",
    "\n",
    "plt.plot(knn_fpr, knn_tpr, label='KNN' )\n",
    "plt.plot(LR_fpr, LR_tpr, label='Logistic Regression')\n",
    "plt.plot(DT_fpr, DT_tpr, label='Decision Tree')\n",
    "plt.plot(rfc_fpr, rfc_tpr, label='Random Forest')\n",
    "plt.plot(rfc2_fpr, rfc2_tpr, label='Random Forest 2')\n",
    "plt.plot(xgb_fpr, xgb_tpr, label='XGBoost')\n",
    "plt.plot(vc_fpr, vc_tpr, label='VotingClassifier')\n",
    "\n",
    "plt.plot([0,1],[0,1],label='Base Rate', ls = '--', c = 'grey')\n",
    "plt.xlim([0.0, 1.0])\n",
    "plt.ylim([0.0, 1.0])\n",
    "plt.title('Comparing ROC Curves')\n",
    "plt.xlabel('False Positive Rate')\n",
    "plt.ylabel('True Positive Rate')\n",
    "plt.legend(loc=\"lower right\")\n",
    "plt.show()"
   ]
  },
  {
   "cell_type": "markdown",
   "metadata": {},
   "source": [
    "### Comparing PR Curves"
   ]
  },
  {
   "cell_type": "code",
   "execution_count": 98,
   "metadata": {},
   "outputs": [
    {
     "data": {
      "image/png": "[encoded data removed]",
      "text/plain": [
       "<Figure size 720x432 with 1 Axes>"
      ]
     },
     "metadata": {
      "needs_background": "light"
     },
     "output_type": "display_data"
    }
   ],
   "source": [
    "models = [knn, LR, DT, rfc, rfc_2, xgb, voting_clf]\n",
    "\n",
    "fig, ax = plt.subplots(figsize=(10, 6))\n",
    "for m in models:\n",
    "    plot_precision_recall_curve(m, X_test, y_test, ax=ax)\n",
    "    plt.legend(loc=\"upper right\")\n",
    "ax.set_title(\"Comparing PR Curves\");"
   ]
  },
  {
   "cell_type": "markdown",
   "metadata": {},
   "source": [
    "### Feature importances"
   ]
  },
  {
   "cell_type": "code",
   "execution_count": 64,
   "metadata": {},
   "outputs": [
    {
     "name": "stderr",
     "output_type": "stream",
     "text": [
      "C:\\Users\\alber\\anaconda3\\lib\\site-packages\\sklearn\\utils\\validation.py:70: FutureWarning: Pass n_features_to_select=5 as keyword args. From version 1.0 (renaming of 0.25) passing these as positional arguments will result in an error\n",
      "  warnings.warn(f\"Pass {args_msg} as keyword args. From version \"\n"
     ]
    },
    {
     "data": {
      "text/plain": [
       "array([ 8,  5,  2,  7,  3,  6,  4,  1,  1,  1, 10,  9,  1,  1])"
      ]
     },
     "execution_count": 64,
     "metadata": {},
     "output_type": "execute_result"
    }
   ],
   "source": [
    "from sklearn.feature_selection import RFE\n",
    "\n",
    "# Using Recursive Feature Elimination Function and fitting it in a Logistic Regression Model\n",
    "modell = LogisticRegression(max_iter=1000, class_weight=\"balanced\")\n",
    "rfe = RFE(modell, 5)\n",
    "rfe = rfe.fit(X_train,y_train)\n",
    "\n",
    "rfe.ranking_"
   ]
  },
  {
   "cell_type": "code",
   "execution_count": 65,
   "metadata": {},
   "outputs": [
    {
     "name": "stdout",
     "output_type": "stream",
     "text": [
      "{('Rango_Edad', 1), ('Nationality', 4), ('Rango Precio', 1), ('Quejas_sca', 1), ('Labor Situation', 7), ('Housing Type', 5), ('Number Pay', 10), ('Income', 1), ('Dias_Activo_sca', 9), ('Provincia', 6), ('Property Type', 2), ('Incidencias_sca', 1), ('Marital Status', 3), ('Gender', 8)}\n"
     ]
    }
   ],
   "source": [
    "result = zip(X_train.columns, rfe.ranking_)\n",
    "\n",
    "result_set = set(result)\n",
    "print(result_set)"
   ]
  },
  {
   "cell_type": "code",
   "execution_count": 66,
   "metadata": {},
   "outputs": [
    {
     "name": "stdout",
     "output_type": "stream",
     "text": [
      "[0.0245376  0.03942751 0.09383085 0.0514014  0.03663735 0.04239976\n",
      " 0.03972628 0.07523907 0.06884252 0.068357   0.04560377 0.22428611\n",
      " 0.08212991 0.10758087]\n"
     ]
    },
    {
     "data": {
      "image/png": "[encoded data removed]",
      "text/plain": [
       "<Figure size 864x432 with 1 Axes>"
      ]
     },
     "metadata": {
      "needs_background": "light"
     },
     "output_type": "display_data"
    }
   ],
   "source": [
    "from sklearn.ensemble import ExtraTreesClassifier\n",
    "\n",
    "# Using ExtraTreesClassifier model function\n",
    "model = ExtraTreesClassifier()\n",
    "model.fit(X_train, y_train)\n",
    "\n",
    "# Printing important features in the model\n",
    "print(model.feature_importances_)\n",
    "importances = model.feature_importances_\n",
    "feat_names = data_filtered.drop(['Status'],axis=1).columns\n",
    "\n",
    "# Displaying the feature importances as a chart by sorting it in the order of importances\n",
    "indices = np.argsort(importances)[::-1]\n",
    "plt.figure(figsize=(12,6))\n",
    "plt.title(\"Feature importances\")\n",
    "plt.bar(range(len(indices)), importances[indices], color='lightblue',  align=\"center\")\n",
    "plt.step(range(len(indices)), np.cumsum(importances[indices]), where='mid', label='Cumulative')\n",
    "plt.xticks(range(len(indices)), feat_names[indices], rotation='vertical',fontsize=12)\n",
    "plt.xlim([-1, len(indices)])\n",
    "plt.show()"
   ]
  },
  {
   "cell_type": "code",
   "execution_count": null,
   "metadata": {},
   "outputs": [],
   "source": []
  }
 ],
 "metadata": {
  "kernelspec": {
   "display_name": "Python 3",
   "language": "python",
   "name": "python3"
  },
  "language_info": {
   "codemirror_mode": {
    "name": "ipython",
    "version": 3
   },
   "file_extension": ".py",
   "mimetype": "text/x-python",
   "name": "python",
   "nbconvert_exporter": "python",
   "pygments_lexer": "ipython3",
   "version": "3.8.3"
  }
 },
 "nbformat": 4,
 "nbformat_minor": 4
}
